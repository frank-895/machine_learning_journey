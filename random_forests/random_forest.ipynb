{
  "nbformat": 4,
  "nbformat_minor": 0,
  "metadata": {
    "colab": {
      "provenance": [],
      "authorship_tag": "ABX9TyMeOr5hBRczPIoTBmUCFjT+",
      "include_colab_link": true
    },
    "kernelspec": {
      "name": "python3",
      "display_name": "Python 3"
    },
    "language_info": {
      "name": "python"
    }
  },
  "cells": [
    {
      "cell_type": "markdown",
      "metadata": {
        "id": "view-in-github",
        "colab_type": "text"
      },
      "source": [
        "<a href=\"https://colab.research.google.com/github/frank-895/machine_learning_journey/blob/main/random_forests/random_forest.ipynb\" target=\"_parent\"><img src=\"https://colab.research.google.com/assets/colab-badge.svg\" alt=\"Open In Colab\"/></a>"
      ]
    },
    {
      "cell_type": "code",
      "source": [
        "from fastai.imports import *"
      ],
      "metadata": {
        "id": "mmzyutwsgTWt"
      },
      "execution_count": null,
      "outputs": []
    },
    {
      "cell_type": "markdown",
      "source": [
        "# Random Forests on the Spaceship Titanic"
      ],
      "metadata": {
        "id": "-TlppwIJe1X1"
      }
    },
    {
      "cell_type": "markdown",
      "source": [
        "Inspired by my recent work on the classic Titanic dataset, I've decided to make a submission to a Kaggle competition called the [Spaceship Titanic](https://www.kaggle.com/competitions/spaceship-titanic/data?select=test.csv). The problem is set in 2912 and a group of passengers on an interstellar passenger liner have been launched into alternate dimension. The goal is to use their statistics to determine who has been launched into the alternate dimension!\n",
        "\n",
        "Since my current area of learning is in **random forests**, I will be limiting myself to this machine learning technique for my submission to demonstrate my learning.\n",
        "\n",
        "Random forests are machine learning algorithms based on the concept of **ensemble learning**, which combines multiple models to improve performance and reduce overfitting.Random forests are built using multiple **decision trees** and their results are aggregated for more robust and accurate predictions."
      ],
      "metadata": {
        "id": "mN1b4Ygme-w7"
      }
    },
    {
      "cell_type": "markdown",
      "source": [
        "## Data Extraction and Cleaning"
      ],
      "metadata": {
        "id": "wVENkablgL5_"
      }
    },
    {
      "cell_type": "markdown",
      "source": [
        "### Extraction"
      ],
      "metadata": {
        "id": "5qdOaUJqiqRf"
      }
    },
    {
      "cell_type": "markdown",
      "source": [
        "We can read in our dataset using Pandas, which will be useful for cleaning the data and feature engineering too."
      ],
      "metadata": {
        "id": "CzHt92qAkwNA"
      }
    },
    {
      "cell_type": "code",
      "source": [
        "df = pd.read_csv(\"train.csv\")\n",
        "df"
      ],
      "metadata": {
        "colab": {
          "base_uri": "https://localhost:8080/",
          "height": 609
        },
        "id": "vcaB8U-0gKKP",
        "outputId": "a4e4d4be-be69-4770-bd06-efd851faef80"
      },
      "execution_count": null,
      "outputs": [
        {
          "output_type": "execute_result",
          "data": {
            "text/plain": [
              "     PassengerId HomePlanet CryoSleep     Cabin    Destination   Age    VIP  \\\n",
              "0        0001_01     Europa     False     B/0/P    TRAPPIST-1e  39.0  False   \n",
              "1        0002_01      Earth     False     F/0/S    TRAPPIST-1e  24.0  False   \n",
              "2        0003_01     Europa     False     A/0/S    TRAPPIST-1e  58.0   True   \n",
              "3        0003_02     Europa     False     A/0/S    TRAPPIST-1e  33.0  False   \n",
              "4        0004_01      Earth     False     F/1/S    TRAPPIST-1e  16.0  False   \n",
              "...          ...        ...       ...       ...            ...   ...    ...   \n",
              "8688     9276_01     Europa     False    A/98/P    55 Cancri e  41.0   True   \n",
              "8689     9278_01      Earth      True  G/1499/S  PSO J318.5-22  18.0  False   \n",
              "8690     9279_01      Earth     False  G/1500/S    TRAPPIST-1e  26.0  False   \n",
              "8691     9280_01     Europa     False   E/608/S    55 Cancri e  32.0  False   \n",
              "8692     9280_02     Europa     False   E/608/S    TRAPPIST-1e  44.0  False   \n",
              "\n",
              "      RoomService  FoodCourt  ShoppingMall     Spa  VRDeck               Name  \\\n",
              "0             0.0        0.0           0.0     0.0     0.0    Maham Ofracculy   \n",
              "1           109.0        9.0          25.0   549.0    44.0       Juanna Vines   \n",
              "2            43.0     3576.0           0.0  6715.0    49.0      Altark Susent   \n",
              "3             0.0     1283.0         371.0  3329.0   193.0       Solam Susent   \n",
              "4           303.0       70.0         151.0   565.0     2.0  Willy Santantines   \n",
              "...           ...        ...           ...     ...     ...                ...   \n",
              "8688          0.0     6819.0           0.0  1643.0    74.0  Gravior Noxnuther   \n",
              "8689          0.0        0.0           0.0     0.0     0.0    Kurta Mondalley   \n",
              "8690          0.0        0.0        1872.0     1.0     0.0       Fayey Connon   \n",
              "8691          0.0     1049.0           0.0   353.0  3235.0   Celeon Hontichre   \n",
              "8692        126.0     4688.0           0.0     0.0    12.0   Propsh Hontichre   \n",
              "\n",
              "      Transported  \n",
              "0           False  \n",
              "1            True  \n",
              "2           False  \n",
              "3           False  \n",
              "4            True  \n",
              "...           ...  \n",
              "8688        False  \n",
              "8689        False  \n",
              "8690         True  \n",
              "8691        False  \n",
              "8692         True  \n",
              "\n",
              "[8693 rows x 14 columns]"
            ],
            "text/html": [
              "\n",
              "  <div id=\"df-52e33a9f-e2fc-4578-b832-a03298a2dda7\" class=\"colab-df-container\">\n",
              "    <div>\n",
              "<style scoped>\n",
              "    .dataframe tbody tr th:only-of-type {\n",
              "        vertical-align: middle;\n",
              "    }\n",
              "\n",
              "    .dataframe tbody tr th {\n",
              "        vertical-align: top;\n",
              "    }\n",
              "\n",
              "    .dataframe thead th {\n",
              "        text-align: right;\n",
              "    }\n",
              "</style>\n",
              "<table border=\"1\" class=\"dataframe\">\n",
              "  <thead>\n",
              "    <tr style=\"text-align: right;\">\n",
              "      <th></th>\n",
              "      <th>PassengerId</th>\n",
              "      <th>HomePlanet</th>\n",
              "      <th>CryoSleep</th>\n",
              "      <th>Cabin</th>\n",
              "      <th>Destination</th>\n",
              "      <th>Age</th>\n",
              "      <th>VIP</th>\n",
              "      <th>RoomService</th>\n",
              "      <th>FoodCourt</th>\n",
              "      <th>ShoppingMall</th>\n",
              "      <th>Spa</th>\n",
              "      <th>VRDeck</th>\n",
              "      <th>Name</th>\n",
              "      <th>Transported</th>\n",
              "    </tr>\n",
              "  </thead>\n",
              "  <tbody>\n",
              "    <tr>\n",
              "      <th>0</th>\n",
              "      <td>0001_01</td>\n",
              "      <td>Europa</td>\n",
              "      <td>False</td>\n",
              "      <td>B/0/P</td>\n",
              "      <td>TRAPPIST-1e</td>\n",
              "      <td>39.0</td>\n",
              "      <td>False</td>\n",
              "      <td>0.0</td>\n",
              "      <td>0.0</td>\n",
              "      <td>0.0</td>\n",
              "      <td>0.0</td>\n",
              "      <td>0.0</td>\n",
              "      <td>Maham Ofracculy</td>\n",
              "      <td>False</td>\n",
              "    </tr>\n",
              "    <tr>\n",
              "      <th>1</th>\n",
              "      <td>0002_01</td>\n",
              "      <td>Earth</td>\n",
              "      <td>False</td>\n",
              "      <td>F/0/S</td>\n",
              "      <td>TRAPPIST-1e</td>\n",
              "      <td>24.0</td>\n",
              "      <td>False</td>\n",
              "      <td>109.0</td>\n",
              "      <td>9.0</td>\n",
              "      <td>25.0</td>\n",
              "      <td>549.0</td>\n",
              "      <td>44.0</td>\n",
              "      <td>Juanna Vines</td>\n",
              "      <td>True</td>\n",
              "    </tr>\n",
              "    <tr>\n",
              "      <th>2</th>\n",
              "      <td>0003_01</td>\n",
              "      <td>Europa</td>\n",
              "      <td>False</td>\n",
              "      <td>A/0/S</td>\n",
              "      <td>TRAPPIST-1e</td>\n",
              "      <td>58.0</td>\n",
              "      <td>True</td>\n",
              "      <td>43.0</td>\n",
              "      <td>3576.0</td>\n",
              "      <td>0.0</td>\n",
              "      <td>6715.0</td>\n",
              "      <td>49.0</td>\n",
              "      <td>Altark Susent</td>\n",
              "      <td>False</td>\n",
              "    </tr>\n",
              "    <tr>\n",
              "      <th>3</th>\n",
              "      <td>0003_02</td>\n",
              "      <td>Europa</td>\n",
              "      <td>False</td>\n",
              "      <td>A/0/S</td>\n",
              "      <td>TRAPPIST-1e</td>\n",
              "      <td>33.0</td>\n",
              "      <td>False</td>\n",
              "      <td>0.0</td>\n",
              "      <td>1283.0</td>\n",
              "      <td>371.0</td>\n",
              "      <td>3329.0</td>\n",
              "      <td>193.0</td>\n",
              "      <td>Solam Susent</td>\n",
              "      <td>False</td>\n",
              "    </tr>\n",
              "    <tr>\n",
              "      <th>4</th>\n",
              "      <td>0004_01</td>\n",
              "      <td>Earth</td>\n",
              "      <td>False</td>\n",
              "      <td>F/1/S</td>\n",
              "      <td>TRAPPIST-1e</td>\n",
              "      <td>16.0</td>\n",
              "      <td>False</td>\n",
              "      <td>303.0</td>\n",
              "      <td>70.0</td>\n",
              "      <td>151.0</td>\n",
              "      <td>565.0</td>\n",
              "      <td>2.0</td>\n",
              "      <td>Willy Santantines</td>\n",
              "      <td>True</td>\n",
              "    </tr>\n",
              "    <tr>\n",
              "      <th>...</th>\n",
              "      <td>...</td>\n",
              "      <td>...</td>\n",
              "      <td>...</td>\n",
              "      <td>...</td>\n",
              "      <td>...</td>\n",
              "      <td>...</td>\n",
              "      <td>...</td>\n",
              "      <td>...</td>\n",
              "      <td>...</td>\n",
              "      <td>...</td>\n",
              "      <td>...</td>\n",
              "      <td>...</td>\n",
              "      <td>...</td>\n",
              "      <td>...</td>\n",
              "    </tr>\n",
              "    <tr>\n",
              "      <th>8688</th>\n",
              "      <td>9276_01</td>\n",
              "      <td>Europa</td>\n",
              "      <td>False</td>\n",
              "      <td>A/98/P</td>\n",
              "      <td>55 Cancri e</td>\n",
              "      <td>41.0</td>\n",
              "      <td>True</td>\n",
              "      <td>0.0</td>\n",
              "      <td>6819.0</td>\n",
              "      <td>0.0</td>\n",
              "      <td>1643.0</td>\n",
              "      <td>74.0</td>\n",
              "      <td>Gravior Noxnuther</td>\n",
              "      <td>False</td>\n",
              "    </tr>\n",
              "    <tr>\n",
              "      <th>8689</th>\n",
              "      <td>9278_01</td>\n",
              "      <td>Earth</td>\n",
              "      <td>True</td>\n",
              "      <td>G/1499/S</td>\n",
              "      <td>PSO J318.5-22</td>\n",
              "      <td>18.0</td>\n",
              "      <td>False</td>\n",
              "      <td>0.0</td>\n",
              "      <td>0.0</td>\n",
              "      <td>0.0</td>\n",
              "      <td>0.0</td>\n",
              "      <td>0.0</td>\n",
              "      <td>Kurta Mondalley</td>\n",
              "      <td>False</td>\n",
              "    </tr>\n",
              "    <tr>\n",
              "      <th>8690</th>\n",
              "      <td>9279_01</td>\n",
              "      <td>Earth</td>\n",
              "      <td>False</td>\n",
              "      <td>G/1500/S</td>\n",
              "      <td>TRAPPIST-1e</td>\n",
              "      <td>26.0</td>\n",
              "      <td>False</td>\n",
              "      <td>0.0</td>\n",
              "      <td>0.0</td>\n",
              "      <td>1872.0</td>\n",
              "      <td>1.0</td>\n",
              "      <td>0.0</td>\n",
              "      <td>Fayey Connon</td>\n",
              "      <td>True</td>\n",
              "    </tr>\n",
              "    <tr>\n",
              "      <th>8691</th>\n",
              "      <td>9280_01</td>\n",
              "      <td>Europa</td>\n",
              "      <td>False</td>\n",
              "      <td>E/608/S</td>\n",
              "      <td>55 Cancri e</td>\n",
              "      <td>32.0</td>\n",
              "      <td>False</td>\n",
              "      <td>0.0</td>\n",
              "      <td>1049.0</td>\n",
              "      <td>0.0</td>\n",
              "      <td>353.0</td>\n",
              "      <td>3235.0</td>\n",
              "      <td>Celeon Hontichre</td>\n",
              "      <td>False</td>\n",
              "    </tr>\n",
              "    <tr>\n",
              "      <th>8692</th>\n",
              "      <td>9280_02</td>\n",
              "      <td>Europa</td>\n",
              "      <td>False</td>\n",
              "      <td>E/608/S</td>\n",
              "      <td>TRAPPIST-1e</td>\n",
              "      <td>44.0</td>\n",
              "      <td>False</td>\n",
              "      <td>126.0</td>\n",
              "      <td>4688.0</td>\n",
              "      <td>0.0</td>\n",
              "      <td>0.0</td>\n",
              "      <td>12.0</td>\n",
              "      <td>Propsh Hontichre</td>\n",
              "      <td>True</td>\n",
              "    </tr>\n",
              "  </tbody>\n",
              "</table>\n",
              "<p>8693 rows × 14 columns</p>\n",
              "</div>\n",
              "    <div class=\"colab-df-buttons\">\n",
              "\n",
              "  <div class=\"colab-df-container\">\n",
              "    <button class=\"colab-df-convert\" onclick=\"convertToInteractive('df-52e33a9f-e2fc-4578-b832-a03298a2dda7')\"\n",
              "            title=\"Convert this dataframe to an interactive table.\"\n",
              "            style=\"display:none;\">\n",
              "\n",
              "  <svg xmlns=\"http://www.w3.org/2000/svg\" height=\"24px\" viewBox=\"0 -960 960 960\">\n",
              "    <path d=\"M120-120v-720h720v720H120Zm60-500h600v-160H180v160Zm220 220h160v-160H400v160Zm0 220h160v-160H400v160ZM180-400h160v-160H180v160Zm440 0h160v-160H620v160ZM180-180h160v-160H180v160Zm440 0h160v-160H620v160Z\"/>\n",
              "  </svg>\n",
              "    </button>\n",
              "\n",
              "  <style>\n",
              "    .colab-df-container {\n",
              "      display:flex;\n",
              "      gap: 12px;\n",
              "    }\n",
              "\n",
              "    .colab-df-convert {\n",
              "      background-color: #E8F0FE;\n",
              "      border: none;\n",
              "      border-radius: 50%;\n",
              "      cursor: pointer;\n",
              "      display: none;\n",
              "      fill: #1967D2;\n",
              "      height: 32px;\n",
              "      padding: 0 0 0 0;\n",
              "      width: 32px;\n",
              "    }\n",
              "\n",
              "    .colab-df-convert:hover {\n",
              "      background-color: #E2EBFA;\n",
              "      box-shadow: 0px 1px 2px rgba(60, 64, 67, 0.3), 0px 1px 3px 1px rgba(60, 64, 67, 0.15);\n",
              "      fill: #174EA6;\n",
              "    }\n",
              "\n",
              "    .colab-df-buttons div {\n",
              "      margin-bottom: 4px;\n",
              "    }\n",
              "\n",
              "    [theme=dark] .colab-df-convert {\n",
              "      background-color: #3B4455;\n",
              "      fill: #D2E3FC;\n",
              "    }\n",
              "\n",
              "    [theme=dark] .colab-df-convert:hover {\n",
              "      background-color: #434B5C;\n",
              "      box-shadow: 0px 1px 3px 1px rgba(0, 0, 0, 0.15);\n",
              "      filter: drop-shadow(0px 1px 2px rgba(0, 0, 0, 0.3));\n",
              "      fill: #FFFFFF;\n",
              "    }\n",
              "  </style>\n",
              "\n",
              "    <script>\n",
              "      const buttonEl =\n",
              "        document.querySelector('#df-52e33a9f-e2fc-4578-b832-a03298a2dda7 button.colab-df-convert');\n",
              "      buttonEl.style.display =\n",
              "        google.colab.kernel.accessAllowed ? 'block' : 'none';\n",
              "\n",
              "      async function convertToInteractive(key) {\n",
              "        const element = document.querySelector('#df-52e33a9f-e2fc-4578-b832-a03298a2dda7');\n",
              "        const dataTable =\n",
              "          await google.colab.kernel.invokeFunction('convertToInteractive',\n",
              "                                                    [key], {});\n",
              "        if (!dataTable) return;\n",
              "\n",
              "        const docLinkHtml = 'Like what you see? Visit the ' +\n",
              "          '<a target=\"_blank\" href=https://colab.research.google.com/notebooks/data_table.ipynb>data table notebook</a>'\n",
              "          + ' to learn more about interactive tables.';\n",
              "        element.innerHTML = '';\n",
              "        dataTable['output_type'] = 'display_data';\n",
              "        await google.colab.output.renderOutput(dataTable, element);\n",
              "        const docLink = document.createElement('div');\n",
              "        docLink.innerHTML = docLinkHtml;\n",
              "        element.appendChild(docLink);\n",
              "      }\n",
              "    </script>\n",
              "  </div>\n",
              "\n",
              "\n",
              "<div id=\"df-30b4f2f9-2eb6-47b2-88c1-61a01c1107a2\">\n",
              "  <button class=\"colab-df-quickchart\" onclick=\"quickchart('df-30b4f2f9-2eb6-47b2-88c1-61a01c1107a2')\"\n",
              "            title=\"Suggest charts\"\n",
              "            style=\"display:none;\">\n",
              "\n",
              "<svg xmlns=\"http://www.w3.org/2000/svg\" height=\"24px\"viewBox=\"0 0 24 24\"\n",
              "     width=\"24px\">\n",
              "    <g>\n",
              "        <path d=\"M19 3H5c-1.1 0-2 .9-2 2v14c0 1.1.9 2 2 2h14c1.1 0 2-.9 2-2V5c0-1.1-.9-2-2-2zM9 17H7v-7h2v7zm4 0h-2V7h2v10zm4 0h-2v-4h2v4z\"/>\n",
              "    </g>\n",
              "</svg>\n",
              "  </button>\n",
              "\n",
              "<style>\n",
              "  .colab-df-quickchart {\n",
              "      --bg-color: #E8F0FE;\n",
              "      --fill-color: #1967D2;\n",
              "      --hover-bg-color: #E2EBFA;\n",
              "      --hover-fill-color: #174EA6;\n",
              "      --disabled-fill-color: #AAA;\n",
              "      --disabled-bg-color: #DDD;\n",
              "  }\n",
              "\n",
              "  [theme=dark] .colab-df-quickchart {\n",
              "      --bg-color: #3B4455;\n",
              "      --fill-color: #D2E3FC;\n",
              "      --hover-bg-color: #434B5C;\n",
              "      --hover-fill-color: #FFFFFF;\n",
              "      --disabled-bg-color: #3B4455;\n",
              "      --disabled-fill-color: #666;\n",
              "  }\n",
              "\n",
              "  .colab-df-quickchart {\n",
              "    background-color: var(--bg-color);\n",
              "    border: none;\n",
              "    border-radius: 50%;\n",
              "    cursor: pointer;\n",
              "    display: none;\n",
              "    fill: var(--fill-color);\n",
              "    height: 32px;\n",
              "    padding: 0;\n",
              "    width: 32px;\n",
              "  }\n",
              "\n",
              "  .colab-df-quickchart:hover {\n",
              "    background-color: var(--hover-bg-color);\n",
              "    box-shadow: 0 1px 2px rgba(60, 64, 67, 0.3), 0 1px 3px 1px rgba(60, 64, 67, 0.15);\n",
              "    fill: var(--button-hover-fill-color);\n",
              "  }\n",
              "\n",
              "  .colab-df-quickchart-complete:disabled,\n",
              "  .colab-df-quickchart-complete:disabled:hover {\n",
              "    background-color: var(--disabled-bg-color);\n",
              "    fill: var(--disabled-fill-color);\n",
              "    box-shadow: none;\n",
              "  }\n",
              "\n",
              "  .colab-df-spinner {\n",
              "    border: 2px solid var(--fill-color);\n",
              "    border-color: transparent;\n",
              "    border-bottom-color: var(--fill-color);\n",
              "    animation:\n",
              "      spin 1s steps(1) infinite;\n",
              "  }\n",
              "\n",
              "  @keyframes spin {\n",
              "    0% {\n",
              "      border-color: transparent;\n",
              "      border-bottom-color: var(--fill-color);\n",
              "      border-left-color: var(--fill-color);\n",
              "    }\n",
              "    20% {\n",
              "      border-color: transparent;\n",
              "      border-left-color: var(--fill-color);\n",
              "      border-top-color: var(--fill-color);\n",
              "    }\n",
              "    30% {\n",
              "      border-color: transparent;\n",
              "      border-left-color: var(--fill-color);\n",
              "      border-top-color: var(--fill-color);\n",
              "      border-right-color: var(--fill-color);\n",
              "    }\n",
              "    40% {\n",
              "      border-color: transparent;\n",
              "      border-right-color: var(--fill-color);\n",
              "      border-top-color: var(--fill-color);\n",
              "    }\n",
              "    60% {\n",
              "      border-color: transparent;\n",
              "      border-right-color: var(--fill-color);\n",
              "    }\n",
              "    80% {\n",
              "      border-color: transparent;\n",
              "      border-right-color: var(--fill-color);\n",
              "      border-bottom-color: var(--fill-color);\n",
              "    }\n",
              "    90% {\n",
              "      border-color: transparent;\n",
              "      border-bottom-color: var(--fill-color);\n",
              "    }\n",
              "  }\n",
              "</style>\n",
              "\n",
              "  <script>\n",
              "    async function quickchart(key) {\n",
              "      const quickchartButtonEl =\n",
              "        document.querySelector('#' + key + ' button');\n",
              "      quickchartButtonEl.disabled = true;  // To prevent multiple clicks.\n",
              "      quickchartButtonEl.classList.add('colab-df-spinner');\n",
              "      try {\n",
              "        const charts = await google.colab.kernel.invokeFunction(\n",
              "            'suggestCharts', [key], {});\n",
              "      } catch (error) {\n",
              "        console.error('Error during call to suggestCharts:', error);\n",
              "      }\n",
              "      quickchartButtonEl.classList.remove('colab-df-spinner');\n",
              "      quickchartButtonEl.classList.add('colab-df-quickchart-complete');\n",
              "    }\n",
              "    (() => {\n",
              "      let quickchartButtonEl =\n",
              "        document.querySelector('#df-30b4f2f9-2eb6-47b2-88c1-61a01c1107a2 button');\n",
              "      quickchartButtonEl.style.display =\n",
              "        google.colab.kernel.accessAllowed ? 'block' : 'none';\n",
              "    })();\n",
              "  </script>\n",
              "</div>\n",
              "\n",
              "  <div id=\"id_ebab1c4d-43ba-4198-b1bd-8fa536df305d\">\n",
              "    <style>\n",
              "      .colab-df-generate {\n",
              "        background-color: #E8F0FE;\n",
              "        border: none;\n",
              "        border-radius: 50%;\n",
              "        cursor: pointer;\n",
              "        display: none;\n",
              "        fill: #1967D2;\n",
              "        height: 32px;\n",
              "        padding: 0 0 0 0;\n",
              "        width: 32px;\n",
              "      }\n",
              "\n",
              "      .colab-df-generate:hover {\n",
              "        background-color: #E2EBFA;\n",
              "        box-shadow: 0px 1px 2px rgba(60, 64, 67, 0.3), 0px 1px 3px 1px rgba(60, 64, 67, 0.15);\n",
              "        fill: #174EA6;\n",
              "      }\n",
              "\n",
              "      [theme=dark] .colab-df-generate {\n",
              "        background-color: #3B4455;\n",
              "        fill: #D2E3FC;\n",
              "      }\n",
              "\n",
              "      [theme=dark] .colab-df-generate:hover {\n",
              "        background-color: #434B5C;\n",
              "        box-shadow: 0px 1px 3px 1px rgba(0, 0, 0, 0.15);\n",
              "        filter: drop-shadow(0px 1px 2px rgba(0, 0, 0, 0.3));\n",
              "        fill: #FFFFFF;\n",
              "      }\n",
              "    </style>\n",
              "    <button class=\"colab-df-generate\" onclick=\"generateWithVariable('df')\"\n",
              "            title=\"Generate code using this dataframe.\"\n",
              "            style=\"display:none;\">\n",
              "\n",
              "  <svg xmlns=\"http://www.w3.org/2000/svg\" height=\"24px\"viewBox=\"0 0 24 24\"\n",
              "       width=\"24px\">\n",
              "    <path d=\"M7,19H8.4L18.45,9,17,7.55,7,17.6ZM5,21V16.75L18.45,3.32a2,2,0,0,1,2.83,0l1.4,1.43a1.91,1.91,0,0,1,.58,1.4,1.91,1.91,0,0,1-.58,1.4L9.25,21ZM18.45,9,17,7.55Zm-12,3A5.31,5.31,0,0,0,4.9,8.1,5.31,5.31,0,0,0,1,6.5,5.31,5.31,0,0,0,4.9,4.9,5.31,5.31,0,0,0,6.5,1,5.31,5.31,0,0,0,8.1,4.9,5.31,5.31,0,0,0,12,6.5,5.46,5.46,0,0,0,6.5,12Z\"/>\n",
              "  </svg>\n",
              "    </button>\n",
              "    <script>\n",
              "      (() => {\n",
              "      const buttonEl =\n",
              "        document.querySelector('#id_ebab1c4d-43ba-4198-b1bd-8fa536df305d button.colab-df-generate');\n",
              "      buttonEl.style.display =\n",
              "        google.colab.kernel.accessAllowed ? 'block' : 'none';\n",
              "\n",
              "      buttonEl.onclick = () => {\n",
              "        google.colab.notebook.generateWithVariable('df');\n",
              "      }\n",
              "      })();\n",
              "    </script>\n",
              "  </div>\n",
              "\n",
              "    </div>\n",
              "  </div>\n"
            ],
            "application/vnd.google.colaboratory.intrinsic+json": {
              "type": "dataframe",
              "variable_name": "df",
              "summary": "{\n  \"name\": \"df\",\n  \"rows\": 8693,\n  \"fields\": [\n    {\n      \"column\": \"PassengerId\",\n      \"properties\": {\n        \"dtype\": \"string\",\n        \"num_unique_values\": 8693,\n        \"samples\": [\n          \"0337_02\",\n          \"2891_01\",\n          \"8998_01\"\n        ],\n        \"semantic_type\": \"\",\n        \"description\": \"\"\n      }\n    },\n    {\n      \"column\": \"HomePlanet\",\n      \"properties\": {\n        \"dtype\": \"category\",\n        \"num_unique_values\": 3,\n        \"samples\": [\n          \"Europa\",\n          \"Earth\",\n          \"Mars\"\n        ],\n        \"semantic_type\": \"\",\n        \"description\": \"\"\n      }\n    },\n    {\n      \"column\": \"CryoSleep\",\n      \"properties\": {\n        \"dtype\": \"category\",\n        \"num_unique_values\": 2,\n        \"samples\": [\n          true,\n          false\n        ],\n        \"semantic_type\": \"\",\n        \"description\": \"\"\n      }\n    },\n    {\n      \"column\": \"Cabin\",\n      \"properties\": {\n        \"dtype\": \"string\",\n        \"num_unique_values\": 6560,\n        \"samples\": [\n          \"A/29/P\",\n          \"G/1452/P\"\n        ],\n        \"semantic_type\": \"\",\n        \"description\": \"\"\n      }\n    },\n    {\n      \"column\": \"Destination\",\n      \"properties\": {\n        \"dtype\": \"category\",\n        \"num_unique_values\": 3,\n        \"samples\": [\n          \"TRAPPIST-1e\",\n          \"PSO J318.5-22\"\n        ],\n        \"semantic_type\": \"\",\n        \"description\": \"\"\n      }\n    },\n    {\n      \"column\": \"Age\",\n      \"properties\": {\n        \"dtype\": \"number\",\n        \"std\": 14.489021423908726,\n        \"min\": 0.0,\n        \"max\": 79.0,\n        \"num_unique_values\": 80,\n        \"samples\": [\n          30.0,\n          39.0\n        ],\n        \"semantic_type\": \"\",\n        \"description\": \"\"\n      }\n    },\n    {\n      \"column\": \"VIP\",\n      \"properties\": {\n        \"dtype\": \"category\",\n        \"num_unique_values\": 2,\n        \"samples\": [\n          true,\n          false\n        ],\n        \"semantic_type\": \"\",\n        \"description\": \"\"\n      }\n    },\n    {\n      \"column\": \"RoomService\",\n      \"properties\": {\n        \"dtype\": \"number\",\n        \"std\": 666.7176629280303,\n        \"min\": 0.0,\n        \"max\": 14327.0,\n        \"num_unique_values\": 1273,\n        \"samples\": [\n          2103.0,\n          1720.0\n        ],\n        \"semantic_type\": \"\",\n        \"description\": \"\"\n      }\n    },\n    {\n      \"column\": \"FoodCourt\",\n      \"properties\": {\n        \"dtype\": \"number\",\n        \"std\": 1611.4892403551144,\n        \"min\": 0.0,\n        \"max\": 29813.0,\n        \"num_unique_values\": 1507,\n        \"samples\": [\n          61.0,\n          783.0\n        ],\n        \"semantic_type\": \"\",\n        \"description\": \"\"\n      }\n    },\n    {\n      \"column\": \"ShoppingMall\",\n      \"properties\": {\n        \"dtype\": \"number\",\n        \"std\": 604.6964584708251,\n        \"min\": 0.0,\n        \"max\": 23492.0,\n        \"num_unique_values\": 1115,\n        \"samples\": [\n          619.0,\n          356.0\n        ],\n        \"semantic_type\": \"\",\n        \"description\": \"\"\n      }\n    },\n    {\n      \"column\": \"Spa\",\n      \"properties\": {\n        \"dtype\": \"number\",\n        \"std\": 1136.705534834416,\n        \"min\": 0.0,\n        \"max\": 22408.0,\n        \"num_unique_values\": 1327,\n        \"samples\": [\n          190.0,\n          622.0\n        ],\n        \"semantic_type\": \"\",\n        \"description\": \"\"\n      }\n    },\n    {\n      \"column\": \"VRDeck\",\n      \"properties\": {\n        \"dtype\": \"number\",\n        \"std\": 1145.7171888057144,\n        \"min\": 0.0,\n        \"max\": 24133.0,\n        \"num_unique_values\": 1306,\n        \"samples\": [\n          977.0,\n          624.0\n        ],\n        \"semantic_type\": \"\",\n        \"description\": \"\"\n      }\n    },\n    {\n      \"column\": \"Name\",\n      \"properties\": {\n        \"dtype\": \"string\",\n        \"num_unique_values\": 8473,\n        \"samples\": [\n          \"Nancey Bookerson\",\n          \"Nelly Benney\"\n        ],\n        \"semantic_type\": \"\",\n        \"description\": \"\"\n      }\n    },\n    {\n      \"column\": \"Transported\",\n      \"properties\": {\n        \"dtype\": \"boolean\",\n        \"num_unique_values\": 2,\n        \"samples\": [\n          true,\n          false\n        ],\n        \"semantic_type\": \"\",\n        \"description\": \"\"\n      }\n    }\n  ]\n}"
            }
          },
          "metadata": {},
          "execution_count": 2
        }
      ]
    },
    {
      "cell_type": "markdown",
      "source": [
        "### Data Cleaning\n"
      ],
      "metadata": {
        "id": "Gh8qLVb5ivVx"
      }
    },
    {
      "cell_type": "markdown",
      "source": [
        "The first thing to check in our dataframe is for missing values. We can check this easily with Pandas."
      ],
      "metadata": {
        "id": "ERPFJRf7mFM7"
      }
    },
    {
      "cell_type": "code",
      "source": [
        "df.isnull().sum()"
      ],
      "metadata": {
        "colab": {
          "base_uri": "https://localhost:8080/",
          "height": 517
        },
        "id": "rhs6lt8Ii3Wz",
        "outputId": "71f592d4-08a9-4217-99be-78078152defe"
      },
      "execution_count": null,
      "outputs": [
        {
          "output_type": "execute_result",
          "data": {
            "text/plain": [
              "PassengerId       0\n",
              "HomePlanet      201\n",
              "CryoSleep       217\n",
              "Cabin           199\n",
              "Destination     182\n",
              "Age             179\n",
              "VIP             203\n",
              "RoomService     181\n",
              "FoodCourt       183\n",
              "ShoppingMall    208\n",
              "Spa             183\n",
              "VRDeck          188\n",
              "Name            200\n",
              "Transported       0\n",
              "dtype: int64"
            ],
            "text/html": [
              "<div>\n",
              "<style scoped>\n",
              "    .dataframe tbody tr th:only-of-type {\n",
              "        vertical-align: middle;\n",
              "    }\n",
              "\n",
              "    .dataframe tbody tr th {\n",
              "        vertical-align: top;\n",
              "    }\n",
              "\n",
              "    .dataframe thead th {\n",
              "        text-align: right;\n",
              "    }\n",
              "</style>\n",
              "<table border=\"1\" class=\"dataframe\">\n",
              "  <thead>\n",
              "    <tr style=\"text-align: right;\">\n",
              "      <th></th>\n",
              "      <th>0</th>\n",
              "    </tr>\n",
              "  </thead>\n",
              "  <tbody>\n",
              "    <tr>\n",
              "      <th>PassengerId</th>\n",
              "      <td>0</td>\n",
              "    </tr>\n",
              "    <tr>\n",
              "      <th>HomePlanet</th>\n",
              "      <td>201</td>\n",
              "    </tr>\n",
              "    <tr>\n",
              "      <th>CryoSleep</th>\n",
              "      <td>217</td>\n",
              "    </tr>\n",
              "    <tr>\n",
              "      <th>Cabin</th>\n",
              "      <td>199</td>\n",
              "    </tr>\n",
              "    <tr>\n",
              "      <th>Destination</th>\n",
              "      <td>182</td>\n",
              "    </tr>\n",
              "    <tr>\n",
              "      <th>Age</th>\n",
              "      <td>179</td>\n",
              "    </tr>\n",
              "    <tr>\n",
              "      <th>VIP</th>\n",
              "      <td>203</td>\n",
              "    </tr>\n",
              "    <tr>\n",
              "      <th>RoomService</th>\n",
              "      <td>181</td>\n",
              "    </tr>\n",
              "    <tr>\n",
              "      <th>FoodCourt</th>\n",
              "      <td>183</td>\n",
              "    </tr>\n",
              "    <tr>\n",
              "      <th>ShoppingMall</th>\n",
              "      <td>208</td>\n",
              "    </tr>\n",
              "    <tr>\n",
              "      <th>Spa</th>\n",
              "      <td>183</td>\n",
              "    </tr>\n",
              "    <tr>\n",
              "      <th>VRDeck</th>\n",
              "      <td>188</td>\n",
              "    </tr>\n",
              "    <tr>\n",
              "      <th>Name</th>\n",
              "      <td>200</td>\n",
              "    </tr>\n",
              "    <tr>\n",
              "      <th>Transported</th>\n",
              "      <td>0</td>\n",
              "    </tr>\n",
              "  </tbody>\n",
              "</table>\n",
              "</div><br><label><b>dtype:</b> int64</label>"
            ]
          },
          "metadata": {},
          "execution_count": 3
        }
      ]
    },
    {
      "cell_type": "markdown",
      "source": [
        "For the rows with missing values, it would be wasteful to remove them. In order to ensure all the data can be used, I will fill `NaN` values with the mode of the column they exist in. This will ensure the remaining data can be used.\n",
        "\n",
        "`Transported`, our target variable, does not have any missing values."
      ],
      "metadata": {
        "id": "BGOv9KQymMWN"
      }
    },
    {
      "cell_type": "code",
      "source": [
        "%%capture\n",
        "for col in df.columns:\n",
        "  df[col] = df[col].fillna(df[col].mode()[0])"
      ],
      "metadata": {
        "id": "ut7J_YoJmhg2"
      },
      "execution_count": null,
      "outputs": []
    },
    {
      "cell_type": "markdown",
      "source": [
        "Let's make sure this function worked!"
      ],
      "metadata": {
        "id": "tkYlVbGgm9NI"
      }
    },
    {
      "cell_type": "code",
      "source": [
        "df.isnull().sum()"
      ],
      "metadata": {
        "colab": {
          "base_uri": "https://localhost:8080/",
          "height": 517
        },
        "id": "TstAjXqDm_U1",
        "outputId": "de9be4b1-c1ad-48e8-87db-86b9092c8ce8"
      },
      "execution_count": null,
      "outputs": [
        {
          "output_type": "execute_result",
          "data": {
            "text/plain": [
              "PassengerId     0\n",
              "HomePlanet      0\n",
              "CryoSleep       0\n",
              "Cabin           0\n",
              "Destination     0\n",
              "Age             0\n",
              "VIP             0\n",
              "RoomService     0\n",
              "FoodCourt       0\n",
              "ShoppingMall    0\n",
              "Spa             0\n",
              "VRDeck          0\n",
              "Name            0\n",
              "Transported     0\n",
              "dtype: int64"
            ],
            "text/html": [
              "<div>\n",
              "<style scoped>\n",
              "    .dataframe tbody tr th:only-of-type {\n",
              "        vertical-align: middle;\n",
              "    }\n",
              "\n",
              "    .dataframe tbody tr th {\n",
              "        vertical-align: top;\n",
              "    }\n",
              "\n",
              "    .dataframe thead th {\n",
              "        text-align: right;\n",
              "    }\n",
              "</style>\n",
              "<table border=\"1\" class=\"dataframe\">\n",
              "  <thead>\n",
              "    <tr style=\"text-align: right;\">\n",
              "      <th></th>\n",
              "      <th>0</th>\n",
              "    </tr>\n",
              "  </thead>\n",
              "  <tbody>\n",
              "    <tr>\n",
              "      <th>PassengerId</th>\n",
              "      <td>0</td>\n",
              "    </tr>\n",
              "    <tr>\n",
              "      <th>HomePlanet</th>\n",
              "      <td>0</td>\n",
              "    </tr>\n",
              "    <tr>\n",
              "      <th>CryoSleep</th>\n",
              "      <td>0</td>\n",
              "    </tr>\n",
              "    <tr>\n",
              "      <th>Cabin</th>\n",
              "      <td>0</td>\n",
              "    </tr>\n",
              "    <tr>\n",
              "      <th>Destination</th>\n",
              "      <td>0</td>\n",
              "    </tr>\n",
              "    <tr>\n",
              "      <th>Age</th>\n",
              "      <td>0</td>\n",
              "    </tr>\n",
              "    <tr>\n",
              "      <th>VIP</th>\n",
              "      <td>0</td>\n",
              "    </tr>\n",
              "    <tr>\n",
              "      <th>RoomService</th>\n",
              "      <td>0</td>\n",
              "    </tr>\n",
              "    <tr>\n",
              "      <th>FoodCourt</th>\n",
              "      <td>0</td>\n",
              "    </tr>\n",
              "    <tr>\n",
              "      <th>ShoppingMall</th>\n",
              "      <td>0</td>\n",
              "    </tr>\n",
              "    <tr>\n",
              "      <th>Spa</th>\n",
              "      <td>0</td>\n",
              "    </tr>\n",
              "    <tr>\n",
              "      <th>VRDeck</th>\n",
              "      <td>0</td>\n",
              "    </tr>\n",
              "    <tr>\n",
              "      <th>Name</th>\n",
              "      <td>0</td>\n",
              "    </tr>\n",
              "    <tr>\n",
              "      <th>Transported</th>\n",
              "      <td>0</td>\n",
              "    </tr>\n",
              "  </tbody>\n",
              "</table>\n",
              "</div><br><label><b>dtype:</b> int64</label>"
            ]
          },
          "metadata": {},
          "execution_count": 5
        }
      ]
    },
    {
      "cell_type": "markdown",
      "source": [
        "Perfect!"
      ],
      "metadata": {
        "id": "rEYgrOxUnBUM"
      }
    },
    {
      "cell_type": "markdown",
      "source": [
        "### Feature Engineering"
      ],
      "metadata": {
        "id": "Yod1VUOvisHp"
      }
    },
    {
      "cell_type": "markdown",
      "source": [
        "Let's have a look our dataframe and decide what we will do with all our columns and what **feature engineering** we have to perform to feed the data into the random forest."
      ],
      "metadata": {
        "id": "k_dH_2Tiizy-"
      }
    },
    {
      "cell_type": "code",
      "source": [
        "df.describe(include='all')"
      ],
      "metadata": {
        "colab": {
          "base_uri": "https://localhost:8080/",
          "height": 427
        },
        "id": "WckLkImljZfR",
        "outputId": "7f8b08c9-38bf-47c2-d805-ee4616bd9583"
      },
      "execution_count": null,
      "outputs": [
        {
          "output_type": "execute_result",
          "data": {
            "text/plain": [
              "       PassengerId HomePlanet CryoSleep    Cabin  Destination          Age  \\\n",
              "count         8693       8693      8693     8693         8693  8693.000000   \n",
              "unique        8693          3         2     6560            3          NaN   \n",
              "top        0001_01      Earth     False  G/734/S  TRAPPIST-1e          NaN   \n",
              "freq             1       4803      5656      207         6097          NaN   \n",
              "mean           NaN        NaN       NaN      NaN          NaN    28.728517   \n",
              "std            NaN        NaN       NaN      NaN          NaN    14.355438   \n",
              "min            NaN        NaN       NaN      NaN          NaN     0.000000   \n",
              "25%            NaN        NaN       NaN      NaN          NaN    20.000000   \n",
              "50%            NaN        NaN       NaN      NaN          NaN    27.000000   \n",
              "75%            NaN        NaN       NaN      NaN          NaN    37.000000   \n",
              "max            NaN        NaN       NaN      NaN          NaN    79.000000   \n",
              "\n",
              "          VIP   RoomService     FoodCourt  ShoppingMall           Spa  \\\n",
              "count    8693   8693.000000   8693.000000   8693.000000   8693.000000   \n",
              "unique      2           NaN           NaN           NaN           NaN   \n",
              "top     False           NaN           NaN           NaN           NaN   \n",
              "freq     8494           NaN           NaN           NaN           NaN   \n",
              "mean      NaN    220.009318    448.434027    169.572300    304.588865   \n",
              "std       NaN    660.519050   1595.790627    598.007164   1125.562559   \n",
              "min       NaN      0.000000      0.000000      0.000000      0.000000   \n",
              "25%       NaN      0.000000      0.000000      0.000000      0.000000   \n",
              "50%       NaN      0.000000      0.000000      0.000000      0.000000   \n",
              "75%       NaN     41.000000     61.000000     22.000000     53.000000   \n",
              "max       NaN  14327.000000  29813.000000  23492.000000  22408.000000   \n",
              "\n",
              "              VRDeck                Name Transported  \n",
              "count    8693.000000                8693        8693  \n",
              "unique           NaN                8473           2  \n",
              "top              NaN  Alraium Disivering        True  \n",
              "freq             NaN                 202        4378  \n",
              "mean      298.261820                 NaN         NaN  \n",
              "std      1134.126417                 NaN         NaN  \n",
              "min         0.000000                 NaN         NaN  \n",
              "25%         0.000000                 NaN         NaN  \n",
              "50%         0.000000                 NaN         NaN  \n",
              "75%        40.000000                 NaN         NaN  \n",
              "max     24133.000000                 NaN         NaN  "
            ],
            "text/html": [
              "\n",
              "  <div id=\"df-7d2cc407-452e-45bd-bb36-273bba0be93b\" class=\"colab-df-container\">\n",
              "    <div>\n",
              "<style scoped>\n",
              "    .dataframe tbody tr th:only-of-type {\n",
              "        vertical-align: middle;\n",
              "    }\n",
              "\n",
              "    .dataframe tbody tr th {\n",
              "        vertical-align: top;\n",
              "    }\n",
              "\n",
              "    .dataframe thead th {\n",
              "        text-align: right;\n",
              "    }\n",
              "</style>\n",
              "<table border=\"1\" class=\"dataframe\">\n",
              "  <thead>\n",
              "    <tr style=\"text-align: right;\">\n",
              "      <th></th>\n",
              "      <th>PassengerId</th>\n",
              "      <th>HomePlanet</th>\n",
              "      <th>CryoSleep</th>\n",
              "      <th>Cabin</th>\n",
              "      <th>Destination</th>\n",
              "      <th>Age</th>\n",
              "      <th>VIP</th>\n",
              "      <th>RoomService</th>\n",
              "      <th>FoodCourt</th>\n",
              "      <th>ShoppingMall</th>\n",
              "      <th>Spa</th>\n",
              "      <th>VRDeck</th>\n",
              "      <th>Name</th>\n",
              "      <th>Transported</th>\n",
              "    </tr>\n",
              "  </thead>\n",
              "  <tbody>\n",
              "    <tr>\n",
              "      <th>count</th>\n",
              "      <td>8693</td>\n",
              "      <td>8693</td>\n",
              "      <td>8693</td>\n",
              "      <td>8693</td>\n",
              "      <td>8693</td>\n",
              "      <td>8693.000000</td>\n",
              "      <td>8693</td>\n",
              "      <td>8693.000000</td>\n",
              "      <td>8693.000000</td>\n",
              "      <td>8693.000000</td>\n",
              "      <td>8693.000000</td>\n",
              "      <td>8693.000000</td>\n",
              "      <td>8693</td>\n",
              "      <td>8693</td>\n",
              "    </tr>\n",
              "    <tr>\n",
              "      <th>unique</th>\n",
              "      <td>8693</td>\n",
              "      <td>3</td>\n",
              "      <td>2</td>\n",
              "      <td>6560</td>\n",
              "      <td>3</td>\n",
              "      <td>NaN</td>\n",
              "      <td>2</td>\n",
              "      <td>NaN</td>\n",
              "      <td>NaN</td>\n",
              "      <td>NaN</td>\n",
              "      <td>NaN</td>\n",
              "      <td>NaN</td>\n",
              "      <td>8473</td>\n",
              "      <td>2</td>\n",
              "    </tr>\n",
              "    <tr>\n",
              "      <th>top</th>\n",
              "      <td>0001_01</td>\n",
              "      <td>Earth</td>\n",
              "      <td>False</td>\n",
              "      <td>G/734/S</td>\n",
              "      <td>TRAPPIST-1e</td>\n",
              "      <td>NaN</td>\n",
              "      <td>False</td>\n",
              "      <td>NaN</td>\n",
              "      <td>NaN</td>\n",
              "      <td>NaN</td>\n",
              "      <td>NaN</td>\n",
              "      <td>NaN</td>\n",
              "      <td>Alraium Disivering</td>\n",
              "      <td>True</td>\n",
              "    </tr>\n",
              "    <tr>\n",
              "      <th>freq</th>\n",
              "      <td>1</td>\n",
              "      <td>4803</td>\n",
              "      <td>5656</td>\n",
              "      <td>207</td>\n",
              "      <td>6097</td>\n",
              "      <td>NaN</td>\n",
              "      <td>8494</td>\n",
              "      <td>NaN</td>\n",
              "      <td>NaN</td>\n",
              "      <td>NaN</td>\n",
              "      <td>NaN</td>\n",
              "      <td>NaN</td>\n",
              "      <td>202</td>\n",
              "      <td>4378</td>\n",
              "    </tr>\n",
              "    <tr>\n",
              "      <th>mean</th>\n",
              "      <td>NaN</td>\n",
              "      <td>NaN</td>\n",
              "      <td>NaN</td>\n",
              "      <td>NaN</td>\n",
              "      <td>NaN</td>\n",
              "      <td>28.728517</td>\n",
              "      <td>NaN</td>\n",
              "      <td>220.009318</td>\n",
              "      <td>448.434027</td>\n",
              "      <td>169.572300</td>\n",
              "      <td>304.588865</td>\n",
              "      <td>298.261820</td>\n",
              "      <td>NaN</td>\n",
              "      <td>NaN</td>\n",
              "    </tr>\n",
              "    <tr>\n",
              "      <th>std</th>\n",
              "      <td>NaN</td>\n",
              "      <td>NaN</td>\n",
              "      <td>NaN</td>\n",
              "      <td>NaN</td>\n",
              "      <td>NaN</td>\n",
              "      <td>14.355438</td>\n",
              "      <td>NaN</td>\n",
              "      <td>660.519050</td>\n",
              "      <td>1595.790627</td>\n",
              "      <td>598.007164</td>\n",
              "      <td>1125.562559</td>\n",
              "      <td>1134.126417</td>\n",
              "      <td>NaN</td>\n",
              "      <td>NaN</td>\n",
              "    </tr>\n",
              "    <tr>\n",
              "      <th>min</th>\n",
              "      <td>NaN</td>\n",
              "      <td>NaN</td>\n",
              "      <td>NaN</td>\n",
              "      <td>NaN</td>\n",
              "      <td>NaN</td>\n",
              "      <td>0.000000</td>\n",
              "      <td>NaN</td>\n",
              "      <td>0.000000</td>\n",
              "      <td>0.000000</td>\n",
              "      <td>0.000000</td>\n",
              "      <td>0.000000</td>\n",
              "      <td>0.000000</td>\n",
              "      <td>NaN</td>\n",
              "      <td>NaN</td>\n",
              "    </tr>\n",
              "    <tr>\n",
              "      <th>25%</th>\n",
              "      <td>NaN</td>\n",
              "      <td>NaN</td>\n",
              "      <td>NaN</td>\n",
              "      <td>NaN</td>\n",
              "      <td>NaN</td>\n",
              "      <td>20.000000</td>\n",
              "      <td>NaN</td>\n",
              "      <td>0.000000</td>\n",
              "      <td>0.000000</td>\n",
              "      <td>0.000000</td>\n",
              "      <td>0.000000</td>\n",
              "      <td>0.000000</td>\n",
              "      <td>NaN</td>\n",
              "      <td>NaN</td>\n",
              "    </tr>\n",
              "    <tr>\n",
              "      <th>50%</th>\n",
              "      <td>NaN</td>\n",
              "      <td>NaN</td>\n",
              "      <td>NaN</td>\n",
              "      <td>NaN</td>\n",
              "      <td>NaN</td>\n",
              "      <td>27.000000</td>\n",
              "      <td>NaN</td>\n",
              "      <td>0.000000</td>\n",
              "      <td>0.000000</td>\n",
              "      <td>0.000000</td>\n",
              "      <td>0.000000</td>\n",
              "      <td>0.000000</td>\n",
              "      <td>NaN</td>\n",
              "      <td>NaN</td>\n",
              "    </tr>\n",
              "    <tr>\n",
              "      <th>75%</th>\n",
              "      <td>NaN</td>\n",
              "      <td>NaN</td>\n",
              "      <td>NaN</td>\n",
              "      <td>NaN</td>\n",
              "      <td>NaN</td>\n",
              "      <td>37.000000</td>\n",
              "      <td>NaN</td>\n",
              "      <td>41.000000</td>\n",
              "      <td>61.000000</td>\n",
              "      <td>22.000000</td>\n",
              "      <td>53.000000</td>\n",
              "      <td>40.000000</td>\n",
              "      <td>NaN</td>\n",
              "      <td>NaN</td>\n",
              "    </tr>\n",
              "    <tr>\n",
              "      <th>max</th>\n",
              "      <td>NaN</td>\n",
              "      <td>NaN</td>\n",
              "      <td>NaN</td>\n",
              "      <td>NaN</td>\n",
              "      <td>NaN</td>\n",
              "      <td>79.000000</td>\n",
              "      <td>NaN</td>\n",
              "      <td>14327.000000</td>\n",
              "      <td>29813.000000</td>\n",
              "      <td>23492.000000</td>\n",
              "      <td>22408.000000</td>\n",
              "      <td>24133.000000</td>\n",
              "      <td>NaN</td>\n",
              "      <td>NaN</td>\n",
              "    </tr>\n",
              "  </tbody>\n",
              "</table>\n",
              "</div>\n",
              "    <div class=\"colab-df-buttons\">\n",
              "\n",
              "  <div class=\"colab-df-container\">\n",
              "    <button class=\"colab-df-convert\" onclick=\"convertToInteractive('df-7d2cc407-452e-45bd-bb36-273bba0be93b')\"\n",
              "            title=\"Convert this dataframe to an interactive table.\"\n",
              "            style=\"display:none;\">\n",
              "\n",
              "  <svg xmlns=\"http://www.w3.org/2000/svg\" height=\"24px\" viewBox=\"0 -960 960 960\">\n",
              "    <path d=\"M120-120v-720h720v720H120Zm60-500h600v-160H180v160Zm220 220h160v-160H400v160Zm0 220h160v-160H400v160ZM180-400h160v-160H180v160Zm440 0h160v-160H620v160ZM180-180h160v-160H180v160Zm440 0h160v-160H620v160Z\"/>\n",
              "  </svg>\n",
              "    </button>\n",
              "\n",
              "  <style>\n",
              "    .colab-df-container {\n",
              "      display:flex;\n",
              "      gap: 12px;\n",
              "    }\n",
              "\n",
              "    .colab-df-convert {\n",
              "      background-color: #E8F0FE;\n",
              "      border: none;\n",
              "      border-radius: 50%;\n",
              "      cursor: pointer;\n",
              "      display: none;\n",
              "      fill: #1967D2;\n",
              "      height: 32px;\n",
              "      padding: 0 0 0 0;\n",
              "      width: 32px;\n",
              "    }\n",
              "\n",
              "    .colab-df-convert:hover {\n",
              "      background-color: #E2EBFA;\n",
              "      box-shadow: 0px 1px 2px rgba(60, 64, 67, 0.3), 0px 1px 3px 1px rgba(60, 64, 67, 0.15);\n",
              "      fill: #174EA6;\n",
              "    }\n",
              "\n",
              "    .colab-df-buttons div {\n",
              "      margin-bottom: 4px;\n",
              "    }\n",
              "\n",
              "    [theme=dark] .colab-df-convert {\n",
              "      background-color: #3B4455;\n",
              "      fill: #D2E3FC;\n",
              "    }\n",
              "\n",
              "    [theme=dark] .colab-df-convert:hover {\n",
              "      background-color: #434B5C;\n",
              "      box-shadow: 0px 1px 3px 1px rgba(0, 0, 0, 0.15);\n",
              "      filter: drop-shadow(0px 1px 2px rgba(0, 0, 0, 0.3));\n",
              "      fill: #FFFFFF;\n",
              "    }\n",
              "  </style>\n",
              "\n",
              "    <script>\n",
              "      const buttonEl =\n",
              "        document.querySelector('#df-7d2cc407-452e-45bd-bb36-273bba0be93b button.colab-df-convert');\n",
              "      buttonEl.style.display =\n",
              "        google.colab.kernel.accessAllowed ? 'block' : 'none';\n",
              "\n",
              "      async function convertToInteractive(key) {\n",
              "        const element = document.querySelector('#df-7d2cc407-452e-45bd-bb36-273bba0be93b');\n",
              "        const dataTable =\n",
              "          await google.colab.kernel.invokeFunction('convertToInteractive',\n",
              "                                                    [key], {});\n",
              "        if (!dataTable) return;\n",
              "\n",
              "        const docLinkHtml = 'Like what you see? Visit the ' +\n",
              "          '<a target=\"_blank\" href=https://colab.research.google.com/notebooks/data_table.ipynb>data table notebook</a>'\n",
              "          + ' to learn more about interactive tables.';\n",
              "        element.innerHTML = '';\n",
              "        dataTable['output_type'] = 'display_data';\n",
              "        await google.colab.output.renderOutput(dataTable, element);\n",
              "        const docLink = document.createElement('div');\n",
              "        docLink.innerHTML = docLinkHtml;\n",
              "        element.appendChild(docLink);\n",
              "      }\n",
              "    </script>\n",
              "  </div>\n",
              "\n",
              "\n",
              "<div id=\"df-8282091c-2ff7-4ac2-a3ec-04a5f5408a77\">\n",
              "  <button class=\"colab-df-quickchart\" onclick=\"quickchart('df-8282091c-2ff7-4ac2-a3ec-04a5f5408a77')\"\n",
              "            title=\"Suggest charts\"\n",
              "            style=\"display:none;\">\n",
              "\n",
              "<svg xmlns=\"http://www.w3.org/2000/svg\" height=\"24px\"viewBox=\"0 0 24 24\"\n",
              "     width=\"24px\">\n",
              "    <g>\n",
              "        <path d=\"M19 3H5c-1.1 0-2 .9-2 2v14c0 1.1.9 2 2 2h14c1.1 0 2-.9 2-2V5c0-1.1-.9-2-2-2zM9 17H7v-7h2v7zm4 0h-2V7h2v10zm4 0h-2v-4h2v4z\"/>\n",
              "    </g>\n",
              "</svg>\n",
              "  </button>\n",
              "\n",
              "<style>\n",
              "  .colab-df-quickchart {\n",
              "      --bg-color: #E8F0FE;\n",
              "      --fill-color: #1967D2;\n",
              "      --hover-bg-color: #E2EBFA;\n",
              "      --hover-fill-color: #174EA6;\n",
              "      --disabled-fill-color: #AAA;\n",
              "      --disabled-bg-color: #DDD;\n",
              "  }\n",
              "\n",
              "  [theme=dark] .colab-df-quickchart {\n",
              "      --bg-color: #3B4455;\n",
              "      --fill-color: #D2E3FC;\n",
              "      --hover-bg-color: #434B5C;\n",
              "      --hover-fill-color: #FFFFFF;\n",
              "      --disabled-bg-color: #3B4455;\n",
              "      --disabled-fill-color: #666;\n",
              "  }\n",
              "\n",
              "  .colab-df-quickchart {\n",
              "    background-color: var(--bg-color);\n",
              "    border: none;\n",
              "    border-radius: 50%;\n",
              "    cursor: pointer;\n",
              "    display: none;\n",
              "    fill: var(--fill-color);\n",
              "    height: 32px;\n",
              "    padding: 0;\n",
              "    width: 32px;\n",
              "  }\n",
              "\n",
              "  .colab-df-quickchart:hover {\n",
              "    background-color: var(--hover-bg-color);\n",
              "    box-shadow: 0 1px 2px rgba(60, 64, 67, 0.3), 0 1px 3px 1px rgba(60, 64, 67, 0.15);\n",
              "    fill: var(--button-hover-fill-color);\n",
              "  }\n",
              "\n",
              "  .colab-df-quickchart-complete:disabled,\n",
              "  .colab-df-quickchart-complete:disabled:hover {\n",
              "    background-color: var(--disabled-bg-color);\n",
              "    fill: var(--disabled-fill-color);\n",
              "    box-shadow: none;\n",
              "  }\n",
              "\n",
              "  .colab-df-spinner {\n",
              "    border: 2px solid var(--fill-color);\n",
              "    border-color: transparent;\n",
              "    border-bottom-color: var(--fill-color);\n",
              "    animation:\n",
              "      spin 1s steps(1) infinite;\n",
              "  }\n",
              "\n",
              "  @keyframes spin {\n",
              "    0% {\n",
              "      border-color: transparent;\n",
              "      border-bottom-color: var(--fill-color);\n",
              "      border-left-color: var(--fill-color);\n",
              "    }\n",
              "    20% {\n",
              "      border-color: transparent;\n",
              "      border-left-color: var(--fill-color);\n",
              "      border-top-color: var(--fill-color);\n",
              "    }\n",
              "    30% {\n",
              "      border-color: transparent;\n",
              "      border-left-color: var(--fill-color);\n",
              "      border-top-color: var(--fill-color);\n",
              "      border-right-color: var(--fill-color);\n",
              "    }\n",
              "    40% {\n",
              "      border-color: transparent;\n",
              "      border-right-color: var(--fill-color);\n",
              "      border-top-color: var(--fill-color);\n",
              "    }\n",
              "    60% {\n",
              "      border-color: transparent;\n",
              "      border-right-color: var(--fill-color);\n",
              "    }\n",
              "    80% {\n",
              "      border-color: transparent;\n",
              "      border-right-color: var(--fill-color);\n",
              "      border-bottom-color: var(--fill-color);\n",
              "    }\n",
              "    90% {\n",
              "      border-color: transparent;\n",
              "      border-bottom-color: var(--fill-color);\n",
              "    }\n",
              "  }\n",
              "</style>\n",
              "\n",
              "  <script>\n",
              "    async function quickchart(key) {\n",
              "      const quickchartButtonEl =\n",
              "        document.querySelector('#' + key + ' button');\n",
              "      quickchartButtonEl.disabled = true;  // To prevent multiple clicks.\n",
              "      quickchartButtonEl.classList.add('colab-df-spinner');\n",
              "      try {\n",
              "        const charts = await google.colab.kernel.invokeFunction(\n",
              "            'suggestCharts', [key], {});\n",
              "      } catch (error) {\n",
              "        console.error('Error during call to suggestCharts:', error);\n",
              "      }\n",
              "      quickchartButtonEl.classList.remove('colab-df-spinner');\n",
              "      quickchartButtonEl.classList.add('colab-df-quickchart-complete');\n",
              "    }\n",
              "    (() => {\n",
              "      let quickchartButtonEl =\n",
              "        document.querySelector('#df-8282091c-2ff7-4ac2-a3ec-04a5f5408a77 button');\n",
              "      quickchartButtonEl.style.display =\n",
              "        google.colab.kernel.accessAllowed ? 'block' : 'none';\n",
              "    })();\n",
              "  </script>\n",
              "</div>\n",
              "\n",
              "    </div>\n",
              "  </div>\n"
            ],
            "application/vnd.google.colaboratory.intrinsic+json": {
              "type": "dataframe",
              "summary": "{\n  \"name\": \"df\",\n  \"rows\": 11,\n  \"fields\": [\n    {\n      \"column\": \"PassengerId\",\n      \"properties\": {\n        \"dtype\": \"category\",\n        \"num_unique_values\": 3,\n        \"samples\": [\n          \"8693\",\n          \"0001_01\",\n          \"1\"\n        ],\n        \"semantic_type\": \"\",\n        \"description\": \"\"\n      }\n    },\n    {\n      \"column\": \"HomePlanet\",\n      \"properties\": {\n        \"dtype\": \"category\",\n        \"num_unique_values\": 4,\n        \"samples\": [\n          3,\n          \"4803\",\n          \"8693\"\n        ],\n        \"semantic_type\": \"\",\n        \"description\": \"\"\n      }\n    },\n    {\n      \"column\": \"CryoSleep\",\n      \"properties\": {\n        \"dtype\": \"category\",\n        \"num_unique_values\": 4,\n        \"samples\": [\n          2,\n          \"5656\",\n          \"8693\"\n        ],\n        \"semantic_type\": \"\",\n        \"description\": \"\"\n      }\n    },\n    {\n      \"column\": \"Cabin\",\n      \"properties\": {\n        \"dtype\": \"category\",\n        \"num_unique_values\": 4,\n        \"samples\": [\n          6560,\n          \"207\",\n          \"8693\"\n        ],\n        \"semantic_type\": \"\",\n        \"description\": \"\"\n      }\n    },\n    {\n      \"column\": \"Destination\",\n      \"properties\": {\n        \"dtype\": \"category\",\n        \"num_unique_values\": 4,\n        \"samples\": [\n          3,\n          \"6097\",\n          \"8693\"\n        ],\n        \"semantic_type\": \"\",\n        \"description\": \"\"\n      }\n    },\n    {\n      \"column\": \"Age\",\n      \"properties\": {\n        \"dtype\": \"number\",\n        \"std\": 3063.11716813687,\n        \"min\": 0.0,\n        \"max\": 8693.0,\n        \"num_unique_values\": 8,\n        \"samples\": [\n          28.72851719774531,\n          27.0,\n          8693.0\n        ],\n        \"semantic_type\": \"\",\n        \"description\": \"\"\n      }\n    },\n    {\n      \"column\": \"VIP\",\n      \"properties\": {\n        \"dtype\": \"category\",\n        \"num_unique_values\": 4,\n        \"samples\": [\n          2,\n          \"8494\",\n          \"8693\"\n        ],\n        \"semantic_type\": \"\",\n        \"description\": \"\"\n      }\n    },\n    {\n      \"column\": \"RoomService\",\n      \"properties\": {\n        \"dtype\": \"number\",\n        \"std\": 5472.893605768281,\n        \"min\": 0.0,\n        \"max\": 14327.0,\n        \"num_unique_values\": 6,\n        \"samples\": [\n          8693.0,\n          220.0093178419418,\n          14327.0\n        ],\n        \"semantic_type\": \"\",\n        \"description\": \"\"\n      }\n    },\n    {\n      \"column\": \"FoodCourt\",\n      \"properties\": {\n        \"dtype\": \"number\",\n        \"std\": 10426.447373401237,\n        \"min\": 0.0,\n        \"max\": 29813.0,\n        \"num_unique_values\": 6,\n        \"samples\": [\n          8693.0,\n          448.4340273783504,\n          29813.0\n        ],\n        \"semantic_type\": \"\",\n        \"description\": \"\"\n      }\n    },\n    {\n      \"column\": \"ShoppingMall\",\n      \"properties\": {\n        \"dtype\": \"number\",\n        \"std\": 8382.92314328747,\n        \"min\": 0.0,\n        \"max\": 23492.0,\n        \"num_unique_values\": 6,\n        \"samples\": [\n          8693.0,\n          169.57229955136316,\n          23492.0\n        ],\n        \"semantic_type\": \"\",\n        \"description\": \"\"\n      }\n    },\n    {\n      \"column\": \"Spa\",\n      \"properties\": {\n        \"dtype\": \"number\",\n        \"std\": 7985.105079828176,\n        \"min\": 0.0,\n        \"max\": 22408.0,\n        \"num_unique_values\": 6,\n        \"samples\": [\n          8693.0,\n          304.5888646037041,\n          22408.0\n        ],\n        \"semantic_type\": \"\",\n        \"description\": \"\"\n      }\n    },\n    {\n      \"column\": \"VRDeck\",\n      \"properties\": {\n        \"dtype\": \"number\",\n        \"std\": 8554.859198848468,\n        \"min\": 0.0,\n        \"max\": 24133.0,\n        \"num_unique_values\": 6,\n        \"samples\": [\n          8693.0,\n          298.2618198550558,\n          24133.0\n        ],\n        \"semantic_type\": \"\",\n        \"description\": \"\"\n      }\n    },\n    {\n      \"column\": \"Name\",\n      \"properties\": {\n        \"dtype\": \"category\",\n        \"num_unique_values\": 4,\n        \"samples\": [\n          8473,\n          \"202\",\n          \"8693\"\n        ],\n        \"semantic_type\": \"\",\n        \"description\": \"\"\n      }\n    },\n    {\n      \"column\": \"Transported\",\n      \"properties\": {\n        \"dtype\": \"category\",\n        \"num_unique_values\": 4,\n        \"samples\": [\n          2,\n          \"4378\",\n          \"8693\"\n        ],\n        \"semantic_type\": \"\",\n        \"description\": \"\"\n      }\n    }\n  ]\n}"
            }
          },
          "metadata": {},
          "execution_count": 6
        }
      ]
    },
    {
      "cell_type": "markdown",
      "source": [
        "Here's my action plan for each feature:\n",
        "\n",
        "- `PassengerId` is unique for each passenger; however, it does contain useful information as it is in the form `gggg_pp` where `gggg` represents the group they are travelling with. Dealing with this value is difficult and there's likely a number of good approaches. I will try transforming this into a binary feature - *whether the passenger is travelling as part of a group or not*.\n",
        "- `HomePlanet`, `CryoSleep`, `Destination`, `VIP` have unique values between 2-3 so these will be converted to categorical variables without further manipulation.\n",
        "- `Cabin` is more complex and requires further inspection. It is split into the format `D/N/M` so it may be possible to split this column into 3 separate categorical variables.\n",
        "- `Age`, `RoomService`, `FoodCourt`, `ShoppingMall`, `Spa`, `VRDeck` all represent continuous variables and can be fed directly into the model without further manipulation.\n",
        "- `Name` is an interesting column. For now, we will dump this column as it will require significant processing to elicit useful information, especially in a random forest. It is possible that the last name could provide valuable insights for the model; however, I theorise that this information will be automatically contained within the `gggg` part of `PassengerId`.\n",
        "\n",
        "Then finally, `Transported` is our target variable. This represents either 'True' or 'False'."
      ],
      "metadata": {
        "id": "p0aTsujEjvBe"
      }
    },
    {
      "cell_type": "markdown",
      "source": [
        "#### PassengerId"
      ],
      "metadata": {
        "id": "iOCsn173nOSI"
      }
    },
    {
      "cell_type": "markdown",
      "source": [
        "We need to extract the first 4 digits of each value in the `PassengerId` column and convert the value to an integer. Then we can determine if this integer is unique in the column or not, which will be used to determine if the passenger is travelling as part of a group or not."
      ],
      "metadata": {
        "id": "-z37BiNVnSBy"
      }
    },
    {
      "cell_type": "code",
      "source": [
        "def process_passenger_id(df):\n",
        "  # first 4 digits\n",
        "  df['with_group'] = [int(i[:4]) for i in df['PassengerId']]\n",
        "  # determine uniqueness\n",
        "  df['with_group'] = df['with_group'].map(df['with_group'].value_counts() > 1).astype(int)\n",
        "\n",
        "process_passenger_id(df)\n",
        "df['with_group']"
      ],
      "metadata": {
        "id": "CkKp4R-GnQFW",
        "colab": {
          "base_uri": "https://localhost:8080/",
          "height": 453
        },
        "outputId": "afcf3fc8-91b9-494e-aa2f-cedb7ba9f645"
      },
      "execution_count": null,
      "outputs": [
        {
          "output_type": "execute_result",
          "data": {
            "text/plain": [
              "0       0\n",
              "1       0\n",
              "2       1\n",
              "3       1\n",
              "4       0\n",
              "       ..\n",
              "8688    0\n",
              "8689    0\n",
              "8690    0\n",
              "8691    1\n",
              "8692    1\n",
              "Name: with_group, Length: 8693, dtype: int64"
            ],
            "text/html": [
              "<div>\n",
              "<style scoped>\n",
              "    .dataframe tbody tr th:only-of-type {\n",
              "        vertical-align: middle;\n",
              "    }\n",
              "\n",
              "    .dataframe tbody tr th {\n",
              "        vertical-align: top;\n",
              "    }\n",
              "\n",
              "    .dataframe thead th {\n",
              "        text-align: right;\n",
              "    }\n",
              "</style>\n",
              "<table border=\"1\" class=\"dataframe\">\n",
              "  <thead>\n",
              "    <tr style=\"text-align: right;\">\n",
              "      <th></th>\n",
              "      <th>with_group</th>\n",
              "    </tr>\n",
              "  </thead>\n",
              "  <tbody>\n",
              "    <tr>\n",
              "      <th>0</th>\n",
              "      <td>0</td>\n",
              "    </tr>\n",
              "    <tr>\n",
              "      <th>1</th>\n",
              "      <td>0</td>\n",
              "    </tr>\n",
              "    <tr>\n",
              "      <th>2</th>\n",
              "      <td>1</td>\n",
              "    </tr>\n",
              "    <tr>\n",
              "      <th>3</th>\n",
              "      <td>1</td>\n",
              "    </tr>\n",
              "    <tr>\n",
              "      <th>4</th>\n",
              "      <td>0</td>\n",
              "    </tr>\n",
              "    <tr>\n",
              "      <th>...</th>\n",
              "      <td>...</td>\n",
              "    </tr>\n",
              "    <tr>\n",
              "      <th>8688</th>\n",
              "      <td>0</td>\n",
              "    </tr>\n",
              "    <tr>\n",
              "      <th>8689</th>\n",
              "      <td>0</td>\n",
              "    </tr>\n",
              "    <tr>\n",
              "      <th>8690</th>\n",
              "      <td>0</td>\n",
              "    </tr>\n",
              "    <tr>\n",
              "      <th>8691</th>\n",
              "      <td>1</td>\n",
              "    </tr>\n",
              "    <tr>\n",
              "      <th>8692</th>\n",
              "      <td>1</td>\n",
              "    </tr>\n",
              "  </tbody>\n",
              "</table>\n",
              "<p>8693 rows × 1 columns</p>\n",
              "</div><br><label><b>dtype:</b> int64</label>"
            ]
          },
          "metadata": {},
          "execution_count": 7
        }
      ]
    },
    {
      "cell_type": "markdown",
      "source": [
        "#### Cabin"
      ],
      "metadata": {
        "id": "Fh5NoRLhrR4z"
      }
    },
    {
      "cell_type": "code",
      "source": [
        "df['Cabin'].head()"
      ],
      "metadata": {
        "colab": {
          "base_uri": "https://localhost:8080/",
          "height": 238
        },
        "id": "Y1lpLAbDreFB",
        "outputId": "ab25a30d-2306-466a-ebfa-359442b26feb"
      },
      "execution_count": null,
      "outputs": [
        {
          "output_type": "execute_result",
          "data": {
            "text/plain": [
              "0    B/0/P\n",
              "1    F/0/S\n",
              "2    A/0/S\n",
              "3    A/0/S\n",
              "4    F/1/S\n",
              "Name: Cabin, dtype: object"
            ],
            "text/html": [
              "<div>\n",
              "<style scoped>\n",
              "    .dataframe tbody tr th:only-of-type {\n",
              "        vertical-align: middle;\n",
              "    }\n",
              "\n",
              "    .dataframe tbody tr th {\n",
              "        vertical-align: top;\n",
              "    }\n",
              "\n",
              "    .dataframe thead th {\n",
              "        text-align: right;\n",
              "    }\n",
              "</style>\n",
              "<table border=\"1\" class=\"dataframe\">\n",
              "  <thead>\n",
              "    <tr style=\"text-align: right;\">\n",
              "      <th></th>\n",
              "      <th>Cabin</th>\n",
              "    </tr>\n",
              "  </thead>\n",
              "  <tbody>\n",
              "    <tr>\n",
              "      <th>0</th>\n",
              "      <td>B/0/P</td>\n",
              "    </tr>\n",
              "    <tr>\n",
              "      <th>1</th>\n",
              "      <td>F/0/S</td>\n",
              "    </tr>\n",
              "    <tr>\n",
              "      <th>2</th>\n",
              "      <td>A/0/S</td>\n",
              "    </tr>\n",
              "    <tr>\n",
              "      <th>3</th>\n",
              "      <td>A/0/S</td>\n",
              "    </tr>\n",
              "    <tr>\n",
              "      <th>4</th>\n",
              "      <td>F/1/S</td>\n",
              "    </tr>\n",
              "  </tbody>\n",
              "</table>\n",
              "</div><br><label><b>dtype:</b> object</label>"
            ]
          },
          "metadata": {},
          "execution_count": 8
        }
      ]
    },
    {
      "cell_type": "markdown",
      "source": [
        "For each value in `Cabin` there are three separate pieces of information `deck/num/side`.\n",
        "\n",
        "Thus, we will split `Cabin` into 3 separate features. `deck` and `side` have a limited number of values and will be **categorical variables**. `num` is a continuous variable and may provide useful information about a person's chance of being in an alternate dimension if it depends on their location in the ship."
      ],
      "metadata": {
        "id": "xXXz_XDPsF1Z"
      }
    },
    {
      "cell_type": "code",
      "source": [
        "df[['deck', 'num', 'side']] = df['Cabin'].str.split('/', expand=True)\n",
        "df[['deck', 'num', 'side']]"
      ],
      "metadata": {
        "colab": {
          "base_uri": "https://localhost:8080/",
          "height": 419
        },
        "id": "Gk1KGpLhsrs9",
        "outputId": "a519402a-ffbd-4a91-cdc3-1bcb8adae555"
      },
      "execution_count": null,
      "outputs": [
        {
          "output_type": "execute_result",
          "data": {
            "text/plain": [
              "     deck   num side\n",
              "0       B     0    P\n",
              "1       F     0    S\n",
              "2       A     0    S\n",
              "3       A     0    S\n",
              "4       F     1    S\n",
              "...   ...   ...  ...\n",
              "8688    A    98    P\n",
              "8689    G  1499    S\n",
              "8690    G  1500    S\n",
              "8691    E   608    S\n",
              "8692    E   608    S\n",
              "\n",
              "[8693 rows x 3 columns]"
            ],
            "text/html": [
              "\n",
              "  <div id=\"df-dcb2da4c-0cd5-437d-b414-35360f9b9475\" class=\"colab-df-container\">\n",
              "    <div>\n",
              "<style scoped>\n",
              "    .dataframe tbody tr th:only-of-type {\n",
              "        vertical-align: middle;\n",
              "    }\n",
              "\n",
              "    .dataframe tbody tr th {\n",
              "        vertical-align: top;\n",
              "    }\n",
              "\n",
              "    .dataframe thead th {\n",
              "        text-align: right;\n",
              "    }\n",
              "</style>\n",
              "<table border=\"1\" class=\"dataframe\">\n",
              "  <thead>\n",
              "    <tr style=\"text-align: right;\">\n",
              "      <th></th>\n",
              "      <th>deck</th>\n",
              "      <th>num</th>\n",
              "      <th>side</th>\n",
              "    </tr>\n",
              "  </thead>\n",
              "  <tbody>\n",
              "    <tr>\n",
              "      <th>0</th>\n",
              "      <td>B</td>\n",
              "      <td>0</td>\n",
              "      <td>P</td>\n",
              "    </tr>\n",
              "    <tr>\n",
              "      <th>1</th>\n",
              "      <td>F</td>\n",
              "      <td>0</td>\n",
              "      <td>S</td>\n",
              "    </tr>\n",
              "    <tr>\n",
              "      <th>2</th>\n",
              "      <td>A</td>\n",
              "      <td>0</td>\n",
              "      <td>S</td>\n",
              "    </tr>\n",
              "    <tr>\n",
              "      <th>3</th>\n",
              "      <td>A</td>\n",
              "      <td>0</td>\n",
              "      <td>S</td>\n",
              "    </tr>\n",
              "    <tr>\n",
              "      <th>4</th>\n",
              "      <td>F</td>\n",
              "      <td>1</td>\n",
              "      <td>S</td>\n",
              "    </tr>\n",
              "    <tr>\n",
              "      <th>...</th>\n",
              "      <td>...</td>\n",
              "      <td>...</td>\n",
              "      <td>...</td>\n",
              "    </tr>\n",
              "    <tr>\n",
              "      <th>8688</th>\n",
              "      <td>A</td>\n",
              "      <td>98</td>\n",
              "      <td>P</td>\n",
              "    </tr>\n",
              "    <tr>\n",
              "      <th>8689</th>\n",
              "      <td>G</td>\n",
              "      <td>1499</td>\n",
              "      <td>S</td>\n",
              "    </tr>\n",
              "    <tr>\n",
              "      <th>8690</th>\n",
              "      <td>G</td>\n",
              "      <td>1500</td>\n",
              "      <td>S</td>\n",
              "    </tr>\n",
              "    <tr>\n",
              "      <th>8691</th>\n",
              "      <td>E</td>\n",
              "      <td>608</td>\n",
              "      <td>S</td>\n",
              "    </tr>\n",
              "    <tr>\n",
              "      <th>8692</th>\n",
              "      <td>E</td>\n",
              "      <td>608</td>\n",
              "      <td>S</td>\n",
              "    </tr>\n",
              "  </tbody>\n",
              "</table>\n",
              "<p>8693 rows × 3 columns</p>\n",
              "</div>\n",
              "    <div class=\"colab-df-buttons\">\n",
              "\n",
              "  <div class=\"colab-df-container\">\n",
              "    <button class=\"colab-df-convert\" onclick=\"convertToInteractive('df-dcb2da4c-0cd5-437d-b414-35360f9b9475')\"\n",
              "            title=\"Convert this dataframe to an interactive table.\"\n",
              "            style=\"display:none;\">\n",
              "\n",
              "  <svg xmlns=\"http://www.w3.org/2000/svg\" height=\"24px\" viewBox=\"0 -960 960 960\">\n",
              "    <path d=\"M120-120v-720h720v720H120Zm60-500h600v-160H180v160Zm220 220h160v-160H400v160Zm0 220h160v-160H400v160ZM180-400h160v-160H180v160Zm440 0h160v-160H620v160ZM180-180h160v-160H180v160Zm440 0h160v-160H620v160Z\"/>\n",
              "  </svg>\n",
              "    </button>\n",
              "\n",
              "  <style>\n",
              "    .colab-df-container {\n",
              "      display:flex;\n",
              "      gap: 12px;\n",
              "    }\n",
              "\n",
              "    .colab-df-convert {\n",
              "      background-color: #E8F0FE;\n",
              "      border: none;\n",
              "      border-radius: 50%;\n",
              "      cursor: pointer;\n",
              "      display: none;\n",
              "      fill: #1967D2;\n",
              "      height: 32px;\n",
              "      padding: 0 0 0 0;\n",
              "      width: 32px;\n",
              "    }\n",
              "\n",
              "    .colab-df-convert:hover {\n",
              "      background-color: #E2EBFA;\n",
              "      box-shadow: 0px 1px 2px rgba(60, 64, 67, 0.3), 0px 1px 3px 1px rgba(60, 64, 67, 0.15);\n",
              "      fill: #174EA6;\n",
              "    }\n",
              "\n",
              "    .colab-df-buttons div {\n",
              "      margin-bottom: 4px;\n",
              "    }\n",
              "\n",
              "    [theme=dark] .colab-df-convert {\n",
              "      background-color: #3B4455;\n",
              "      fill: #D2E3FC;\n",
              "    }\n",
              "\n",
              "    [theme=dark] .colab-df-convert:hover {\n",
              "      background-color: #434B5C;\n",
              "      box-shadow: 0px 1px 3px 1px rgba(0, 0, 0, 0.15);\n",
              "      filter: drop-shadow(0px 1px 2px rgba(0, 0, 0, 0.3));\n",
              "      fill: #FFFFFF;\n",
              "    }\n",
              "  </style>\n",
              "\n",
              "    <script>\n",
              "      const buttonEl =\n",
              "        document.querySelector('#df-dcb2da4c-0cd5-437d-b414-35360f9b9475 button.colab-df-convert');\n",
              "      buttonEl.style.display =\n",
              "        google.colab.kernel.accessAllowed ? 'block' : 'none';\n",
              "\n",
              "      async function convertToInteractive(key) {\n",
              "        const element = document.querySelector('#df-dcb2da4c-0cd5-437d-b414-35360f9b9475');\n",
              "        const dataTable =\n",
              "          await google.colab.kernel.invokeFunction('convertToInteractive',\n",
              "                                                    [key], {});\n",
              "        if (!dataTable) return;\n",
              "\n",
              "        const docLinkHtml = 'Like what you see? Visit the ' +\n",
              "          '<a target=\"_blank\" href=https://colab.research.google.com/notebooks/data_table.ipynb>data table notebook</a>'\n",
              "          + ' to learn more about interactive tables.';\n",
              "        element.innerHTML = '';\n",
              "        dataTable['output_type'] = 'display_data';\n",
              "        await google.colab.output.renderOutput(dataTable, element);\n",
              "        const docLink = document.createElement('div');\n",
              "        docLink.innerHTML = docLinkHtml;\n",
              "        element.appendChild(docLink);\n",
              "      }\n",
              "    </script>\n",
              "  </div>\n",
              "\n",
              "\n",
              "<div id=\"df-8d2aae54-e687-4862-8541-1989f00d35f5\">\n",
              "  <button class=\"colab-df-quickchart\" onclick=\"quickchart('df-8d2aae54-e687-4862-8541-1989f00d35f5')\"\n",
              "            title=\"Suggest charts\"\n",
              "            style=\"display:none;\">\n",
              "\n",
              "<svg xmlns=\"http://www.w3.org/2000/svg\" height=\"24px\"viewBox=\"0 0 24 24\"\n",
              "     width=\"24px\">\n",
              "    <g>\n",
              "        <path d=\"M19 3H5c-1.1 0-2 .9-2 2v14c0 1.1.9 2 2 2h14c1.1 0 2-.9 2-2V5c0-1.1-.9-2-2-2zM9 17H7v-7h2v7zm4 0h-2V7h2v10zm4 0h-2v-4h2v4z\"/>\n",
              "    </g>\n",
              "</svg>\n",
              "  </button>\n",
              "\n",
              "<style>\n",
              "  .colab-df-quickchart {\n",
              "      --bg-color: #E8F0FE;\n",
              "      --fill-color: #1967D2;\n",
              "      --hover-bg-color: #E2EBFA;\n",
              "      --hover-fill-color: #174EA6;\n",
              "      --disabled-fill-color: #AAA;\n",
              "      --disabled-bg-color: #DDD;\n",
              "  }\n",
              "\n",
              "  [theme=dark] .colab-df-quickchart {\n",
              "      --bg-color: #3B4455;\n",
              "      --fill-color: #D2E3FC;\n",
              "      --hover-bg-color: #434B5C;\n",
              "      --hover-fill-color: #FFFFFF;\n",
              "      --disabled-bg-color: #3B4455;\n",
              "      --disabled-fill-color: #666;\n",
              "  }\n",
              "\n",
              "  .colab-df-quickchart {\n",
              "    background-color: var(--bg-color);\n",
              "    border: none;\n",
              "    border-radius: 50%;\n",
              "    cursor: pointer;\n",
              "    display: none;\n",
              "    fill: var(--fill-color);\n",
              "    height: 32px;\n",
              "    padding: 0;\n",
              "    width: 32px;\n",
              "  }\n",
              "\n",
              "  .colab-df-quickchart:hover {\n",
              "    background-color: var(--hover-bg-color);\n",
              "    box-shadow: 0 1px 2px rgba(60, 64, 67, 0.3), 0 1px 3px 1px rgba(60, 64, 67, 0.15);\n",
              "    fill: var(--button-hover-fill-color);\n",
              "  }\n",
              "\n",
              "  .colab-df-quickchart-complete:disabled,\n",
              "  .colab-df-quickchart-complete:disabled:hover {\n",
              "    background-color: var(--disabled-bg-color);\n",
              "    fill: var(--disabled-fill-color);\n",
              "    box-shadow: none;\n",
              "  }\n",
              "\n",
              "  .colab-df-spinner {\n",
              "    border: 2px solid var(--fill-color);\n",
              "    border-color: transparent;\n",
              "    border-bottom-color: var(--fill-color);\n",
              "    animation:\n",
              "      spin 1s steps(1) infinite;\n",
              "  }\n",
              "\n",
              "  @keyframes spin {\n",
              "    0% {\n",
              "      border-color: transparent;\n",
              "      border-bottom-color: var(--fill-color);\n",
              "      border-left-color: var(--fill-color);\n",
              "    }\n",
              "    20% {\n",
              "      border-color: transparent;\n",
              "      border-left-color: var(--fill-color);\n",
              "      border-top-color: var(--fill-color);\n",
              "    }\n",
              "    30% {\n",
              "      border-color: transparent;\n",
              "      border-left-color: var(--fill-color);\n",
              "      border-top-color: var(--fill-color);\n",
              "      border-right-color: var(--fill-color);\n",
              "    }\n",
              "    40% {\n",
              "      border-color: transparent;\n",
              "      border-right-color: var(--fill-color);\n",
              "      border-top-color: var(--fill-color);\n",
              "    }\n",
              "    60% {\n",
              "      border-color: transparent;\n",
              "      border-right-color: var(--fill-color);\n",
              "    }\n",
              "    80% {\n",
              "      border-color: transparent;\n",
              "      border-right-color: var(--fill-color);\n",
              "      border-bottom-color: var(--fill-color);\n",
              "    }\n",
              "    90% {\n",
              "      border-color: transparent;\n",
              "      border-bottom-color: var(--fill-color);\n",
              "    }\n",
              "  }\n",
              "</style>\n",
              "\n",
              "  <script>\n",
              "    async function quickchart(key) {\n",
              "      const quickchartButtonEl =\n",
              "        document.querySelector('#' + key + ' button');\n",
              "      quickchartButtonEl.disabled = true;  // To prevent multiple clicks.\n",
              "      quickchartButtonEl.classList.add('colab-df-spinner');\n",
              "      try {\n",
              "        const charts = await google.colab.kernel.invokeFunction(\n",
              "            'suggestCharts', [key], {});\n",
              "      } catch (error) {\n",
              "        console.error('Error during call to suggestCharts:', error);\n",
              "      }\n",
              "      quickchartButtonEl.classList.remove('colab-df-spinner');\n",
              "      quickchartButtonEl.classList.add('colab-df-quickchart-complete');\n",
              "    }\n",
              "    (() => {\n",
              "      let quickchartButtonEl =\n",
              "        document.querySelector('#df-8d2aae54-e687-4862-8541-1989f00d35f5 button');\n",
              "      quickchartButtonEl.style.display =\n",
              "        google.colab.kernel.accessAllowed ? 'block' : 'none';\n",
              "    })();\n",
              "  </script>\n",
              "</div>\n",
              "\n",
              "    </div>\n",
              "  </div>\n"
            ],
            "application/vnd.google.colaboratory.intrinsic+json": {
              "type": "dataframe",
              "summary": "{\n  \"name\": \"df[['deck', 'num', 'side']]\",\n  \"rows\": 8693,\n  \"fields\": [\n    {\n      \"column\": \"deck\",\n      \"properties\": {\n        \"dtype\": \"category\",\n        \"num_unique_values\": 8,\n        \"samples\": [\n          \"F\",\n          \"D\",\n          \"B\"\n        ],\n        \"semantic_type\": \"\",\n        \"description\": \"\"\n      }\n    },\n    {\n      \"column\": \"num\",\n      \"properties\": {\n        \"dtype\": \"category\",\n        \"num_unique_values\": 1817,\n        \"samples\": [\n          \"1605\",\n          \"722\",\n          \"104\"\n        ],\n        \"semantic_type\": \"\",\n        \"description\": \"\"\n      }\n    },\n    {\n      \"column\": \"side\",\n      \"properties\": {\n        \"dtype\": \"category\",\n        \"num_unique_values\": 2,\n        \"samples\": [\n          \"S\",\n          \"P\"\n        ],\n        \"semantic_type\": \"\",\n        \"description\": \"\"\n      }\n    }\n  ]\n}"
            }
          },
          "metadata": {},
          "execution_count": 9
        }
      ]
    },
    {
      "cell_type": "markdown",
      "source": [
        "Let's make sure that there are no null values - in case the format was not consistent for the data."
      ],
      "metadata": {
        "id": "-98SlqPYtIT0"
      }
    },
    {
      "cell_type": "code",
      "source": [
        "df[['deck', 'num', 'side']].isnull().sum()"
      ],
      "metadata": {
        "colab": {
          "base_uri": "https://localhost:8080/",
          "height": 176
        },
        "id": "dmJG9LZgtenQ",
        "outputId": "b026d4e2-e704-4cfb-8c59-42651c905202"
      },
      "execution_count": null,
      "outputs": [
        {
          "output_type": "execute_result",
          "data": {
            "text/plain": [
              "deck    0\n",
              "num     0\n",
              "side    0\n",
              "dtype: int64"
            ],
            "text/html": [
              "<div>\n",
              "<style scoped>\n",
              "    .dataframe tbody tr th:only-of-type {\n",
              "        vertical-align: middle;\n",
              "    }\n",
              "\n",
              "    .dataframe tbody tr th {\n",
              "        vertical-align: top;\n",
              "    }\n",
              "\n",
              "    .dataframe thead th {\n",
              "        text-align: right;\n",
              "    }\n",
              "</style>\n",
              "<table border=\"1\" class=\"dataframe\">\n",
              "  <thead>\n",
              "    <tr style=\"text-align: right;\">\n",
              "      <th></th>\n",
              "      <th>0</th>\n",
              "    </tr>\n",
              "  </thead>\n",
              "  <tbody>\n",
              "    <tr>\n",
              "      <th>deck</th>\n",
              "      <td>0</td>\n",
              "    </tr>\n",
              "    <tr>\n",
              "      <th>num</th>\n",
              "      <td>0</td>\n",
              "    </tr>\n",
              "    <tr>\n",
              "      <th>side</th>\n",
              "      <td>0</td>\n",
              "    </tr>\n",
              "  </tbody>\n",
              "</table>\n",
              "</div><br><label><b>dtype:</b> int64</label>"
            ]
          },
          "metadata": {},
          "execution_count": 10
        }
      ]
    },
    {
      "cell_type": "markdown",
      "source": [
        "Perfect, now let's confirm that the theorised assignment of categorical and continuous variables was suitable."
      ],
      "metadata": {
        "id": "JOC1fAyetrhx"
      }
    },
    {
      "cell_type": "code",
      "source": [
        "df[['deck', 'num', 'side']].nunique()"
      ],
      "metadata": {
        "colab": {
          "base_uri": "https://localhost:8080/",
          "height": 176
        },
        "id": "ohMxXsJztYv9",
        "outputId": "e31e3ff1-5608-4540-9887-911871fc3b30"
      },
      "execution_count": null,
      "outputs": [
        {
          "output_type": "execute_result",
          "data": {
            "text/plain": [
              "deck       8\n",
              "num     1817\n",
              "side       2\n",
              "dtype: int64"
            ],
            "text/html": [
              "<div>\n",
              "<style scoped>\n",
              "    .dataframe tbody tr th:only-of-type {\n",
              "        vertical-align: middle;\n",
              "    }\n",
              "\n",
              "    .dataframe tbody tr th {\n",
              "        vertical-align: top;\n",
              "    }\n",
              "\n",
              "    .dataframe thead th {\n",
              "        text-align: right;\n",
              "    }\n",
              "</style>\n",
              "<table border=\"1\" class=\"dataframe\">\n",
              "  <thead>\n",
              "    <tr style=\"text-align: right;\">\n",
              "      <th></th>\n",
              "      <th>0</th>\n",
              "    </tr>\n",
              "  </thead>\n",
              "  <tbody>\n",
              "    <tr>\n",
              "      <th>deck</th>\n",
              "      <td>8</td>\n",
              "    </tr>\n",
              "    <tr>\n",
              "      <th>num</th>\n",
              "      <td>1817</td>\n",
              "    </tr>\n",
              "    <tr>\n",
              "      <th>side</th>\n",
              "      <td>2</td>\n",
              "    </tr>\n",
              "  </tbody>\n",
              "</table>\n",
              "</div><br><label><b>dtype:</b> int64</label>"
            ]
          },
          "metadata": {},
          "execution_count": 11
        }
      ]
    },
    {
      "cell_type": "markdown",
      "source": [
        "Seems good! `num` has many unique values, so this will likely be better as a continuous variable."
      ],
      "metadata": {
        "id": "2Zo_MJhCtwdS"
      }
    },
    {
      "cell_type": "code",
      "source": [
        "df['num'] = df['num'].astype(int)"
      ],
      "metadata": {
        "id": "PtNKefkBt10O"
      },
      "execution_count": null,
      "outputs": []
    },
    {
      "cell_type": "markdown",
      "source": [
        "Now I just need to finish preparing all continuous and categorical variables, since all features have been created."
      ],
      "metadata": {
        "id": "YOSMiVQ-tQk1"
      }
    },
    {
      "cell_type": "markdown",
      "source": [
        "Let's put all this preprocessing in a function."
      ],
      "metadata": {
        "id": "sd1S62BNFwRC"
      }
    },
    {
      "cell_type": "code",
      "source": [
        "def cabin_process(df):\n",
        "  df[['deck', 'num', 'side']] = df['Cabin'].str.split('/', expand=True)\n",
        "  df['num'] = df['num'].astype(int)"
      ],
      "metadata": {
        "id": "pPXdbfYbFyfr"
      },
      "execution_count": null,
      "outputs": []
    },
    {
      "cell_type": "markdown",
      "source": [
        "#### Categorical Variables"
      ],
      "metadata": {
        "id": "vdA-VTNhqZoe"
      }
    },
    {
      "cell_type": "markdown",
      "source": [
        "When creating random forests, we don't need to create dummy variables for non-numeric columns, instead just convert them to **categorical variables** with Pandas. Internally, they will be interpreted as numbers."
      ],
      "metadata": {
        "id": "MzpXQaxXg-U7"
      }
    },
    {
      "cell_type": "code",
      "source": [
        "categories = ['with_group', 'HomePlanet', 'Destination', 'CryoSleep', 'VIP', 'deck', 'side']\n",
        "def categorical(df):\n",
        "  for c in categories:\n",
        "    df[c] = pd.Categorical(df[c])\n",
        "\n",
        "categorical(df)\n",
        "df[categories]"
      ],
      "metadata": {
        "colab": {
          "base_uri": "https://localhost:8080/",
          "height": 419
        },
        "id": "7zxBUj9wgSLW",
        "outputId": "894ab424-2ade-4513-906a-3786b7a8035d"
      },
      "execution_count": null,
      "outputs": [
        {
          "output_type": "execute_result",
          "data": {
            "text/plain": [
              "     with_group HomePlanet    Destination CryoSleep    VIP deck side\n",
              "0             0     Europa    TRAPPIST-1e     False  False    B    P\n",
              "1             0      Earth    TRAPPIST-1e     False  False    F    S\n",
              "2             1     Europa    TRAPPIST-1e     False   True    A    S\n",
              "3             1     Europa    TRAPPIST-1e     False  False    A    S\n",
              "4             0      Earth    TRAPPIST-1e     False  False    F    S\n",
              "...         ...        ...            ...       ...    ...  ...  ...\n",
              "8688          0     Europa    55 Cancri e     False   True    A    P\n",
              "8689          0      Earth  PSO J318.5-22      True  False    G    S\n",
              "8690          0      Earth    TRAPPIST-1e     False  False    G    S\n",
              "8691          1     Europa    55 Cancri e     False  False    E    S\n",
              "8692          1     Europa    TRAPPIST-1e     False  False    E    S\n",
              "\n",
              "[8693 rows x 7 columns]"
            ],
            "text/html": [
              "\n",
              "  <div id=\"df-7705d96b-3e8c-410c-a39b-3173321376b6\" class=\"colab-df-container\">\n",
              "    <div>\n",
              "<style scoped>\n",
              "    .dataframe tbody tr th:only-of-type {\n",
              "        vertical-align: middle;\n",
              "    }\n",
              "\n",
              "    .dataframe tbody tr th {\n",
              "        vertical-align: top;\n",
              "    }\n",
              "\n",
              "    .dataframe thead th {\n",
              "        text-align: right;\n",
              "    }\n",
              "</style>\n",
              "<table border=\"1\" class=\"dataframe\">\n",
              "  <thead>\n",
              "    <tr style=\"text-align: right;\">\n",
              "      <th></th>\n",
              "      <th>with_group</th>\n",
              "      <th>HomePlanet</th>\n",
              "      <th>Destination</th>\n",
              "      <th>CryoSleep</th>\n",
              "      <th>VIP</th>\n",
              "      <th>deck</th>\n",
              "      <th>side</th>\n",
              "    </tr>\n",
              "  </thead>\n",
              "  <tbody>\n",
              "    <tr>\n",
              "      <th>0</th>\n",
              "      <td>0</td>\n",
              "      <td>Europa</td>\n",
              "      <td>TRAPPIST-1e</td>\n",
              "      <td>False</td>\n",
              "      <td>False</td>\n",
              "      <td>B</td>\n",
              "      <td>P</td>\n",
              "    </tr>\n",
              "    <tr>\n",
              "      <th>1</th>\n",
              "      <td>0</td>\n",
              "      <td>Earth</td>\n",
              "      <td>TRAPPIST-1e</td>\n",
              "      <td>False</td>\n",
              "      <td>False</td>\n",
              "      <td>F</td>\n",
              "      <td>S</td>\n",
              "    </tr>\n",
              "    <tr>\n",
              "      <th>2</th>\n",
              "      <td>1</td>\n",
              "      <td>Europa</td>\n",
              "      <td>TRAPPIST-1e</td>\n",
              "      <td>False</td>\n",
              "      <td>True</td>\n",
              "      <td>A</td>\n",
              "      <td>S</td>\n",
              "    </tr>\n",
              "    <tr>\n",
              "      <th>3</th>\n",
              "      <td>1</td>\n",
              "      <td>Europa</td>\n",
              "      <td>TRAPPIST-1e</td>\n",
              "      <td>False</td>\n",
              "      <td>False</td>\n",
              "      <td>A</td>\n",
              "      <td>S</td>\n",
              "    </tr>\n",
              "    <tr>\n",
              "      <th>4</th>\n",
              "      <td>0</td>\n",
              "      <td>Earth</td>\n",
              "      <td>TRAPPIST-1e</td>\n",
              "      <td>False</td>\n",
              "      <td>False</td>\n",
              "      <td>F</td>\n",
              "      <td>S</td>\n",
              "    </tr>\n",
              "    <tr>\n",
              "      <th>...</th>\n",
              "      <td>...</td>\n",
              "      <td>...</td>\n",
              "      <td>...</td>\n",
              "      <td>...</td>\n",
              "      <td>...</td>\n",
              "      <td>...</td>\n",
              "      <td>...</td>\n",
              "    </tr>\n",
              "    <tr>\n",
              "      <th>8688</th>\n",
              "      <td>0</td>\n",
              "      <td>Europa</td>\n",
              "      <td>55 Cancri e</td>\n",
              "      <td>False</td>\n",
              "      <td>True</td>\n",
              "      <td>A</td>\n",
              "      <td>P</td>\n",
              "    </tr>\n",
              "    <tr>\n",
              "      <th>8689</th>\n",
              "      <td>0</td>\n",
              "      <td>Earth</td>\n",
              "      <td>PSO J318.5-22</td>\n",
              "      <td>True</td>\n",
              "      <td>False</td>\n",
              "      <td>G</td>\n",
              "      <td>S</td>\n",
              "    </tr>\n",
              "    <tr>\n",
              "      <th>8690</th>\n",
              "      <td>0</td>\n",
              "      <td>Earth</td>\n",
              "      <td>TRAPPIST-1e</td>\n",
              "      <td>False</td>\n",
              "      <td>False</td>\n",
              "      <td>G</td>\n",
              "      <td>S</td>\n",
              "    </tr>\n",
              "    <tr>\n",
              "      <th>8691</th>\n",
              "      <td>1</td>\n",
              "      <td>Europa</td>\n",
              "      <td>55 Cancri e</td>\n",
              "      <td>False</td>\n",
              "      <td>False</td>\n",
              "      <td>E</td>\n",
              "      <td>S</td>\n",
              "    </tr>\n",
              "    <tr>\n",
              "      <th>8692</th>\n",
              "      <td>1</td>\n",
              "      <td>Europa</td>\n",
              "      <td>TRAPPIST-1e</td>\n",
              "      <td>False</td>\n",
              "      <td>False</td>\n",
              "      <td>E</td>\n",
              "      <td>S</td>\n",
              "    </tr>\n",
              "  </tbody>\n",
              "</table>\n",
              "<p>8693 rows × 7 columns</p>\n",
              "</div>\n",
              "    <div class=\"colab-df-buttons\">\n",
              "\n",
              "  <div class=\"colab-df-container\">\n",
              "    <button class=\"colab-df-convert\" onclick=\"convertToInteractive('df-7705d96b-3e8c-410c-a39b-3173321376b6')\"\n",
              "            title=\"Convert this dataframe to an interactive table.\"\n",
              "            style=\"display:none;\">\n",
              "\n",
              "  <svg xmlns=\"http://www.w3.org/2000/svg\" height=\"24px\" viewBox=\"0 -960 960 960\">\n",
              "    <path d=\"M120-120v-720h720v720H120Zm60-500h600v-160H180v160Zm220 220h160v-160H400v160Zm0 220h160v-160H400v160ZM180-400h160v-160H180v160Zm440 0h160v-160H620v160ZM180-180h160v-160H180v160Zm440 0h160v-160H620v160Z\"/>\n",
              "  </svg>\n",
              "    </button>\n",
              "\n",
              "  <style>\n",
              "    .colab-df-container {\n",
              "      display:flex;\n",
              "      gap: 12px;\n",
              "    }\n",
              "\n",
              "    .colab-df-convert {\n",
              "      background-color: #E8F0FE;\n",
              "      border: none;\n",
              "      border-radius: 50%;\n",
              "      cursor: pointer;\n",
              "      display: none;\n",
              "      fill: #1967D2;\n",
              "      height: 32px;\n",
              "      padding: 0 0 0 0;\n",
              "      width: 32px;\n",
              "    }\n",
              "\n",
              "    .colab-df-convert:hover {\n",
              "      background-color: #E2EBFA;\n",
              "      box-shadow: 0px 1px 2px rgba(60, 64, 67, 0.3), 0px 1px 3px 1px rgba(60, 64, 67, 0.15);\n",
              "      fill: #174EA6;\n",
              "    }\n",
              "\n",
              "    .colab-df-buttons div {\n",
              "      margin-bottom: 4px;\n",
              "    }\n",
              "\n",
              "    [theme=dark] .colab-df-convert {\n",
              "      background-color: #3B4455;\n",
              "      fill: #D2E3FC;\n",
              "    }\n",
              "\n",
              "    [theme=dark] .colab-df-convert:hover {\n",
              "      background-color: #434B5C;\n",
              "      box-shadow: 0px 1px 3px 1px rgba(0, 0, 0, 0.15);\n",
              "      filter: drop-shadow(0px 1px 2px rgba(0, 0, 0, 0.3));\n",
              "      fill: #FFFFFF;\n",
              "    }\n",
              "  </style>\n",
              "\n",
              "    <script>\n",
              "      const buttonEl =\n",
              "        document.querySelector('#df-7705d96b-3e8c-410c-a39b-3173321376b6 button.colab-df-convert');\n",
              "      buttonEl.style.display =\n",
              "        google.colab.kernel.accessAllowed ? 'block' : 'none';\n",
              "\n",
              "      async function convertToInteractive(key) {\n",
              "        const element = document.querySelector('#df-7705d96b-3e8c-410c-a39b-3173321376b6');\n",
              "        const dataTable =\n",
              "          await google.colab.kernel.invokeFunction('convertToInteractive',\n",
              "                                                    [key], {});\n",
              "        if (!dataTable) return;\n",
              "\n",
              "        const docLinkHtml = 'Like what you see? Visit the ' +\n",
              "          '<a target=\"_blank\" href=https://colab.research.google.com/notebooks/data_table.ipynb>data table notebook</a>'\n",
              "          + ' to learn more about interactive tables.';\n",
              "        element.innerHTML = '';\n",
              "        dataTable['output_type'] = 'display_data';\n",
              "        await google.colab.output.renderOutput(dataTable, element);\n",
              "        const docLink = document.createElement('div');\n",
              "        docLink.innerHTML = docLinkHtml;\n",
              "        element.appendChild(docLink);\n",
              "      }\n",
              "    </script>\n",
              "  </div>\n",
              "\n",
              "\n",
              "<div id=\"df-cbbbb137-655d-441c-b515-05d2805b97aa\">\n",
              "  <button class=\"colab-df-quickchart\" onclick=\"quickchart('df-cbbbb137-655d-441c-b515-05d2805b97aa')\"\n",
              "            title=\"Suggest charts\"\n",
              "            style=\"display:none;\">\n",
              "\n",
              "<svg xmlns=\"http://www.w3.org/2000/svg\" height=\"24px\"viewBox=\"0 0 24 24\"\n",
              "     width=\"24px\">\n",
              "    <g>\n",
              "        <path d=\"M19 3H5c-1.1 0-2 .9-2 2v14c0 1.1.9 2 2 2h14c1.1 0 2-.9 2-2V5c0-1.1-.9-2-2-2zM9 17H7v-7h2v7zm4 0h-2V7h2v10zm4 0h-2v-4h2v4z\"/>\n",
              "    </g>\n",
              "</svg>\n",
              "  </button>\n",
              "\n",
              "<style>\n",
              "  .colab-df-quickchart {\n",
              "      --bg-color: #E8F0FE;\n",
              "      --fill-color: #1967D2;\n",
              "      --hover-bg-color: #E2EBFA;\n",
              "      --hover-fill-color: #174EA6;\n",
              "      --disabled-fill-color: #AAA;\n",
              "      --disabled-bg-color: #DDD;\n",
              "  }\n",
              "\n",
              "  [theme=dark] .colab-df-quickchart {\n",
              "      --bg-color: #3B4455;\n",
              "      --fill-color: #D2E3FC;\n",
              "      --hover-bg-color: #434B5C;\n",
              "      --hover-fill-color: #FFFFFF;\n",
              "      --disabled-bg-color: #3B4455;\n",
              "      --disabled-fill-color: #666;\n",
              "  }\n",
              "\n",
              "  .colab-df-quickchart {\n",
              "    background-color: var(--bg-color);\n",
              "    border: none;\n",
              "    border-radius: 50%;\n",
              "    cursor: pointer;\n",
              "    display: none;\n",
              "    fill: var(--fill-color);\n",
              "    height: 32px;\n",
              "    padding: 0;\n",
              "    width: 32px;\n",
              "  }\n",
              "\n",
              "  .colab-df-quickchart:hover {\n",
              "    background-color: var(--hover-bg-color);\n",
              "    box-shadow: 0 1px 2px rgba(60, 64, 67, 0.3), 0 1px 3px 1px rgba(60, 64, 67, 0.15);\n",
              "    fill: var(--button-hover-fill-color);\n",
              "  }\n",
              "\n",
              "  .colab-df-quickchart-complete:disabled,\n",
              "  .colab-df-quickchart-complete:disabled:hover {\n",
              "    background-color: var(--disabled-bg-color);\n",
              "    fill: var(--disabled-fill-color);\n",
              "    box-shadow: none;\n",
              "  }\n",
              "\n",
              "  .colab-df-spinner {\n",
              "    border: 2px solid var(--fill-color);\n",
              "    border-color: transparent;\n",
              "    border-bottom-color: var(--fill-color);\n",
              "    animation:\n",
              "      spin 1s steps(1) infinite;\n",
              "  }\n",
              "\n",
              "  @keyframes spin {\n",
              "    0% {\n",
              "      border-color: transparent;\n",
              "      border-bottom-color: var(--fill-color);\n",
              "      border-left-color: var(--fill-color);\n",
              "    }\n",
              "    20% {\n",
              "      border-color: transparent;\n",
              "      border-left-color: var(--fill-color);\n",
              "      border-top-color: var(--fill-color);\n",
              "    }\n",
              "    30% {\n",
              "      border-color: transparent;\n",
              "      border-left-color: var(--fill-color);\n",
              "      border-top-color: var(--fill-color);\n",
              "      border-right-color: var(--fill-color);\n",
              "    }\n",
              "    40% {\n",
              "      border-color: transparent;\n",
              "      border-right-color: var(--fill-color);\n",
              "      border-top-color: var(--fill-color);\n",
              "    }\n",
              "    60% {\n",
              "      border-color: transparent;\n",
              "      border-right-color: var(--fill-color);\n",
              "    }\n",
              "    80% {\n",
              "      border-color: transparent;\n",
              "      border-right-color: var(--fill-color);\n",
              "      border-bottom-color: var(--fill-color);\n",
              "    }\n",
              "    90% {\n",
              "      border-color: transparent;\n",
              "      border-bottom-color: var(--fill-color);\n",
              "    }\n",
              "  }\n",
              "</style>\n",
              "\n",
              "  <script>\n",
              "    async function quickchart(key) {\n",
              "      const quickchartButtonEl =\n",
              "        document.querySelector('#' + key + ' button');\n",
              "      quickchartButtonEl.disabled = true;  // To prevent multiple clicks.\n",
              "      quickchartButtonEl.classList.add('colab-df-spinner');\n",
              "      try {\n",
              "        const charts = await google.colab.kernel.invokeFunction(\n",
              "            'suggestCharts', [key], {});\n",
              "      } catch (error) {\n",
              "        console.error('Error during call to suggestCharts:', error);\n",
              "      }\n",
              "      quickchartButtonEl.classList.remove('colab-df-spinner');\n",
              "      quickchartButtonEl.classList.add('colab-df-quickchart-complete');\n",
              "    }\n",
              "    (() => {\n",
              "      let quickchartButtonEl =\n",
              "        document.querySelector('#df-cbbbb137-655d-441c-b515-05d2805b97aa button');\n",
              "      quickchartButtonEl.style.display =\n",
              "        google.colab.kernel.accessAllowed ? 'block' : 'none';\n",
              "    })();\n",
              "  </script>\n",
              "</div>\n",
              "\n",
              "    </div>\n",
              "  </div>\n"
            ],
            "application/vnd.google.colaboratory.intrinsic+json": {
              "type": "dataframe",
              "summary": "{\n  \"name\": \"df[categories]\",\n  \"rows\": 8693,\n  \"fields\": [\n    {\n      \"column\": \"with_group\",\n      \"properties\": {\n        \"dtype\": \"category\",\n        \"num_unique_values\": 2,\n        \"samples\": [\n          1,\n          0\n        ],\n        \"semantic_type\": \"\",\n        \"description\": \"\"\n      }\n    },\n    {\n      \"column\": \"HomePlanet\",\n      \"properties\": {\n        \"dtype\": \"category\",\n        \"num_unique_values\": 3,\n        \"samples\": [\n          \"Europa\",\n          \"Earth\"\n        ],\n        \"semantic_type\": \"\",\n        \"description\": \"\"\n      }\n    },\n    {\n      \"column\": \"Destination\",\n      \"properties\": {\n        \"dtype\": \"category\",\n        \"num_unique_values\": 3,\n        \"samples\": [\n          \"TRAPPIST-1e\",\n          \"PSO J318.5-22\"\n        ],\n        \"semantic_type\": \"\",\n        \"description\": \"\"\n      }\n    },\n    {\n      \"column\": \"CryoSleep\",\n      \"properties\": {\n        \"dtype\": \"category\",\n        \"num_unique_values\": 2,\n        \"samples\": [\n          true,\n          false\n        ],\n        \"semantic_type\": \"\",\n        \"description\": \"\"\n      }\n    },\n    {\n      \"column\": \"VIP\",\n      \"properties\": {\n        \"dtype\": \"category\",\n        \"num_unique_values\": 2,\n        \"samples\": [\n          true,\n          false\n        ],\n        \"semantic_type\": \"\",\n        \"description\": \"\"\n      }\n    },\n    {\n      \"column\": \"deck\",\n      \"properties\": {\n        \"dtype\": \"category\",\n        \"num_unique_values\": 8,\n        \"samples\": [\n          \"F\",\n          \"D\"\n        ],\n        \"semantic_type\": \"\",\n        \"description\": \"\"\n      }\n    },\n    {\n      \"column\": \"side\",\n      \"properties\": {\n        \"dtype\": \"category\",\n        \"num_unique_values\": 2,\n        \"samples\": [\n          \"S\",\n          \"P\"\n        ],\n        \"semantic_type\": \"\",\n        \"description\": \"\"\n      }\n    }\n  ]\n}"
            }
          },
          "metadata": {},
          "execution_count": 14
        }
      ]
    },
    {
      "cell_type": "markdown",
      "source": [
        "#### Continuous Variables"
      ],
      "metadata": {
        "id": "gcBKh7o2rTQQ"
      }
    },
    {
      "cell_type": "markdown",
      "source": [
        "The continuous variables should be all in numeric format, but we will confirm that and we should be ready!\n",
        "\n",
        "The great thing about random forests is that we do not need to worry about transforming and normalising continuous variables. Because binary splits (discussed more below) are not dependent on the scale of range of a feature they are **not impacted by outliers**."
      ],
      "metadata": {
        "id": "p4rVi3hXugyJ"
      }
    },
    {
      "cell_type": "code",
      "source": [
        "cont = ['Age', 'RoomService', 'FoodCourt', 'ShoppingMall', 'Spa', 'VRDeck', 'num']\n",
        "df[cont].dtypes"
      ],
      "metadata": {
        "colab": {
          "base_uri": "https://localhost:8080/",
          "height": 300
        },
        "id": "rn-6ORQDu0T4",
        "outputId": "3aa21064-c0b7-429b-d223-d8a050abf36e"
      },
      "execution_count": null,
      "outputs": [
        {
          "output_type": "execute_result",
          "data": {
            "text/plain": [
              "Age             float64\n",
              "RoomService     float64\n",
              "FoodCourt       float64\n",
              "ShoppingMall    float64\n",
              "Spa             float64\n",
              "VRDeck          float64\n",
              "num               int64\n",
              "dtype: object"
            ],
            "text/html": [
              "<div>\n",
              "<style scoped>\n",
              "    .dataframe tbody tr th:only-of-type {\n",
              "        vertical-align: middle;\n",
              "    }\n",
              "\n",
              "    .dataframe tbody tr th {\n",
              "        vertical-align: top;\n",
              "    }\n",
              "\n",
              "    .dataframe thead th {\n",
              "        text-align: right;\n",
              "    }\n",
              "</style>\n",
              "<table border=\"1\" class=\"dataframe\">\n",
              "  <thead>\n",
              "    <tr style=\"text-align: right;\">\n",
              "      <th></th>\n",
              "      <th>0</th>\n",
              "    </tr>\n",
              "  </thead>\n",
              "  <tbody>\n",
              "    <tr>\n",
              "      <th>Age</th>\n",
              "      <td>float64</td>\n",
              "    </tr>\n",
              "    <tr>\n",
              "      <th>RoomService</th>\n",
              "      <td>float64</td>\n",
              "    </tr>\n",
              "    <tr>\n",
              "      <th>FoodCourt</th>\n",
              "      <td>float64</td>\n",
              "    </tr>\n",
              "    <tr>\n",
              "      <th>ShoppingMall</th>\n",
              "      <td>float64</td>\n",
              "    </tr>\n",
              "    <tr>\n",
              "      <th>Spa</th>\n",
              "      <td>float64</td>\n",
              "    </tr>\n",
              "    <tr>\n",
              "      <th>VRDeck</th>\n",
              "      <td>float64</td>\n",
              "    </tr>\n",
              "    <tr>\n",
              "      <th>num</th>\n",
              "      <td>int64</td>\n",
              "    </tr>\n",
              "  </tbody>\n",
              "</table>\n",
              "</div><br><label><b>dtype:</b> object</label>"
            ]
          },
          "metadata": {},
          "execution_count": 15
        }
      ]
    },
    {
      "cell_type": "markdown",
      "source": [
        "#### Finalising"
      ],
      "metadata": {
        "id": "ACYqflqkrVij"
      }
    },
    {
      "cell_type": "markdown",
      "source": [
        "Now, I want to put all of the feature engineering into a single function - this will make it easy to perform on the test set."
      ],
      "metadata": {
        "id": "z0zyuhqVus7x"
      }
    },
    {
      "cell_type": "code",
      "source": [
        "def preprocessing(df):\n",
        "  # deal with missing values\n",
        "  for col in df.columns:\n",
        "    df[col] = df[col].fillna(df[col].mode()[0])\n",
        "\n",
        "  # deal with passsenger id and cabin columns\n",
        "  process_passenger_id(df)\n",
        "  cabin_process(df)\n",
        "\n",
        "  # mark categorical variables\n",
        "  categorical(df)"
      ],
      "metadata": {
        "id": "tuo-GAKBvaJW"
      },
      "execution_count": null,
      "outputs": []
    },
    {
      "cell_type": "markdown",
      "source": [
        "## Creating Model"
      ],
      "metadata": {
        "id": "xXr00dNQGRNQ"
      }
    },
    {
      "cell_type": "markdown",
      "source": [
        "### Binary Splits"
      ],
      "metadata": {
        "id": "LEK8v8ioOFju"
      }
    },
    {
      "cell_type": "markdown",
      "source": [
        "To create the random forest, we will use `scikit-learn` which is a Python library focusing on (generally) classical, not deep learning machine learning techniques.\n",
        "\n",
        "However, to build our understanding, let's start by building a **binary split**, which predicts our target based only on `CryoSleep`.\n",
        "\n",
        "> It's important to understand that a random forest is built from a series of **decision trees** and decision trees are built from a series of **binary splits**.\n",
        "\n",
        "A binary split is where all rows are placed into one of two groups based on their value in some column. With a binary split, we are aiming to use a single feature to split the group based on their target variable.\n",
        "\n"
      ],
      "metadata": {
        "id": "KKuOnzvTIAtz"
      }
    },
    {
      "cell_type": "code",
      "source": [
        "import seaborn as sns\n",
        "\n",
        "fig,axs = plt.subplots(1,2, figsize=(11,5))\n",
        "sns.barplot(data=df, y=\"Transported\", x=\"CryoSleep\", ax=axs[0]).set(title=\"Alternate Dimension\")\n",
        "sns.countplot(data=df, x=\"CryoSleep\", ax=axs[1]).set(title=\"Histogram\")"
      ],
      "metadata": {
        "colab": {
          "base_uri": "https://localhost:8080/",
          "height": 429
        },
        "id": "CAQ9brFpISyW",
        "outputId": "a9328f25-982f-4f48-8d37-863f61d94e54"
      },
      "execution_count": null,
      "outputs": [
        {
          "output_type": "execute_result",
          "data": {
            "text/plain": [
              "[Text(0.5, 1.0, 'Histogram')]"
            ]
          },
          "metadata": {},
          "execution_count": 17
        },
        {
          "output_type": "display_data",
          "data": {
            "text/plain": [
              "<Figure size 1100x500 with 2 Axes>"
            ],
            "image/png": "[encoded data removed]"
          },
          "metadata": {}
        }
      ]
    },
    {
      "cell_type": "markdown",
      "source": [
        "We can see that `CryoSleep` is a reasonably good predictor or whether a person was launched into an alternate dimension. People who were in CryoSleep have a much higher chance of being `Transported`.\n",
        "\n",
        "Let's build a very simple binary split model and see how well we are performing by splitting based on the value of `CryoSleep`."
      ],
      "metadata": {
        "id": "F7nWWEC3Jdzt"
      }
    },
    {
      "cell_type": "markdown",
      "source": [
        "First, we need to split our data into a training and validation set, which will do using a random split from scikit-learn. We also need to encode all our categorical variables, as we cannot split based on a threshold unless the values are numerical."
      ],
      "metadata": {
        "id": "DiLS8lQ1dSaJ"
      }
    },
    {
      "cell_type": "code",
      "source": [
        "from sklearn.model_selection import train_test_split\n",
        "\n",
        "trn_df, val_df = train_test_split(df, test_size=0.25) # random split\n",
        "\n",
        "def xs_y(df):\n",
        "  \"\"\"Separates feature columns and the target column\"\"\"\n",
        "  xs = df[categories+cont].copy()\n",
        "  return xs,df[\"Transported\"] if \"Transported\" in df else None\n",
        "\n",
        "trn_df[categories] = trn_df[categories].apply(lambda x: x.cat.codes) # encode categorical variables\n",
        "val_df[categories] = val_df[categories].apply(lambda x: x.cat.codes) # encode categorical variables\n",
        "\n",
        "trn_x, trn_y = xs_y(trn_df) # split predictors and target\n",
        "val_x, val_y = xs_y(val_df) # split predictors and target"
      ],
      "metadata": {
        "id": "JVgcTfKcdXIX"
      },
      "execution_count": null,
      "outputs": []
    },
    {
      "cell_type": "markdown",
      "source": [
        "Now, we can make our predictions based on whether `CryoSleep` is equal to `0` or not for each row."
      ],
      "metadata": {
        "id": "RorAHxyJeOjN"
      }
    },
    {
      "cell_type": "code",
      "source": [
        "preds = val_x.CryoSleep == 0\n",
        "\n",
        "from sklearn.metrics import mean_absolute_error\n",
        "mean_absolute_error(val_y, preds)"
      ],
      "metadata": {
        "colab": {
          "base_uri": "https://localhost:8080/"
        },
        "id": "n0zxSW6GJaAj",
        "outputId": "3002b415-d7fb-411d-f8b9-fc730bc00950"
      },
      "execution_count": null,
      "outputs": [
        {
          "output_type": "execute_result",
          "data": {
            "text/plain": [
              "0.7286108555657773"
            ]
          },
          "metadata": {},
          "execution_count": 19
        }
      ]
    },
    {
      "cell_type": "markdown",
      "source": [
        "This was a nice try, but we can definitely improve on this score!\n",
        "\n",
        "We could manually try each variable and find a suitable split point for each, then work out which variable will perform the best binary split; however, it will be much faster and more accurate to automate this!\n",
        "\n",
        "Instead of using the mean absolute error we will calculate **impurity** - how much the binary split creates two groups where the rows in a group are similar to each other or dissimilar."
      ],
      "metadata": {
        "id": "-vEp6jmpLWyx"
      }
    },
    {
      "cell_type": "code",
      "source": [
        "def _side_score(side, y):\n",
        "  \"\"\"Calculates a score one side of a split.\"\"\"\n",
        "  tot = side.sum() # total number of samples on this side of the split\n",
        "  if tot <= 1: # a split with very few samples isn't meaningfu\n",
        "    return 0\n",
        "  return y[side].std()*tot # selects the target values corresponding with True and computes the std.dev of the target values on this side\n",
        "\n",
        "def score(col, y, split):\n",
        "  \"\"\"Calculates the combined score for a split on col at the value split.\"\"\"\n",
        "  lhs = col <= split # creates a boolean mask lhs, where each element is True if the feature is less than or equal to the split threshold\n",
        "  return (_side_score(lhs, y) + _side_score(~lhs, y)) / len(y) # return the total weighted score and normalizes it by dividing by total number of samples"
      ],
      "metadata": {
        "id": "dqjReyqZKSLE"
      },
      "execution_count": null,
      "outputs": []
    },
    {
      "cell_type": "code",
      "source": [
        "def min_col(df, nm):\n",
        "  \"\"\"Determines the best split for the feature nm in the dataset df\"\"\"\n",
        "  col, y = df[nm], df[\"Transported\"] # feature values and target values\n",
        "  unq = col.dropna().unique() # unq will define the unique values (potential split points)\n",
        "  scores = np.array([score(col, y, o) for o in unq if not np.isnan(o)]) # for each possible split, calculate the score\n",
        "  idx = scores.argmin() # choose the minimum score for the best split\n",
        "  return unq[idx], scores[idx] # return the split and corresponding score"
      ],
      "metadata": {
        "id": "e8fwSL4GMNvX"
      },
      "execution_count": null,
      "outputs": []
    },
    {
      "cell_type": "code",
      "source": [
        "cols = categories + cont # all features\n",
        "{o:min_col(trn_df, o) for o in cols} # calculate best split for each feature"
      ],
      "metadata": {
        "colab": {
          "base_uri": "https://localhost:8080/"
        },
        "id": "37d4oAO0NiRM",
        "outputId": "e96606f7-8413-4045-9638-f1043ef355eb"
      },
      "execution_count": null,
      "outputs": [
        {
          "output_type": "execute_result",
          "data": {
            "text/plain": [
              "{'with_group': (0, 0.49687787103052483),\n",
              " 'HomePlanet': (0, 0.49369197805627746),\n",
              " 'Destination': (0, 0.4970698138435883),\n",
              " 'CryoSleep': (0, 0.44452147658329705),\n",
              " 'VIP': (0, 0.49977907074821915),\n",
              " 'deck': (2, 0.4924604694707867),\n",
              " 'side': (0, 0.49740110027125),\n",
              " 'Age': (6.0, 0.49602883417183485),\n",
              " 'RoomService': (0.0, 0.46949946967167255),\n",
              " 'FoodCourt': (0.0, 0.4868389369179063),\n",
              " 'ShoppingMall': (0.0, 0.48203927195465013),\n",
              " 'Spa': (0.0, 0.4691757901041471),\n",
              " 'VRDeck': (0.0, 0.4728771280652429),\n",
              " 'num': (1186, 0.4987450638148463)}"
            ]
          },
          "metadata": {},
          "execution_count": 22
        }
      ]
    },
    {
      "cell_type": "markdown",
      "source": [
        "We've created what is essentially a **OneR classifier**.\n",
        "\n",
        "It's worth pointing out that the OneR classifier is a fantastic **baseline model**, as it is simple and surprisingly effective. It is a good place to use as a starting point to compare more sophisticated models to."
      ],
      "metadata": {
        "id": "9WPioXMpPDeN"
      }
    },
    {
      "cell_type": "markdown",
      "source": [
        "### Decision Trees"
      ],
      "metadata": {
        "id": "nR0nKRWAOITx"
      }
    },
    {
      "cell_type": "markdown",
      "source": [
        "Now that we understand how binary splits work, it is significantly easier to understand **decision trees**. Decision trees are a series of binary splits, that gradually take the data and split into increasingly small subsets. Eventually, the leaf nodes of the decision tree will represent our final predictions."
      ],
      "metadata": {
        "id": "yKzruKShOQdN"
      }
    },
    {
      "cell_type": "markdown",
      "source": [
        "First, we will define a function to draw the tree, so we can inspect it. This code is courtesy of the following Kaggle notebook I have used for this entire project: [How Random Forests Really Work](https://www.kaggle.com/code/jhoward/how-random-forests-really-work#The-random-forest)."
      ],
      "metadata": {
        "id": "_vTJMq7bY9et"
      }
    },
    {
      "cell_type": "code",
      "source": [
        "import graphviz # used to visualise decision trees\n",
        "\n",
        "def draw_tree(t, df, size=10, ratio=0.6, precision=0, **kwargs):\n",
        "  \"\"\"This function is designed to draw the decision tree\"\"\"\n",
        "  s = export_graphviz(t,\n",
        "                      out_file=None,\n",
        "                      feature_names=cols,\n",
        "                      filled=True,\n",
        "                      special_characters=True,\n",
        "                      rotate=True,\n",
        "                      precision=precision,\n",
        "                      **kwargs\n",
        ")\n",
        "  return graphviz.Source(re.sub('Tree {', f'Tree {{ size={size}; ratio={ratio}', s))"
      ],
      "metadata": {
        "id": "N3_5rf5tPy71"
      },
      "execution_count": null,
      "outputs": []
    },
    {
      "cell_type": "markdown",
      "source": [
        "Now we can import the `DecisionTreeClassifier` from scikit-learn and use it to create a **decision tree**. We use the predefined training data to fit the model, and we can visualise it using our `draw_tree()` function."
      ],
      "metadata": {
        "id": "TzY0JFFPZJ6z"
      }
    },
    {
      "cell_type": "code",
      "source": [
        "from sklearn.tree import DecisionTreeClassifier, export_graphviz\n",
        "\n",
        "m = DecisionTreeClassifier(min_samples_leaf=50) # creates a decision tree model\n",
        "m.fit(trn_x, trn_y)\n",
        "draw_tree(m, trn_x, size=12)"
      ],
      "metadata": {
        "colab": {
          "base_uri": "https://localhost:8080/",
          "height": 733
        },
        "id": "dy921ktIPfsj",
        "outputId": "0ec35762-f2a3-4229-81fd-7fc5c8444d54"
      },
      "execution_count": null,
      "outputs": [
        {
          "output_type": "execute_result",
          "data": {
            "image/svg+xml": "<?xml version=\"1.0\" encoding=\"UTF-8\" standalone=\"no\"?>\n<!DOCTYPE svg PUBLIC \"-//W3C//DTD SVG 1.1//EN\"\n \"http://www.w3.org/Graphics/SVG/1.1/DTD/svg11.dtd\">\n<!-- Generated by graphviz version 2.43.0 (0)\n -->\n<!-- Title: Tree Pages: 1 -->\n<svg width=\"864pt\" height=\"519pt\"\n viewBox=\"0.00 0.00 864.00 518.90\" xmlns=\"http://www.w3.org/2000/svg\" xmlns:xlink=\"http://www.w3.org/1999/xlink\">\n<g id=\"graph0\" class=\"graph\" transform=\"scale(0.16 0.16) rotate(0) translate(4 3301)\">\n<title>Tree</title>\n<polygon fill=\"white\" stroke=\"transparent\" points=\"-4,4 -4,-3301 5499,-3301 5499,4 -4,4\"/>\n<!-- 0 -->\n<g id=\"node1\" class=\"node\">\n<title>0</title>\n<polygon fill=\"#fdfeff\" stroke=\"black\" points=\"226,-1278.5 86,-1278.5 86,-1210.5 226,-1210.5 226,-1278.5\"/>\n<text text-anchor=\"start\" x=\"107.5\" y=\"-1263.3\" font-family=\"Helvetica,sans-Serif\" font-size=\"14.00\">CryoSleep ≤ 0.0</text>\n<text text-anchor=\"start\" x=\"128\" y=\"-1248.3\" font-family=\"Helvetica,sans-Serif\" font-size=\"14.00\">gini = 0.0</text>\n<text text-anchor=\"start\" x=\"107.5\" y=\"-1233.3\" font-family=\"Helvetica,sans-Serif\" font-size=\"14.00\">samples = 6519</text>\n<text text-anchor=\"start\" x=\"94\" y=\"-1218.3\" font-family=\"Helvetica,sans-Serif\" font-size=\"14.00\">value = [3239, 3280]</text>\n</g>\n<!-- 1 -->\n<g id=\"node2\" class=\"node\">\n<title>1</title>\n<polygon fill=\"#f2c19d\" stroke=\"black\" points=\"630.5,-1527.5 483.5,-1527.5 483.5,-1459.5 630.5,-1459.5 630.5,-1527.5\"/>\n<text text-anchor=\"start\" x=\"491.5\" y=\"-1512.3\" font-family=\"Helvetica,sans-Serif\" font-size=\"14.00\">RoomService ≤ 343.0</text>\n<text text-anchor=\"start\" x=\"529\" y=\"-1497.3\" font-family=\"Helvetica,sans-Serif\" font-size=\"14.00\">gini = 0.0</text>\n<text text-anchor=\"start\" x=\"508.5\" y=\"-1482.3\" font-family=\"Helvetica,sans-Serif\" font-size=\"14.00\">samples = 4222</text>\n<text text-anchor=\"start\" x=\"495\" y=\"-1467.3\" font-family=\"Helvetica,sans-Serif\" font-size=\"14.00\">value = [2801, 1421]</text>\n</g>\n<!-- 0&#45;&gt;1 -->\n<g id=\"edge1\" class=\"edge\">\n<title>0&#45;&gt;1</title>\n<path fill=\"none\" stroke=\"black\" d=\"M211.64,-1278.6C285.01,-1324.39 415.09,-1405.56 492.65,-1453.97\"/>\n<polygon fill=\"black\" stroke=\"black\" points=\"491.04,-1457.09 501.38,-1459.41 494.75,-1451.15 491.04,-1457.09\"/>\n<text text-anchor=\"middle\" x=\"477.02\" y=\"-1461.35\" font-family=\"Helvetica,sans-Serif\" font-size=\"14.00\">True</text>\n</g>\n<!-- 126 -->\n<g id=\"node127\" class=\"node\">\n<title>126</title>\n<polygon fill=\"#68b4eb\" stroke=\"black\" points=\"623,-1018.5 491,-1018.5 491,-950.5 623,-950.5 623,-1018.5\"/>\n<text text-anchor=\"start\" x=\"502.5\" y=\"-1003.3\" font-family=\"Helvetica,sans-Serif\" font-size=\"14.00\">HomePlanet ≤ 0.0</text>\n<text text-anchor=\"start\" x=\"529\" y=\"-988.3\" font-family=\"Helvetica,sans-Serif\" font-size=\"14.00\">gini = 0.0</text>\n<text text-anchor=\"start\" x=\"508.5\" y=\"-973.3\" font-family=\"Helvetica,sans-Serif\" font-size=\"14.00\">samples = 2297</text>\n<text text-anchor=\"start\" x=\"499\" y=\"-958.3\" font-family=\"Helvetica,sans-Serif\" font-size=\"14.00\">value = [438, 1859]</text>\n</g>\n<!-- 0&#45;&gt;126 -->\n<g id=\"edge126\" class=\"edge\">\n<title>0&#45;&gt;126</title>\n<path fill=\"none\" stroke=\"black\" d=\"M209.57,-1210.24C283.23,-1162.24 416.86,-1075.17 494.86,-1024.34\"/>\n<polygon fill=\"black\" stroke=\"black\" points=\"497.16,-1027.02 503.63,-1018.63 493.34,-1021.15 497.16,-1027.02\"/>\n<text text-anchor=\"middle\" x=\"479.17\" y=\"-1009.77\" font-family=\"Helvetica,sans-Serif\" font-size=\"14.00\">False</text>\n</g>\n<!-- 2 -->\n<g id=\"node3\" class=\"node\">\n<title>2</title>\n<polygon fill=\"#f6d5bd\" stroke=\"black\" points=\"1028,-1899.5 888,-1899.5 888,-1831.5 1028,-1831.5 1028,-1899.5\"/>\n<text text-anchor=\"start\" x=\"921.5\" y=\"-1884.3\" font-family=\"Helvetica,sans-Serif\" font-size=\"14.00\">Spa ≤ 206.0</text>\n<text text-anchor=\"start\" x=\"930\" y=\"-1869.3\" font-family=\"Helvetica,sans-Serif\" font-size=\"14.00\">gini = 0.0</text>\n<text text-anchor=\"start\" x=\"909.5\" y=\"-1854.3\" font-family=\"Helvetica,sans-Serif\" font-size=\"14.00\">samples = 3137</text>\n<text text-anchor=\"start\" x=\"896\" y=\"-1839.3\" font-family=\"Helvetica,sans-Serif\" font-size=\"14.00\">value = [1885, 1252]</text>\n</g>\n<!-- 1&#45;&gt;2 -->\n<g id=\"edge2\" class=\"edge\">\n<title>1&#45;&gt;2</title>\n<path fill=\"none\" stroke=\"black\" d=\"M594.82,-1527.83C668.46,-1596.48 833.58,-1750.44 912.87,-1824.35\"/>\n<polygon fill=\"black\" stroke=\"black\" points=\"910.57,-1826.99 920.27,-1831.25 915.34,-1821.87 910.57,-1826.99\"/>\n</g>\n<!-- 95 -->\n<g id=\"node96\" class=\"node\">\n<title>95</title>\n<polygon fill=\"#ea985e\" stroke=\"black\" points=\"1022.5,-1527.5 893.5,-1527.5 893.5,-1459.5 1022.5,-1459.5 1022.5,-1527.5\"/>\n<text text-anchor=\"start\" x=\"901.5\" y=\"-1512.3\" font-family=\"Helvetica,sans-Serif\" font-size=\"14.00\">FoodCourt ≤ 991.0</text>\n<text text-anchor=\"start\" x=\"930\" y=\"-1497.3\" font-family=\"Helvetica,sans-Serif\" font-size=\"14.00\">gini = 0.0</text>\n<text text-anchor=\"start\" x=\"909.5\" y=\"-1482.3\" font-family=\"Helvetica,sans-Serif\" font-size=\"14.00\">samples = 1085</text>\n<text text-anchor=\"start\" x=\"903.5\" y=\"-1467.3\" font-family=\"Helvetica,sans-Serif\" font-size=\"14.00\">value = [916, 169]</text>\n</g>\n<!-- 1&#45;&gt;95 -->\n<g id=\"edge95\" class=\"edge\">\n<title>1&#45;&gt;95</title>\n<path fill=\"none\" stroke=\"black\" d=\"M630.72,-1493.5C702.27,-1493.5 810.99,-1493.5 882.99,-1493.5\"/>\n<polygon fill=\"black\" stroke=\"black\" points=\"883.33,-1497 893.33,-1493.5 883.33,-1490 883.33,-1497\"/>\n</g>\n<!-- 3 -->\n<g id=\"node4\" class=\"node\">\n<title>3</title>\n<polygon fill=\"#fffffe\" stroke=\"black\" points=\"1438,-2506.5 1298,-2506.5 1298,-2438.5 1438,-2438.5 1438,-2506.5\"/>\n<text text-anchor=\"start\" x=\"1318.5\" y=\"-2491.3\" font-family=\"Helvetica,sans-Serif\" font-size=\"14.00\">VRDeck ≤ 352.0</text>\n<text text-anchor=\"start\" x=\"1340\" y=\"-2476.3\" font-family=\"Helvetica,sans-Serif\" font-size=\"14.00\">gini = 0.0</text>\n<text text-anchor=\"start\" x=\"1319.5\" y=\"-2461.3\" font-family=\"Helvetica,sans-Serif\" font-size=\"14.00\">samples = 2094</text>\n<text text-anchor=\"start\" x=\"1306\" y=\"-2446.3\" font-family=\"Helvetica,sans-Serif\" font-size=\"14.00\">value = [1049, 1045]</text>\n</g>\n<!-- 2&#45;&gt;3 -->\n<g id=\"edge3\" class=\"edge\">\n<title>2&#45;&gt;3</title>\n<path fill=\"none\" stroke=\"black\" d=\"M982.1,-1899.87C1052.01,-2003.88 1261.18,-2315.06 1338.15,-2429.58\"/>\n<polygon fill=\"black\" stroke=\"black\" points=\"1335.41,-2431.78 1343.9,-2438.13 1341.22,-2427.88 1335.41,-2431.78\"/>\n</g>\n<!-- 66 -->\n<g id=\"node67\" class=\"node\">\n<title>66</title>\n<polygon fill=\"#eba06a\" stroke=\"black\" points=\"1436.5,-1899.5 1299.5,-1899.5 1299.5,-1831.5 1436.5,-1831.5 1436.5,-1899.5\"/>\n<text text-anchor=\"start\" x=\"1307.5\" y=\"-1884.3\" font-family=\"Helvetica,sans-Serif\" font-size=\"14.00\">FoodCourt ≤ 2580.0</text>\n<text text-anchor=\"start\" x=\"1340\" y=\"-1869.3\" font-family=\"Helvetica,sans-Serif\" font-size=\"14.00\">gini = 0.0</text>\n<text text-anchor=\"start\" x=\"1319.5\" y=\"-1854.3\" font-family=\"Helvetica,sans-Serif\" font-size=\"14.00\">samples = 1043</text>\n<text text-anchor=\"start\" x=\"1313.5\" y=\"-1839.3\" font-family=\"Helvetica,sans-Serif\" font-size=\"14.00\">value = [836, 207]</text>\n</g>\n<!-- 2&#45;&gt;66 -->\n<g id=\"edge66\" class=\"edge\">\n<title>2&#45;&gt;66</title>\n<path fill=\"none\" stroke=\"black\" d=\"M1028.21,-1865.5C1100.52,-1865.5 1213.72,-1865.5 1289.11,-1865.5\"/>\n<polygon fill=\"black\" stroke=\"black\" points=\"1289.49,-1869 1299.49,-1865.5 1289.49,-1862 1289.49,-1869\"/>\n</g>\n<!-- 4 -->\n<g id=\"node5\" class=\"node\">\n<title>4</title>\n<polygon fill=\"#b7dbf5\" stroke=\"black\" points=\"1842.5,-2711.5 1705.5,-2711.5 1705.5,-2643.5 1842.5,-2643.5 1842.5,-2711.5\"/>\n<text text-anchor=\"start\" x=\"1713.5\" y=\"-2696.3\" font-family=\"Helvetica,sans-Serif\" font-size=\"14.00\">FoodCourt ≤ 1738.0</text>\n<text text-anchor=\"start\" x=\"1746\" y=\"-2681.3\" font-family=\"Helvetica,sans-Serif\" font-size=\"14.00\">gini = 0.0</text>\n<text text-anchor=\"start\" x=\"1725.5\" y=\"-2666.3\" font-family=\"Helvetica,sans-Serif\" font-size=\"14.00\">samples = 1487</text>\n<text text-anchor=\"start\" x=\"1719.5\" y=\"-2651.3\" font-family=\"Helvetica,sans-Serif\" font-size=\"14.00\">value = [577, 910]</text>\n</g>\n<!-- 3&#45;&gt;4 -->\n<g id=\"edge4\" class=\"edge\">\n<title>3&#45;&gt;4</title>\n<path fill=\"none\" stroke=\"black\" d=\"M1436.17,-2506.58C1507.96,-2543.01 1621.59,-2600.67 1696.71,-2638.79\"/>\n<polygon fill=\"black\" stroke=\"black\" points=\"1695.17,-2641.93 1705.67,-2643.34 1698.34,-2635.69 1695.17,-2641.93\"/>\n</g>\n<!-- 49 -->\n<g id=\"node50\" class=\"node\">\n<title>49</title>\n<polygon fill=\"#eca572\" stroke=\"black\" points=\"1842.5,-2506.5 1705.5,-2506.5 1705.5,-2438.5 1842.5,-2438.5 1842.5,-2506.5\"/>\n<text text-anchor=\"start\" x=\"1713.5\" y=\"-2491.3\" font-family=\"Helvetica,sans-Serif\" font-size=\"14.00\">FoodCourt ≤ 3136.0</text>\n<text text-anchor=\"start\" x=\"1746\" y=\"-2476.3\" font-family=\"Helvetica,sans-Serif\" font-size=\"14.00\">gini = 0.0</text>\n<text text-anchor=\"start\" x=\"1729\" y=\"-2461.3\" font-family=\"Helvetica,sans-Serif\" font-size=\"14.00\">samples = 607</text>\n<text text-anchor=\"start\" x=\"1719.5\" y=\"-2446.3\" font-family=\"Helvetica,sans-Serif\" font-size=\"14.00\">value = [472, 135]</text>\n</g>\n<!-- 3&#45;&gt;49 -->\n<g id=\"edge49\" class=\"edge\">\n<title>3&#45;&gt;49</title>\n<path fill=\"none\" stroke=\"black\" d=\"M1438.45,-2472.5C1509.88,-2472.5 1620.9,-2472.5 1695.23,-2472.5\"/>\n<polygon fill=\"black\" stroke=\"black\" points=\"1695.46,-2476 1705.46,-2472.5 1695.46,-2469 1695.46,-2476\"/>\n</g>\n<!-- 5 -->\n<g id=\"node6\" class=\"node\">\n<title>5</title>\n<polygon fill=\"#c7e3f8\" stroke=\"black\" points=\"2257.5,-2834.5 2102.5,-2834.5 2102.5,-2766.5 2257.5,-2766.5 2257.5,-2834.5\"/>\n<text text-anchor=\"start\" x=\"2110.5\" y=\"-2819.3\" font-family=\"Helvetica,sans-Serif\" font-size=\"14.00\">ShoppingMall ≤ 1276.0</text>\n<text text-anchor=\"start\" x=\"2152\" y=\"-2804.3\" font-family=\"Helvetica,sans-Serif\" font-size=\"14.00\">gini = 0.0</text>\n<text text-anchor=\"start\" x=\"2131.5\" y=\"-2789.3\" font-family=\"Helvetica,sans-Serif\" font-size=\"14.00\">samples = 1370</text>\n<text text-anchor=\"start\" x=\"2114.5\" y=\"-2774.3\" font-family=\"Helvetica,sans-Serif\" font-size=\"14.00\">value = [573.0, 797.0]</text>\n</g>\n<!-- 4&#45;&gt;5 -->\n<g id=\"edge5\" class=\"edge\">\n<title>4&#45;&gt;5</title>\n<path fill=\"none\" stroke=\"black\" d=\"M1842.62,-2698.09C1911.2,-2718.97 2017.59,-2751.36 2092.32,-2774.11\"/>\n<polygon fill=\"black\" stroke=\"black\" points=\"2091.6,-2777.55 2102.19,-2777.11 2093.64,-2770.85 2091.6,-2777.55\"/>\n</g>\n<!-- 46 -->\n<g id=\"node47\" class=\"node\">\n<title>46</title>\n<polygon fill=\"#40a0e6\" stroke=\"black\" points=\"2248.5,-2711.5 2111.5,-2711.5 2111.5,-2643.5 2248.5,-2643.5 2248.5,-2711.5\"/>\n<text text-anchor=\"start\" x=\"2119.5\" y=\"-2696.3\" font-family=\"Helvetica,sans-Serif\" font-size=\"14.00\">FoodCourt ≤ 3110.0</text>\n<text text-anchor=\"start\" x=\"2152\" y=\"-2681.3\" font-family=\"Helvetica,sans-Serif\" font-size=\"14.00\">gini = 0.0</text>\n<text text-anchor=\"start\" x=\"2135\" y=\"-2666.3\" font-family=\"Helvetica,sans-Serif\" font-size=\"14.00\">samples = 117</text>\n<text text-anchor=\"start\" x=\"2133\" y=\"-2651.3\" font-family=\"Helvetica,sans-Serif\" font-size=\"14.00\">value = [4, 113]</text>\n</g>\n<!-- 4&#45;&gt;46 -->\n<g id=\"edge46\" class=\"edge\">\n<title>4&#45;&gt;46</title>\n<path fill=\"none\" stroke=\"black\" d=\"M1842.62,-2677.5C1913.95,-2677.5 2026.2,-2677.5 2101.17,-2677.5\"/>\n<polygon fill=\"black\" stroke=\"black\" points=\"2101.5,-2681 2111.5,-2677.5 2101.5,-2674 2101.5,-2681\"/>\n</g>\n<!-- 6 -->\n<g id=\"node7\" class=\"node\">\n<title>6</title>\n<polygon fill=\"#d4eaf9\" stroke=\"black\" points=\"2643.5,-2921.5 2518.5,-2921.5 2518.5,-2853.5 2643.5,-2853.5 2643.5,-2921.5\"/>\n<text text-anchor=\"start\" x=\"2552\" y=\"-2906.3\" font-family=\"Helvetica,sans-Serif\" font-size=\"14.00\">Age ≤ 8.0</text>\n<text text-anchor=\"start\" x=\"2553\" y=\"-2891.3\" font-family=\"Helvetica,sans-Serif\" font-size=\"14.00\">gini = 0.0</text>\n<text text-anchor=\"start\" x=\"2532.5\" y=\"-2876.3\" font-family=\"Helvetica,sans-Serif\" font-size=\"14.00\">samples = 1280</text>\n<text text-anchor=\"start\" x=\"2526.5\" y=\"-2861.3\" font-family=\"Helvetica,sans-Serif\" font-size=\"14.00\">value = [563, 717]</text>\n</g>\n<!-- 5&#45;&gt;6 -->\n<g id=\"edge6\" class=\"edge\">\n<title>5&#45;&gt;6</title>\n<path fill=\"none\" stroke=\"black\" d=\"M2257.93,-2817.27C2330.24,-2833.04 2437.62,-2856.45 2508.2,-2871.84\"/>\n<polygon fill=\"black\" stroke=\"black\" points=\"2507.82,-2875.34 2518.34,-2874.06 2509.32,-2868.51 2507.82,-2875.34\"/>\n</g>\n<!-- 45 -->\n<g id=\"node46\" class=\"node\">\n<title>45</title>\n<polygon fill=\"#52a9e8\" stroke=\"black\" points=\"2636,-2827 2526,-2827 2526,-2774 2636,-2774 2636,-2827\"/>\n<text text-anchor=\"start\" x=\"2553\" y=\"-2811.8\" font-family=\"Helvetica,sans-Serif\" font-size=\"14.00\">gini = 0.0</text>\n<text text-anchor=\"start\" x=\"2540\" y=\"-2796.8\" font-family=\"Helvetica,sans-Serif\" font-size=\"14.00\">samples = 90</text>\n<text text-anchor=\"start\" x=\"2534\" y=\"-2781.8\" font-family=\"Helvetica,sans-Serif\" font-size=\"14.00\">value = [10, 80]</text>\n</g>\n<!-- 5&#45;&gt;45 -->\n<g id=\"edge45\" class=\"edge\">\n<title>5&#45;&gt;45</title>\n<path fill=\"none\" stroke=\"black\" d=\"M2257.93,-2800.5C2332.94,-2800.5 2445.68,-2800.5 2515.94,-2800.5\"/>\n<polygon fill=\"black\" stroke=\"black\" points=\"2515.99,-2804 2525.99,-2800.5 2515.99,-2797 2515.99,-2804\"/>\n</g>\n<!-- 7 -->\n<g id=\"node8\" class=\"node\">\n<title>7</title>\n<polygon fill=\"#83c2ef\" stroke=\"black\" points=\"3052,-3009.5 2912,-3009.5 2912,-2941.5 3052,-2941.5 3052,-3009.5\"/>\n<text text-anchor=\"start\" x=\"2927.5\" y=\"-2994.3\" font-family=\"Helvetica,sans-Serif\" font-size=\"14.00\">HomePlanet ≤ 0.0</text>\n<text text-anchor=\"start\" x=\"2954\" y=\"-2979.3\" font-family=\"Helvetica,sans-Serif\" font-size=\"14.00\">gini = 0.0</text>\n<text text-anchor=\"start\" x=\"2937\" y=\"-2964.3\" font-family=\"Helvetica,sans-Serif\" font-size=\"14.00\">samples = 224</text>\n<text text-anchor=\"start\" x=\"2920\" y=\"-2949.3\" font-family=\"Helvetica,sans-Serif\" font-size=\"14.00\">value = [61.0, 163.0]</text>\n</g>\n<!-- 6&#45;&gt;7 -->\n<g id=\"edge7\" class=\"edge\">\n<title>6&#45;&gt;7</title>\n<path fill=\"none\" stroke=\"black\" d=\"M2643.91,-2901.15C2713.35,-2916.47 2826.16,-2941.35 2901.93,-2958.06\"/>\n<polygon fill=\"black\" stroke=\"black\" points=\"2901.39,-2961.53 2911.91,-2960.26 2902.9,-2954.69 2901.39,-2961.53\"/>\n</g>\n<!-- 12 -->\n<g id=\"node13\" class=\"node\">\n<title>12</title>\n<polygon fill=\"#ecf6fd\" stroke=\"black\" points=\"3044.5,-2921.5 2919.5,-2921.5 2919.5,-2853.5 3044.5,-2853.5 3044.5,-2921.5\"/>\n<text text-anchor=\"start\" x=\"2932.5\" y=\"-2906.3\" font-family=\"Helvetica,sans-Serif\" font-size=\"14.00\">VRDeck ≤ 100.0</text>\n<text text-anchor=\"start\" x=\"2954\" y=\"-2891.3\" font-family=\"Helvetica,sans-Serif\" font-size=\"14.00\">gini = 0.0</text>\n<text text-anchor=\"start\" x=\"2933.5\" y=\"-2876.3\" font-family=\"Helvetica,sans-Serif\" font-size=\"14.00\">samples = 1056</text>\n<text text-anchor=\"start\" x=\"2927.5\" y=\"-2861.3\" font-family=\"Helvetica,sans-Serif\" font-size=\"14.00\">value = [502, 554]</text>\n</g>\n<!-- 6&#45;&gt;12 -->\n<g id=\"edge12\" class=\"edge\">\n<title>6&#45;&gt;12</title>\n<path fill=\"none\" stroke=\"black\" d=\"M2643.91,-2887.5C2715.51,-2887.5 2833.22,-2887.5 2908.89,-2887.5\"/>\n<polygon fill=\"black\" stroke=\"black\" points=\"2909.28,-2891 2919.28,-2887.5 2909.28,-2884 2909.28,-2891\"/>\n</g>\n<!-- 8 -->\n<g id=\"node9\" class=\"node\">\n<title>8</title>\n<polygon fill=\"#bbddf6\" stroke=\"black\" points=\"3430,-3091.5 3320,-3091.5 3320,-3023.5 3430,-3023.5 3430,-3091.5\"/>\n<text text-anchor=\"start\" x=\"3337\" y=\"-3076.3\" font-family=\"Helvetica,sans-Serif\" font-size=\"14.00\">num ≤ 761.0</text>\n<text text-anchor=\"start\" x=\"3347\" y=\"-3061.3\" font-family=\"Helvetica,sans-Serif\" font-size=\"14.00\">gini = 0.0</text>\n<text text-anchor=\"start\" x=\"3330\" y=\"-3046.3\" font-family=\"Helvetica,sans-Serif\" font-size=\"14.00\">samples = 154</text>\n<text text-anchor=\"start\" x=\"3328\" y=\"-3031.3\" font-family=\"Helvetica,sans-Serif\" font-size=\"14.00\">value = [61, 93]</text>\n</g>\n<!-- 7&#45;&gt;8 -->\n<g id=\"edge8\" class=\"edge\">\n<title>7&#45;&gt;8</title>\n<path fill=\"none\" stroke=\"black\" d=\"M3052,-2989.97C3124.82,-3005.24 3238.68,-3029.12 3309.68,-3044.01\"/>\n<polygon fill=\"black\" stroke=\"black\" points=\"3309.33,-3047.51 3319.84,-3046.14 3310.77,-3040.66 3309.33,-3047.51\"/>\n</g>\n<!-- 11 -->\n<g id=\"node12\" class=\"node\">\n<title>11</title>\n<polygon fill=\"#399de5\" stroke=\"black\" points=\"3426,-3002 3324,-3002 3324,-2949 3426,-2949 3426,-3002\"/>\n<text text-anchor=\"start\" x=\"3347\" y=\"-2986.8\" font-family=\"Helvetica,sans-Serif\" font-size=\"14.00\">gini = 0.0</text>\n<text text-anchor=\"start\" x=\"3334\" y=\"-2971.8\" font-family=\"Helvetica,sans-Serif\" font-size=\"14.00\">samples = 70</text>\n<text text-anchor=\"start\" x=\"3332\" y=\"-2956.8\" font-family=\"Helvetica,sans-Serif\" font-size=\"14.00\">value = [0, 70]</text>\n</g>\n<!-- 7&#45;&gt;11 -->\n<g id=\"edge11\" class=\"edge\">\n<title>7&#45;&gt;11</title>\n<path fill=\"none\" stroke=\"black\" d=\"M3052,-2975.5C3126.29,-2975.5 3243.27,-2975.5 3313.91,-2975.5\"/>\n<polygon fill=\"black\" stroke=\"black\" points=\"3313.98,-2979 3323.98,-2975.5 3313.98,-2972 3313.98,-2979\"/>\n</g>\n<!-- 9 -->\n<g id=\"node10\" class=\"node\">\n<title>9</title>\n<polygon fill=\"#e6f2fc\" stroke=\"black\" points=\"3814,-3155 3704,-3155 3704,-3102 3814,-3102 3814,-3155\"/>\n<text text-anchor=\"start\" x=\"3731\" y=\"-3139.8\" font-family=\"Helvetica,sans-Serif\" font-size=\"14.00\">gini = 0.0</text>\n<text text-anchor=\"start\" x=\"3718\" y=\"-3124.8\" font-family=\"Helvetica,sans-Serif\" font-size=\"14.00\">samples = 88</text>\n<text text-anchor=\"start\" x=\"3712\" y=\"-3109.8\" font-family=\"Helvetica,sans-Serif\" font-size=\"14.00\">value = [41, 47]</text>\n</g>\n<!-- 8&#45;&gt;9 -->\n<g id=\"edge9\" class=\"edge\">\n<title>8&#45;&gt;9</title>\n<path fill=\"none\" stroke=\"black\" d=\"M3430.33,-3067.6C3499.77,-3080.5 3619.84,-3102.82 3693.75,-3116.56\"/>\n<polygon fill=\"black\" stroke=\"black\" points=\"3693.39,-3120.05 3703.86,-3118.44 3694.67,-3113.17 3693.39,-3120.05\"/>\n</g>\n<!-- 10 -->\n<g id=\"node11\" class=\"node\">\n<title>10</title>\n<polygon fill=\"#8fc8f0\" stroke=\"black\" points=\"3814,-3084 3704,-3084 3704,-3031 3814,-3031 3814,-3084\"/>\n<text text-anchor=\"start\" x=\"3731\" y=\"-3068.8\" font-family=\"Helvetica,sans-Serif\" font-size=\"14.00\">gini = 0.0</text>\n<text text-anchor=\"start\" x=\"3718\" y=\"-3053.8\" font-family=\"Helvetica,sans-Serif\" font-size=\"14.00\">samples = 66</text>\n<text text-anchor=\"start\" x=\"3712\" y=\"-3038.8\" font-family=\"Helvetica,sans-Serif\" font-size=\"14.00\">value = [20, 46]</text>\n</g>\n<!-- 8&#45;&gt;10 -->\n<g id=\"edge10\" class=\"edge\">\n<title>8&#45;&gt;10</title>\n<path fill=\"none\" stroke=\"black\" d=\"M3430.33,-3057.5C3499.77,-3057.5 3619.84,-3057.5 3693.75,-3057.5\"/>\n<polygon fill=\"black\" stroke=\"black\" points=\"3693.86,-3061 3703.86,-3057.5 3693.86,-3054 3693.86,-3061\"/>\n</g>\n<!-- 13 -->\n<g id=\"node14\" class=\"node\">\n<title>13</title>\n<polygon fill=\"#ddeefa\" stroke=\"black\" points=\"3437.5,-2928.5 3312.5,-2928.5 3312.5,-2860.5 3437.5,-2860.5 3437.5,-2928.5\"/>\n<text text-anchor=\"start\" x=\"3345.5\" y=\"-2913.3\" font-family=\"Helvetica,sans-Serif\" font-size=\"14.00\">side ≤ 0.0</text>\n<text text-anchor=\"start\" x=\"3347\" y=\"-2898.3\" font-family=\"Helvetica,sans-Serif\" font-size=\"14.00\">gini = 0.0</text>\n<text text-anchor=\"start\" x=\"3330\" y=\"-2883.3\" font-family=\"Helvetica,sans-Serif\" font-size=\"14.00\">samples = 955</text>\n<text text-anchor=\"start\" x=\"3320.5\" y=\"-2868.3\" font-family=\"Helvetica,sans-Serif\" font-size=\"14.00\">value = [432, 523]</text>\n</g>\n<!-- 12&#45;&gt;13 -->\n<g id=\"edge13\" class=\"edge\">\n<title>12&#45;&gt;13</title>\n<path fill=\"none\" stroke=\"black\" d=\"M3044.52,-2888.6C3114.36,-2889.85 3228.14,-2891.89 3302.04,-2893.21\"/>\n<polygon fill=\"black\" stroke=\"black\" points=\"3302.13,-2896.71 3312.19,-2893.39 3302.25,-2889.71 3302.13,-2896.71\"/>\n</g>\n<!-- 42 -->\n<g id=\"node43\" class=\"node\">\n<title>42</title>\n<polygon fill=\"#f1b991\" stroke=\"black\" points=\"3432.5,-2842.5 3317.5,-2842.5 3317.5,-2774.5 3432.5,-2774.5 3432.5,-2842.5\"/>\n<text text-anchor=\"start\" x=\"3325.5\" y=\"-2827.3\" font-family=\"Helvetica,sans-Serif\" font-size=\"14.00\">VRDeck ≤ 204.0</text>\n<text text-anchor=\"start\" x=\"3347\" y=\"-2812.3\" font-family=\"Helvetica,sans-Serif\" font-size=\"14.00\">gini = 0.0</text>\n<text text-anchor=\"start\" x=\"3330\" y=\"-2797.3\" font-family=\"Helvetica,sans-Serif\" font-size=\"14.00\">samples = 101</text>\n<text text-anchor=\"start\" x=\"3328\" y=\"-2782.3\" font-family=\"Helvetica,sans-Serif\" font-size=\"14.00\">value = [70, 31]</text>\n</g>\n<!-- 12&#45;&gt;42 -->\n<g id=\"edge42\" class=\"edge\">\n<title>12&#45;&gt;42</title>\n<path fill=\"none\" stroke=\"black\" d=\"M3044.52,-2875.07C3116,-2860.63 3233.52,-2836.88 3307.19,-2822\"/>\n<polygon fill=\"black\" stroke=\"black\" points=\"3308.17,-2825.37 3317.28,-2819.96 3306.78,-2818.51 3308.17,-2825.37\"/>\n</g>\n<!-- 14 -->\n<g id=\"node15\" class=\"node\">\n<title>14</title>\n<polygon fill=\"#fcf3ec\" stroke=\"black\" points=\"3832.5,-3012.5 3685.5,-3012.5 3685.5,-2944.5 3832.5,-2944.5 3832.5,-3012.5\"/>\n<text text-anchor=\"start\" x=\"3726\" y=\"-2997.3\" font-family=\"Helvetica,sans-Serif\" font-size=\"14.00\">Spa ≤ 36.0</text>\n<text text-anchor=\"start\" x=\"3731\" y=\"-2982.3\" font-family=\"Helvetica,sans-Serif\" font-size=\"14.00\">gini = 0.0</text>\n<text text-anchor=\"start\" x=\"3714\" y=\"-2967.3\" font-family=\"Helvetica,sans-Serif\" font-size=\"14.00\">samples = 434</text>\n<text text-anchor=\"start\" x=\"3693.5\" y=\"-2952.3\" font-family=\"Helvetica,sans-Serif\" font-size=\"14.00\">value = [228.0, 206.0]</text>\n</g>\n<!-- 13&#45;&gt;14 -->\n<g id=\"edge14\" class=\"edge\">\n<title>13&#45;&gt;14</title>\n<path fill=\"none\" stroke=\"black\" d=\"M3437.8,-2908.09C3502.34,-2922.28 3603.92,-2944.62 3675.32,-2960.32\"/>\n<polygon fill=\"black\" stroke=\"black\" points=\"3674.67,-2963.76 3685.19,-2962.49 3676.18,-2956.92 3674.67,-2963.76\"/>\n</g>\n<!-- 25 -->\n<g id=\"node26\" class=\"node\">\n<title>25</title>\n<polygon fill=\"#b8dcf6\" stroke=\"black\" points=\"3821.5,-2926.5 3696.5,-2926.5 3696.5,-2858.5 3821.5,-2858.5 3821.5,-2926.5\"/>\n<text text-anchor=\"start\" x=\"3721\" y=\"-2911.3\" font-family=\"Helvetica,sans-Serif\" font-size=\"14.00\">num ≤ 734.0</text>\n<text text-anchor=\"start\" x=\"3731\" y=\"-2896.3\" font-family=\"Helvetica,sans-Serif\" font-size=\"14.00\">gini = 0.0</text>\n<text text-anchor=\"start\" x=\"3714\" y=\"-2881.3\" font-family=\"Helvetica,sans-Serif\" font-size=\"14.00\">samples = 521</text>\n<text text-anchor=\"start\" x=\"3704.5\" y=\"-2866.3\" font-family=\"Helvetica,sans-Serif\" font-size=\"14.00\">value = [204, 317]</text>\n</g>\n<!-- 13&#45;&gt;25 -->\n<g id=\"edge25\" class=\"edge\">\n<title>13&#45;&gt;25</title>\n<path fill=\"none\" stroke=\"black\" d=\"M3437.8,-2894.18C3505.62,-2893.82 3614.37,-2893.25 3686,-2892.88\"/>\n<polygon fill=\"black\" stroke=\"black\" points=\"3686.31,-2896.38 3696.29,-2892.82 3686.27,-2889.38 3686.31,-2896.38\"/>\n</g>\n<!-- 15 -->\n<g id=\"node16\" class=\"node\">\n<title>15</title>\n<polygon fill=\"#fbfdfe\" stroke=\"black\" points=\"4243,-3123.5 4095,-3123.5 4095,-3055.5 4243,-3055.5 4243,-3123.5\"/>\n<text text-anchor=\"start\" x=\"4103\" y=\"-3108.3\" font-family=\"Helvetica,sans-Serif\" font-size=\"14.00\">ShoppingMall ≤ 362.0</text>\n<text text-anchor=\"start\" x=\"4141\" y=\"-3093.3\" font-family=\"Helvetica,sans-Serif\" font-size=\"14.00\">gini = 0.0</text>\n<text text-anchor=\"start\" x=\"4124\" y=\"-3078.3\" font-family=\"Helvetica,sans-Serif\" font-size=\"14.00\">samples = 380</text>\n<text text-anchor=\"start\" x=\"4114.5\" y=\"-3063.3\" font-family=\"Helvetica,sans-Serif\" font-size=\"14.00\">value = [188, 192]</text>\n</g>\n<!-- 14&#45;&gt;15 -->\n<g id=\"edge15\" class=\"edge\">\n<title>14&#45;&gt;15</title>\n<path fill=\"none\" stroke=\"black\" d=\"M3832.94,-2998.34C3903.69,-3017.59 4010.89,-3046.76 4084.9,-3066.89\"/>\n<polygon fill=\"black\" stroke=\"black\" points=\"4084.09,-3070.3 4094.66,-3069.55 4085.93,-3063.54 4084.09,-3070.3\"/>\n</g>\n<!-- 24 -->\n<g id=\"node25\" class=\"node\">\n<title>24</title>\n<polygon fill=\"#eead7e\" stroke=\"black\" points=\"4224,-3005 4114,-3005 4114,-2952 4224,-2952 4224,-3005\"/>\n<text text-anchor=\"start\" x=\"4141\" y=\"-2989.8\" font-family=\"Helvetica,sans-Serif\" font-size=\"14.00\">gini = 0.0</text>\n<text text-anchor=\"start\" x=\"4128\" y=\"-2974.8\" font-family=\"Helvetica,sans-Serif\" font-size=\"14.00\">samples = 54</text>\n<text text-anchor=\"start\" x=\"4122\" y=\"-2959.8\" font-family=\"Helvetica,sans-Serif\" font-size=\"14.00\">value = [40, 14]</text>\n</g>\n<!-- 14&#45;&gt;24 -->\n<g id=\"edge24\" class=\"edge\">\n<title>14&#45;&gt;24</title>\n<path fill=\"none\" stroke=\"black\" d=\"M3832.94,-2978.5C3910,-2978.5 4030.32,-2978.5 4103.87,-2978.5\"/>\n<polygon fill=\"black\" stroke=\"black\" points=\"4103.93,-2982 4113.93,-2978.5 4103.93,-2975 4103.93,-2982\"/>\n</g>\n<!-- 16 -->\n<g id=\"node17\" class=\"node\">\n<title>16</title>\n<polygon fill=\"#fae9dc\" stroke=\"black\" points=\"4633.5,-3225.5 4508.5,-3225.5 4508.5,-3157.5 4633.5,-3157.5 4633.5,-3225.5\"/>\n<text text-anchor=\"start\" x=\"4533\" y=\"-3210.3\" font-family=\"Helvetica,sans-Serif\" font-size=\"14.00\">num ≤ 416.0</text>\n<text text-anchor=\"start\" x=\"4543\" y=\"-3195.3\" font-family=\"Helvetica,sans-Serif\" font-size=\"14.00\">gini = 0.0</text>\n<text text-anchor=\"start\" x=\"4526\" y=\"-3180.3\" font-family=\"Helvetica,sans-Serif\" font-size=\"14.00\">samples = 241</text>\n<text text-anchor=\"start\" x=\"4516.5\" y=\"-3165.3\" font-family=\"Helvetica,sans-Serif\" font-size=\"14.00\">value = [132, 109]</text>\n</g>\n<!-- 15&#45;&gt;16 -->\n<g id=\"edge16\" class=\"edge\">\n<title>15&#45;&gt;16</title>\n<path fill=\"none\" stroke=\"black\" d=\"M4243.37,-3108.21C4315.96,-3126.72 4426.36,-3154.87 4498.35,-3173.23\"/>\n<polygon fill=\"black\" stroke=\"black\" points=\"4497.69,-3176.67 4508.25,-3175.75 4499.42,-3169.89 4497.69,-3176.67\"/>\n</g>\n<!-- 21 -->\n<g id=\"node22\" class=\"node\">\n<title>21</title>\n<polygon fill=\"#bfdff7\" stroke=\"black\" points=\"4641,-3123.5 4501,-3123.5 4501,-3055.5 4641,-3055.5 4641,-3123.5\"/>\n<text text-anchor=\"start\" x=\"4509\" y=\"-3108.3\" font-family=\"Helvetica,sans-Serif\" font-size=\"14.00\">RoomService ≤ 15.0</text>\n<text text-anchor=\"start\" x=\"4543\" y=\"-3093.3\" font-family=\"Helvetica,sans-Serif\" font-size=\"14.00\">gini = 0.0</text>\n<text text-anchor=\"start\" x=\"4526\" y=\"-3078.3\" font-family=\"Helvetica,sans-Serif\" font-size=\"14.00\">samples = 139</text>\n<text text-anchor=\"start\" x=\"4524\" y=\"-3063.3\" font-family=\"Helvetica,sans-Serif\" font-size=\"14.00\">value = [56, 83]</text>\n</g>\n<!-- 15&#45;&gt;21 -->\n<g id=\"edge21\" class=\"edge\">\n<title>15&#45;&gt;21</title>\n<path fill=\"none\" stroke=\"black\" d=\"M4243.37,-3089.5C4313.34,-3089.5 4418.44,-3089.5 4490.41,-3089.5\"/>\n<polygon fill=\"black\" stroke=\"black\" points=\"4490.78,-3093 4500.78,-3089.5 4490.78,-3086 4490.78,-3093\"/>\n</g>\n<!-- 17 -->\n<g id=\"node18\" class=\"node\">\n<title>17</title>\n<polygon fill=\"#e2f1fb\" stroke=\"black\" points=\"5019,-3297 4909,-3297 4909,-3244 5019,-3244 5019,-3297\"/>\n<text text-anchor=\"start\" x=\"4936\" y=\"-3281.8\" font-family=\"Helvetica,sans-Serif\" font-size=\"14.00\">gini = 0.0</text>\n<text text-anchor=\"start\" x=\"4923\" y=\"-3266.8\" font-family=\"Helvetica,sans-Serif\" font-size=\"14.00\">samples = 89</text>\n<text text-anchor=\"start\" x=\"4917\" y=\"-3251.8\" font-family=\"Helvetica,sans-Serif\" font-size=\"14.00\">value = [41, 48]</text>\n</g>\n<!-- 16&#45;&gt;17 -->\n<g id=\"edge17\" class=\"edge\">\n<title>16&#45;&gt;17</title>\n<path fill=\"none\" stroke=\"black\" d=\"M4633.52,-3203.93C4705.82,-3218.54 4825.23,-3242.66 4898.71,-3257.51\"/>\n<polygon fill=\"black\" stroke=\"black\" points=\"4898.27,-3260.99 4908.76,-3259.54 4899.65,-3254.13 4898.27,-3260.99\"/>\n</g>\n<!-- 18 -->\n<g id=\"node19\" class=\"node\">\n<title>18</title>\n<polygon fill=\"#f6d5be\" stroke=\"black\" points=\"5030,-3225.5 4898,-3225.5 4898,-3157.5 5030,-3157.5 5030,-3225.5\"/>\n<text text-anchor=\"start\" x=\"4931\" y=\"-3210.3\" font-family=\"Helvetica,sans-Serif\" font-size=\"14.00\">Age ≤ 20.0</text>\n<text text-anchor=\"start\" x=\"4936\" y=\"-3195.3\" font-family=\"Helvetica,sans-Serif\" font-size=\"14.00\">gini = 0.0</text>\n<text text-anchor=\"start\" x=\"4919\" y=\"-3180.3\" font-family=\"Helvetica,sans-Serif\" font-size=\"14.00\">samples = 152</text>\n<text text-anchor=\"start\" x=\"4906\" y=\"-3165.3\" font-family=\"Helvetica,sans-Serif\" font-size=\"14.00\">value = [91.0, 61.0]</text>\n</g>\n<!-- 16&#45;&gt;18 -->\n<g id=\"edge18\" class=\"edge\">\n<title>16&#45;&gt;18</title>\n<path fill=\"none\" stroke=\"black\" d=\"M4633.52,-3191.5C4702.33,-3191.5 4813.81,-3191.5 4887.75,-3191.5\"/>\n<polygon fill=\"black\" stroke=\"black\" points=\"4887.93,-3195 4897.93,-3191.5 4887.93,-3188 4887.93,-3195\"/>\n</g>\n<!-- 19 -->\n<g id=\"node20\" class=\"node\">\n<title>19</title>\n<polygon fill=\"#fef8f4\" stroke=\"black\" points=\"5403,-3253 5293,-3253 5293,-3200 5403,-3200 5403,-3253\"/>\n<text text-anchor=\"start\" x=\"5320\" y=\"-3237.8\" font-family=\"Helvetica,sans-Serif\" font-size=\"14.00\">gini = 0.0</text>\n<text text-anchor=\"start\" x=\"5307\" y=\"-3222.8\" font-family=\"Helvetica,sans-Serif\" font-size=\"14.00\">samples = 68</text>\n<text text-anchor=\"start\" x=\"5301\" y=\"-3207.8\" font-family=\"Helvetica,sans-Serif\" font-size=\"14.00\">value = [35, 33]</text>\n</g>\n<!-- 18&#45;&gt;19 -->\n<g id=\"edge19\" class=\"edge\">\n<title>18&#45;&gt;19</title>\n<path fill=\"none\" stroke=\"black\" d=\"M5030.23,-3197.48C5100.81,-3203.94 5212.64,-3214.19 5282.81,-3220.62\"/>\n<polygon fill=\"black\" stroke=\"black\" points=\"5282.57,-3224.11 5292.85,-3221.54 5283.21,-3217.14 5282.57,-3224.11\"/>\n</g>\n<!-- 20 -->\n<g id=\"node21\" class=\"node\">\n<title>20</title>\n<polygon fill=\"#f2c09c\" stroke=\"black\" points=\"5403,-3182 5293,-3182 5293,-3129 5403,-3129 5403,-3182\"/>\n<text text-anchor=\"start\" x=\"5320\" y=\"-3166.8\" font-family=\"Helvetica,sans-Serif\" font-size=\"14.00\">gini = 0.0</text>\n<text text-anchor=\"start\" x=\"5307\" y=\"-3151.8\" font-family=\"Helvetica,sans-Serif\" font-size=\"14.00\">samples = 84</text>\n<text text-anchor=\"start\" x=\"5301\" y=\"-3136.8\" font-family=\"Helvetica,sans-Serif\" font-size=\"14.00\">value = [56, 28]</text>\n</g>\n<!-- 18&#45;&gt;20 -->\n<g id=\"edge20\" class=\"edge\">\n<title>18&#45;&gt;20</title>\n<path fill=\"none\" stroke=\"black\" d=\"M5030.23,-3185.35C5100.81,-3178.7 5212.64,-3168.16 5282.81,-3161.55\"/>\n<polygon fill=\"black\" stroke=\"black\" points=\"5283.22,-3165.03 5292.85,-3160.6 5282.56,-3158.06 5283.22,-3165.03\"/>\n</g>\n<!-- 22 -->\n<g id=\"node23\" class=\"node\">\n<title>22</title>\n<polygon fill=\"#9fd0f2\" stroke=\"black\" points=\"5030,-3139 4898,-3139 4898,-3086 5030,-3086 5030,-3139\"/>\n<text text-anchor=\"start\" x=\"4936\" y=\"-3123.8\" font-family=\"Helvetica,sans-Serif\" font-size=\"14.00\">gini = 0.0</text>\n<text text-anchor=\"start\" x=\"4923\" y=\"-3108.8\" font-family=\"Helvetica,sans-Serif\" font-size=\"14.00\">samples = 88</text>\n<text text-anchor=\"start\" x=\"4906\" y=\"-3093.8\" font-family=\"Helvetica,sans-Serif\" font-size=\"14.00\">value = [30.0, 58.0]</text>\n</g>\n<!-- 21&#45;&gt;22 -->\n<g id=\"edge22\" class=\"edge\">\n<title>21&#45;&gt;22</title>\n<path fill=\"none\" stroke=\"black\" d=\"M4641,-3093.56C4710.17,-3097.63 4816.35,-3103.87 4887.67,-3108.07\"/>\n<polygon fill=\"black\" stroke=\"black\" points=\"4887.75,-3111.58 4897.94,-3108.67 4888.16,-3104.59 4887.75,-3111.58\"/>\n</g>\n<!-- 23 -->\n<g id=\"node24\" class=\"node\">\n<title>23</title>\n<polygon fill=\"#fefaf7\" stroke=\"black\" points=\"5019,-3068 4909,-3068 4909,-3015 5019,-3015 5019,-3068\"/>\n<text text-anchor=\"start\" x=\"4936\" y=\"-3052.8\" font-family=\"Helvetica,sans-Serif\" font-size=\"14.00\">gini = 0.0</text>\n<text text-anchor=\"start\" x=\"4923\" y=\"-3037.8\" font-family=\"Helvetica,sans-Serif\" font-size=\"14.00\">samples = 51</text>\n<text text-anchor=\"start\" x=\"4917\" y=\"-3022.8\" font-family=\"Helvetica,sans-Serif\" font-size=\"14.00\">value = [26, 25]</text>\n</g>\n<!-- 21&#45;&gt;23 -->\n<g id=\"edge23\" class=\"edge\">\n<title>21&#45;&gt;23</title>\n<path fill=\"none\" stroke=\"black\" d=\"M4641,-3081.03C4713.82,-3072.09 4827.68,-3058.11 4898.68,-3049.4\"/>\n<polygon fill=\"black\" stroke=\"black\" points=\"4899.34,-3052.84 4908.84,-3048.15 4898.49,-3045.89 4899.34,-3052.84\"/>\n</g>\n<!-- 26 -->\n<g id=\"node27\" class=\"node\">\n<title>26</title>\n<polygon fill=\"#eff7fd\" stroke=\"black\" points=\"4231.5,-2926.5 4106.5,-2926.5 4106.5,-2858.5 4231.5,-2858.5 4231.5,-2926.5\"/>\n<text text-anchor=\"start\" x=\"4137.5\" y=\"-2911.3\" font-family=\"Helvetica,sans-Serif\" font-size=\"14.00\">deck ≤ 4.0</text>\n<text text-anchor=\"start\" x=\"4141\" y=\"-2896.3\" font-family=\"Helvetica,sans-Serif\" font-size=\"14.00\">gini = 0.0</text>\n<text text-anchor=\"start\" x=\"4124\" y=\"-2881.3\" font-family=\"Helvetica,sans-Serif\" font-size=\"14.00\">samples = 311</text>\n<text text-anchor=\"start\" x=\"4114.5\" y=\"-2866.3\" font-family=\"Helvetica,sans-Serif\" font-size=\"14.00\">value = [149, 162]</text>\n</g>\n<!-- 25&#45;&gt;26 -->\n<g id=\"edge26\" class=\"edge\">\n<title>25&#45;&gt;26</title>\n<path fill=\"none\" stroke=\"black\" d=\"M3821.52,-2892.5C3895.13,-2892.5 4018.17,-2892.5 4096.1,-2892.5\"/>\n<polygon fill=\"black\" stroke=\"black\" points=\"4096.31,-2896 4106.31,-2892.5 4096.31,-2889 4096.31,-2896\"/>\n</g>\n<!-- 35 -->\n<g id=\"node36\" class=\"node\">\n<title>35</title>\n<polygon fill=\"#7fc0ee\" stroke=\"black\" points=\"4227.5,-2808.5 4110.5,-2808.5 4110.5,-2740.5 4227.5,-2740.5 4227.5,-2808.5\"/>\n<text text-anchor=\"start\" x=\"4127\" y=\"-2793.3\" font-family=\"Helvetica,sans-Serif\" font-size=\"14.00\">num ≤ 1194.0</text>\n<text text-anchor=\"start\" x=\"4141\" y=\"-2778.3\" font-family=\"Helvetica,sans-Serif\" font-size=\"14.00\">gini = 0.0</text>\n<text text-anchor=\"start\" x=\"4124\" y=\"-2763.3\" font-family=\"Helvetica,sans-Serif\" font-size=\"14.00\">samples = 210</text>\n<text text-anchor=\"start\" x=\"4118.5\" y=\"-2748.3\" font-family=\"Helvetica,sans-Serif\" font-size=\"14.00\">value = [55, 155]</text>\n</g>\n<!-- 25&#45;&gt;35 -->\n<g id=\"edge35\" class=\"edge\">\n<title>25&#45;&gt;35</title>\n<path fill=\"none\" stroke=\"black\" d=\"M3821.52,-2874.71C3896.56,-2853 4022.97,-2816.44 4100.59,-2794\"/>\n<polygon fill=\"black\" stroke=\"black\" points=\"4101.64,-2797.34 4110.27,-2791.2 4099.69,-2790.61 4101.64,-2797.34\"/>\n</g>\n<!-- 27 -->\n<g id=\"node28\" class=\"node\">\n<title>27</title>\n<polygon fill=\"#6ab6ec\" stroke=\"black\" points=\"4626,-2990 4516,-2990 4516,-2937 4626,-2937 4626,-2990\"/>\n<text text-anchor=\"start\" x=\"4543\" y=\"-2974.8\" font-family=\"Helvetica,sans-Serif\" font-size=\"14.00\">gini = 0.0</text>\n<text text-anchor=\"start\" x=\"4530\" y=\"-2959.8\" font-family=\"Helvetica,sans-Serif\" font-size=\"14.00\">samples = 50</text>\n<text text-anchor=\"start\" x=\"4524\" y=\"-2944.8\" font-family=\"Helvetica,sans-Serif\" font-size=\"14.00\">value = [10, 40]</text>\n</g>\n<!-- 26&#45;&gt;27 -->\n<g id=\"edge27\" class=\"edge\">\n<title>26&#45;&gt;27</title>\n<path fill=\"none\" stroke=\"black\" d=\"M4231.62,-2903.44C4305.97,-2916.64 4430.36,-2938.71 4505.83,-2952.11\"/>\n<polygon fill=\"black\" stroke=\"black\" points=\"4505.24,-2955.56 4515.69,-2953.86 4506.46,-2948.67 4505.24,-2955.56\"/>\n</g>\n<!-- 28 -->\n<g id=\"node29\" class=\"node\">\n<title>28</title>\n<polygon fill=\"#fcf0e7\" stroke=\"black\" points=\"4633.5,-2918.5 4508.5,-2918.5 4508.5,-2850.5 4633.5,-2850.5 4633.5,-2918.5\"/>\n<text text-anchor=\"start\" x=\"4518\" y=\"-2903.3\" font-family=\"Helvetica,sans-Serif\" font-size=\"14.00\">FoodCourt ≤ 32.0</text>\n<text text-anchor=\"start\" x=\"4543\" y=\"-2888.3\" font-family=\"Helvetica,sans-Serif\" font-size=\"14.00\">gini = 0.0</text>\n<text text-anchor=\"start\" x=\"4526\" y=\"-2873.3\" font-family=\"Helvetica,sans-Serif\" font-size=\"14.00\">samples = 261</text>\n<text text-anchor=\"start\" x=\"4516.5\" y=\"-2858.3\" font-family=\"Helvetica,sans-Serif\" font-size=\"14.00\">value = [139, 122]</text>\n</g>\n<!-- 26&#45;&gt;28 -->\n<g id=\"edge28\" class=\"edge\">\n<title>26&#45;&gt;28</title>\n<path fill=\"none\" stroke=\"black\" d=\"M4231.62,-2891.27C4303.41,-2889.83 4421.86,-2887.46 4497.87,-2885.94\"/>\n<polygon fill=\"black\" stroke=\"black\" points=\"4498.38,-2889.43 4508.31,-2885.73 4498.24,-2882.43 4498.38,-2889.43\"/>\n</g>\n<!-- 29 -->\n<g id=\"node30\" class=\"node\">\n<title>29</title>\n<polygon fill=\"#f5cdb0\" stroke=\"black\" points=\"5019,-2996.5 4909,-2996.5 4909,-2928.5 5019,-2928.5 5019,-2996.5\"/>\n<text text-anchor=\"start\" x=\"4926\" y=\"-2981.3\" font-family=\"Helvetica,sans-Serif\" font-size=\"14.00\">num ≤ 233.0</text>\n<text text-anchor=\"start\" x=\"4936\" y=\"-2966.3\" font-family=\"Helvetica,sans-Serif\" font-size=\"14.00\">gini = 0.0</text>\n<text text-anchor=\"start\" x=\"4919\" y=\"-2951.3\" font-family=\"Helvetica,sans-Serif\" font-size=\"14.00\">samples = 152</text>\n<text text-anchor=\"start\" x=\"4917\" y=\"-2936.3\" font-family=\"Helvetica,sans-Serif\" font-size=\"14.00\">value = [95, 57]</text>\n</g>\n<!-- 28&#45;&gt;29 -->\n<g id=\"edge29\" class=\"edge\">\n<title>28&#45;&gt;29</title>\n<path fill=\"none\" stroke=\"black\" d=\"M4633.52,-2896.77C4705.82,-2911.2 4825.23,-2935.02 4898.71,-2949.67\"/>\n<polygon fill=\"black\" stroke=\"black\" points=\"4898.27,-2953.16 4908.76,-2951.68 4899.64,-2946.29 4898.27,-2953.16\"/>\n</g>\n<!-- 32 -->\n<g id=\"node33\" class=\"node\">\n<title>32</title>\n<polygon fill=\"#bfdff7\" stroke=\"black\" points=\"5034,-2910.5 4894,-2910.5 4894,-2842.5 5034,-2842.5 5034,-2910.5\"/>\n<text text-anchor=\"start\" x=\"4902\" y=\"-2895.3\" font-family=\"Helvetica,sans-Serif\" font-size=\"14.00\">ShoppingMall ≤ 20.0</text>\n<text text-anchor=\"start\" x=\"4936\" y=\"-2880.3\" font-family=\"Helvetica,sans-Serif\" font-size=\"14.00\">gini = 0.0</text>\n<text text-anchor=\"start\" x=\"4919\" y=\"-2865.3\" font-family=\"Helvetica,sans-Serif\" font-size=\"14.00\">samples = 109</text>\n<text text-anchor=\"start\" x=\"4917\" y=\"-2850.3\" font-family=\"Helvetica,sans-Serif\" font-size=\"14.00\">value = [44, 65]</text>\n</g>\n<!-- 28&#45;&gt;32 -->\n<g id=\"edge32\" class=\"edge\">\n<title>28&#45;&gt;32</title>\n<path fill=\"none\" stroke=\"black\" d=\"M4633.52,-2883.24C4701.1,-2881.86 4809.83,-2879.63 4883.74,-2878.12\"/>\n<polygon fill=\"black\" stroke=\"black\" points=\"4884.01,-2881.62 4893.93,-2877.91 4883.86,-2874.62 4884.01,-2881.62\"/>\n</g>\n<!-- 30 -->\n<g id=\"node31\" class=\"node\">\n<title>30</title>\n<polygon fill=\"#efb184\" stroke=\"black\" points=\"5403,-3056 5293,-3056 5293,-3003 5403,-3003 5403,-3056\"/>\n<text text-anchor=\"start\" x=\"5320\" y=\"-3040.8\" font-family=\"Helvetica,sans-Serif\" font-size=\"14.00\">gini = 0.0</text>\n<text text-anchor=\"start\" x=\"5307\" y=\"-3025.8\" font-family=\"Helvetica,sans-Serif\" font-size=\"14.00\">samples = 62</text>\n<text text-anchor=\"start\" x=\"5301\" y=\"-3010.8\" font-family=\"Helvetica,sans-Serif\" font-size=\"14.00\">value = [45, 17]</text>\n</g>\n<!-- 29&#45;&gt;30 -->\n<g id=\"edge30\" class=\"edge\">\n<title>29&#45;&gt;30</title>\n<path fill=\"none\" stroke=\"black\" d=\"M5019.33,-2972.03C5088.77,-2984.21 5208.84,-3005.27 5282.75,-3018.23\"/>\n<polygon fill=\"black\" stroke=\"black\" points=\"5282.41,-3021.72 5292.86,-3020 5283.62,-3014.83 5282.41,-3021.72\"/>\n</g>\n<!-- 31 -->\n<g id=\"node32\" class=\"node\">\n<title>31</title>\n<polygon fill=\"#fae6d7\" stroke=\"black\" points=\"5403,-2985 5293,-2985 5293,-2932 5403,-2932 5403,-2985\"/>\n<text text-anchor=\"start\" x=\"5320\" y=\"-2969.8\" font-family=\"Helvetica,sans-Serif\" font-size=\"14.00\">gini = 0.0</text>\n<text text-anchor=\"start\" x=\"5307\" y=\"-2954.8\" font-family=\"Helvetica,sans-Serif\" font-size=\"14.00\">samples = 90</text>\n<text text-anchor=\"start\" x=\"5301\" y=\"-2939.8\" font-family=\"Helvetica,sans-Serif\" font-size=\"14.00\">value = [50, 40]</text>\n</g>\n<!-- 29&#45;&gt;31 -->\n<g id=\"edge31\" class=\"edge\">\n<title>29&#45;&gt;31</title>\n<path fill=\"none\" stroke=\"black\" d=\"M5019.33,-2961.93C5088.77,-2961.2 5208.84,-2959.95 5282.75,-2959.17\"/>\n<polygon fill=\"black\" stroke=\"black\" points=\"5282.9,-2962.67 5292.86,-2959.07 5282.83,-2955.67 5282.9,-2962.67\"/>\n</g>\n<!-- 33 -->\n<g id=\"node34\" class=\"node\">\n<title>33</title>\n<polygon fill=\"#fefbf8\" stroke=\"black\" points=\"5403,-2907 5293,-2907 5293,-2854 5403,-2854 5403,-2907\"/>\n<text text-anchor=\"start\" x=\"5320\" y=\"-2891.8\" font-family=\"Helvetica,sans-Serif\" font-size=\"14.00\">gini = 0.0</text>\n<text text-anchor=\"start\" x=\"5307\" y=\"-2876.8\" font-family=\"Helvetica,sans-Serif\" font-size=\"14.00\">samples = 59</text>\n<text text-anchor=\"start\" x=\"5301\" y=\"-2861.8\" font-family=\"Helvetica,sans-Serif\" font-size=\"14.00\">value = [30, 29]</text>\n</g>\n<!-- 32&#45;&gt;33 -->\n<g id=\"edge33\" class=\"edge\">\n<title>32&#45;&gt;33</title>\n<path fill=\"none\" stroke=\"black\" d=\"M5034.18,-2877.22C5104.83,-2877.96 5213.66,-2879.1 5282.55,-2879.83\"/>\n<polygon fill=\"black\" stroke=\"black\" points=\"5282.8,-2883.33 5292.84,-2879.93 5282.88,-2876.33 5282.8,-2883.33\"/>\n</g>\n<!-- 34 -->\n<g id=\"node35\" class=\"node\">\n<title>34</title>\n<polygon fill=\"#86c3ef\" stroke=\"black\" points=\"5414,-2836 5282,-2836 5282,-2783 5414,-2783 5414,-2836\"/>\n<text text-anchor=\"start\" x=\"5320\" y=\"-2820.8\" font-family=\"Helvetica,sans-Serif\" font-size=\"14.00\">gini = 0.0</text>\n<text text-anchor=\"start\" x=\"5307\" y=\"-2805.8\" font-family=\"Helvetica,sans-Serif\" font-size=\"14.00\">samples = 50</text>\n<text text-anchor=\"start\" x=\"5290\" y=\"-2790.8\" font-family=\"Helvetica,sans-Serif\" font-size=\"14.00\">value = [14.0, 36.0]</text>\n</g>\n<!-- 32&#45;&gt;34 -->\n<g id=\"edge34\" class=\"edge\">\n<title>32&#45;&gt;34</title>\n<path fill=\"none\" stroke=\"black\" d=\"M5034.18,-2864.37C5101.29,-2852.6 5202.84,-2834.78 5271.9,-2822.67\"/>\n<polygon fill=\"black\" stroke=\"black\" points=\"5272.6,-2826.1 5281.84,-2820.93 5271.39,-2819.21 5272.6,-2826.1\"/>\n</g>\n<!-- 36 -->\n<g id=\"node37\" class=\"node\">\n<title>36</title>\n<polygon fill=\"#41a1e6\" stroke=\"black\" points=\"4628,-2808.5 4514,-2808.5 4514,-2740.5 4628,-2740.5 4628,-2808.5\"/>\n<text text-anchor=\"start\" x=\"4522\" y=\"-2793.3\" font-family=\"Helvetica,sans-Serif\" font-size=\"14.00\">FoodCourt ≤ 9.0</text>\n<text text-anchor=\"start\" x=\"4543\" y=\"-2778.3\" font-family=\"Helvetica,sans-Serif\" font-size=\"14.00\">gini = 0.0</text>\n<text text-anchor=\"start\" x=\"4526\" y=\"-2763.3\" font-family=\"Helvetica,sans-Serif\" font-size=\"14.00\">samples = 105</text>\n<text text-anchor=\"start\" x=\"4524\" y=\"-2748.3\" font-family=\"Helvetica,sans-Serif\" font-size=\"14.00\">value = [4, 101]</text>\n</g>\n<!-- 35&#45;&gt;36 -->\n<g id=\"edge36\" class=\"edge\">\n<title>35&#45;&gt;36</title>\n<path fill=\"none\" stroke=\"black\" d=\"M4227.74,-2774.5C4300.93,-2774.5 4426.83,-2774.5 4503.83,-2774.5\"/>\n<polygon fill=\"black\" stroke=\"black\" points=\"4503.9,-2778 4513.9,-2774.5 4503.89,-2771 4503.9,-2778\"/>\n</g>\n<!-- 39 -->\n<g id=\"node40\" class=\"node\">\n<title>39</title>\n<polygon fill=\"#f4fafe\" stroke=\"black\" points=\"4637,-2689.5 4505,-2689.5 4505,-2621.5 4637,-2621.5 4637,-2689.5\"/>\n<text text-anchor=\"start\" x=\"4518\" y=\"-2674.3\" font-family=\"Helvetica,sans-Serif\" font-size=\"14.00\">FoodCourt ≤ 30.0</text>\n<text text-anchor=\"start\" x=\"4543\" y=\"-2659.3\" font-family=\"Helvetica,sans-Serif\" font-size=\"14.00\">gini = 0.0</text>\n<text text-anchor=\"start\" x=\"4526\" y=\"-2644.3\" font-family=\"Helvetica,sans-Serif\" font-size=\"14.00\">samples = 105</text>\n<text text-anchor=\"start\" x=\"4513\" y=\"-2629.3\" font-family=\"Helvetica,sans-Serif\" font-size=\"14.00\">value = [51.0, 54.0]</text>\n</g>\n<!-- 35&#45;&gt;39 -->\n<g id=\"edge39\" class=\"edge\">\n<title>35&#45;&gt;39</title>\n<path fill=\"none\" stroke=\"black\" d=\"M4227.74,-2757.32C4298.28,-2736.34 4417.78,-2700.79 4495.27,-2677.73\"/>\n<polygon fill=\"black\" stroke=\"black\" points=\"4496.39,-2681.05 4504.98,-2674.84 4494.4,-2674.34 4496.39,-2681.05\"/>\n</g>\n<!-- 37 -->\n<g id=\"node38\" class=\"node\">\n<title>37</title>\n<polygon fill=\"#4aa6e7\" stroke=\"black\" points=\"5015,-2824 4913,-2824 4913,-2771 5015,-2771 5015,-2824\"/>\n<text text-anchor=\"start\" x=\"4936\" y=\"-2808.8\" font-family=\"Helvetica,sans-Serif\" font-size=\"14.00\">gini = 0.0</text>\n<text text-anchor=\"start\" x=\"4923\" y=\"-2793.8\" font-family=\"Helvetica,sans-Serif\" font-size=\"14.00\">samples = 50</text>\n<text text-anchor=\"start\" x=\"4921\" y=\"-2778.8\" font-family=\"Helvetica,sans-Serif\" font-size=\"14.00\">value = [4, 46]</text>\n</g>\n<!-- 36&#45;&gt;37 -->\n<g id=\"edge37\" class=\"edge\">\n<title>36&#45;&gt;37</title>\n<path fill=\"none\" stroke=\"black\" d=\"M4628.02,-2777.8C4700.93,-2782.08 4827.83,-2789.55 4902.76,-2793.96\"/>\n<polygon fill=\"black\" stroke=\"black\" points=\"4902.78,-2797.46 4912.97,-2794.56 4903.19,-2790.48 4902.78,-2797.46\"/>\n</g>\n<!-- 38 -->\n<g id=\"node39\" class=\"node\">\n<title>38</title>\n<polygon fill=\"#399de5\" stroke=\"black\" points=\"5015,-2753 4913,-2753 4913,-2700 5015,-2700 5015,-2753\"/>\n<text text-anchor=\"start\" x=\"4936\" y=\"-2737.8\" font-family=\"Helvetica,sans-Serif\" font-size=\"14.00\">gini = 0.0</text>\n<text text-anchor=\"start\" x=\"4923\" y=\"-2722.8\" font-family=\"Helvetica,sans-Serif\" font-size=\"14.00\">samples = 55</text>\n<text text-anchor=\"start\" x=\"4921\" y=\"-2707.8\" font-family=\"Helvetica,sans-Serif\" font-size=\"14.00\">value = [0, 55]</text>\n</g>\n<!-- 36&#45;&gt;38 -->\n<g id=\"edge38\" class=\"edge\">\n<title>36&#45;&gt;38</title>\n<path fill=\"none\" stroke=\"black\" d=\"M4628.02,-2767.62C4700.93,-2758.67 4827.83,-2743.09 4902.76,-2733.9\"/>\n<polygon fill=\"black\" stroke=\"black\" points=\"4903.47,-2737.33 4912.97,-2732.64 4902.62,-2730.39 4903.47,-2737.33\"/>\n</g>\n<!-- 40 -->\n<g id=\"node41\" class=\"node\">\n<title>40</title>\n<polygon fill=\"#f8dcc7\" stroke=\"black\" points=\"5019,-2682 4909,-2682 4909,-2629 5019,-2629 5019,-2682\"/>\n<text text-anchor=\"start\" x=\"4936\" y=\"-2666.8\" font-family=\"Helvetica,sans-Serif\" font-size=\"14.00\">gini = 0.0</text>\n<text text-anchor=\"start\" x=\"4923\" y=\"-2651.8\" font-family=\"Helvetica,sans-Serif\" font-size=\"14.00\">samples = 55</text>\n<text text-anchor=\"start\" x=\"4917\" y=\"-2636.8\" font-family=\"Helvetica,sans-Serif\" font-size=\"14.00\">value = [32, 23]</text>\n</g>\n<!-- 39&#45;&gt;40 -->\n<g id=\"edge40\" class=\"edge\">\n<title>39&#45;&gt;40</title>\n<path fill=\"none\" stroke=\"black\" d=\"M4637,-2655.5C4709.55,-2655.5 4826.21,-2655.5 4898.54,-2655.5\"/>\n<polygon fill=\"black\" stroke=\"black\" points=\"4898.88,-2659 4908.88,-2655.5 4898.87,-2652 4898.88,-2659\"/>\n</g>\n<!-- 41 -->\n<g id=\"node42\" class=\"node\">\n<title>41</title>\n<polygon fill=\"#b2d9f5\" stroke=\"black\" points=\"5019,-2611 4909,-2611 4909,-2558 5019,-2558 5019,-2611\"/>\n<text text-anchor=\"start\" x=\"4936\" y=\"-2595.8\" font-family=\"Helvetica,sans-Serif\" font-size=\"14.00\">gini = 0.0</text>\n<text text-anchor=\"start\" x=\"4923\" y=\"-2580.8\" font-family=\"Helvetica,sans-Serif\" font-size=\"14.00\">samples = 50</text>\n<text text-anchor=\"start\" x=\"4917\" y=\"-2565.8\" font-family=\"Helvetica,sans-Serif\" font-size=\"14.00\">value = [19, 31]</text>\n</g>\n<!-- 39&#45;&gt;41 -->\n<g id=\"edge41\" class=\"edge\">\n<title>39&#45;&gt;41</title>\n<path fill=\"none\" stroke=\"black\" d=\"M4637,-2643.7C4709.7,-2630.5 4826.69,-2609.25 4898.98,-2596.13\"/>\n<polygon fill=\"black\" stroke=\"black\" points=\"4899.66,-2599.56 4908.88,-2594.33 4898.41,-2592.67 4899.66,-2599.56\"/>\n</g>\n<!-- 43 -->\n<g id=\"node44\" class=\"node\">\n<title>43</title>\n<polygon fill=\"#efb184\" stroke=\"black\" points=\"3825,-2840 3693,-2840 3693,-2787 3825,-2787 3825,-2840\"/>\n<text text-anchor=\"start\" x=\"3731\" y=\"-2824.8\" font-family=\"Helvetica,sans-Serif\" font-size=\"14.00\">gini = 0.0</text>\n<text text-anchor=\"start\" x=\"3718\" y=\"-2809.8\" font-family=\"Helvetica,sans-Serif\" font-size=\"14.00\">samples = 51</text>\n<text text-anchor=\"start\" x=\"3701\" y=\"-2794.8\" font-family=\"Helvetica,sans-Serif\" font-size=\"14.00\">value = [37.0, 14.0]</text>\n</g>\n<!-- 42&#45;&gt;43 -->\n<g id=\"edge43\" class=\"edge\">\n<title>42&#45;&gt;43</title>\n<path fill=\"none\" stroke=\"black\" d=\"M3432.78,-2809.24C3499.18,-2810.11 3609.34,-2811.55 3682.79,-2812.52\"/>\n<polygon fill=\"black\" stroke=\"black\" points=\"3682.86,-2816.02 3692.91,-2812.65 3682.95,-2809.02 3682.86,-2816.02\"/>\n</g>\n<!-- 44 -->\n<g id=\"node45\" class=\"node\">\n<title>44</title>\n<polygon fill=\"#f2c29f\" stroke=\"black\" points=\"3814,-2769 3704,-2769 3704,-2716 3814,-2716 3814,-2769\"/>\n<text text-anchor=\"start\" x=\"3731\" y=\"-2753.8\" font-family=\"Helvetica,sans-Serif\" font-size=\"14.00\">gini = 0.0</text>\n<text text-anchor=\"start\" x=\"3718\" y=\"-2738.8\" font-family=\"Helvetica,sans-Serif\" font-size=\"14.00\">samples = 50</text>\n<text text-anchor=\"start\" x=\"3712\" y=\"-2723.8\" font-family=\"Helvetica,sans-Serif\" font-size=\"14.00\">value = [33, 17]</text>\n</g>\n<!-- 42&#45;&gt;44 -->\n<g id=\"edge44\" class=\"edge\">\n<title>42&#45;&gt;44</title>\n<path fill=\"none\" stroke=\"black\" d=\"M3432.78,-2798.69C3502.55,-2786.64 3620.65,-2766.23 3693.7,-2753.61\"/>\n<polygon fill=\"black\" stroke=\"black\" points=\"3694.44,-2757.03 3703.7,-2751.88 3693.25,-2750.14 3694.44,-2757.03\"/>\n</g>\n<!-- 47 -->\n<g id=\"node48\" class=\"node\">\n<title>47</title>\n<polygon fill=\"#4aa6e7\" stroke=\"black\" points=\"2632,-2740 2530,-2740 2530,-2687 2632,-2687 2632,-2740\"/>\n<text text-anchor=\"start\" x=\"2553\" y=\"-2724.8\" font-family=\"Helvetica,sans-Serif\" font-size=\"14.00\">gini = 0.0</text>\n<text text-anchor=\"start\" x=\"2540\" y=\"-2709.8\" font-family=\"Helvetica,sans-Serif\" font-size=\"14.00\">samples = 50</text>\n<text text-anchor=\"start\" x=\"2538\" y=\"-2694.8\" font-family=\"Helvetica,sans-Serif\" font-size=\"14.00\">value = [4, 46]</text>\n</g>\n<!-- 46&#45;&gt;47 -->\n<g id=\"edge47\" class=\"edge\">\n<title>46&#45;&gt;47</title>\n<path fill=\"none\" stroke=\"black\" d=\"M2248.68,-2683.61C2324.55,-2690.45 2446.45,-2701.45 2519.33,-2708.03\"/>\n<polygon fill=\"black\" stroke=\"black\" points=\"2519.44,-2711.55 2529.71,-2708.96 2520.07,-2704.58 2519.44,-2711.55\"/>\n</g>\n<!-- 48 -->\n<g id=\"node49\" class=\"node\">\n<title>48</title>\n<polygon fill=\"#399de5\" stroke=\"black\" points=\"2632,-2669 2530,-2669 2530,-2616 2632,-2616 2632,-2669\"/>\n<text text-anchor=\"start\" x=\"2553\" y=\"-2653.8\" font-family=\"Helvetica,sans-Serif\" font-size=\"14.00\">gini = 0.0</text>\n<text text-anchor=\"start\" x=\"2540\" y=\"-2638.8\" font-family=\"Helvetica,sans-Serif\" font-size=\"14.00\">samples = 67</text>\n<text text-anchor=\"start\" x=\"2538\" y=\"-2623.8\" font-family=\"Helvetica,sans-Serif\" font-size=\"14.00\">value = [0, 67]</text>\n</g>\n<!-- 46&#45;&gt;48 -->\n<g id=\"edge48\" class=\"edge\">\n<title>46&#45;&gt;48</title>\n<path fill=\"none\" stroke=\"black\" d=\"M2248.68,-2671.56C2324.55,-2664.91 2446.45,-2654.22 2519.33,-2647.82\"/>\n<polygon fill=\"black\" stroke=\"black\" points=\"2520.06,-2651.27 2529.71,-2646.91 2519.45,-2644.3 2520.06,-2651.27\"/>\n</g>\n<!-- 50 -->\n<g id=\"node51\" class=\"node\">\n<title>50</title>\n<polygon fill=\"#ea9a61\" stroke=\"black\" points=\"2241,-2546.5 2119,-2546.5 2119,-2478.5 2241,-2478.5 2241,-2546.5\"/>\n<text text-anchor=\"start\" x=\"2127\" y=\"-2531.3\" font-family=\"Helvetica,sans-Serif\" font-size=\"14.00\">VRDeck ≤ 1461.0</text>\n<text text-anchor=\"start\" x=\"2152\" y=\"-2516.3\" font-family=\"Helvetica,sans-Serif\" font-size=\"14.00\">gini = 0.0</text>\n<text text-anchor=\"start\" x=\"2135\" y=\"-2501.3\" font-family=\"Helvetica,sans-Serif\" font-size=\"14.00\">samples = 553</text>\n<text text-anchor=\"start\" x=\"2129.5\" y=\"-2486.3\" font-family=\"Helvetica,sans-Serif\" font-size=\"14.00\">value = [460, 93]</text>\n</g>\n<!-- 49&#45;&gt;50 -->\n<g id=\"edge50\" class=\"edge\">\n<title>49&#45;&gt;50</title>\n<path fill=\"none\" stroke=\"black\" d=\"M1842.62,-2479.2C1916.31,-2486.49 2033.68,-2498.11 2108.49,-2505.52\"/>\n<polygon fill=\"black\" stroke=\"black\" points=\"2108.46,-2509.03 2118.75,-2506.53 2109.15,-2502.07 2108.46,-2509.03\"/>\n</g>\n<!-- 65 -->\n<g id=\"node66\" class=\"node\">\n<title>65</title>\n<polygon fill=\"#72b9ec\" stroke=\"black\" points=\"2235,-2460 2125,-2460 2125,-2407 2235,-2407 2235,-2460\"/>\n<text text-anchor=\"start\" x=\"2152\" y=\"-2444.8\" font-family=\"Helvetica,sans-Serif\" font-size=\"14.00\">gini = 0.0</text>\n<text text-anchor=\"start\" x=\"2139\" y=\"-2429.8\" font-family=\"Helvetica,sans-Serif\" font-size=\"14.00\">samples = 54</text>\n<text text-anchor=\"start\" x=\"2133\" y=\"-2414.8\" font-family=\"Helvetica,sans-Serif\" font-size=\"14.00\">value = [12, 42]</text>\n</g>\n<!-- 49&#45;&gt;65 -->\n<g id=\"edge65\" class=\"edge\">\n<title>49&#45;&gt;65</title>\n<path fill=\"none\" stroke=\"black\" d=\"M1842.62,-2465.97C1918.35,-2458.66 2040.2,-2446.9 2114.6,-2439.72\"/>\n<polygon fill=\"black\" stroke=\"black\" points=\"2115.15,-2443.18 2124.77,-2438.74 2114.48,-2436.21 2115.15,-2443.18\"/>\n</g>\n<!-- 51 -->\n<g id=\"node52\" class=\"node\">\n<title>51</title>\n<polygon fill=\"#eca16c\" stroke=\"black\" points=\"2639.5,-2589.5 2522.5,-2589.5 2522.5,-2521.5 2639.5,-2521.5 2639.5,-2589.5\"/>\n<text text-anchor=\"start\" x=\"2549.5\" y=\"-2574.3\" font-family=\"Helvetica,sans-Serif\" font-size=\"14.00\">deck ≤ 4.0</text>\n<text text-anchor=\"start\" x=\"2553\" y=\"-2559.3\" font-family=\"Helvetica,sans-Serif\" font-size=\"14.00\">gini = 0.0</text>\n<text text-anchor=\"start\" x=\"2536\" y=\"-2544.3\" font-family=\"Helvetica,sans-Serif\" font-size=\"14.00\">samples = 420</text>\n<text text-anchor=\"start\" x=\"2530.5\" y=\"-2529.3\" font-family=\"Helvetica,sans-Serif\" font-size=\"14.00\">value = [334, 86]</text>\n</g>\n<!-- 50&#45;&gt;51 -->\n<g id=\"edge51\" class=\"edge\">\n<title>50&#45;&gt;51</title>\n<path fill=\"none\" stroke=\"black\" d=\"M2241.17,-2518.98C2313.98,-2526.83 2436.27,-2540.01 2512.31,-2548.21\"/>\n<polygon fill=\"black\" stroke=\"black\" points=\"2511.95,-2551.69 2522.26,-2549.28 2512.7,-2544.73 2511.95,-2551.69\"/>\n</g>\n<!-- 62 -->\n<g id=\"node63\" class=\"node\">\n<title>62</title>\n<polygon fill=\"#e68844\" stroke=\"black\" points=\"2636,-2503.5 2526,-2503.5 2526,-2435.5 2636,-2435.5 2636,-2503.5\"/>\n<text text-anchor=\"start\" x=\"2543\" y=\"-2488.3\" font-family=\"Helvetica,sans-Serif\" font-size=\"14.00\">num ≤ 176.0</text>\n<text text-anchor=\"start\" x=\"2553\" y=\"-2473.3\" font-family=\"Helvetica,sans-Serif\" font-size=\"14.00\">gini = 0.0</text>\n<text text-anchor=\"start\" x=\"2536\" y=\"-2458.3\" font-family=\"Helvetica,sans-Serif\" font-size=\"14.00\">samples = 133</text>\n<text text-anchor=\"start\" x=\"2534\" y=\"-2443.3\" font-family=\"Helvetica,sans-Serif\" font-size=\"14.00\">value = [126, 7]</text>\n</g>\n<!-- 50&#45;&gt;62 -->\n<g id=\"edge62\" class=\"edge\">\n<title>50&#45;&gt;62</title>\n<path fill=\"none\" stroke=\"black\" d=\"M2241.17,-2506.02C2314.98,-2498.06 2439.62,-2484.63 2515.4,-2476.46\"/>\n<polygon fill=\"black\" stroke=\"black\" points=\"2516.19,-2479.9 2525.76,-2475.35 2515.44,-2472.94 2516.19,-2479.9\"/>\n</g>\n<!-- 52 -->\n<g id=\"node53\" class=\"node\">\n<title>52</title>\n<polygon fill=\"#f5d1b6\" stroke=\"black\" points=\"3037,-2659 2927,-2659 2927,-2606 3037,-2606 3037,-2659\"/>\n<text text-anchor=\"start\" x=\"2954\" y=\"-2643.8\" font-family=\"Helvetica,sans-Serif\" font-size=\"14.00\">gini = 0.0</text>\n<text text-anchor=\"start\" x=\"2941\" y=\"-2628.8\" font-family=\"Helvetica,sans-Serif\" font-size=\"14.00\">samples = 98</text>\n<text text-anchor=\"start\" x=\"2935\" y=\"-2613.8\" font-family=\"Helvetica,sans-Serif\" font-size=\"14.00\">value = [60, 38]</text>\n</g>\n<!-- 51&#45;&gt;52 -->\n<g id=\"edge52\" class=\"edge\">\n<title>51&#45;&gt;52</title>\n<path fill=\"none\" stroke=\"black\" d=\"M2639.59,-2566.61C2713.22,-2580.82 2840.32,-2605.35 2916.94,-2620.14\"/>\n<polygon fill=\"black\" stroke=\"black\" points=\"2916.46,-2623.61 2926.94,-2622.07 2917.79,-2616.74 2916.46,-2623.61\"/>\n</g>\n<!-- 53 -->\n<g id=\"node54\" class=\"node\">\n<title>53</title>\n<polygon fill=\"#ea975c\" stroke=\"black\" points=\"3040.5,-2587.5 2923.5,-2587.5 2923.5,-2519.5 3040.5,-2519.5 3040.5,-2587.5\"/>\n<text text-anchor=\"start\" x=\"2944\" y=\"-2572.3\" font-family=\"Helvetica,sans-Serif\" font-size=\"14.00\">num ≤ 699.0</text>\n<text text-anchor=\"start\" x=\"2954\" y=\"-2557.3\" font-family=\"Helvetica,sans-Serif\" font-size=\"14.00\">gini = 0.0</text>\n<text text-anchor=\"start\" x=\"2937\" y=\"-2542.3\" font-family=\"Helvetica,sans-Serif\" font-size=\"14.00\">samples = 322</text>\n<text text-anchor=\"start\" x=\"2931.5\" y=\"-2527.3\" font-family=\"Helvetica,sans-Serif\" font-size=\"14.00\">value = [274, 48]</text>\n</g>\n<!-- 51&#45;&gt;53 -->\n<g id=\"edge53\" class=\"edge\">\n<title>51&#45;&gt;53</title>\n<path fill=\"none\" stroke=\"black\" d=\"M2639.59,-2555.21C2712.09,-2554.85 2836.42,-2554.22 2913.36,-2553.84\"/>\n<polygon fill=\"black\" stroke=\"black\" points=\"2913.44,-2557.34 2923.43,-2553.79 2913.41,-2550.34 2913.44,-2557.34\"/>\n</g>\n<!-- 54 -->\n<g id=\"node55\" class=\"node\">\n<title>54</title>\n<polygon fill=\"#e78b49\" stroke=\"black\" points=\"3430,-2642.5 3320,-2642.5 3320,-2574.5 3430,-2574.5 3430,-2642.5\"/>\n<text text-anchor=\"start\" x=\"3337\" y=\"-2627.3\" font-family=\"Helvetica,sans-Serif\" font-size=\"14.00\">num ≤ 334.0</text>\n<text text-anchor=\"start\" x=\"3347\" y=\"-2612.3\" font-family=\"Helvetica,sans-Serif\" font-size=\"14.00\">gini = 0.0</text>\n<text text-anchor=\"start\" x=\"3330\" y=\"-2597.3\" font-family=\"Helvetica,sans-Serif\" font-size=\"14.00\">samples = 118</text>\n<text text-anchor=\"start\" x=\"3328\" y=\"-2582.3\" font-family=\"Helvetica,sans-Serif\" font-size=\"14.00\">value = [109, 9]</text>\n</g>\n<!-- 53&#45;&gt;54 -->\n<g id=\"edge54\" class=\"edge\">\n<title>53&#45;&gt;54</title>\n<path fill=\"none\" stroke=\"black\" d=\"M3040.69,-2561.62C3112.51,-2571.72 3234.82,-2588.92 3309.62,-2599.44\"/>\n<polygon fill=\"black\" stroke=\"black\" points=\"3309.46,-2602.96 3319.85,-2600.88 3310.44,-2596.02 3309.46,-2602.96\"/>\n</g>\n<!-- 57 -->\n<g id=\"node58\" class=\"node\">\n<title>57</title>\n<polygon fill=\"#eb9f68\" stroke=\"black\" points=\"3433.5,-2556.5 3316.5,-2556.5 3316.5,-2488.5 3433.5,-2488.5 3433.5,-2556.5\"/>\n<text text-anchor=\"start\" x=\"3333\" y=\"-2541.3\" font-family=\"Helvetica,sans-Serif\" font-size=\"14.00\">num ≤ 1094.0</text>\n<text text-anchor=\"start\" x=\"3347\" y=\"-2526.3\" font-family=\"Helvetica,sans-Serif\" font-size=\"14.00\">gini = 0.0</text>\n<text text-anchor=\"start\" x=\"3330\" y=\"-2511.3\" font-family=\"Helvetica,sans-Serif\" font-size=\"14.00\">samples = 204</text>\n<text text-anchor=\"start\" x=\"3324.5\" y=\"-2496.3\" font-family=\"Helvetica,sans-Serif\" font-size=\"14.00\">value = [165, 39]</text>\n</g>\n<!-- 53&#45;&gt;57 -->\n<g id=\"edge57\" class=\"edge\">\n<title>53&#45;&gt;57</title>\n<path fill=\"none\" stroke=\"black\" d=\"M3040.69,-2548.93C3111.4,-2543.32 3231.03,-2533.83 3306.1,-2527.88\"/>\n<polygon fill=\"black\" stroke=\"black\" points=\"3306.7,-2531.35 3316.39,-2527.07 3306.14,-2524.37 3306.7,-2531.35\"/>\n</g>\n<!-- 55 -->\n<g id=\"node56\" class=\"node\">\n<title>55</title>\n<polygon fill=\"#e99355\" stroke=\"black\" points=\"3810,-2698 3708,-2698 3708,-2645 3810,-2645 3810,-2698\"/>\n<text text-anchor=\"start\" x=\"3731\" y=\"-2682.8\" font-family=\"Helvetica,sans-Serif\" font-size=\"14.00\">gini = 0.0</text>\n<text text-anchor=\"start\" x=\"3718\" y=\"-2667.8\" font-family=\"Helvetica,sans-Serif\" font-size=\"14.00\">samples = 56</text>\n<text text-anchor=\"start\" x=\"3716\" y=\"-2652.8\" font-family=\"Helvetica,sans-Serif\" font-size=\"14.00\">value = [49, 7]</text>\n</g>\n<!-- 54&#45;&gt;55 -->\n<g id=\"edge55\" class=\"edge\">\n<title>54&#45;&gt;55</title>\n<path fill=\"none\" stroke=\"black\" d=\"M3430.33,-2617.46C3501.05,-2629.12 3624.28,-2649.45 3697.78,-2661.57\"/>\n<polygon fill=\"black\" stroke=\"black\" points=\"3697.38,-2665.05 3707.82,-2663.22 3698.52,-2658.14 3697.38,-2665.05\"/>\n</g>\n<!-- 56 -->\n<g id=\"node57\" class=\"node\">\n<title>56</title>\n<polygon fill=\"#e68540\" stroke=\"black\" points=\"3810,-2627 3708,-2627 3708,-2574 3810,-2574 3810,-2627\"/>\n<text text-anchor=\"start\" x=\"3731\" y=\"-2611.8\" font-family=\"Helvetica,sans-Serif\" font-size=\"14.00\">gini = 0.0</text>\n<text text-anchor=\"start\" x=\"3718\" y=\"-2596.8\" font-family=\"Helvetica,sans-Serif\" font-size=\"14.00\">samples = 62</text>\n<text text-anchor=\"start\" x=\"3716\" y=\"-2581.8\" font-family=\"Helvetica,sans-Serif\" font-size=\"14.00\">value = [60, 2]</text>\n</g>\n<!-- 54&#45;&gt;56 -->\n<g id=\"edge56\" class=\"edge\">\n<title>54&#45;&gt;56</title>\n<path fill=\"none\" stroke=\"black\" d=\"M3430.33,-2607.36C3501.05,-2605.88 3624.28,-2603.3 3697.78,-2601.76\"/>\n<polygon fill=\"black\" stroke=\"black\" points=\"3697.89,-2605.26 3707.82,-2601.55 3697.74,-2598.26 3697.89,-2605.26\"/>\n</g>\n<!-- 58 -->\n<g id=\"node59\" class=\"node\">\n<title>58</title>\n<polygon fill=\"#f1bc95\" stroke=\"black\" points=\"3825,-2556 3693,-2556 3693,-2503 3825,-2503 3825,-2556\"/>\n<text text-anchor=\"start\" x=\"3731\" y=\"-2540.8\" font-family=\"Helvetica,sans-Serif\" font-size=\"14.00\">gini = 0.0</text>\n<text text-anchor=\"start\" x=\"3718\" y=\"-2525.8\" font-family=\"Helvetica,sans-Serif\" font-size=\"14.00\">samples = 82</text>\n<text text-anchor=\"start\" x=\"3701\" y=\"-2510.8\" font-family=\"Helvetica,sans-Serif\" font-size=\"14.00\">value = [56.0, 26.0]</text>\n</g>\n<!-- 57&#45;&gt;58 -->\n<g id=\"edge58\" class=\"edge\">\n<title>57&#45;&gt;58</title>\n<path fill=\"none\" stroke=\"black\" d=\"M3433.6,-2523.56C3500.09,-2524.77 3609.65,-2526.78 3682.81,-2528.12\"/>\n<polygon fill=\"black\" stroke=\"black\" points=\"3682.82,-2531.62 3692.88,-2528.31 3682.95,-2524.62 3682.82,-2531.62\"/>\n</g>\n<!-- 59 -->\n<g id=\"node60\" class=\"node\">\n<title>59</title>\n<polygon fill=\"#e89051\" stroke=\"black\" points=\"3817.5,-2484.5 3700.5,-2484.5 3700.5,-2416.5 3817.5,-2416.5 3817.5,-2484.5\"/>\n<text text-anchor=\"start\" x=\"3729.5\" y=\"-2469.3\" font-family=\"Helvetica,sans-Serif\" font-size=\"14.00\">side ≤ 0.0</text>\n<text text-anchor=\"start\" x=\"3731\" y=\"-2454.3\" font-family=\"Helvetica,sans-Serif\" font-size=\"14.00\">gini = 0.0</text>\n<text text-anchor=\"start\" x=\"3714\" y=\"-2439.3\" font-family=\"Helvetica,sans-Serif\" font-size=\"14.00\">samples = 122</text>\n<text text-anchor=\"start\" x=\"3708.5\" y=\"-2424.3\" font-family=\"Helvetica,sans-Serif\" font-size=\"14.00\">value = [109, 13]</text>\n</g>\n<!-- 57&#45;&gt;59 -->\n<g id=\"edge59\" class=\"edge\">\n<title>57&#45;&gt;59</title>\n<path fill=\"none\" stroke=\"black\" d=\"M3433.6,-2511.64C3502.38,-2498.68 3617.25,-2477.03 3690.23,-2463.27\"/>\n<polygon fill=\"black\" stroke=\"black\" points=\"3691.06,-2466.68 3700.24,-2461.39 3689.77,-2459.8 3691.06,-2466.68\"/>\n</g>\n<!-- 60 -->\n<g id=\"node61\" class=\"node\">\n<title>60</title>\n<polygon fill=\"#e78946\" stroke=\"black\" points=\"4220,-2537 4118,-2537 4118,-2484 4220,-2484 4220,-2537\"/>\n<text text-anchor=\"start\" x=\"4141\" y=\"-2521.8\" font-family=\"Helvetica,sans-Serif\" font-size=\"14.00\">gini = 0.0</text>\n<text text-anchor=\"start\" x=\"4128\" y=\"-2506.8\" font-family=\"Helvetica,sans-Serif\" font-size=\"14.00\">samples = 65</text>\n<text text-anchor=\"start\" x=\"4126\" y=\"-2491.8\" font-family=\"Helvetica,sans-Serif\" font-size=\"14.00\">value = [61, 4]</text>\n</g>\n<!-- 59&#45;&gt;60 -->\n<g id=\"edge60\" class=\"edge\">\n<title>59&#45;&gt;60</title>\n<path fill=\"none\" stroke=\"black\" d=\"M3817.59,-2458.97C3894.32,-2470.25 4029.46,-2490.13 4107.59,-2501.62\"/>\n<polygon fill=\"black\" stroke=\"black\" points=\"4107.36,-2505.12 4117.76,-2503.11 4108.37,-2498.19 4107.36,-2505.12\"/>\n</g>\n<!-- 61 -->\n<g id=\"node62\" class=\"node\">\n<title>61</title>\n<polygon fill=\"#ea995e\" stroke=\"black\" points=\"4220,-2466 4118,-2466 4118,-2413 4220,-2413 4220,-2466\"/>\n<text text-anchor=\"start\" x=\"4141\" y=\"-2450.8\" font-family=\"Helvetica,sans-Serif\" font-size=\"14.00\">gini = 0.0</text>\n<text text-anchor=\"start\" x=\"4128\" y=\"-2435.8\" font-family=\"Helvetica,sans-Serif\" font-size=\"14.00\">samples = 57</text>\n<text text-anchor=\"start\" x=\"4126\" y=\"-2420.8\" font-family=\"Helvetica,sans-Serif\" font-size=\"14.00\">value = [48, 9]</text>\n</g>\n<!-- 59&#45;&gt;61 -->\n<g id=\"edge61\" class=\"edge\">\n<title>59&#45;&gt;61</title>\n<path fill=\"none\" stroke=\"black\" d=\"M3817.59,-2448.95C3894.32,-2446.88 4029.46,-2443.24 4107.59,-2441.13\"/>\n<polygon fill=\"black\" stroke=\"black\" points=\"4107.86,-2444.62 4117.76,-2440.85 4107.67,-2437.63 4107.86,-2444.62\"/>\n</g>\n<!-- 63 -->\n<g id=\"node64\" class=\"node\">\n<title>63</title>\n<polygon fill=\"#e58139\" stroke=\"black\" points=\"3033,-2498 2931,-2498 2931,-2445 3033,-2445 3033,-2498\"/>\n<text text-anchor=\"start\" x=\"2954\" y=\"-2482.8\" font-family=\"Helvetica,sans-Serif\" font-size=\"14.00\">gini = 0.0</text>\n<text text-anchor=\"start\" x=\"2941\" y=\"-2467.8\" font-family=\"Helvetica,sans-Serif\" font-size=\"14.00\">samples = 50</text>\n<text text-anchor=\"start\" x=\"2939\" y=\"-2452.8\" font-family=\"Helvetica,sans-Serif\" font-size=\"14.00\">value = [50, 0]</text>\n</g>\n<!-- 62&#45;&gt;63 -->\n<g id=\"edge63\" class=\"edge\">\n<title>62&#45;&gt;63</title>\n<path fill=\"none\" stroke=\"black\" d=\"M2636.23,-2469.77C2710.55,-2470.14 2843.64,-2470.81 2920.92,-2471.2\"/>\n<polygon fill=\"black\" stroke=\"black\" points=\"2920.96,-2474.7 2930.98,-2471.25 2921,-2467.7 2920.96,-2474.7\"/>\n</g>\n<!-- 64 -->\n<g id=\"node65\" class=\"node\">\n<title>64</title>\n<polygon fill=\"#e78d4b\" stroke=\"black\" points=\"3044.5,-2427 2919.5,-2427 2919.5,-2374 3044.5,-2374 3044.5,-2427\"/>\n<text text-anchor=\"start\" x=\"2954\" y=\"-2411.8\" font-family=\"Helvetica,sans-Serif\" font-size=\"14.00\">gini = 0.0</text>\n<text text-anchor=\"start\" x=\"2941\" y=\"-2396.8\" font-family=\"Helvetica,sans-Serif\" font-size=\"14.00\">samples = 83</text>\n<text text-anchor=\"start\" x=\"2927.5\" y=\"-2381.8\" font-family=\"Helvetica,sans-Serif\" font-size=\"14.00\">value = [76.0, 7.0]</text>\n</g>\n<!-- 62&#45;&gt;64 -->\n<g id=\"edge64\" class=\"edge\">\n<title>62&#45;&gt;64</title>\n<path fill=\"none\" stroke=\"black\" d=\"M2636.23,-2460.12C2706.88,-2447.9 2830.64,-2426.5 2909.08,-2412.94\"/>\n<polygon fill=\"black\" stroke=\"black\" points=\"2910.1,-2416.31 2919.36,-2411.16 2908.91,-2409.41 2910.1,-2416.31\"/>\n</g>\n<!-- 67 -->\n<g id=\"node68\" class=\"node\">\n<title>67</title>\n<polygon fill=\"#ea985d\" stroke=\"black\" points=\"1836.5,-1942.5 1711.5,-1942.5 1711.5,-1874.5 1836.5,-1874.5 1836.5,-1942.5\"/>\n<text text-anchor=\"start\" x=\"1733.5\" y=\"-1927.3\" font-family=\"Helvetica,sans-Serif\" font-size=\"14.00\">Spa ≤ 1808.0</text>\n<text text-anchor=\"start\" x=\"1746\" y=\"-1912.3\" font-family=\"Helvetica,sans-Serif\" font-size=\"14.00\">gini = 0.0</text>\n<text text-anchor=\"start\" x=\"1729\" y=\"-1897.3\" font-family=\"Helvetica,sans-Serif\" font-size=\"14.00\">samples = 894</text>\n<text text-anchor=\"start\" x=\"1719.5\" y=\"-1882.3\" font-family=\"Helvetica,sans-Serif\" font-size=\"14.00\">value = [756, 138]</text>\n</g>\n<!-- 66&#45;&gt;67 -->\n<g id=\"edge67\" class=\"edge\">\n<title>66&#45;&gt;67</title>\n<path fill=\"none\" stroke=\"black\" d=\"M1436.62,-1872.7C1509.88,-1880.5 1626.31,-1892.89 1701.18,-1900.86\"/>\n<polygon fill=\"black\" stroke=\"black\" points=\"1701.14,-1904.37 1711.46,-1901.95 1701.88,-1897.41 1701.14,-1904.37\"/>\n</g>\n<!-- 92 -->\n<g id=\"node93\" class=\"node\">\n<title>92</title>\n<polygon fill=\"#fbeee4\" stroke=\"black\" points=\"1829,-1856.5 1719,-1856.5 1719,-1788.5 1829,-1788.5 1829,-1856.5\"/>\n<text text-anchor=\"start\" x=\"1733.5\" y=\"-1841.3\" font-family=\"Helvetica,sans-Serif\" font-size=\"14.00\">Spa ≤ 2260.0</text>\n<text text-anchor=\"start\" x=\"1746\" y=\"-1826.3\" font-family=\"Helvetica,sans-Serif\" font-size=\"14.00\">gini = 0.0</text>\n<text text-anchor=\"start\" x=\"1729\" y=\"-1811.3\" font-family=\"Helvetica,sans-Serif\" font-size=\"14.00\">samples = 149</text>\n<text text-anchor=\"start\" x=\"1727\" y=\"-1796.3\" font-family=\"Helvetica,sans-Serif\" font-size=\"14.00\">value = [80, 69]</text>\n</g>\n<!-- 66&#45;&gt;92 -->\n<g id=\"edge92\" class=\"edge\">\n<title>66&#45;&gt;92</title>\n<path fill=\"none\" stroke=\"black\" d=\"M1436.62,-1858.3C1512.35,-1850.24 1634.2,-1837.27 1708.6,-1829.35\"/>\n<polygon fill=\"black\" stroke=\"black\" points=\"1709.2,-1832.81 1718.77,-1828.27 1708.45,-1825.85 1709.2,-1832.81\"/>\n</g>\n<!-- 68 -->\n<g id=\"node69\" class=\"node\">\n<title>68</title>\n<polygon fill=\"#eb9e66\" stroke=\"black\" points=\"2244.5,-2051.5 2115.5,-2051.5 2115.5,-1983.5 2244.5,-1983.5 2244.5,-2051.5\"/>\n<text text-anchor=\"start\" x=\"2123.5\" y=\"-2036.3\" font-family=\"Helvetica,sans-Serif\" font-size=\"14.00\">FoodCourt ≤ 594.0</text>\n<text text-anchor=\"start\" x=\"2152\" y=\"-2021.3\" font-family=\"Helvetica,sans-Serif\" font-size=\"14.00\">gini = 0.0</text>\n<text text-anchor=\"start\" x=\"2135\" y=\"-2006.3\" font-family=\"Helvetica,sans-Serif\" font-size=\"14.00\">samples = 704</text>\n<text text-anchor=\"start\" x=\"2125.5\" y=\"-1991.3\" font-family=\"Helvetica,sans-Serif\" font-size=\"14.00\">value = [573, 131]</text>\n</g>\n<!-- 67&#45;&gt;68 -->\n<g id=\"edge68\" class=\"edge\">\n<title>67&#45;&gt;68</title>\n<path fill=\"none\" stroke=\"black\" d=\"M1836.8,-1925.17C1908.93,-1944.64 2028.14,-1976.8 2105.1,-1997.56\"/>\n<polygon fill=\"black\" stroke=\"black\" points=\"2104.64,-2001.06 2115.21,-2000.29 2106.46,-1994.3 2104.64,-2001.06\"/>\n</g>\n<!-- 87 -->\n<g id=\"node88\" class=\"node\">\n<title>87</title>\n<polygon fill=\"#e68641\" stroke=\"black\" points=\"2246,-1940.5 2114,-1940.5 2114,-1872.5 2246,-1872.5 2246,-1940.5\"/>\n<text text-anchor=\"start\" x=\"2139.5\" y=\"-1925.3\" font-family=\"Helvetica,sans-Serif\" font-size=\"14.00\">Spa ≤ 3756.0</text>\n<text text-anchor=\"start\" x=\"2152\" y=\"-1910.3\" font-family=\"Helvetica,sans-Serif\" font-size=\"14.00\">gini = 0.0</text>\n<text text-anchor=\"start\" x=\"2135\" y=\"-1895.3\" font-family=\"Helvetica,sans-Serif\" font-size=\"14.00\">samples = 190</text>\n<text text-anchor=\"start\" x=\"2122\" y=\"-1880.3\" font-family=\"Helvetica,sans-Serif\" font-size=\"14.00\">value = [183.0, 7.0]</text>\n</g>\n<!-- 67&#45;&gt;87 -->\n<g id=\"edge87\" class=\"edge\">\n<title>67&#45;&gt;87</title>\n<path fill=\"none\" stroke=\"black\" d=\"M1836.8,-1908.19C1908.51,-1907.84 2026.74,-1907.25 2103.75,-1906.87\"/>\n<polygon fill=\"black\" stroke=\"black\" points=\"2103.88,-1910.37 2113.86,-1906.82 2103.84,-1903.37 2103.88,-1910.37\"/>\n</g>\n<!-- 69 -->\n<g id=\"node70\" class=\"node\">\n<title>69</title>\n<polygon fill=\"#ea985d\" stroke=\"black\" points=\"2639.5,-2161.5 2522.5,-2161.5 2522.5,-2093.5 2639.5,-2093.5 2639.5,-2161.5\"/>\n<text text-anchor=\"start\" x=\"2548\" y=\"-2146.3\" font-family=\"Helvetica,sans-Serif\" font-size=\"14.00\">Age ≤ 42.0</text>\n<text text-anchor=\"start\" x=\"2553\" y=\"-2131.3\" font-family=\"Helvetica,sans-Serif\" font-size=\"14.00\">gini = 0.0</text>\n<text text-anchor=\"start\" x=\"2536\" y=\"-2116.3\" font-family=\"Helvetica,sans-Serif\" font-size=\"14.00\">samples = 597</text>\n<text text-anchor=\"start\" x=\"2530.5\" y=\"-2101.3\" font-family=\"Helvetica,sans-Serif\" font-size=\"14.00\">value = [505, 92]</text>\n</g>\n<!-- 68&#45;&gt;69 -->\n<g id=\"edge69\" class=\"edge\">\n<title>68&#45;&gt;69</title>\n<path fill=\"none\" stroke=\"black\" d=\"M2244.66,-2035.05C2317.94,-2055.25 2437.78,-2088.29 2512.59,-2108.92\"/>\n<polygon fill=\"black\" stroke=\"black\" points=\"2511.82,-2112.33 2522.39,-2111.62 2513.68,-2105.59 2511.82,-2112.33\"/>\n</g>\n<!-- 84 -->\n<g id=\"node85\" class=\"node\">\n<title>84</title>\n<polygon fill=\"#f4c9ab\" stroke=\"black\" points=\"2638.5,-2051.5 2523.5,-2051.5 2523.5,-1983.5 2638.5,-1983.5 2638.5,-2051.5\"/>\n<text text-anchor=\"start\" x=\"2531.5\" y=\"-2036.3\" font-family=\"Helvetica,sans-Serif\" font-size=\"14.00\">VRDeck ≤ 448.0</text>\n<text text-anchor=\"start\" x=\"2553\" y=\"-2021.3\" font-family=\"Helvetica,sans-Serif\" font-size=\"14.00\">gini = 0.0</text>\n<text text-anchor=\"start\" x=\"2536\" y=\"-2006.3\" font-family=\"Helvetica,sans-Serif\" font-size=\"14.00\">samples = 107</text>\n<text text-anchor=\"start\" x=\"2534\" y=\"-1991.3\" font-family=\"Helvetica,sans-Serif\" font-size=\"14.00\">value = [68, 39]</text>\n</g>\n<!-- 68&#45;&gt;84 -->\n<g id=\"edge84\" class=\"edge\">\n<title>68&#45;&gt;84</title>\n<path fill=\"none\" stroke=\"black\" d=\"M2244.66,-2017.5C2318.11,-2017.5 2438.32,-2017.5 2513.1,-2017.5\"/>\n<polygon fill=\"black\" stroke=\"black\" points=\"2513.34,-2021 2523.34,-2017.5 2513.34,-2014 2513.34,-2021\"/>\n</g>\n<!-- 70 -->\n<g id=\"node71\" class=\"node\">\n<title>70</title>\n<polygon fill=\"#e99457\" stroke=\"black\" points=\"3048.5,-2247.5 2915.5,-2247.5 2915.5,-2179.5 3048.5,-2179.5 3048.5,-2247.5\"/>\n<text text-anchor=\"start\" x=\"2923.5\" y=\"-2232.3\" font-family=\"Helvetica,sans-Serif\" font-size=\"14.00\">ShoppingMall ≤ 0.0</text>\n<text text-anchor=\"start\" x=\"2954\" y=\"-2217.3\" font-family=\"Helvetica,sans-Serif\" font-size=\"14.00\">gini = 0.0</text>\n<text text-anchor=\"start\" x=\"2937\" y=\"-2202.3\" font-family=\"Helvetica,sans-Serif\" font-size=\"14.00\">samples = 488</text>\n<text text-anchor=\"start\" x=\"2931.5\" y=\"-2187.3\" font-family=\"Helvetica,sans-Serif\" font-size=\"14.00\">value = [424, 64]</text>\n</g>\n<!-- 69&#45;&gt;70 -->\n<g id=\"edge70\" class=\"edge\">\n<title>69&#45;&gt;70</title>\n<path fill=\"none\" stroke=\"black\" d=\"M2639.59,-2139.91C2709.61,-2155 2827.98,-2180.52 2905.3,-2197.18\"/>\n<polygon fill=\"black\" stroke=\"black\" points=\"2904.95,-2200.69 2915.46,-2199.37 2906.43,-2193.85 2904.95,-2200.69\"/>\n</g>\n<!-- 81 -->\n<g id=\"node82\" class=\"node\">\n<title>81</title>\n<polygon fill=\"#eead7d\" stroke=\"black\" points=\"3037,-2161.5 2927,-2161.5 2927,-2093.5 3037,-2093.5 3037,-2161.5\"/>\n<text text-anchor=\"start\" x=\"2940\" y=\"-2146.3\" font-family=\"Helvetica,sans-Serif\" font-size=\"14.00\">VRDeck ≤ 9.0</text>\n<text text-anchor=\"start\" x=\"2954\" y=\"-2131.3\" font-family=\"Helvetica,sans-Serif\" font-size=\"14.00\">gini = 0.0</text>\n<text text-anchor=\"start\" x=\"2937\" y=\"-2116.3\" font-family=\"Helvetica,sans-Serif\" font-size=\"14.00\">samples = 109</text>\n<text text-anchor=\"start\" x=\"2935\" y=\"-2101.3\" font-family=\"Helvetica,sans-Serif\" font-size=\"14.00\">value = [81, 28]</text>\n</g>\n<!-- 69&#45;&gt;81 -->\n<g id=\"edge81\" class=\"edge\">\n<title>69&#45;&gt;81</title>\n<path fill=\"none\" stroke=\"black\" d=\"M2639.59,-2127.5C2713.22,-2127.5 2840.32,-2127.5 2916.94,-2127.5\"/>\n<polygon fill=\"black\" stroke=\"black\" points=\"2916.94,-2131 2926.94,-2127.5 2916.94,-2124 2916.94,-2131\"/>\n</g>\n<!-- 71 -->\n<g id=\"node72\" class=\"node\">\n<title>71</title>\n<polygon fill=\"#e78d4c\" stroke=\"black\" points=\"3433.5,-2326.5 3316.5,-2326.5 3316.5,-2258.5 3433.5,-2258.5 3433.5,-2326.5\"/>\n<text text-anchor=\"start\" x=\"3338.5\" y=\"-2311.3\" font-family=\"Helvetica,sans-Serif\" font-size=\"14.00\">Spa ≤ 482.0</text>\n<text text-anchor=\"start\" x=\"3347\" y=\"-2296.3\" font-family=\"Helvetica,sans-Serif\" font-size=\"14.00\">gini = 0.0</text>\n<text text-anchor=\"start\" x=\"3330\" y=\"-2281.3\" font-family=\"Helvetica,sans-Serif\" font-size=\"14.00\">samples = 253</text>\n<text text-anchor=\"start\" x=\"3324.5\" y=\"-2266.3\" font-family=\"Helvetica,sans-Serif\" font-size=\"14.00\">value = [231, 22]</text>\n</g>\n<!-- 70&#45;&gt;71 -->\n<g id=\"edge71\" class=\"edge\">\n<title>70&#45;&gt;71</title>\n<path fill=\"none\" stroke=\"black\" d=\"M3048.89,-2226.81C3120.49,-2241.28 3234.33,-2264.28 3306.55,-2278.87\"/>\n<polygon fill=\"black\" stroke=\"black\" points=\"3305.96,-2282.32 3316.45,-2280.87 3307.34,-2275.46 3305.96,-2282.32\"/>\n</g>\n<!-- 76 -->\n<g id=\"node77\" class=\"node\">\n<title>76</title>\n<polygon fill=\"#eb9c64\" stroke=\"black\" points=\"3433.5,-2240.5 3316.5,-2240.5 3316.5,-2172.5 3433.5,-2172.5 3433.5,-2240.5\"/>\n<text text-anchor=\"start\" x=\"3338.5\" y=\"-2225.3\" font-family=\"Helvetica,sans-Serif\" font-size=\"14.00\">Spa ≤ 668.0</text>\n<text text-anchor=\"start\" x=\"3347\" y=\"-2210.3\" font-family=\"Helvetica,sans-Serif\" font-size=\"14.00\">gini = 0.0</text>\n<text text-anchor=\"start\" x=\"3330\" y=\"-2195.3\" font-family=\"Helvetica,sans-Serif\" font-size=\"14.00\">samples = 235</text>\n<text text-anchor=\"start\" x=\"3324.5\" y=\"-2180.3\" font-family=\"Helvetica,sans-Serif\" font-size=\"14.00\">value = [193, 42]</text>\n</g>\n<!-- 70&#45;&gt;76 -->\n<g id=\"edge76\" class=\"edge\">\n<title>70&#45;&gt;76</title>\n<path fill=\"none\" stroke=\"black\" d=\"M3048.89,-2212.32C3120.35,-2211.04 3233.86,-2209.01 3306.1,-2207.72\"/>\n<polygon fill=\"black\" stroke=\"black\" points=\"3306.52,-2211.21 3316.45,-2207.53 3306.39,-2204.21 3306.52,-2211.21\"/>\n</g>\n<!-- 72 -->\n<g id=\"node73\" class=\"node\">\n<title>72</title>\n<polygon fill=\"#ea995f\" stroke=\"black\" points=\"3810,-2398 3708,-2398 3708,-2345 3810,-2345 3810,-2398\"/>\n<text text-anchor=\"start\" x=\"3731\" y=\"-2382.8\" font-family=\"Helvetica,sans-Serif\" font-size=\"14.00\">gini = 0.0</text>\n<text text-anchor=\"start\" x=\"3718\" y=\"-2367.8\" font-family=\"Helvetica,sans-Serif\" font-size=\"14.00\">samples = 56</text>\n<text text-anchor=\"start\" x=\"3716\" y=\"-2352.8\" font-family=\"Helvetica,sans-Serif\" font-size=\"14.00\">value = [47, 9]</text>\n</g>\n<!-- 71&#45;&gt;72 -->\n<g id=\"edge72\" class=\"edge\">\n<title>71&#45;&gt;72</title>\n<path fill=\"none\" stroke=\"black\" d=\"M3433.6,-2304.41C3504.87,-2319.15 3625.62,-2344.12 3697.98,-2359.09\"/>\n<polygon fill=\"black\" stroke=\"black\" points=\"3697.36,-2362.53 3707.86,-2361.13 3698.78,-2355.68 3697.36,-2362.53\"/>\n</g>\n<!-- 73 -->\n<g id=\"node74\" class=\"node\">\n<title>73</title>\n<polygon fill=\"#e78a47\" stroke=\"black\" points=\"3817.5,-2326.5 3700.5,-2326.5 3700.5,-2258.5 3817.5,-2258.5 3817.5,-2326.5\"/>\n<text text-anchor=\"start\" x=\"3729.5\" y=\"-2311.3\" font-family=\"Helvetica,sans-Serif\" font-size=\"14.00\">side ≤ 0.0</text>\n<text text-anchor=\"start\" x=\"3731\" y=\"-2296.3\" font-family=\"Helvetica,sans-Serif\" font-size=\"14.00\">gini = 0.0</text>\n<text text-anchor=\"start\" x=\"3714\" y=\"-2281.3\" font-family=\"Helvetica,sans-Serif\" font-size=\"14.00\">samples = 197</text>\n<text text-anchor=\"start\" x=\"3708.5\" y=\"-2266.3\" font-family=\"Helvetica,sans-Serif\" font-size=\"14.00\">value = [184, 13]</text>\n</g>\n<!-- 71&#45;&gt;73 -->\n<g id=\"edge73\" class=\"edge\">\n<title>71&#45;&gt;73</title>\n<path fill=\"none\" stroke=\"black\" d=\"M3433.6,-2292.5C3502.38,-2292.5 3617.25,-2292.5 3690.23,-2292.5\"/>\n<polygon fill=\"black\" stroke=\"black\" points=\"3690.24,-2296 3700.24,-2292.5 3690.24,-2289 3690.24,-2296\"/>\n</g>\n<!-- 74 -->\n<g id=\"node75\" class=\"node\">\n<title>74</title>\n<polygon fill=\"#e6853f\" stroke=\"black\" points=\"4220,-2383 4118,-2383 4118,-2330 4220,-2330 4220,-2383\"/>\n<text text-anchor=\"start\" x=\"4141\" y=\"-2367.8\" font-family=\"Helvetica,sans-Serif\" font-size=\"14.00\">gini = 0.0</text>\n<text text-anchor=\"start\" x=\"4128\" y=\"-2352.8\" font-family=\"Helvetica,sans-Serif\" font-size=\"14.00\">samples = 99</text>\n<text text-anchor=\"start\" x=\"4126\" y=\"-2337.8\" font-family=\"Helvetica,sans-Serif\" font-size=\"14.00\">value = [96, 3]</text>\n</g>\n<!-- 73&#45;&gt;74 -->\n<g id=\"edge74\" class=\"edge\">\n<title>73&#45;&gt;74</title>\n<path fill=\"none\" stroke=\"black\" d=\"M3817.59,-2301.53C3894.32,-2313.57 4029.46,-2334.77 4107.59,-2347.02\"/>\n<polygon fill=\"black\" stroke=\"black\" points=\"4107.34,-2350.53 4117.76,-2348.62 4108.42,-2343.61 4107.34,-2350.53\"/>\n</g>\n<!-- 75 -->\n<g id=\"node76\" class=\"node\">\n<title>75</title>\n<polygon fill=\"#e88f50\" stroke=\"black\" points=\"4224,-2312 4114,-2312 4114,-2259 4224,-2259 4224,-2312\"/>\n<text text-anchor=\"start\" x=\"4141\" y=\"-2296.8\" font-family=\"Helvetica,sans-Serif\" font-size=\"14.00\">gini = 0.0</text>\n<text text-anchor=\"start\" x=\"4128\" y=\"-2281.8\" font-family=\"Helvetica,sans-Serif\" font-size=\"14.00\">samples = 98</text>\n<text text-anchor=\"start\" x=\"4122\" y=\"-2266.8\" font-family=\"Helvetica,sans-Serif\" font-size=\"14.00\">value = [88, 10]</text>\n</g>\n<!-- 73&#45;&gt;75 -->\n<g id=\"edge75\" class=\"edge\">\n<title>73&#45;&gt;75</title>\n<path fill=\"none\" stroke=\"black\" d=\"M3817.59,-2291.51C3893.06,-2290.22 4025.03,-2287.95 4103.69,-2286.6\"/>\n<polygon fill=\"black\" stroke=\"black\" points=\"4104.02,-2290.1 4113.95,-2286.43 4103.9,-2283.1 4104.02,-2290.1\"/>\n</g>\n<!-- 77 -->\n<g id=\"node78\" class=\"node\">\n<title>77</title>\n<polygon fill=\"#eca36f\" stroke=\"black\" points=\"3825,-2240.5 3693,-2240.5 3693,-2172.5 3825,-2172.5 3825,-2240.5\"/>\n<text text-anchor=\"start\" x=\"3701\" y=\"-2225.3\" font-family=\"Helvetica,sans-Serif\" font-size=\"14.00\">RoomService ≤ 4.0</text>\n<text text-anchor=\"start\" x=\"3731\" y=\"-2210.3\" font-family=\"Helvetica,sans-Serif\" font-size=\"14.00\">gini = 0.0</text>\n<text text-anchor=\"start\" x=\"3714\" y=\"-2195.3\" font-family=\"Helvetica,sans-Serif\" font-size=\"14.00\">samples = 149</text>\n<text text-anchor=\"start\" x=\"3708.5\" y=\"-2180.3\" font-family=\"Helvetica,sans-Serif\" font-size=\"14.00\">value = [117, 32]</text>\n</g>\n<!-- 76&#45;&gt;77 -->\n<g id=\"edge77\" class=\"edge\">\n<title>76&#45;&gt;77</title>\n<path fill=\"none\" stroke=\"black\" d=\"M3433.6,-2206.5C3500.09,-2206.5 3609.65,-2206.5 3682.81,-2206.5\"/>\n<polygon fill=\"black\" stroke=\"black\" points=\"3682.88,-2210 3692.88,-2206.5 3682.88,-2203 3682.88,-2210\"/>\n</g>\n<!-- 80 -->\n<g id=\"node81\" class=\"node\">\n<title>80</title>\n<polygon fill=\"#e89253\" stroke=\"black\" points=\"3814,-2154 3704,-2154 3704,-2101 3814,-2101 3814,-2154\"/>\n<text text-anchor=\"start\" x=\"3731\" y=\"-2138.8\" font-family=\"Helvetica,sans-Serif\" font-size=\"14.00\">gini = 0.0</text>\n<text text-anchor=\"start\" x=\"3718\" y=\"-2123.8\" font-family=\"Helvetica,sans-Serif\" font-size=\"14.00\">samples = 86</text>\n<text text-anchor=\"start\" x=\"3712\" y=\"-2108.8\" font-family=\"Helvetica,sans-Serif\" font-size=\"14.00\">value = [76, 10]</text>\n</g>\n<!-- 76&#45;&gt;80 -->\n<g id=\"edge80\" class=\"edge\">\n<title>76&#45;&gt;80</title>\n<path fill=\"none\" stroke=\"black\" d=\"M3433.6,-2194.59C3503.57,-2180.12 3621.25,-2155.78 3693.99,-2140.74\"/>\n<polygon fill=\"black\" stroke=\"black\" points=\"3694.87,-2144.13 3703.95,-2138.68 3693.45,-2137.28 3694.87,-2144.13\"/>\n</g>\n<!-- 78 -->\n<g id=\"node79\" class=\"node\">\n<title>78</title>\n<polygon fill=\"#ea985c\" stroke=\"black\" points=\"4224,-2237 4114,-2237 4114,-2184 4224,-2184 4224,-2237\"/>\n<text text-anchor=\"start\" x=\"4141\" y=\"-2221.8\" font-family=\"Helvetica,sans-Serif\" font-size=\"14.00\">gini = 0.0</text>\n<text text-anchor=\"start\" x=\"4128\" y=\"-2206.8\" font-family=\"Helvetica,sans-Serif\" font-size=\"14.00\">samples = 79</text>\n<text text-anchor=\"start\" x=\"4122\" y=\"-2191.8\" font-family=\"Helvetica,sans-Serif\" font-size=\"14.00\">value = [67, 12]</text>\n</g>\n<!-- 77&#45;&gt;78 -->\n<g id=\"edge78\" class=\"edge\">\n<title>77&#45;&gt;78</title>\n<path fill=\"none\" stroke=\"black\" d=\"M3825.1,-2207.14C3901.49,-2207.89 4027.36,-2209.12 4103.49,-2209.87\"/>\n<polygon fill=\"black\" stroke=\"black\" points=\"4103.86,-2213.37 4113.89,-2209.97 4103.93,-2206.37 4103.86,-2213.37\"/>\n</g>\n<!-- 79 -->\n<g id=\"node80\" class=\"node\">\n<title>79</title>\n<polygon fill=\"#efb388\" stroke=\"black\" points=\"4224,-2166 4114,-2166 4114,-2113 4224,-2113 4224,-2166\"/>\n<text text-anchor=\"start\" x=\"4141\" y=\"-2150.8\" font-family=\"Helvetica,sans-Serif\" font-size=\"14.00\">gini = 0.0</text>\n<text text-anchor=\"start\" x=\"4128\" y=\"-2135.8\" font-family=\"Helvetica,sans-Serif\" font-size=\"14.00\">samples = 70</text>\n<text text-anchor=\"start\" x=\"4122\" y=\"-2120.8\" font-family=\"Helvetica,sans-Serif\" font-size=\"14.00\">value = [50, 20]</text>\n</g>\n<!-- 77&#45;&gt;79 -->\n<g id=\"edge79\" class=\"edge\">\n<title>77&#45;&gt;79</title>\n<path fill=\"none\" stroke=\"black\" d=\"M3825.1,-2195.81C3901.64,-2183.24 4027.87,-2162.51 4103.96,-2150.02\"/>\n<polygon fill=\"black\" stroke=\"black\" points=\"4104.59,-2153.46 4113.89,-2148.39 4103.46,-2146.55 4104.59,-2153.46\"/>\n</g>\n<!-- 82 -->\n<g id=\"node83\" class=\"node\">\n<title>82</title>\n<polygon fill=\"#f2c09c\" stroke=\"black\" points=\"3430,-2154 3320,-2154 3320,-2101 3430,-2101 3430,-2154\"/>\n<text text-anchor=\"start\" x=\"3347\" y=\"-2138.8\" font-family=\"Helvetica,sans-Serif\" font-size=\"14.00\">gini = 0.0</text>\n<text text-anchor=\"start\" x=\"3334\" y=\"-2123.8\" font-family=\"Helvetica,sans-Serif\" font-size=\"14.00\">samples = 57</text>\n<text text-anchor=\"start\" x=\"3328\" y=\"-2108.8\" font-family=\"Helvetica,sans-Serif\" font-size=\"14.00\">value = [38, 19]</text>\n</g>\n<!-- 81&#45;&gt;82 -->\n<g id=\"edge82\" class=\"edge\">\n<title>81&#45;&gt;82</title>\n<path fill=\"none\" stroke=\"black\" d=\"M3037.37,-2127.5C3108.61,-2127.5 3233.4,-2127.5 3309.39,-2127.5\"/>\n<polygon fill=\"black\" stroke=\"black\" points=\"3309.78,-2131 3319.78,-2127.5 3309.78,-2124 3309.78,-2131\"/>\n</g>\n<!-- 83 -->\n<g id=\"node84\" class=\"node\">\n<title>83</title>\n<polygon fill=\"#ea9b62\" stroke=\"black\" points=\"3426,-2083 3324,-2083 3324,-2030 3426,-2030 3426,-2083\"/>\n<text text-anchor=\"start\" x=\"3347\" y=\"-2067.8\" font-family=\"Helvetica,sans-Serif\" font-size=\"14.00\">gini = 0.0</text>\n<text text-anchor=\"start\" x=\"3334\" y=\"-2052.8\" font-family=\"Helvetica,sans-Serif\" font-size=\"14.00\">samples = 52</text>\n<text text-anchor=\"start\" x=\"3332\" y=\"-2037.8\" font-family=\"Helvetica,sans-Serif\" font-size=\"14.00\">value = [43, 9]</text>\n</g>\n<!-- 81&#45;&gt;83 -->\n<g id=\"edge83\" class=\"edge\">\n<title>81&#45;&gt;83</title>\n<path fill=\"none\" stroke=\"black\" d=\"M3037.37,-2117.63C3109.92,-2104.45 3237.99,-2081.2 3313.51,-2067.48\"/>\n<polygon fill=\"black\" stroke=\"black\" points=\"3314.59,-2070.84 3323.81,-2065.61 3313.34,-2063.96 3314.59,-2070.84\"/>\n</g>\n<!-- 85 -->\n<g id=\"node86\" class=\"node\">\n<title>85</title>\n<polygon fill=\"#ebf5fc\" stroke=\"black\" points=\"3037,-2075 2927,-2075 2927,-2022 3037,-2022 3037,-2075\"/>\n<text text-anchor=\"start\" x=\"2954\" y=\"-2059.8\" font-family=\"Helvetica,sans-Serif\" font-size=\"14.00\">gini = 0.0</text>\n<text text-anchor=\"start\" x=\"2941\" y=\"-2044.8\" font-family=\"Helvetica,sans-Serif\" font-size=\"14.00\">samples = 57</text>\n<text text-anchor=\"start\" x=\"2935\" y=\"-2029.8\" font-family=\"Helvetica,sans-Serif\" font-size=\"14.00\">value = [27, 30]</text>\n</g>\n<!-- 84&#45;&gt;85 -->\n<g id=\"edge85\" class=\"edge\">\n<title>84&#45;&gt;85</title>\n<path fill=\"none\" stroke=\"black\" d=\"M2638.74,-2021.91C2712.15,-2027.61 2839.7,-2037.52 2916.64,-2043.5\"/>\n<polygon fill=\"black\" stroke=\"black\" points=\"2916.45,-2047 2926.69,-2044.28 2916.99,-2040.02 2916.45,-2047\"/>\n</g>\n<!-- 86 -->\n<g id=\"node87\" class=\"node\">\n<title>86</title>\n<polygon fill=\"#eb9d64\" stroke=\"black\" points=\"3033,-2004 2931,-2004 2931,-1951 3033,-1951 3033,-2004\"/>\n<text text-anchor=\"start\" x=\"2954\" y=\"-1988.8\" font-family=\"Helvetica,sans-Serif\" font-size=\"14.00\">gini = 0.0</text>\n<text text-anchor=\"start\" x=\"2941\" y=\"-1973.8\" font-family=\"Helvetica,sans-Serif\" font-size=\"14.00\">samples = 50</text>\n<text text-anchor=\"start\" x=\"2939\" y=\"-1958.8\" font-family=\"Helvetica,sans-Serif\" font-size=\"14.00\">value = [41, 9]</text>\n</g>\n<!-- 84&#45;&gt;86 -->\n<g id=\"edge86\" class=\"edge\">\n<title>84&#45;&gt;86</title>\n<path fill=\"none\" stroke=\"black\" d=\"M2638.74,-2011.81C2713.49,-2004.32 2844.37,-1991.2 2920.8,-1983.53\"/>\n<polygon fill=\"black\" stroke=\"black\" points=\"2921.16,-1987.02 2930.76,-1982.54 2920.46,-1980.05 2921.16,-1987.02\"/>\n</g>\n<!-- 88 -->\n<g id=\"node89\" class=\"node\">\n<title>88</title>\n<polygon fill=\"#e78a47\" stroke=\"black\" points=\"2634,-1940.5 2528,-1940.5 2528,-1872.5 2634,-1872.5 2634,-1940.5\"/>\n<text text-anchor=\"start\" x=\"2551.5\" y=\"-1925.3\" font-family=\"Helvetica,sans-Serif\" font-size=\"14.00\">side ≤ 0.0</text>\n<text text-anchor=\"start\" x=\"2553\" y=\"-1910.3\" font-family=\"Helvetica,sans-Serif\" font-size=\"14.00\">gini = 0.0</text>\n<text text-anchor=\"start\" x=\"2536\" y=\"-1895.3\" font-family=\"Helvetica,sans-Serif\" font-size=\"14.00\">samples = 106</text>\n<text text-anchor=\"start\" x=\"2538\" y=\"-1880.3\" font-family=\"Helvetica,sans-Serif\" font-size=\"14.00\">value = [99, 7]</text>\n</g>\n<!-- 87&#45;&gt;88 -->\n<g id=\"edge88\" class=\"edge\">\n<title>87&#45;&gt;88</title>\n<path fill=\"none\" stroke=\"black\" d=\"M2246.44,-1906.5C2321.61,-1906.5 2444.04,-1906.5 2517.82,-1906.5\"/>\n<polygon fill=\"black\" stroke=\"black\" points=\"2517.89,-1910 2527.89,-1906.5 2517.89,-1903 2517.89,-1910\"/>\n</g>\n<!-- 91 -->\n<g id=\"node92\" class=\"node\">\n<title>91</title>\n<polygon fill=\"#e58139\" stroke=\"black\" points=\"2632,-1854 2530,-1854 2530,-1801 2632,-1801 2632,-1854\"/>\n<text text-anchor=\"start\" x=\"2553\" y=\"-1838.8\" font-family=\"Helvetica,sans-Serif\" font-size=\"14.00\">gini = 0.0</text>\n<text text-anchor=\"start\" x=\"2540\" y=\"-1823.8\" font-family=\"Helvetica,sans-Serif\" font-size=\"14.00\">samples = 84</text>\n<text text-anchor=\"start\" x=\"2538\" y=\"-1808.8\" font-family=\"Helvetica,sans-Serif\" font-size=\"14.00\">value = [84, 0]</text>\n</g>\n<!-- 87&#45;&gt;91 -->\n<g id=\"edge91\" class=\"edge\">\n<title>87&#45;&gt;91</title>\n<path fill=\"none\" stroke=\"black\" d=\"M2246.44,-1893.54C2322.24,-1878.53 2446.11,-1854.01 2519.67,-1839.45\"/>\n<polygon fill=\"black\" stroke=\"black\" points=\"2520.58,-1842.83 2529.71,-1837.46 2519.22,-1835.97 2520.58,-1842.83\"/>\n</g>\n<!-- 89 -->\n<g id=\"node90\" class=\"node\">\n<title>89</title>\n<polygon fill=\"#e6833d\" stroke=\"black\" points=\"3033,-1933 2931,-1933 2931,-1880 3033,-1880 3033,-1933\"/>\n<text text-anchor=\"start\" x=\"2954\" y=\"-1917.8\" font-family=\"Helvetica,sans-Serif\" font-size=\"14.00\">gini = 0.0</text>\n<text text-anchor=\"start\" x=\"2941\" y=\"-1902.8\" font-family=\"Helvetica,sans-Serif\" font-size=\"14.00\">samples = 53</text>\n<text text-anchor=\"start\" x=\"2939\" y=\"-1887.8\" font-family=\"Helvetica,sans-Serif\" font-size=\"14.00\">value = [52, 1]</text>\n</g>\n<!-- 88&#45;&gt;89 -->\n<g id=\"edge89\" class=\"edge\">\n<title>88&#45;&gt;89</title>\n<path fill=\"none\" stroke=\"black\" d=\"M2634.16,-1906.5C2707.95,-1906.5 2842.5,-1906.5 2920.55,-1906.5\"/>\n<polygon fill=\"black\" stroke=\"black\" points=\"2920.71,-1910 2930.71,-1906.5 2920.71,-1903 2920.71,-1910\"/>\n</g>\n<!-- 90 -->\n<g id=\"node91\" class=\"node\">\n<title>90</title>\n<polygon fill=\"#e89152\" stroke=\"black\" points=\"3033,-1862 2931,-1862 2931,-1809 3033,-1809 3033,-1862\"/>\n<text text-anchor=\"start\" x=\"2954\" y=\"-1846.8\" font-family=\"Helvetica,sans-Serif\" font-size=\"14.00\">gini = 0.0</text>\n<text text-anchor=\"start\" x=\"2941\" y=\"-1831.8\" font-family=\"Helvetica,sans-Serif\" font-size=\"14.00\">samples = 53</text>\n<text text-anchor=\"start\" x=\"2939\" y=\"-1816.8\" font-family=\"Helvetica,sans-Serif\" font-size=\"14.00\">value = [47, 6]</text>\n</g>\n<!-- 88&#45;&gt;90 -->\n<g id=\"edge90\" class=\"edge\">\n<title>88&#45;&gt;90</title>\n<path fill=\"none\" stroke=\"black\" d=\"M2634.16,-1897.22C2707.95,-1884.09 2842.5,-1860.15 2920.55,-1846.26\"/>\n<polygon fill=\"black\" stroke=\"black\" points=\"2921.48,-1849.65 2930.71,-1844.45 2920.25,-1842.75 2921.48,-1849.65\"/>\n</g>\n<!-- 93 -->\n<g id=\"node94\" class=\"node\">\n<title>93</title>\n<polygon fill=\"#aad5f4\" stroke=\"black\" points=\"2235,-1851 2125,-1851 2125,-1798 2235,-1798 2235,-1851\"/>\n<text text-anchor=\"start\" x=\"2152\" y=\"-1835.8\" font-family=\"Helvetica,sans-Serif\" font-size=\"14.00\">gini = 0.0</text>\n<text text-anchor=\"start\" x=\"2139\" y=\"-1820.8\" font-family=\"Helvetica,sans-Serif\" font-size=\"14.00\">samples = 99</text>\n<text text-anchor=\"start\" x=\"2133\" y=\"-1805.8\" font-family=\"Helvetica,sans-Serif\" font-size=\"14.00\">value = [36, 63]</text>\n</g>\n<!-- 92&#45;&gt;93 -->\n<g id=\"edge93\" class=\"edge\">\n<title>92&#45;&gt;93</title>\n<path fill=\"none\" stroke=\"black\" d=\"M1829.07,-1822.77C1903.04,-1823.13 2035.61,-1823.79 2114.62,-1824.18\"/>\n<polygon fill=\"black\" stroke=\"black\" points=\"2114.91,-1827.68 2124.93,-1824.23 2114.95,-1820.68 2114.91,-1827.68\"/>\n</g>\n<!-- 94 -->\n<g id=\"node95\" class=\"node\">\n<title>94</title>\n<polygon fill=\"#e99254\" stroke=\"black\" points=\"2231,-1780 2129,-1780 2129,-1727 2231,-1727 2231,-1780\"/>\n<text text-anchor=\"start\" x=\"2152\" y=\"-1764.8\" font-family=\"Helvetica,sans-Serif\" font-size=\"14.00\">gini = 0.0</text>\n<text text-anchor=\"start\" x=\"2139\" y=\"-1749.8\" font-family=\"Helvetica,sans-Serif\" font-size=\"14.00\">samples = 50</text>\n<text text-anchor=\"start\" x=\"2137\" y=\"-1734.8\" font-family=\"Helvetica,sans-Serif\" font-size=\"14.00\">value = [44, 6]</text>\n</g>\n<!-- 92&#45;&gt;94 -->\n<g id=\"edge94\" class=\"edge\">\n<title>92&#45;&gt;94</title>\n<path fill=\"none\" stroke=\"black\" d=\"M1829.07,-1813.27C1904.28,-1800.42 2040.05,-1777.23 2118.53,-1763.83\"/>\n<polygon fill=\"black\" stroke=\"black\" points=\"2119.48,-1767.22 2128.75,-1762.08 2118.3,-1760.32 2119.48,-1767.22\"/>\n</g>\n<!-- 96 -->\n<g id=\"node97\" class=\"node\">\n<title>96</title>\n<polygon fill=\"#e99558\" stroke=\"black\" points=\"1445.5,-1566.5 1290.5,-1566.5 1290.5,-1498.5 1445.5,-1498.5 1445.5,-1566.5\"/>\n<text text-anchor=\"start\" x=\"1298.5\" y=\"-1551.3\" font-family=\"Helvetica,sans-Serif\" font-size=\"14.00\">ShoppingMall ≤ 1320.0</text>\n<text text-anchor=\"start\" x=\"1340\" y=\"-1536.3\" font-family=\"Helvetica,sans-Serif\" font-size=\"14.00\">gini = 0.0</text>\n<text text-anchor=\"start\" x=\"1319.5\" y=\"-1521.3\" font-family=\"Helvetica,sans-Serif\" font-size=\"14.00\">samples = 1011</text>\n<text text-anchor=\"start\" x=\"1313.5\" y=\"-1506.3\" font-family=\"Helvetica,sans-Serif\" font-size=\"14.00\">value = [873, 138]</text>\n</g>\n<!-- 95&#45;&gt;96 -->\n<g id=\"edge96\" class=\"edge\">\n<title>95&#45;&gt;96</title>\n<path fill=\"none\" stroke=\"black\" d=\"M1022.75,-1499.59C1092.03,-1506.22 1203.14,-1516.84 1280.31,-1524.21\"/>\n<polygon fill=\"black\" stroke=\"black\" points=\"1280.21,-1527.72 1290.5,-1525.19 1280.88,-1520.75 1280.21,-1527.72\"/>\n</g>\n<!-- 125 -->\n<g id=\"node126\" class=\"node\">\n<title>125</title>\n<polygon fill=\"#f8dcc8\" stroke=\"black\" points=\"1434,-1480 1302,-1480 1302,-1427 1434,-1427 1434,-1480\"/>\n<text text-anchor=\"start\" x=\"1340\" y=\"-1464.8\" font-family=\"Helvetica,sans-Serif\" font-size=\"14.00\">gini = 0.0</text>\n<text text-anchor=\"start\" x=\"1327\" y=\"-1449.8\" font-family=\"Helvetica,sans-Serif\" font-size=\"14.00\">samples = 74</text>\n<text text-anchor=\"start\" x=\"1310\" y=\"-1434.8\" font-family=\"Helvetica,sans-Serif\" font-size=\"14.00\">value = [43.0, 31.0]</text>\n</g>\n<!-- 95&#45;&gt;125 -->\n<g id=\"edge125\" class=\"edge\">\n<title>95&#45;&gt;125</title>\n<path fill=\"none\" stroke=\"black\" d=\"M1022.75,-1487.25C1095.46,-1480.12 1214.25,-1468.48 1291.52,-1460.9\"/>\n<polygon fill=\"black\" stroke=\"black\" points=\"1292.06,-1464.36 1301.67,-1459.9 1291.38,-1457.4 1292.06,-1464.36\"/>\n</g>\n<!-- 97 -->\n<g id=\"node98\" class=\"node\">\n<title>97</title>\n<polygon fill=\"#e99254\" stroke=\"black\" points=\"1836.5,-1605.5 1711.5,-1605.5 1711.5,-1537.5 1836.5,-1537.5 1836.5,-1605.5\"/>\n<text text-anchor=\"start\" x=\"1723\" y=\"-1590.3\" font-family=\"Helvetica,sans-Serif\" font-size=\"14.00\">Destination ≤ 2.0</text>\n<text text-anchor=\"start\" x=\"1746\" y=\"-1575.3\" font-family=\"Helvetica,sans-Serif\" font-size=\"14.00\">gini = 0.0</text>\n<text text-anchor=\"start\" x=\"1729\" y=\"-1560.3\" font-family=\"Helvetica,sans-Serif\" font-size=\"14.00\">samples = 960</text>\n<text text-anchor=\"start\" x=\"1719.5\" y=\"-1545.3\" font-family=\"Helvetica,sans-Serif\" font-size=\"14.00\">value = [843, 117]</text>\n</g>\n<!-- 96&#45;&gt;97 -->\n<g id=\"edge97\" class=\"edge\">\n<title>96&#45;&gt;97</title>\n<path fill=\"none\" stroke=\"black\" d=\"M1445.94,-1539.93C1519.37,-1547.02 1629.14,-1557.61 1700.91,-1564.54\"/>\n<polygon fill=\"black\" stroke=\"black\" points=\"1700.93,-1568.06 1711.22,-1565.54 1701.6,-1561.09 1700.93,-1568.06\"/>\n</g>\n<!-- 124 -->\n<g id=\"node125\" class=\"node\">\n<title>124</title>\n<polygon fill=\"#f7d9c4\" stroke=\"black\" points=\"1829,-1519 1719,-1519 1719,-1466 1829,-1466 1829,-1519\"/>\n<text text-anchor=\"start\" x=\"1746\" y=\"-1503.8\" font-family=\"Helvetica,sans-Serif\" font-size=\"14.00\">gini = 0.0</text>\n<text text-anchor=\"start\" x=\"1733\" y=\"-1488.8\" font-family=\"Helvetica,sans-Serif\" font-size=\"14.00\">samples = 51</text>\n<text text-anchor=\"start\" x=\"1727\" y=\"-1473.8\" font-family=\"Helvetica,sans-Serif\" font-size=\"14.00\">value = [30, 21]</text>\n</g>\n<!-- 96&#45;&gt;124 -->\n<g id=\"edge124\" class=\"edge\">\n<title>96&#45;&gt;124</title>\n<path fill=\"none\" stroke=\"black\" d=\"M1445.94,-1524.88C1522.09,-1517.34 1637.35,-1505.93 1708.75,-1498.86\"/>\n<polygon fill=\"black\" stroke=\"black\" points=\"1709.35,-1502.32 1718.96,-1497.85 1708.66,-1495.35 1709.35,-1502.32\"/>\n</g>\n<!-- 98 -->\n<g id=\"node99\" class=\"node\">\n<title>98</title>\n<polygon fill=\"#eca06a\" stroke=\"black\" points=\"2250,-1648.5 2110,-1648.5 2110,-1580.5 2250,-1580.5 2250,-1648.5\"/>\n<text text-anchor=\"start\" x=\"2118\" y=\"-1633.3\" font-family=\"Helvetica,sans-Serif\" font-size=\"14.00\">ShoppingMall ≤ 66.0</text>\n<text text-anchor=\"start\" x=\"2152\" y=\"-1618.3\" font-family=\"Helvetica,sans-Serif\" font-size=\"14.00\">gini = 0.0</text>\n<text text-anchor=\"start\" x=\"2135\" y=\"-1603.3\" font-family=\"Helvetica,sans-Serif\" font-size=\"14.00\">samples = 185</text>\n<text text-anchor=\"start\" x=\"2129.5\" y=\"-1588.3\" font-family=\"Helvetica,sans-Serif\" font-size=\"14.00\">value = [148, 37]</text>\n</g>\n<!-- 97&#45;&gt;98 -->\n<g id=\"edge98\" class=\"edge\">\n<title>97&#45;&gt;98</title>\n<path fill=\"none\" stroke=\"black\" d=\"M1836.8,-1578.08C1907.24,-1585.58 2022.57,-1597.85 2099.62,-1606.05\"/>\n<polygon fill=\"black\" stroke=\"black\" points=\"2099.44,-1609.55 2109.76,-1607.13 2100.18,-1602.59 2099.44,-1609.55\"/>\n</g>\n<!-- 103 -->\n<g id=\"node104\" class=\"node\">\n<title>103</title>\n<polygon fill=\"#e89050\" stroke=\"black\" points=\"2238.5,-1562.5 2121.5,-1562.5 2121.5,-1494.5 2238.5,-1494.5 2238.5,-1562.5\"/>\n<text text-anchor=\"start\" x=\"2142\" y=\"-1547.3\" font-family=\"Helvetica,sans-Serif\" font-size=\"14.00\">num ≤ 718.0</text>\n<text text-anchor=\"start\" x=\"2152\" y=\"-1532.3\" font-family=\"Helvetica,sans-Serif\" font-size=\"14.00\">gini = 0.0</text>\n<text text-anchor=\"start\" x=\"2135\" y=\"-1517.3\" font-family=\"Helvetica,sans-Serif\" font-size=\"14.00\">samples = 775</text>\n<text text-anchor=\"start\" x=\"2129.5\" y=\"-1502.3\" font-family=\"Helvetica,sans-Serif\" font-size=\"14.00\">value = [695, 80]</text>\n</g>\n<!-- 97&#45;&gt;103 -->\n<g id=\"edge103\" class=\"edge\">\n<title>97&#45;&gt;103</title>\n<path fill=\"none\" stroke=\"black\" d=\"M1836.8,-1564.92C1910.94,-1557.03 2034.82,-1543.85 2111.44,-1535.69\"/>\n<polygon fill=\"black\" stroke=\"black\" points=\"2111.89,-1539.16 2121.46,-1534.62 2111.15,-1532.2 2111.89,-1539.16\"/>\n</g>\n<!-- 99 -->\n<g id=\"node100\" class=\"node\">\n<title>99</title>\n<polygon fill=\"#eeab7c\" stroke=\"black\" points=\"2647,-1727.5 2515,-1727.5 2515,-1659.5 2647,-1659.5 2647,-1727.5\"/>\n<text text-anchor=\"start\" x=\"2548\" y=\"-1712.3\" font-family=\"Helvetica,sans-Serif\" font-size=\"14.00\">Age ≤ 28.0</text>\n<text text-anchor=\"start\" x=\"2553\" y=\"-1697.3\" font-family=\"Helvetica,sans-Serif\" font-size=\"14.00\">gini = 0.0</text>\n<text text-anchor=\"start\" x=\"2536\" y=\"-1682.3\" font-family=\"Helvetica,sans-Serif\" font-size=\"14.00\">samples = 123</text>\n<text text-anchor=\"start\" x=\"2523\" y=\"-1667.3\" font-family=\"Helvetica,sans-Serif\" font-size=\"14.00\">value = [92.0, 31.0]</text>\n</g>\n<!-- 98&#45;&gt;99 -->\n<g id=\"edge99\" class=\"edge\">\n<title>98&#45;&gt;99</title>\n<path fill=\"none\" stroke=\"black\" d=\"M2250.04,-1628.17C2321.09,-1642.24 2431.44,-1664.09 2504.69,-1678.59\"/>\n<polygon fill=\"black\" stroke=\"black\" points=\"2504.28,-1682.08 2514.77,-1680.59 2505.64,-1675.21 2504.28,-1682.08\"/>\n</g>\n<!-- 102 -->\n<g id=\"node103\" class=\"node\">\n<title>102</title>\n<polygon fill=\"#e88e4e\" stroke=\"black\" points=\"2632,-1641 2530,-1641 2530,-1588 2632,-1588 2632,-1641\"/>\n<text text-anchor=\"start\" x=\"2553\" y=\"-1625.8\" font-family=\"Helvetica,sans-Serif\" font-size=\"14.00\">gini = 0.0</text>\n<text text-anchor=\"start\" x=\"2540\" y=\"-1610.8\" font-family=\"Helvetica,sans-Serif\" font-size=\"14.00\">samples = 62</text>\n<text text-anchor=\"start\" x=\"2538\" y=\"-1595.8\" font-family=\"Helvetica,sans-Serif\" font-size=\"14.00\">value = [56, 6]</text>\n</g>\n<!-- 98&#45;&gt;102 -->\n<g id=\"edge102\" class=\"edge\">\n<title>98&#45;&gt;102</title>\n<path fill=\"none\" stroke=\"black\" d=\"M2250.04,-1614.5C2326.05,-1614.5 2447.03,-1614.5 2519.46,-1614.5\"/>\n<polygon fill=\"black\" stroke=\"black\" points=\"2519.78,-1618 2529.78,-1614.5 2519.78,-1611 2519.78,-1618\"/>\n</g>\n<!-- 100 -->\n<g id=\"node101\" class=\"node\">\n<title>100</title>\n<polygon fill=\"#f2c09c\" stroke=\"black\" points=\"3037,-1791 2927,-1791 2927,-1738 3037,-1738 3037,-1791\"/>\n<text text-anchor=\"start\" x=\"2954\" y=\"-1775.8\" font-family=\"Helvetica,sans-Serif\" font-size=\"14.00\">gini = 0.0</text>\n<text text-anchor=\"start\" x=\"2941\" y=\"-1760.8\" font-family=\"Helvetica,sans-Serif\" font-size=\"14.00\">samples = 51</text>\n<text text-anchor=\"start\" x=\"2935\" y=\"-1745.8\" font-family=\"Helvetica,sans-Serif\" font-size=\"14.00\">value = [34, 17]</text>\n</g>\n<!-- 99&#45;&gt;100 -->\n<g id=\"edge100\" class=\"edge\">\n<title>99&#45;&gt;100</title>\n<path fill=\"none\" stroke=\"black\" d=\"M2647.44,-1705.14C2721.87,-1718.39 2842.64,-1739.88 2916.63,-1753.04\"/>\n<polygon fill=\"black\" stroke=\"black\" points=\"2916.29,-1756.54 2926.75,-1754.85 2917.51,-1749.65 2916.29,-1756.54\"/>\n</g>\n<!-- 101 -->\n<g id=\"node102\" class=\"node\">\n<title>101</title>\n<polygon fill=\"#eb9f69\" stroke=\"black\" points=\"3037,-1720 2927,-1720 2927,-1667 3037,-1667 3037,-1720\"/>\n<text text-anchor=\"start\" x=\"2954\" y=\"-1704.8\" font-family=\"Helvetica,sans-Serif\" font-size=\"14.00\">gini = 0.0</text>\n<text text-anchor=\"start\" x=\"2941\" y=\"-1689.8\" font-family=\"Helvetica,sans-Serif\" font-size=\"14.00\">samples = 72</text>\n<text text-anchor=\"start\" x=\"2935\" y=\"-1674.8\" font-family=\"Helvetica,sans-Serif\" font-size=\"14.00\">value = [58, 14]</text>\n</g>\n<!-- 99&#45;&gt;101 -->\n<g id=\"edge101\" class=\"edge\">\n<title>99&#45;&gt;101</title>\n<path fill=\"none\" stroke=\"black\" d=\"M2647.44,-1693.5C2721.87,-1693.5 2842.64,-1693.5 2916.63,-1693.5\"/>\n<polygon fill=\"black\" stroke=\"black\" points=\"2916.75,-1697 2926.75,-1693.5 2916.74,-1690 2916.75,-1697\"/>\n</g>\n<!-- 104 -->\n<g id=\"node105\" class=\"node\">\n<title>104</title>\n<polygon fill=\"#e78b49\" stroke=\"black\" points=\"2639.5,-1562.5 2522.5,-1562.5 2522.5,-1494.5 2639.5,-1494.5 2639.5,-1562.5\"/>\n<text text-anchor=\"start\" x=\"2548\" y=\"-1547.3\" font-family=\"Helvetica,sans-Serif\" font-size=\"14.00\">Age ≤ 38.0</text>\n<text text-anchor=\"start\" x=\"2553\" y=\"-1532.3\" font-family=\"Helvetica,sans-Serif\" font-size=\"14.00\">gini = 0.0</text>\n<text text-anchor=\"start\" x=\"2536\" y=\"-1517.3\" font-family=\"Helvetica,sans-Serif\" font-size=\"14.00\">samples = 455</text>\n<text text-anchor=\"start\" x=\"2530.5\" y=\"-1502.3\" font-family=\"Helvetica,sans-Serif\" font-size=\"14.00\">value = [421, 34]</text>\n</g>\n<!-- 103&#45;&gt;104 -->\n<g id=\"edge104\" class=\"edge\">\n<title>103&#45;&gt;104</title>\n<path fill=\"none\" stroke=\"black\" d=\"M2238.59,-1528.5C2311.09,-1528.5 2435.42,-1528.5 2512.36,-1528.5\"/>\n<polygon fill=\"black\" stroke=\"black\" points=\"2512.43,-1532 2522.43,-1528.5 2512.43,-1525 2512.43,-1532\"/>\n</g>\n<!-- 115 -->\n<g id=\"node116\" class=\"node\">\n<title>115</title>\n<polygon fill=\"#e9965a\" stroke=\"black\" points=\"2639.5,-1427.5 2522.5,-1427.5 2522.5,-1359.5 2639.5,-1359.5 2639.5,-1427.5\"/>\n<text text-anchor=\"start\" x=\"2539\" y=\"-1412.3\" font-family=\"Helvetica,sans-Serif\" font-size=\"14.00\">num ≤ 1056.0</text>\n<text text-anchor=\"start\" x=\"2553\" y=\"-1397.3\" font-family=\"Helvetica,sans-Serif\" font-size=\"14.00\">gini = 0.0</text>\n<text text-anchor=\"start\" x=\"2536\" y=\"-1382.3\" font-family=\"Helvetica,sans-Serif\" font-size=\"14.00\">samples = 320</text>\n<text text-anchor=\"start\" x=\"2530.5\" y=\"-1367.3\" font-family=\"Helvetica,sans-Serif\" font-size=\"14.00\">value = [274, 46]</text>\n</g>\n<!-- 103&#45;&gt;115 -->\n<g id=\"edge115\" class=\"edge\">\n<title>103&#45;&gt;115</title>\n<path fill=\"none\" stroke=\"black\" d=\"M2238.59,-1509.01C2311.23,-1484.44 2435.92,-1442.25 2512.83,-1416.23\"/>\n<polygon fill=\"black\" stroke=\"black\" points=\"2514.07,-1419.5 2522.43,-1412.98 2511.83,-1412.87 2514.07,-1419.5\"/>\n</g>\n<!-- 105 -->\n<g id=\"node106\" class=\"node\">\n<title>105</title>\n<polygon fill=\"#e68844\" stroke=\"black\" points=\"3059.5,-1648.5 2904.5,-1648.5 2904.5,-1580.5 3059.5,-1580.5 3059.5,-1648.5\"/>\n<text text-anchor=\"start\" x=\"2912.5\" y=\"-1633.3\" font-family=\"Helvetica,sans-Serif\" font-size=\"14.00\">RoomService ≤ 1842.0</text>\n<text text-anchor=\"start\" x=\"2954\" y=\"-1618.3\" font-family=\"Helvetica,sans-Serif\" font-size=\"14.00\">gini = 0.0</text>\n<text text-anchor=\"start\" x=\"2937\" y=\"-1603.3\" font-family=\"Helvetica,sans-Serif\" font-size=\"14.00\">samples = 328</text>\n<text text-anchor=\"start\" x=\"2931.5\" y=\"-1588.3\" font-family=\"Helvetica,sans-Serif\" font-size=\"14.00\">value = [311, 17]</text>\n</g>\n<!-- 104&#45;&gt;105 -->\n<g id=\"edge105\" class=\"edge\">\n<title>104&#45;&gt;105</title>\n<path fill=\"none\" stroke=\"black\" d=\"M2639.59,-1540.91C2706.3,-1555.29 2816.91,-1579.13 2894.09,-1595.77\"/>\n<polygon fill=\"black\" stroke=\"black\" points=\"2893.76,-1599.28 2904.28,-1597.96 2895.24,-1592.43 2893.76,-1599.28\"/>\n</g>\n<!-- 112 -->\n<g id=\"node113\" class=\"node\">\n<title>112</title>\n<polygon fill=\"#e99458\" stroke=\"black\" points=\"3040.5,-1562.5 2923.5,-1562.5 2923.5,-1494.5 3040.5,-1494.5 3040.5,-1562.5\"/>\n<text text-anchor=\"start\" x=\"2944\" y=\"-1547.3\" font-family=\"Helvetica,sans-Serif\" font-size=\"14.00\">num ≤ 240.0</text>\n<text text-anchor=\"start\" x=\"2954\" y=\"-1532.3\" font-family=\"Helvetica,sans-Serif\" font-size=\"14.00\">gini = 0.0</text>\n<text text-anchor=\"start\" x=\"2937\" y=\"-1517.3\" font-family=\"Helvetica,sans-Serif\" font-size=\"14.00\">samples = 127</text>\n<text text-anchor=\"start\" x=\"2931.5\" y=\"-1502.3\" font-family=\"Helvetica,sans-Serif\" font-size=\"14.00\">value = [110, 17]</text>\n</g>\n<!-- 104&#45;&gt;112 -->\n<g id=\"edge112\" class=\"edge\">\n<title>104&#45;&gt;112</title>\n<path fill=\"none\" stroke=\"black\" d=\"M2639.59,-1528.5C2712.09,-1528.5 2836.42,-1528.5 2913.36,-1528.5\"/>\n<polygon fill=\"black\" stroke=\"black\" points=\"2913.43,-1532 2923.43,-1528.5 2913.43,-1525 2913.43,-1532\"/>\n</g>\n<!-- 106 -->\n<g id=\"node107\" class=\"node\">\n<title>106</title>\n<polygon fill=\"#e68540\" stroke=\"black\" points=\"3430,-1755.5 3320,-1755.5 3320,-1687.5 3430,-1687.5 3430,-1755.5\"/>\n<text text-anchor=\"start\" x=\"3333\" y=\"-1740.3\" font-family=\"Helvetica,sans-Serif\" font-size=\"14.00\">VRDeck ≤ 6.0</text>\n<text text-anchor=\"start\" x=\"3347\" y=\"-1725.3\" font-family=\"Helvetica,sans-Serif\" font-size=\"14.00\">gini = 0.0</text>\n<text text-anchor=\"start\" x=\"3330\" y=\"-1710.3\" font-family=\"Helvetica,sans-Serif\" font-size=\"14.00\">samples = 264</text>\n<text text-anchor=\"start\" x=\"3328\" y=\"-1695.3\" font-family=\"Helvetica,sans-Serif\" font-size=\"14.00\">value = [255, 9]</text>\n</g>\n<!-- 105&#45;&gt;106 -->\n<g id=\"edge106\" class=\"edge\">\n<title>105&#45;&gt;106</title>\n<path fill=\"none\" stroke=\"black\" d=\"M3059.78,-1635.51C3132.81,-1655.5 3241.4,-1685.21 3309.91,-1703.96\"/>\n<polygon fill=\"black\" stroke=\"black\" points=\"3309.15,-1707.38 3319.72,-1706.64 3310.99,-1700.63 3309.15,-1707.38\"/>\n</g>\n<!-- 111 -->\n<g id=\"node112\" class=\"node\">\n<title>111</title>\n<polygon fill=\"#e99355\" stroke=\"black\" points=\"3426,-1669 3324,-1669 3324,-1616 3426,-1616 3426,-1669\"/>\n<text text-anchor=\"start\" x=\"3347\" y=\"-1653.8\" font-family=\"Helvetica,sans-Serif\" font-size=\"14.00\">gini = 0.0</text>\n<text text-anchor=\"start\" x=\"3334\" y=\"-1638.8\" font-family=\"Helvetica,sans-Serif\" font-size=\"14.00\">samples = 64</text>\n<text text-anchor=\"start\" x=\"3332\" y=\"-1623.8\" font-family=\"Helvetica,sans-Serif\" font-size=\"14.00\">value = [56, 8]</text>\n</g>\n<!-- 105&#45;&gt;111 -->\n<g id=\"edge111\" class=\"edge\">\n<title>105&#45;&gt;111</title>\n<path fill=\"none\" stroke=\"black\" d=\"M3059.78,-1620C3134.14,-1625.32 3245.37,-1633.29 3313.61,-1638.18\"/>\n<polygon fill=\"black\" stroke=\"black\" points=\"3313.55,-1641.68 3323.77,-1638.9 3314.05,-1634.7 3313.55,-1641.68\"/>\n</g>\n<!-- 107 -->\n<g id=\"node108\" class=\"node\">\n<title>107</title>\n<polygon fill=\"#e5833c\" stroke=\"black\" points=\"3814,-1794.5 3704,-1794.5 3704,-1726.5 3814,-1726.5 3814,-1794.5\"/>\n<text text-anchor=\"start\" x=\"3727.5\" y=\"-1779.3\" font-family=\"Helvetica,sans-Serif\" font-size=\"14.00\">deck ≤ 4.0</text>\n<text text-anchor=\"start\" x=\"3731\" y=\"-1764.3\" font-family=\"Helvetica,sans-Serif\" font-size=\"14.00\">gini = 0.0</text>\n<text text-anchor=\"start\" x=\"3714\" y=\"-1749.3\" font-family=\"Helvetica,sans-Serif\" font-size=\"14.00\">samples = 177</text>\n<text text-anchor=\"start\" x=\"3712\" y=\"-1734.3\" font-family=\"Helvetica,sans-Serif\" font-size=\"14.00\">value = [174, 3]</text>\n</g>\n<!-- 106&#45;&gt;107 -->\n<g id=\"edge107\" class=\"edge\">\n<title>106&#45;&gt;107</title>\n<path fill=\"none\" stroke=\"black\" d=\"M3430.33,-1727.05C3499.77,-1734.14 3619.84,-1746.39 3693.75,-1753.94\"/>\n<polygon fill=\"black\" stroke=\"black\" points=\"3693.56,-1757.44 3703.86,-1754.97 3694.27,-1750.48 3693.56,-1757.44\"/>\n</g>\n<!-- 110 -->\n<g id=\"node111\" class=\"node\">\n<title>110</title>\n<polygon fill=\"#e78a48\" stroke=\"black\" points=\"3810,-1708 3708,-1708 3708,-1655 3810,-1655 3810,-1708\"/>\n<text text-anchor=\"start\" x=\"3731\" y=\"-1692.8\" font-family=\"Helvetica,sans-Serif\" font-size=\"14.00\">gini = 0.0</text>\n<text text-anchor=\"start\" x=\"3718\" y=\"-1677.8\" font-family=\"Helvetica,sans-Serif\" font-size=\"14.00\">samples = 87</text>\n<text text-anchor=\"start\" x=\"3716\" y=\"-1662.8\" font-family=\"Helvetica,sans-Serif\" font-size=\"14.00\">value = [81, 6]</text>\n</g>\n<!-- 106&#45;&gt;110 -->\n<g id=\"edge110\" class=\"edge\">\n<title>106&#45;&gt;110</title>\n<path fill=\"none\" stroke=\"black\" d=\"M3430.33,-1715.81C3501.05,-1708.41 3624.28,-1695.5 3697.78,-1687.81\"/>\n<polygon fill=\"black\" stroke=\"black\" points=\"3698.23,-1691.28 3707.82,-1686.75 3697.51,-1684.32 3698.23,-1691.28\"/>\n</g>\n<!-- 108 -->\n<g id=\"node109\" class=\"node\">\n<title>108</title>\n<polygon fill=\"#e58139\" stroke=\"black\" points=\"4224,-1822 4114,-1822 4114,-1769 4224,-1769 4224,-1822\"/>\n<text text-anchor=\"start\" x=\"4141\" y=\"-1806.8\" font-family=\"Helvetica,sans-Serif\" font-size=\"14.00\">gini = 0.0</text>\n<text text-anchor=\"start\" x=\"4124\" y=\"-1791.8\" font-family=\"Helvetica,sans-Serif\" font-size=\"14.00\">samples = 100</text>\n<text text-anchor=\"start\" x=\"4122\" y=\"-1776.8\" font-family=\"Helvetica,sans-Serif\" font-size=\"14.00\">value = [100, 0]</text>\n</g>\n<!-- 107&#45;&gt;108 -->\n<g id=\"edge108\" class=\"edge\">\n<title>107&#45;&gt;108</title>\n<path fill=\"none\" stroke=\"black\" d=\"M3814.18,-1765.15C3888.97,-1771.56 4023.62,-1783.11 4103.5,-1789.97\"/>\n<polygon fill=\"black\" stroke=\"black\" points=\"4103.66,-1793.49 4113.92,-1790.86 4104.26,-1786.52 4103.66,-1793.49\"/>\n</g>\n<!-- 109 -->\n<g id=\"node110\" class=\"node\">\n<title>109</title>\n<polygon fill=\"#e68641\" stroke=\"black\" points=\"4220,-1751 4118,-1751 4118,-1698 4220,-1698 4220,-1751\"/>\n<text text-anchor=\"start\" x=\"4141\" y=\"-1735.8\" font-family=\"Helvetica,sans-Serif\" font-size=\"14.00\">gini = 0.0</text>\n<text text-anchor=\"start\" x=\"4128\" y=\"-1720.8\" font-family=\"Helvetica,sans-Serif\" font-size=\"14.00\">samples = 77</text>\n<text text-anchor=\"start\" x=\"4126\" y=\"-1705.8\" font-family=\"Helvetica,sans-Serif\" font-size=\"14.00\">value = [74, 3]</text>\n</g>\n<!-- 107&#45;&gt;109 -->\n<g id=\"edge109\" class=\"edge\">\n<title>107&#45;&gt;109</title>\n<path fill=\"none\" stroke=\"black\" d=\"M3814.18,-1755.72C3890.21,-1749.01 4028.12,-1736.84 4107.45,-1729.84\"/>\n<polygon fill=\"black\" stroke=\"black\" points=\"4108.11,-1733.3 4117.77,-1728.93 4107.5,-1726.32 4108.11,-1733.3\"/>\n</g>\n<!-- 113 -->\n<g id=\"node114\" class=\"node\">\n<title>113</title>\n<polygon fill=\"#eca26e\" stroke=\"black\" points=\"3430,-1598 3320,-1598 3320,-1545 3430,-1545 3430,-1598\"/>\n<text text-anchor=\"start\" x=\"3347\" y=\"-1582.8\" font-family=\"Helvetica,sans-Serif\" font-size=\"14.00\">gini = 0.0</text>\n<text text-anchor=\"start\" x=\"3334\" y=\"-1567.8\" font-family=\"Helvetica,sans-Serif\" font-size=\"14.00\">samples = 62</text>\n<text text-anchor=\"start\" x=\"3328\" y=\"-1552.8\" font-family=\"Helvetica,sans-Serif\" font-size=\"14.00\">value = [49, 13]</text>\n</g>\n<!-- 112&#45;&gt;113 -->\n<g id=\"edge113\" class=\"edge\">\n<title>112&#45;&gt;113</title>\n<path fill=\"none\" stroke=\"black\" d=\"M3040.69,-1534.84C3112.51,-1542.74 3234.82,-1556.19 3309.62,-1564.42\"/>\n<polygon fill=\"black\" stroke=\"black\" points=\"3309.53,-1567.93 3319.85,-1565.55 3310.29,-1560.97 3309.53,-1567.93\"/>\n</g>\n<!-- 114 -->\n<g id=\"node115\" class=\"node\">\n<title>114</title>\n<polygon fill=\"#e78946\" stroke=\"black\" points=\"3426,-1527 3324,-1527 3324,-1474 3426,-1474 3426,-1527\"/>\n<text text-anchor=\"start\" x=\"3347\" y=\"-1511.8\" font-family=\"Helvetica,sans-Serif\" font-size=\"14.00\">gini = 0.0</text>\n<text text-anchor=\"start\" x=\"3334\" y=\"-1496.8\" font-family=\"Helvetica,sans-Serif\" font-size=\"14.00\">samples = 65</text>\n<text text-anchor=\"start\" x=\"3332\" y=\"-1481.8\" font-family=\"Helvetica,sans-Serif\" font-size=\"14.00\">value = [61, 4]</text>\n</g>\n<!-- 112&#45;&gt;114 -->\n<g id=\"edge114\" class=\"edge\">\n<title>112&#45;&gt;114</title>\n<path fill=\"none\" stroke=\"black\" d=\"M3040.69,-1524.37C3113.83,-1519.13 3239.33,-1510.14 3313.69,-1504.82\"/>\n<polygon fill=\"black\" stroke=\"black\" points=\"3314.11,-1508.3 3323.84,-1504.09 3313.61,-1501.32 3314.11,-1508.3\"/>\n</g>\n<!-- 116 -->\n<g id=\"node117\" class=\"node\">\n<title>116</title>\n<polygon fill=\"#eeac7d\" stroke=\"black\" points=\"3055.5,-1427.5 2908.5,-1427.5 2908.5,-1359.5 3055.5,-1359.5 3055.5,-1427.5\"/>\n<text text-anchor=\"start\" x=\"2916.5\" y=\"-1412.3\" font-family=\"Helvetica,sans-Serif\" font-size=\"14.00\">RoomService ≤ 816.0</text>\n<text text-anchor=\"start\" x=\"2954\" y=\"-1397.3\" font-family=\"Helvetica,sans-Serif\" font-size=\"14.00\">gini = 0.0</text>\n<text text-anchor=\"start\" x=\"2937\" y=\"-1382.3\" font-family=\"Helvetica,sans-Serif\" font-size=\"14.00\">samples = 121</text>\n<text text-anchor=\"start\" x=\"2924\" y=\"-1367.3\" font-family=\"Helvetica,sans-Serif\" font-size=\"14.00\">value = [90.0, 31.0]</text>\n</g>\n<!-- 115&#45;&gt;116 -->\n<g id=\"edge116\" class=\"edge\">\n<title>115&#45;&gt;116</title>\n<path fill=\"none\" stroke=\"black\" d=\"M2639.59,-1393.5C2707.44,-1393.5 2820.69,-1393.5 2898,-1393.5\"/>\n<polygon fill=\"black\" stroke=\"black\" points=\"2898.19,-1397 2908.19,-1393.5 2898.19,-1390 2898.19,-1397\"/>\n</g>\n<!-- 119 -->\n<g id=\"node120\" class=\"node\">\n<title>119</title>\n<polygon fill=\"#e78b49\" stroke=\"black\" points=\"3052,-1321.5 2912,-1321.5 2912,-1253.5 3052,-1253.5 3052,-1321.5\"/>\n<text text-anchor=\"start\" x=\"2949\" y=\"-1306.3\" font-family=\"Helvetica,sans-Serif\" font-size=\"14.00\">Age ≤ 24.0</text>\n<text text-anchor=\"start\" x=\"2954\" y=\"-1291.3\" font-family=\"Helvetica,sans-Serif\" font-size=\"14.00\">gini = 0.0</text>\n<text text-anchor=\"start\" x=\"2937\" y=\"-1276.3\" font-family=\"Helvetica,sans-Serif\" font-size=\"14.00\">samples = 199</text>\n<text text-anchor=\"start\" x=\"2920\" y=\"-1261.3\" font-family=\"Helvetica,sans-Serif\" font-size=\"14.00\">value = [184.0, 15.0]</text>\n</g>\n<!-- 115&#45;&gt;119 -->\n<g id=\"edge119\" class=\"edge\">\n<title>115&#45;&gt;119</title>\n<path fill=\"none\" stroke=\"black\" d=\"M2639.59,-1378.2C2708.61,-1359.86 2824.62,-1329.04 2901.98,-1308.49\"/>\n<polygon fill=\"black\" stroke=\"black\" points=\"2902.92,-1311.86 2911.69,-1305.91 2901.13,-1305.1 2902.92,-1311.86\"/>\n</g>\n<!-- 117 -->\n<g id=\"node118\" class=\"node\">\n<title>117</title>\n<polygon fill=\"#f5cfb3\" stroke=\"black\" points=\"3430,-1456 3320,-1456 3320,-1403 3430,-1403 3430,-1456\"/>\n<text text-anchor=\"start\" x=\"3347\" y=\"-1440.8\" font-family=\"Helvetica,sans-Serif\" font-size=\"14.00\">gini = 0.0</text>\n<text text-anchor=\"start\" x=\"3334\" y=\"-1425.8\" font-family=\"Helvetica,sans-Serif\" font-size=\"14.00\">samples = 55</text>\n<text text-anchor=\"start\" x=\"3328\" y=\"-1410.8\" font-family=\"Helvetica,sans-Serif\" font-size=\"14.00\">value = [34, 21]</text>\n</g>\n<!-- 116&#45;&gt;117 -->\n<g id=\"edge117\" class=\"edge\">\n<title>116&#45;&gt;117</title>\n<path fill=\"none\" stroke=\"black\" d=\"M3055.63,-1400.19C3128.67,-1406.91 3240.19,-1417.18 3310.01,-1423.61\"/>\n<polygon fill=\"black\" stroke=\"black\" points=\"3309.72,-1427.1 3319.99,-1424.53 3310.36,-1420.13 3309.72,-1427.1\"/>\n</g>\n<!-- 118 -->\n<g id=\"node119\" class=\"node\">\n<title>118</title>\n<polygon fill=\"#ea985c\" stroke=\"black\" points=\"3430,-1385 3320,-1385 3320,-1332 3430,-1332 3430,-1385\"/>\n<text text-anchor=\"start\" x=\"3347\" y=\"-1369.8\" font-family=\"Helvetica,sans-Serif\" font-size=\"14.00\">gini = 0.0</text>\n<text text-anchor=\"start\" x=\"3334\" y=\"-1354.8\" font-family=\"Helvetica,sans-Serif\" font-size=\"14.00\">samples = 66</text>\n<text text-anchor=\"start\" x=\"3328\" y=\"-1339.8\" font-family=\"Helvetica,sans-Serif\" font-size=\"14.00\">value = [56, 10]</text>\n</g>\n<!-- 116&#45;&gt;118 -->\n<g id=\"edge118\" class=\"edge\">\n<title>116&#45;&gt;118</title>\n<path fill=\"none\" stroke=\"black\" d=\"M3055.63,-1387C3128.67,-1380.46 3240.19,-1370.48 3310.01,-1364.23\"/>\n<polygon fill=\"black\" stroke=\"black\" points=\"3310.35,-1367.71 3319.99,-1363.33 3309.72,-1360.74 3310.35,-1367.71\"/>\n</g>\n<!-- 120 -->\n<g id=\"node121\" class=\"node\">\n<title>120</title>\n<polygon fill=\"#e99558\" stroke=\"black\" points=\"3430,-1314 3320,-1314 3320,-1261 3430,-1261 3430,-1314\"/>\n<text text-anchor=\"start\" x=\"3347\" y=\"-1298.8\" font-family=\"Helvetica,sans-Serif\" font-size=\"14.00\">gini = 0.0</text>\n<text text-anchor=\"start\" x=\"3334\" y=\"-1283.8\" font-family=\"Helvetica,sans-Serif\" font-size=\"14.00\">samples = 73</text>\n<text text-anchor=\"start\" x=\"3328\" y=\"-1268.8\" font-family=\"Helvetica,sans-Serif\" font-size=\"14.00\">value = [63, 10]</text>\n</g>\n<!-- 119&#45;&gt;120 -->\n<g id=\"edge120\" class=\"edge\">\n<title>119&#45;&gt;120</title>\n<path fill=\"none\" stroke=\"black\" d=\"M3052,-1287.5C3124.82,-1287.5 3238.68,-1287.5 3309.68,-1287.5\"/>\n<polygon fill=\"black\" stroke=\"black\" points=\"3309.84,-1291 3319.84,-1287.5 3309.84,-1284 3309.84,-1291\"/>\n</g>\n<!-- 121 -->\n<g id=\"node122\" class=\"node\">\n<title>121</title>\n<polygon fill=\"#e68641\" stroke=\"black\" points=\"3430,-1242.5 3320,-1242.5 3320,-1174.5 3430,-1174.5 3430,-1242.5\"/>\n<text text-anchor=\"start\" x=\"3333\" y=\"-1227.3\" font-family=\"Helvetica,sans-Serif\" font-size=\"14.00\">num ≤ 1292.0</text>\n<text text-anchor=\"start\" x=\"3347\" y=\"-1212.3\" font-family=\"Helvetica,sans-Serif\" font-size=\"14.00\">gini = 0.0</text>\n<text text-anchor=\"start\" x=\"3330\" y=\"-1197.3\" font-family=\"Helvetica,sans-Serif\" font-size=\"14.00\">samples = 126</text>\n<text text-anchor=\"start\" x=\"3328\" y=\"-1182.3\" font-family=\"Helvetica,sans-Serif\" font-size=\"14.00\">value = [121, 5]</text>\n</g>\n<!-- 119&#45;&gt;121 -->\n<g id=\"edge121\" class=\"edge\">\n<title>119&#45;&gt;121</title>\n<path fill=\"none\" stroke=\"black\" d=\"M3052,-1273.56C3124.82,-1258.84 3238.68,-1235.84 3309.68,-1221.49\"/>\n<polygon fill=\"black\" stroke=\"black\" points=\"3310.73,-1224.85 3319.84,-1219.44 3309.34,-1217.99 3310.73,-1224.85\"/>\n</g>\n<!-- 122 -->\n<g id=\"node123\" class=\"node\">\n<title>122</title>\n<polygon fill=\"#e88f4f\" stroke=\"black\" points=\"3810,-1270 3708,-1270 3708,-1217 3810,-1217 3810,-1270\"/>\n<text text-anchor=\"start\" x=\"3731\" y=\"-1254.8\" font-family=\"Helvetica,sans-Serif\" font-size=\"14.00\">gini = 0.0</text>\n<text text-anchor=\"start\" x=\"3718\" y=\"-1239.8\" font-family=\"Helvetica,sans-Serif\" font-size=\"14.00\">samples = 50</text>\n<text text-anchor=\"start\" x=\"3716\" y=\"-1224.8\" font-family=\"Helvetica,sans-Serif\" font-size=\"14.00\">value = [45, 5]</text>\n</g>\n<!-- 121&#45;&gt;122 -->\n<g id=\"edge122\" class=\"edge\">\n<title>121&#45;&gt;122</title>\n<path fill=\"none\" stroke=\"black\" d=\"M3430.33,-1213.48C3501.05,-1219.96 3624.28,-1231.25 3697.78,-1237.98\"/>\n<polygon fill=\"black\" stroke=\"black\" points=\"3697.54,-1241.47 3707.82,-1238.9 3698.18,-1234.5 3697.54,-1241.47\"/>\n</g>\n<!-- 123 -->\n<g id=\"node124\" class=\"node\">\n<title>123</title>\n<polygon fill=\"#e58139\" stroke=\"black\" points=\"3810,-1199 3708,-1199 3708,-1146 3810,-1146 3810,-1199\"/>\n<text text-anchor=\"start\" x=\"3731\" y=\"-1183.8\" font-family=\"Helvetica,sans-Serif\" font-size=\"14.00\">gini = 0.0</text>\n<text text-anchor=\"start\" x=\"3718\" y=\"-1168.8\" font-family=\"Helvetica,sans-Serif\" font-size=\"14.00\">samples = 76</text>\n<text text-anchor=\"start\" x=\"3716\" y=\"-1153.8\" font-family=\"Helvetica,sans-Serif\" font-size=\"14.00\">value = [76, 0]</text>\n</g>\n<!-- 121&#45;&gt;123 -->\n<g id=\"edge123\" class=\"edge\">\n<title>121&#45;&gt;123</title>\n<path fill=\"none\" stroke=\"black\" d=\"M3430.33,-1203.38C3501.05,-1196.72 3624.28,-1185.1 3697.78,-1178.17\"/>\n<polygon fill=\"black\" stroke=\"black\" points=\"3698.19,-1181.65 3707.82,-1177.23 3697.53,-1174.68 3698.19,-1181.65\"/>\n</g>\n<!-- 127 -->\n<g id=\"node128\" class=\"node\">\n<title>127</title>\n<polygon fill=\"#a1d0f3\" stroke=\"black\" points=\"1020.5,-1018.5 895.5,-1018.5 895.5,-950.5 1020.5,-950.5 1020.5,-1018.5\"/>\n<text text-anchor=\"start\" x=\"920\" y=\"-1003.3\" font-family=\"Helvetica,sans-Serif\" font-size=\"14.00\">num ≤ 532.0</text>\n<text text-anchor=\"start\" x=\"930\" y=\"-988.3\" font-family=\"Helvetica,sans-Serif\" font-size=\"14.00\">gini = 0.0</text>\n<text text-anchor=\"start\" x=\"909.5\" y=\"-973.3\" font-family=\"Helvetica,sans-Serif\" font-size=\"14.00\">samples = 1113</text>\n<text text-anchor=\"start\" x=\"903.5\" y=\"-958.3\" font-family=\"Helvetica,sans-Serif\" font-size=\"14.00\">value = [383, 730]</text>\n</g>\n<!-- 126&#45;&gt;127 -->\n<g id=\"edge127\" class=\"edge\">\n<title>126&#45;&gt;127</title>\n<path fill=\"none\" stroke=\"black\" d=\"M623.44,-984.5C695.44,-984.5 810.81,-984.5 885.24,-984.5\"/>\n<polygon fill=\"black\" stroke=\"black\" points=\"885.46,-988 895.46,-984.5 885.46,-981 885.46,-988\"/>\n</g>\n<!-- 160 -->\n<g id=\"node161\" class=\"node\">\n<title>160</title>\n<polygon fill=\"#43a2e6\" stroke=\"black\" points=\"1020.5,-413.5 895.5,-413.5 895.5,-345.5 1020.5,-345.5 1020.5,-413.5\"/>\n<text text-anchor=\"start\" x=\"903.5\" y=\"-398.3\" font-family=\"Helvetica,sans-Serif\" font-size=\"14.00\">HomePlanet ≤ 2.0</text>\n<text text-anchor=\"start\" x=\"930\" y=\"-383.3\" font-family=\"Helvetica,sans-Serif\" font-size=\"14.00\">gini = 0.0</text>\n<text text-anchor=\"start\" x=\"909.5\" y=\"-368.3\" font-family=\"Helvetica,sans-Serif\" font-size=\"14.00\">samples = 1184</text>\n<text text-anchor=\"start\" x=\"903.5\" y=\"-353.3\" font-family=\"Helvetica,sans-Serif\" font-size=\"14.00\">value = [55, 1129]</text>\n</g>\n<!-- 126&#45;&gt;160 -->\n<g id=\"edge160\" class=\"edge\">\n<title>126&#45;&gt;160</title>\n<path fill=\"none\" stroke=\"black\" d=\"M580.6,-950.24C648.96,-846.58 853.51,-536.42 928.79,-422.27\"/>\n<polygon fill=\"black\" stroke=\"black\" points=\"931.82,-424.03 934.41,-413.76 925.98,-420.18 931.82,-424.03\"/>\n</g>\n<!-- 128 -->\n<g id=\"node129\" class=\"node\">\n<title>128</title>\n<polygon fill=\"#d4eaf9\" stroke=\"black\" points=\"1430.5,-1100.5 1305.5,-1100.5 1305.5,-1032.5 1430.5,-1032.5 1430.5,-1100.5\"/>\n<text text-anchor=\"start\" x=\"1317\" y=\"-1085.3\" font-family=\"Helvetica,sans-Serif\" font-size=\"14.00\">Destination ≤ 0.0</text>\n<text text-anchor=\"start\" x=\"1340\" y=\"-1070.3\" font-family=\"Helvetica,sans-Serif\" font-size=\"14.00\">gini = 0.0</text>\n<text text-anchor=\"start\" x=\"1323\" y=\"-1055.3\" font-family=\"Helvetica,sans-Serif\" font-size=\"14.00\">samples = 399</text>\n<text text-anchor=\"start\" x=\"1313.5\" y=\"-1040.3\" font-family=\"Helvetica,sans-Serif\" font-size=\"14.00\">value = [175, 224]</text>\n</g>\n<!-- 127&#45;&gt;128 -->\n<g id=\"edge128\" class=\"edge\">\n<title>127&#45;&gt;128</title>\n<path fill=\"none\" stroke=\"black\" d=\"M1020.52,-996.87C1094.13,-1011.66 1217.17,-1036.39 1295.1,-1052.05\"/>\n<polygon fill=\"black\" stroke=\"black\" points=\"1294.82,-1055.56 1305.31,-1054.1 1296.2,-1048.7 1294.82,-1055.56\"/>\n</g>\n<!-- 139 -->\n<g id=\"node140\" class=\"node\">\n<title>139</title>\n<polygon fill=\"#8ac5f0\" stroke=\"black\" points=\"1430.5,-974.5 1305.5,-974.5 1305.5,-906.5 1430.5,-906.5 1430.5,-974.5\"/>\n<text text-anchor=\"start\" x=\"1338.5\" y=\"-959.3\" font-family=\"Helvetica,sans-Serif\" font-size=\"14.00\">side ≤ 0.0</text>\n<text text-anchor=\"start\" x=\"1340\" y=\"-944.3\" font-family=\"Helvetica,sans-Serif\" font-size=\"14.00\">gini = 0.0</text>\n<text text-anchor=\"start\" x=\"1323\" y=\"-929.3\" font-family=\"Helvetica,sans-Serif\" font-size=\"14.00\">samples = 714</text>\n<text text-anchor=\"start\" x=\"1313.5\" y=\"-914.3\" font-family=\"Helvetica,sans-Serif\" font-size=\"14.00\">value = [208, 506]</text>\n</g>\n<!-- 127&#45;&gt;139 -->\n<g id=\"edge139\" class=\"edge\">\n<title>127&#45;&gt;139</title>\n<path fill=\"none\" stroke=\"black\" d=\"M1020.52,-977.87C1094.13,-969.93 1217.17,-956.66 1295.1,-948.25\"/>\n<polygon fill=\"black\" stroke=\"black\" points=\"1295.74,-951.7 1305.31,-947.15 1294.99,-944.75 1295.74,-951.7\"/>\n</g>\n<!-- 129 -->\n<g id=\"node130\" class=\"node\">\n<title>129</title>\n<polygon fill=\"#8bc5f0\" stroke=\"black\" points=\"1829,-1172 1719,-1172 1719,-1119 1829,-1119 1829,-1172\"/>\n<text text-anchor=\"start\" x=\"1746\" y=\"-1156.8\" font-family=\"Helvetica,sans-Serif\" font-size=\"14.00\">gini = 0.0</text>\n<text text-anchor=\"start\" x=\"1733\" y=\"-1141.8\" font-family=\"Helvetica,sans-Serif\" font-size=\"14.00\">samples = 65</text>\n<text text-anchor=\"start\" x=\"1727\" y=\"-1126.8\" font-family=\"Helvetica,sans-Serif\" font-size=\"14.00\">value = [19, 46]</text>\n</g>\n<!-- 128&#45;&gt;129 -->\n<g id=\"edge129\" class=\"edge\">\n<title>128&#45;&gt;129</title>\n<path fill=\"none\" stroke=\"black\" d=\"M1430.8,-1078.58C1506.11,-1093.31 1632.72,-1118.07 1709.01,-1132.99\"/>\n<polygon fill=\"black\" stroke=\"black\" points=\"1708.48,-1136.45 1718.97,-1134.93 1709.83,-1129.58 1708.48,-1136.45\"/>\n</g>\n<!-- 130 -->\n<g id=\"node131\" class=\"node\">\n<title>130</title>\n<polygon fill=\"#e7f3fc\" stroke=\"black\" points=\"1836.5,-1100.5 1711.5,-1100.5 1711.5,-1032.5 1836.5,-1032.5 1836.5,-1100.5\"/>\n<text text-anchor=\"start\" x=\"1741\" y=\"-1085.3\" font-family=\"Helvetica,sans-Serif\" font-size=\"14.00\">Age ≤ 40.0</text>\n<text text-anchor=\"start\" x=\"1746\" y=\"-1070.3\" font-family=\"Helvetica,sans-Serif\" font-size=\"14.00\">gini = 0.0</text>\n<text text-anchor=\"start\" x=\"1729\" y=\"-1055.3\" font-family=\"Helvetica,sans-Serif\" font-size=\"14.00\">samples = 334</text>\n<text text-anchor=\"start\" x=\"1719.5\" y=\"-1040.3\" font-family=\"Helvetica,sans-Serif\" font-size=\"14.00\">value = [156, 178]</text>\n</g>\n<!-- 128&#45;&gt;130 -->\n<g id=\"edge130\" class=\"edge\">\n<title>128&#45;&gt;130</title>\n<path fill=\"none\" stroke=\"black\" d=\"M1430.8,-1066.5C1503.57,-1066.5 1624.24,-1066.5 1701.13,-1066.5\"/>\n<polygon fill=\"black\" stroke=\"black\" points=\"1701.21,-1070 1711.21,-1066.5 1701.21,-1063 1701.21,-1070\"/>\n</g>\n<!-- 131 -->\n<g id=\"node132\" class=\"node\">\n<title>131</title>\n<polygon fill=\"#d8ecfa\" stroke=\"black\" points=\"2253.5,-1179.5 2106.5,-1179.5 2106.5,-1111.5 2253.5,-1111.5 2253.5,-1179.5\"/>\n<text text-anchor=\"start\" x=\"2142\" y=\"-1164.3\" font-family=\"Helvetica,sans-Serif\" font-size=\"14.00\">num ≤ 335.0</text>\n<text text-anchor=\"start\" x=\"2152\" y=\"-1149.3\" font-family=\"Helvetica,sans-Serif\" font-size=\"14.00\">gini = 0.0</text>\n<text text-anchor=\"start\" x=\"2135\" y=\"-1134.3\" font-family=\"Helvetica,sans-Serif\" font-size=\"14.00\">samples = 283</text>\n<text text-anchor=\"start\" x=\"2114.5\" y=\"-1119.3\" font-family=\"Helvetica,sans-Serif\" font-size=\"14.00\">value = [126.0, 157.0]</text>\n</g>\n<!-- 130&#45;&gt;131 -->\n<g id=\"edge131\" class=\"edge\">\n<title>130&#45;&gt;131</title>\n<path fill=\"none\" stroke=\"black\" d=\"M1836.8,-1078.58C1906.18,-1092.15 2019.12,-1114.24 2096.12,-1129.29\"/>\n<polygon fill=\"black\" stroke=\"black\" points=\"2095.78,-1132.79 2106.27,-1131.28 2097.13,-1125.92 2095.78,-1132.79\"/>\n</g>\n<!-- 138 -->\n<g id=\"node139\" class=\"node\">\n<title>138</title>\n<polygon fill=\"#f7d9c4\" stroke=\"black\" points=\"2235,-1093 2125,-1093 2125,-1040 2235,-1040 2235,-1093\"/>\n<text text-anchor=\"start\" x=\"2152\" y=\"-1077.8\" font-family=\"Helvetica,sans-Serif\" font-size=\"14.00\">gini = 0.0</text>\n<text text-anchor=\"start\" x=\"2139\" y=\"-1062.8\" font-family=\"Helvetica,sans-Serif\" font-size=\"14.00\">samples = 51</text>\n<text text-anchor=\"start\" x=\"2133\" y=\"-1047.8\" font-family=\"Helvetica,sans-Serif\" font-size=\"14.00\">value = [30, 21]</text>\n</g>\n<!-- 130&#45;&gt;138 -->\n<g id=\"edge138\" class=\"edge\">\n<title>130&#45;&gt;138</title>\n<path fill=\"none\" stroke=\"black\" d=\"M1836.8,-1066.5C1911.95,-1066.5 2038.2,-1066.5 2114.54,-1066.5\"/>\n<polygon fill=\"black\" stroke=\"black\" points=\"2114.97,-1070 2124.97,-1066.5 2114.97,-1063 2114.97,-1070\"/>\n</g>\n<!-- 132 -->\n<g id=\"node133\" class=\"node\">\n<title>132</title>\n<polygon fill=\"#bbddf6\" stroke=\"black\" points=\"2639.5,-1242.5 2522.5,-1242.5 2522.5,-1174.5 2639.5,-1174.5 2639.5,-1242.5\"/>\n<text text-anchor=\"start\" x=\"2548\" y=\"-1227.3\" font-family=\"Helvetica,sans-Serif\" font-size=\"14.00\">Age ≤ 14.0</text>\n<text text-anchor=\"start\" x=\"2553\" y=\"-1212.3\" font-family=\"Helvetica,sans-Serif\" font-size=\"14.00\">gini = 0.0</text>\n<text text-anchor=\"start\" x=\"2536\" y=\"-1197.3\" font-family=\"Helvetica,sans-Serif\" font-size=\"14.00\">samples = 194</text>\n<text text-anchor=\"start\" x=\"2530.5\" y=\"-1182.3\" font-family=\"Helvetica,sans-Serif\" font-size=\"14.00\">value = [77, 117]</text>\n</g>\n<!-- 131&#45;&gt;132 -->\n<g id=\"edge132\" class=\"edge\">\n<title>131&#45;&gt;132</title>\n<path fill=\"none\" stroke=\"black\" d=\"M2253.72,-1156.98C2327.31,-1168.6 2440.2,-1186.43 2512.04,-1197.77\"/>\n<polygon fill=\"black\" stroke=\"black\" points=\"2511.91,-1201.29 2522.33,-1199.39 2513,-1194.38 2511.91,-1201.29\"/>\n</g>\n<!-- 137 -->\n<g id=\"node138\" class=\"node\">\n<title>137</title>\n<polygon fill=\"#fae8db\" stroke=\"black\" points=\"2636,-1156 2526,-1156 2526,-1103 2636,-1103 2636,-1156\"/>\n<text text-anchor=\"start\" x=\"2553\" y=\"-1140.8\" font-family=\"Helvetica,sans-Serif\" font-size=\"14.00\">gini = 0.0</text>\n<text text-anchor=\"start\" x=\"2540\" y=\"-1125.8\" font-family=\"Helvetica,sans-Serif\" font-size=\"14.00\">samples = 89</text>\n<text text-anchor=\"start\" x=\"2534\" y=\"-1110.8\" font-family=\"Helvetica,sans-Serif\" font-size=\"14.00\">value = [49, 40]</text>\n</g>\n<!-- 131&#45;&gt;137 -->\n<g id=\"edge137\" class=\"edge\">\n<title>131&#45;&gt;137</title>\n<path fill=\"none\" stroke=\"black\" d=\"M2253.72,-1142.58C2328.49,-1139.59 2443.83,-1134.96 2515.46,-1132.09\"/>\n<polygon fill=\"black\" stroke=\"black\" points=\"2515.85,-1135.58 2525.7,-1131.68 2515.57,-1128.58 2515.85,-1135.58\"/>\n</g>\n<!-- 133 -->\n<g id=\"node134\" class=\"node\">\n<title>133</title>\n<polygon fill=\"#ecf6fd\" stroke=\"black\" points=\"3037,-1235 2927,-1235 2927,-1182 3037,-1182 3037,-1235\"/>\n<text text-anchor=\"start\" x=\"2954\" y=\"-1219.8\" font-family=\"Helvetica,sans-Serif\" font-size=\"14.00\">gini = 0.0</text>\n<text text-anchor=\"start\" x=\"2941\" y=\"-1204.8\" font-family=\"Helvetica,sans-Serif\" font-size=\"14.00\">samples = 61</text>\n<text text-anchor=\"start\" x=\"2935\" y=\"-1189.8\" font-family=\"Helvetica,sans-Serif\" font-size=\"14.00\">value = [29, 32]</text>\n</g>\n<!-- 132&#45;&gt;133 -->\n<g id=\"edge133\" class=\"edge\">\n<title>132&#45;&gt;133</title>\n<path fill=\"none\" stroke=\"black\" d=\"M2639.59,-1208.5C2713.22,-1208.5 2840.32,-1208.5 2916.94,-1208.5\"/>\n<polygon fill=\"black\" stroke=\"black\" points=\"2916.94,-1212 2926.94,-1208.5 2916.94,-1205 2916.94,-1212\"/>\n</g>\n<!-- 134 -->\n<g id=\"node135\" class=\"node\">\n<title>134</title>\n<polygon fill=\"#a9d4f4\" stroke=\"black\" points=\"3037,-1163.5 2927,-1163.5 2927,-1095.5 3037,-1095.5 3037,-1163.5\"/>\n<text text-anchor=\"start\" x=\"2944\" y=\"-1148.3\" font-family=\"Helvetica,sans-Serif\" font-size=\"14.00\">num ≤ 171.0</text>\n<text text-anchor=\"start\" x=\"2954\" y=\"-1133.3\" font-family=\"Helvetica,sans-Serif\" font-size=\"14.00\">gini = 0.0</text>\n<text text-anchor=\"start\" x=\"2937\" y=\"-1118.3\" font-family=\"Helvetica,sans-Serif\" font-size=\"14.00\">samples = 133</text>\n<text text-anchor=\"start\" x=\"2935\" y=\"-1103.3\" font-family=\"Helvetica,sans-Serif\" font-size=\"14.00\">value = [48, 85]</text>\n</g>\n<!-- 132&#45;&gt;134 -->\n<g id=\"edge134\" class=\"edge\">\n<title>132&#45;&gt;134</title>\n<path fill=\"none\" stroke=\"black\" d=\"M2639.59,-1197.1C2713.22,-1182.52 2840.32,-1157.35 2916.94,-1142.18\"/>\n<polygon fill=\"black\" stroke=\"black\" points=\"2917.81,-1145.58 2926.94,-1140.2 2916.45,-1138.71 2917.81,-1145.58\"/>\n</g>\n<!-- 135 -->\n<g id=\"node136\" class=\"node\">\n<title>135</title>\n<polygon fill=\"#baddf6\" stroke=\"black\" points=\"3430,-1156 3320,-1156 3320,-1103 3430,-1103 3430,-1156\"/>\n<text text-anchor=\"start\" x=\"3347\" y=\"-1140.8\" font-family=\"Helvetica,sans-Serif\" font-size=\"14.00\">gini = 0.0</text>\n<text text-anchor=\"start\" x=\"3334\" y=\"-1125.8\" font-family=\"Helvetica,sans-Serif\" font-size=\"14.00\">samples = 76</text>\n<text text-anchor=\"start\" x=\"3328\" y=\"-1110.8\" font-family=\"Helvetica,sans-Serif\" font-size=\"14.00\">value = [30, 46]</text>\n</g>\n<!-- 134&#45;&gt;135 -->\n<g id=\"edge135\" class=\"edge\">\n<title>134&#45;&gt;135</title>\n<path fill=\"none\" stroke=\"black\" d=\"M3037.37,-1129.5C3108.61,-1129.5 3233.4,-1129.5 3309.39,-1129.5\"/>\n<polygon fill=\"black\" stroke=\"black\" points=\"3309.78,-1133 3319.78,-1129.5 3309.78,-1126 3309.78,-1133\"/>\n</g>\n<!-- 136 -->\n<g id=\"node137\" class=\"node\">\n<title>136</title>\n<polygon fill=\"#94caf1\" stroke=\"black\" points=\"3430,-1085 3320,-1085 3320,-1032 3430,-1032 3430,-1085\"/>\n<text text-anchor=\"start\" x=\"3347\" y=\"-1069.8\" font-family=\"Helvetica,sans-Serif\" font-size=\"14.00\">gini = 0.0</text>\n<text text-anchor=\"start\" x=\"3334\" y=\"-1054.8\" font-family=\"Helvetica,sans-Serif\" font-size=\"14.00\">samples = 57</text>\n<text text-anchor=\"start\" x=\"3328\" y=\"-1039.8\" font-family=\"Helvetica,sans-Serif\" font-size=\"14.00\">value = [18, 39]</text>\n</g>\n<!-- 134&#45;&gt;136 -->\n<g id=\"edge136\" class=\"edge\">\n<title>134&#45;&gt;136</title>\n<path fill=\"none\" stroke=\"black\" d=\"M3037.37,-1119.63C3108.76,-1106.66 3233.91,-1083.94 3309.86,-1070.15\"/>\n<polygon fill=\"black\" stroke=\"black\" points=\"3310.57,-1073.58 3319.78,-1068.35 3309.32,-1066.69 3310.57,-1073.58\"/>\n</g>\n<!-- 140 -->\n<g id=\"node141\" class=\"node\">\n<title>140</title>\n<polygon fill=\"#bedff6\" stroke=\"black\" points=\"1836.5,-974.5 1711.5,-974.5 1711.5,-906.5 1836.5,-906.5 1836.5,-974.5\"/>\n<text text-anchor=\"start\" x=\"1723\" y=\"-959.3\" font-family=\"Helvetica,sans-Serif\" font-size=\"14.00\">Destination ≤ 2.0</text>\n<text text-anchor=\"start\" x=\"1746\" y=\"-944.3\" font-family=\"Helvetica,sans-Serif\" font-size=\"14.00\">gini = 0.0</text>\n<text text-anchor=\"start\" x=\"1729\" y=\"-929.3\" font-family=\"Helvetica,sans-Serif\" font-size=\"14.00\">samples = 354</text>\n<text text-anchor=\"start\" x=\"1719.5\" y=\"-914.3\" font-family=\"Helvetica,sans-Serif\" font-size=\"14.00\">value = [142, 212]</text>\n</g>\n<!-- 139&#45;&gt;140 -->\n<g id=\"edge140\" class=\"edge\">\n<title>139&#45;&gt;140</title>\n<path fill=\"none\" stroke=\"black\" d=\"M1430.8,-940.5C1503.57,-940.5 1624.24,-940.5 1701.13,-940.5\"/>\n<polygon fill=\"black\" stroke=\"black\" points=\"1701.21,-944 1711.21,-940.5 1701.21,-937 1701.21,-944\"/>\n</g>\n<!-- 149 -->\n<g id=\"node150\" class=\"node\">\n<title>149</title>\n<polygon fill=\"#65b3eb\" stroke=\"black\" points=\"1832.5,-730.5 1715.5,-730.5 1715.5,-662.5 1832.5,-662.5 1832.5,-730.5\"/>\n<text text-anchor=\"start\" x=\"1732\" y=\"-715.3\" font-family=\"Helvetica,sans-Serif\" font-size=\"14.00\">num ≤ 1203.0</text>\n<text text-anchor=\"start\" x=\"1746\" y=\"-700.3\" font-family=\"Helvetica,sans-Serif\" font-size=\"14.00\">gini = 0.0</text>\n<text text-anchor=\"start\" x=\"1729\" y=\"-685.3\" font-family=\"Helvetica,sans-Serif\" font-size=\"14.00\">samples = 360</text>\n<text text-anchor=\"start\" x=\"1723.5\" y=\"-670.3\" font-family=\"Helvetica,sans-Serif\" font-size=\"14.00\">value = [66, 294]</text>\n</g>\n<!-- 139&#45;&gt;149 -->\n<g id=\"edge149\" class=\"edge\">\n<title>139&#45;&gt;149</title>\n<path fill=\"none\" stroke=\"black\" d=\"M1425.6,-906.32C1499.73,-861.55 1629.42,-783.21 1707.65,-735.97\"/>\n<polygon fill=\"black\" stroke=\"black\" points=\"1709.71,-738.82 1716.46,-730.65 1706.09,-732.82 1709.71,-738.82\"/>\n</g>\n<!-- 141 -->\n<g id=\"node142\" class=\"node\">\n<title>141</title>\n<polygon fill=\"#93caf1\" stroke=\"black\" points=\"2238.5,-1021.5 2121.5,-1021.5 2121.5,-953.5 2238.5,-953.5 2238.5,-1021.5\"/>\n<text text-anchor=\"start\" x=\"2138\" y=\"-1006.3\" font-family=\"Helvetica,sans-Serif\" font-size=\"14.00\">num ≤ 1096.0</text>\n<text text-anchor=\"start\" x=\"2152\" y=\"-991.3\" font-family=\"Helvetica,sans-Serif\" font-size=\"14.00\">gini = 0.0</text>\n<text text-anchor=\"start\" x=\"2135\" y=\"-976.3\" font-family=\"Helvetica,sans-Serif\" font-size=\"14.00\">samples = 150</text>\n<text text-anchor=\"start\" x=\"2129.5\" y=\"-961.3\" font-family=\"Helvetica,sans-Serif\" font-size=\"14.00\">value = [47, 103]</text>\n</g>\n<!-- 140&#45;&gt;141 -->\n<g id=\"edge141\" class=\"edge\">\n<title>140&#45;&gt;141</title>\n<path fill=\"none\" stroke=\"black\" d=\"M1836.8,-947.69C1910.94,-956.32 2034.82,-970.73 2111.44,-979.64\"/>\n<polygon fill=\"black\" stroke=\"black\" points=\"2111.12,-983.13 2121.46,-980.81 2111.93,-976.17 2111.12,-983.13\"/>\n</g>\n<!-- 144 -->\n<g id=\"node145\" class=\"node\">\n<title>144</title>\n<polygon fill=\"#e6f2fc\" stroke=\"black\" points=\"2238.5,-935.5 2121.5,-935.5 2121.5,-867.5 2238.5,-867.5 2238.5,-935.5\"/>\n<text text-anchor=\"start\" x=\"2147\" y=\"-920.3\" font-family=\"Helvetica,sans-Serif\" font-size=\"14.00\">Age ≤ 16.0</text>\n<text text-anchor=\"start\" x=\"2152\" y=\"-905.3\" font-family=\"Helvetica,sans-Serif\" font-size=\"14.00\">gini = 0.0</text>\n<text text-anchor=\"start\" x=\"2135\" y=\"-890.3\" font-family=\"Helvetica,sans-Serif\" font-size=\"14.00\">samples = 204</text>\n<text text-anchor=\"start\" x=\"2129.5\" y=\"-875.3\" font-family=\"Helvetica,sans-Serif\" font-size=\"14.00\">value = [95, 109]</text>\n</g>\n<!-- 140&#45;&gt;144 -->\n<g id=\"edge144\" class=\"edge\">\n<title>140&#45;&gt;144</title>\n<path fill=\"none\" stroke=\"black\" d=\"M1836.8,-934.53C1910.94,-927.38 2034.82,-915.42 2111.44,-908.02\"/>\n<polygon fill=\"black\" stroke=\"black\" points=\"2111.84,-911.5 2121.46,-907.05 2111.17,-904.53 2111.84,-911.5\"/>\n</g>\n<!-- 142 -->\n<g id=\"node143\" class=\"node\">\n<title>142</title>\n<polygon fill=\"#7abdee\" stroke=\"black\" points=\"2636,-1085 2526,-1085 2526,-1032 2636,-1032 2636,-1085\"/>\n<text text-anchor=\"start\" x=\"2553\" y=\"-1069.8\" font-family=\"Helvetica,sans-Serif\" font-size=\"14.00\">gini = 0.0</text>\n<text text-anchor=\"start\" x=\"2540\" y=\"-1054.8\" font-family=\"Helvetica,sans-Serif\" font-size=\"14.00\">samples = 89</text>\n<text text-anchor=\"start\" x=\"2534\" y=\"-1039.8\" font-family=\"Helvetica,sans-Serif\" font-size=\"14.00\">value = [22, 67]</text>\n</g>\n<!-- 141&#45;&gt;142 -->\n<g id=\"edge142\" class=\"edge\">\n<title>141&#45;&gt;142</title>\n<path fill=\"none\" stroke=\"black\" d=\"M2238.59,-997.75C2312.22,-1010.85 2439.32,-1033.47 2515.94,-1047.1\"/>\n<polygon fill=\"black\" stroke=\"black\" points=\"2515.49,-1050.57 2525.94,-1048.88 2516.71,-1043.68 2515.49,-1050.57\"/>\n</g>\n<!-- 143 -->\n<g id=\"node144\" class=\"node\">\n<title>143</title>\n<polygon fill=\"#c2e1f7\" stroke=\"black\" points=\"2636,-1014 2526,-1014 2526,-961 2636,-961 2636,-1014\"/>\n<text text-anchor=\"start\" x=\"2553\" y=\"-998.8\" font-family=\"Helvetica,sans-Serif\" font-size=\"14.00\">gini = 0.0</text>\n<text text-anchor=\"start\" x=\"2540\" y=\"-983.8\" font-family=\"Helvetica,sans-Serif\" font-size=\"14.00\">samples = 61</text>\n<text text-anchor=\"start\" x=\"2534\" y=\"-968.8\" font-family=\"Helvetica,sans-Serif\" font-size=\"14.00\">value = [25, 36]</text>\n</g>\n<!-- 141&#45;&gt;143 -->\n<g id=\"edge143\" class=\"edge\">\n<title>141&#45;&gt;143</title>\n<path fill=\"none\" stroke=\"black\" d=\"M2238.59,-987.5C2312.22,-987.5 2439.32,-987.5 2515.94,-987.5\"/>\n<polygon fill=\"black\" stroke=\"black\" points=\"2515.94,-991 2525.94,-987.5 2515.94,-984 2515.94,-991\"/>\n</g>\n<!-- 145 -->\n<g id=\"node146\" class=\"node\">\n<title>145</title>\n<polygon fill=\"#b6dbf5\" stroke=\"black\" points=\"2636,-943 2526,-943 2526,-890 2636,-890 2636,-943\"/>\n<text text-anchor=\"start\" x=\"2553\" y=\"-927.8\" font-family=\"Helvetica,sans-Serif\" font-size=\"14.00\">gini = 0.0</text>\n<text text-anchor=\"start\" x=\"2540\" y=\"-912.8\" font-family=\"Helvetica,sans-Serif\" font-size=\"14.00\">samples = 62</text>\n<text text-anchor=\"start\" x=\"2534\" y=\"-897.8\" font-family=\"Helvetica,sans-Serif\" font-size=\"14.00\">value = [24, 38]</text>\n</g>\n<!-- 144&#45;&gt;145 -->\n<g id=\"edge145\" class=\"edge\">\n<title>144&#45;&gt;145</title>\n<path fill=\"none\" stroke=\"black\" d=\"M2238.59,-903.67C2312.22,-906.43 2439.32,-911.21 2515.94,-914.09\"/>\n<polygon fill=\"black\" stroke=\"black\" points=\"2515.82,-917.59 2525.94,-914.47 2516.08,-910.59 2515.82,-917.59\"/>\n</g>\n<!-- 146 -->\n<g id=\"node147\" class=\"node\">\n<title>146</title>\n<polygon fill=\"#ffffff\" stroke=\"black\" points=\"2636,-871.5 2526,-871.5 2526,-803.5 2636,-803.5 2636,-871.5\"/>\n<text text-anchor=\"start\" x=\"2548\" y=\"-856.3\" font-family=\"Helvetica,sans-Serif\" font-size=\"14.00\">Age ≤ 26.0</text>\n<text text-anchor=\"start\" x=\"2553\" y=\"-841.3\" font-family=\"Helvetica,sans-Serif\" font-size=\"14.00\">gini = 0.0</text>\n<text text-anchor=\"start\" x=\"2536\" y=\"-826.3\" font-family=\"Helvetica,sans-Serif\" font-size=\"14.00\">samples = 142</text>\n<text text-anchor=\"start\" x=\"2534\" y=\"-811.3\" font-family=\"Helvetica,sans-Serif\" font-size=\"14.00\">value = [71, 71]</text>\n</g>\n<!-- 144&#45;&gt;146 -->\n<g id=\"edge146\" class=\"edge\">\n<title>144&#45;&gt;146</title>\n<path fill=\"none\" stroke=\"black\" d=\"M2238.59,-892.26C2312.22,-880.45 2439.32,-860.06 2515.94,-847.78\"/>\n<polygon fill=\"black\" stroke=\"black\" points=\"2516.62,-851.21 2525.94,-846.17 2515.52,-844.3 2516.62,-851.21\"/>\n</g>\n<!-- 147 -->\n<g id=\"node148\" class=\"node\">\n<title>147</title>\n<polygon fill=\"#f7d6bf\" stroke=\"black\" points=\"3037,-946 2927,-946 2927,-893 3037,-893 3037,-946\"/>\n<text text-anchor=\"start\" x=\"2954\" y=\"-930.8\" font-family=\"Helvetica,sans-Serif\" font-size=\"14.00\">gini = 0.0</text>\n<text text-anchor=\"start\" x=\"2941\" y=\"-915.8\" font-family=\"Helvetica,sans-Serif\" font-size=\"14.00\">samples = 67</text>\n<text text-anchor=\"start\" x=\"2935\" y=\"-900.8\" font-family=\"Helvetica,sans-Serif\" font-size=\"14.00\">value = [40, 27]</text>\n</g>\n<!-- 146&#45;&gt;147 -->\n<g id=\"edge147\" class=\"edge\">\n<title>146&#45;&gt;147</title>\n<path fill=\"none\" stroke=\"black\" d=\"M2636.23,-848.64C2709.23,-863.65 2838.92,-890.3 2916.73,-906.29\"/>\n<polygon fill=\"black\" stroke=\"black\" points=\"2916.39,-909.8 2926.89,-908.38 2917.8,-902.94 2916.39,-909.8\"/>\n</g>\n<!-- 148 -->\n<g id=\"node149\" class=\"node\">\n<title>148</title>\n<polygon fill=\"#c4e2f7\" stroke=\"black\" points=\"3037,-875 2927,-875 2927,-822 3037,-822 3037,-875\"/>\n<text text-anchor=\"start\" x=\"2954\" y=\"-859.8\" font-family=\"Helvetica,sans-Serif\" font-size=\"14.00\">gini = 0.0</text>\n<text text-anchor=\"start\" x=\"2941\" y=\"-844.8\" font-family=\"Helvetica,sans-Serif\" font-size=\"14.00\">samples = 75</text>\n<text text-anchor=\"start\" x=\"2935\" y=\"-829.8\" font-family=\"Helvetica,sans-Serif\" font-size=\"14.00\">value = [31, 44]</text>\n</g>\n<!-- 146&#45;&gt;148 -->\n<g id=\"edge148\" class=\"edge\">\n<title>146&#45;&gt;148</title>\n<path fill=\"none\" stroke=\"black\" d=\"M2636.23,-838.99C2709.23,-841.01 2838.92,-844.58 2916.73,-846.73\"/>\n<polygon fill=\"black\" stroke=\"black\" points=\"2916.8,-850.23 2926.89,-847.01 2916.99,-843.23 2916.8,-850.23\"/>\n</g>\n<!-- 150 -->\n<g id=\"node151\" class=\"node\">\n<title>150</title>\n<polygon fill=\"#54aae9\" stroke=\"black\" points=\"2238.5,-730.5 2121.5,-730.5 2121.5,-662.5 2238.5,-662.5 2238.5,-730.5\"/>\n<text text-anchor=\"start\" x=\"2142\" y=\"-715.3\" font-family=\"Helvetica,sans-Serif\" font-size=\"14.00\">num ≤ 761.0</text>\n<text text-anchor=\"start\" x=\"2152\" y=\"-700.3\" font-family=\"Helvetica,sans-Serif\" font-size=\"14.00\">gini = 0.0</text>\n<text text-anchor=\"start\" x=\"2135\" y=\"-685.3\" font-family=\"Helvetica,sans-Serif\" font-size=\"14.00\">samples = 260</text>\n<text text-anchor=\"start\" x=\"2129.5\" y=\"-670.3\" font-family=\"Helvetica,sans-Serif\" font-size=\"14.00\">value = [31, 229]</text>\n</g>\n<!-- 149&#45;&gt;150 -->\n<g id=\"edge150\" class=\"edge\">\n<title>149&#45;&gt;150</title>\n<path fill=\"none\" stroke=\"black\" d=\"M1832.88,-696.5C1906.38,-696.5 2033,-696.5 2111.02,-696.5\"/>\n<polygon fill=\"black\" stroke=\"black\" points=\"2111.22,-700 2121.22,-696.5 2111.22,-693 2111.22,-700\"/>\n</g>\n<!-- 157 -->\n<g id=\"node158\" class=\"node\">\n<title>157</title>\n<polygon fill=\"#a4d2f3\" stroke=\"black\" points=\"2235,-604.5 2125,-604.5 2125,-536.5 2235,-536.5 2235,-604.5\"/>\n<text text-anchor=\"start\" x=\"2138\" y=\"-589.3\" font-family=\"Helvetica,sans-Serif\" font-size=\"14.00\">num ≤ 1350.0</text>\n<text text-anchor=\"start\" x=\"2152\" y=\"-574.3\" font-family=\"Helvetica,sans-Serif\" font-size=\"14.00\">gini = 0.0</text>\n<text text-anchor=\"start\" x=\"2135\" y=\"-559.3\" font-family=\"Helvetica,sans-Serif\" font-size=\"14.00\">samples = 100</text>\n<text text-anchor=\"start\" x=\"2133\" y=\"-544.3\" font-family=\"Helvetica,sans-Serif\" font-size=\"14.00\">value = [35, 65]</text>\n</g>\n<!-- 149&#45;&gt;157 -->\n<g id=\"edge157\" class=\"edge\">\n<title>149&#45;&gt;157</title>\n<path fill=\"none\" stroke=\"black\" d=\"M1832.88,-678.45C1907.68,-655.12 2037.5,-614.63 2115.11,-590.42\"/>\n<polygon fill=\"black\" stroke=\"black\" points=\"2116.27,-593.73 2124.78,-587.41 2114.19,-587.05 2116.27,-593.73\"/>\n</g>\n<!-- 151 -->\n<g id=\"node152\" class=\"node\">\n<title>151</title>\n<polygon fill=\"#86c3ef\" stroke=\"black\" points=\"2647,-765.5 2515,-765.5 2515,-697.5 2647,-697.5 2647,-765.5\"/>\n<text text-anchor=\"start\" x=\"2548\" y=\"-750.3\" font-family=\"Helvetica,sans-Serif\" font-size=\"14.00\">Age ≤ 19.0</text>\n<text text-anchor=\"start\" x=\"2553\" y=\"-735.3\" font-family=\"Helvetica,sans-Serif\" font-size=\"14.00\">gini = 0.0</text>\n<text text-anchor=\"start\" x=\"2536\" y=\"-720.3\" font-family=\"Helvetica,sans-Serif\" font-size=\"14.00\">samples = 107</text>\n<text text-anchor=\"start\" x=\"2523\" y=\"-705.3\" font-family=\"Helvetica,sans-Serif\" font-size=\"14.00\">value = [30.0, 77.0]</text>\n</g>\n<!-- 150&#45;&gt;151 -->\n<g id=\"edge151\" class=\"edge\">\n<title>150&#45;&gt;151</title>\n<path fill=\"none\" stroke=\"black\" d=\"M2238.59,-701.55C2308.71,-707.7 2427.32,-718.11 2504.65,-724.89\"/>\n<polygon fill=\"black\" stroke=\"black\" points=\"2504.53,-728.39 2514.8,-725.78 2505.15,-721.42 2504.53,-728.39\"/>\n</g>\n<!-- 154 -->\n<g id=\"node155\" class=\"node\">\n<title>154</title>\n<polygon fill=\"#3a9ee5\" stroke=\"black\" points=\"2636,-679.5 2526,-679.5 2526,-611.5 2636,-611.5 2636,-679.5\"/>\n<text text-anchor=\"start\" x=\"2539\" y=\"-664.3\" font-family=\"Helvetica,sans-Serif\" font-size=\"14.00\">num ≤ 1035.0</text>\n<text text-anchor=\"start\" x=\"2553\" y=\"-649.3\" font-family=\"Helvetica,sans-Serif\" font-size=\"14.00\">gini = 0.0</text>\n<text text-anchor=\"start\" x=\"2536\" y=\"-634.3\" font-family=\"Helvetica,sans-Serif\" font-size=\"14.00\">samples = 153</text>\n<text text-anchor=\"start\" x=\"2534\" y=\"-619.3\" font-family=\"Helvetica,sans-Serif\" font-size=\"14.00\">value = [1, 152]</text>\n</g>\n<!-- 150&#45;&gt;154 -->\n<g id=\"edge154\" class=\"edge\">\n<title>150&#45;&gt;154</title>\n<path fill=\"none\" stroke=\"black\" d=\"M2238.59,-689.14C2312.22,-679.73 2439.32,-663.48 2515.94,-653.69\"/>\n<polygon fill=\"black\" stroke=\"black\" points=\"2516.47,-657.15 2525.94,-652.41 2515.58,-650.21 2516.47,-657.15\"/>\n</g>\n<!-- 152 -->\n<g id=\"node153\" class=\"node\">\n<title>152</title>\n<polygon fill=\"#73baed\" stroke=\"black\" points=\"3037,-804 2927,-804 2927,-751 3037,-751 3037,-804\"/>\n<text text-anchor=\"start\" x=\"2954\" y=\"-788.8\" font-family=\"Helvetica,sans-Serif\" font-size=\"14.00\">gini = 0.0</text>\n<text text-anchor=\"start\" x=\"2941\" y=\"-773.8\" font-family=\"Helvetica,sans-Serif\" font-size=\"14.00\">samples = 53</text>\n<text text-anchor=\"start\" x=\"2935\" y=\"-758.8\" font-family=\"Helvetica,sans-Serif\" font-size=\"14.00\">value = [12, 41]</text>\n</g>\n<!-- 151&#45;&gt;152 -->\n<g id=\"edge152\" class=\"edge\">\n<title>151&#45;&gt;152</title>\n<path fill=\"none\" stroke=\"black\" d=\"M2647.44,-739.04C2721.87,-747.63 2842.64,-761.55 2916.63,-770.08\"/>\n<polygon fill=\"black\" stroke=\"black\" points=\"2916.41,-773.58 2926.75,-771.25 2917.21,-766.62 2916.41,-773.58\"/>\n</g>\n<!-- 153 -->\n<g id=\"node154\" class=\"node\">\n<title>153</title>\n<polygon fill=\"#9ccef2\" stroke=\"black\" points=\"3037,-733 2927,-733 2927,-680 3037,-680 3037,-733\"/>\n<text text-anchor=\"start\" x=\"2954\" y=\"-717.8\" font-family=\"Helvetica,sans-Serif\" font-size=\"14.00\">gini = 0.0</text>\n<text text-anchor=\"start\" x=\"2941\" y=\"-702.8\" font-family=\"Helvetica,sans-Serif\" font-size=\"14.00\">samples = 54</text>\n<text text-anchor=\"start\" x=\"2935\" y=\"-687.8\" font-family=\"Helvetica,sans-Serif\" font-size=\"14.00\">value = [18, 36]</text>\n</g>\n<!-- 151&#45;&gt;153 -->\n<g id=\"edge153\" class=\"edge\">\n<title>151&#45;&gt;153</title>\n<path fill=\"none\" stroke=\"black\" d=\"M2647.44,-727.4C2721.87,-722.74 2842.64,-715.17 2916.63,-710.53\"/>\n<polygon fill=\"black\" stroke=\"black\" points=\"2916.98,-714.02 2926.75,-709.9 2916.55,-707.03 2916.98,-714.02\"/>\n</g>\n<!-- 155 -->\n<g id=\"node156\" class=\"node\">\n<title>155</title>\n<polygon fill=\"#399de5\" stroke=\"black\" points=\"3037,-662 2927,-662 2927,-609 3037,-609 3037,-662\"/>\n<text text-anchor=\"start\" x=\"2954\" y=\"-646.8\" font-family=\"Helvetica,sans-Serif\" font-size=\"14.00\">gini = 0.0</text>\n<text text-anchor=\"start\" x=\"2937\" y=\"-631.8\" font-family=\"Helvetica,sans-Serif\" font-size=\"14.00\">samples = 103</text>\n<text text-anchor=\"start\" x=\"2935\" y=\"-616.8\" font-family=\"Helvetica,sans-Serif\" font-size=\"14.00\">value = [0, 103]</text>\n</g>\n<!-- 154&#45;&gt;155 -->\n<g id=\"edge155\" class=\"edge\">\n<title>154&#45;&gt;155</title>\n<path fill=\"none\" stroke=\"black\" d=\"M2636.23,-644.14C2709.23,-642.31 2838.92,-639.06 2916.73,-637.11\"/>\n<polygon fill=\"black\" stroke=\"black\" points=\"2916.98,-640.61 2926.89,-636.86 2916.81,-633.61 2916.98,-640.61\"/>\n</g>\n<!-- 156 -->\n<g id=\"node157\" class=\"node\">\n<title>156</title>\n<polygon fill=\"#3d9fe6\" stroke=\"black\" points=\"3033,-591 2931,-591 2931,-538 3033,-538 3033,-591\"/>\n<text text-anchor=\"start\" x=\"2954\" y=\"-575.8\" font-family=\"Helvetica,sans-Serif\" font-size=\"14.00\">gini = 0.0</text>\n<text text-anchor=\"start\" x=\"2941\" y=\"-560.8\" font-family=\"Helvetica,sans-Serif\" font-size=\"14.00\">samples = 50</text>\n<text text-anchor=\"start\" x=\"2939\" y=\"-545.8\" font-family=\"Helvetica,sans-Serif\" font-size=\"14.00\">value = [1, 49]</text>\n</g>\n<!-- 154&#45;&gt;156 -->\n<g id=\"edge156\" class=\"edge\">\n<title>154&#45;&gt;156</title>\n<path fill=\"none\" stroke=\"black\" d=\"M2636.23,-634.49C2710.55,-619.4 2843.64,-592.38 2920.92,-576.7\"/>\n<polygon fill=\"black\" stroke=\"black\" points=\"2921.88,-580.07 2930.98,-574.65 2920.49,-573.21 2921.88,-580.07\"/>\n</g>\n<!-- 158 -->\n<g id=\"node159\" class=\"node\">\n<title>158</title>\n<polygon fill=\"#96cbf1\" stroke=\"black\" points=\"2636,-593 2526,-593 2526,-540 2636,-540 2636,-593\"/>\n<text text-anchor=\"start\" x=\"2553\" y=\"-577.8\" font-family=\"Helvetica,sans-Serif\" font-size=\"14.00\">gini = 0.0</text>\n<text text-anchor=\"start\" x=\"2540\" y=\"-562.8\" font-family=\"Helvetica,sans-Serif\" font-size=\"14.00\">samples = 50</text>\n<text text-anchor=\"start\" x=\"2534\" y=\"-547.8\" font-family=\"Helvetica,sans-Serif\" font-size=\"14.00\">value = [16, 34]</text>\n</g>\n<!-- 157&#45;&gt;158 -->\n<g id=\"edge158\" class=\"edge\">\n<title>157&#45;&gt;158</title>\n<path fill=\"none\" stroke=\"black\" d=\"M2235.23,-569.96C2308.23,-569.22 2437.92,-567.92 2515.73,-567.14\"/>\n<polygon fill=\"black\" stroke=\"black\" points=\"2515.93,-570.64 2525.89,-567.04 2515.86,-563.64 2515.93,-570.64\"/>\n</g>\n<!-- 159 -->\n<g id=\"node160\" class=\"node\">\n<title>159</title>\n<polygon fill=\"#b2d9f5\" stroke=\"black\" points=\"2636,-522 2526,-522 2526,-469 2636,-469 2636,-522\"/>\n<text text-anchor=\"start\" x=\"2553\" y=\"-506.8\" font-family=\"Helvetica,sans-Serif\" font-size=\"14.00\">gini = 0.0</text>\n<text text-anchor=\"start\" x=\"2540\" y=\"-491.8\" font-family=\"Helvetica,sans-Serif\" font-size=\"14.00\">samples = 50</text>\n<text text-anchor=\"start\" x=\"2534\" y=\"-476.8\" font-family=\"Helvetica,sans-Serif\" font-size=\"14.00\">value = [19, 31]</text>\n</g>\n<!-- 157&#45;&gt;159 -->\n<g id=\"edge159\" class=\"edge\">\n<title>157&#45;&gt;159</title>\n<path fill=\"none\" stroke=\"black\" d=\"M2235.23,-560.31C2308.23,-546.58 2437.92,-522.21 2515.73,-507.58\"/>\n<polygon fill=\"black\" stroke=\"black\" points=\"2516.71,-510.96 2525.89,-505.67 2515.42,-504.08 2516.71,-510.96\"/>\n</g>\n<!-- 161 -->\n<g id=\"node162\" class=\"node\">\n<title>161</title>\n<polygon fill=\"#3b9ee5\" stroke=\"black\" points=\"1423,-413.5 1313,-413.5 1313,-345.5 1423,-345.5 1423,-413.5\"/>\n<text text-anchor=\"start\" x=\"1338.5\" y=\"-398.3\" font-family=\"Helvetica,sans-Serif\" font-size=\"14.00\">side ≤ 0.0</text>\n<text text-anchor=\"start\" x=\"1340\" y=\"-383.3\" font-family=\"Helvetica,sans-Serif\" font-size=\"14.00\">gini = 0.0</text>\n<text text-anchor=\"start\" x=\"1323\" y=\"-368.3\" font-family=\"Helvetica,sans-Serif\" font-size=\"14.00\">samples = 683</text>\n<text text-anchor=\"start\" x=\"1321\" y=\"-353.3\" font-family=\"Helvetica,sans-Serif\" font-size=\"14.00\">value = [7, 676]</text>\n</g>\n<!-- 160&#45;&gt;161 -->\n<g id=\"edge161\" class=\"edge\">\n<title>160&#45;&gt;161</title>\n<path fill=\"none\" stroke=\"black\" d=\"M1020.52,-379.5C1096.58,-379.5 1225.42,-379.5 1302.72,-379.5\"/>\n<polygon fill=\"black\" stroke=\"black\" points=\"1302.82,-383 1312.81,-379.5 1302.81,-376 1302.82,-383\"/>\n</g>\n<!-- 170 -->\n<g id=\"node171\" class=\"node\">\n<title>170</title>\n<polygon fill=\"#4ea7e8\" stroke=\"black\" points=\"1426.5,-288.5 1309.5,-288.5 1309.5,-220.5 1426.5,-220.5 1426.5,-288.5\"/>\n<text text-anchor=\"start\" x=\"1336.5\" y=\"-273.3\" font-family=\"Helvetica,sans-Serif\" font-size=\"14.00\">deck ≤ 4.0</text>\n<text text-anchor=\"start\" x=\"1340\" y=\"-258.3\" font-family=\"Helvetica,sans-Serif\" font-size=\"14.00\">gini = 0.0</text>\n<text text-anchor=\"start\" x=\"1323\" y=\"-243.3\" font-family=\"Helvetica,sans-Serif\" font-size=\"14.00\">samples = 501</text>\n<text text-anchor=\"start\" x=\"1317.5\" y=\"-228.3\" font-family=\"Helvetica,sans-Serif\" font-size=\"14.00\">value = [48, 453]</text>\n</g>\n<!-- 160&#45;&gt;170 -->\n<g id=\"edge170\" class=\"edge\">\n<title>160&#45;&gt;170</title>\n<path fill=\"none\" stroke=\"black\" d=\"M1020.52,-360.65C1095.56,-337.66 1221.97,-298.93 1299.59,-275.15\"/>\n<polygon fill=\"black\" stroke=\"black\" points=\"1300.74,-278.46 1309.27,-272.19 1298.69,-271.77 1300.74,-278.46\"/>\n</g>\n<!-- 162 -->\n<g id=\"node163\" class=\"node\">\n<title>162</title>\n<polygon fill=\"#3d9fe6\" stroke=\"black\" points=\"1840,-453.5 1708,-453.5 1708,-385.5 1840,-385.5 1840,-453.5\"/>\n<text text-anchor=\"start\" x=\"1723\" y=\"-438.3\" font-family=\"Helvetica,sans-Serif\" font-size=\"14.00\">Destination ≤ 2.0</text>\n<text text-anchor=\"start\" x=\"1746\" y=\"-423.3\" font-family=\"Helvetica,sans-Serif\" font-size=\"14.00\">gini = 0.0</text>\n<text text-anchor=\"start\" x=\"1729\" y=\"-408.3\" font-family=\"Helvetica,sans-Serif\" font-size=\"14.00\">samples = 294</text>\n<text text-anchor=\"start\" x=\"1716\" y=\"-393.3\" font-family=\"Helvetica,sans-Serif\" font-size=\"14.00\">value = [6.0, 288.0]</text>\n</g>\n<!-- 161&#45;&gt;162 -->\n<g id=\"edge162\" class=\"edge\">\n<title>161&#45;&gt;162</title>\n<path fill=\"none\" stroke=\"black\" d=\"M1423.07,-384.85C1493.79,-391.86 1618.07,-404.16 1697.9,-412.06\"/>\n<polygon fill=\"black\" stroke=\"black\" points=\"1697.6,-415.55 1707.9,-413.05 1698.29,-408.59 1697.6,-415.55\"/>\n</g>\n<!-- 167 -->\n<g id=\"node168\" class=\"node\">\n<title>167</title>\n<polygon fill=\"#3a9de5\" stroke=\"black\" points=\"1840,-367.5 1708,-367.5 1708,-299.5 1840,-299.5 1840,-367.5\"/>\n<text text-anchor=\"start\" x=\"1739.5\" y=\"-352.3\" font-family=\"Helvetica,sans-Serif\" font-size=\"14.00\">num ≤ 48.0</text>\n<text text-anchor=\"start\" x=\"1746\" y=\"-337.3\" font-family=\"Helvetica,sans-Serif\" font-size=\"14.00\">gini = 0.0</text>\n<text text-anchor=\"start\" x=\"1729\" y=\"-322.3\" font-family=\"Helvetica,sans-Serif\" font-size=\"14.00\">samples = 389</text>\n<text text-anchor=\"start\" x=\"1716\" y=\"-307.3\" font-family=\"Helvetica,sans-Serif\" font-size=\"14.00\">value = [1.0, 388.0]</text>\n</g>\n<!-- 161&#45;&gt;167 -->\n<g id=\"edge167\" class=\"edge\">\n<title>161&#45;&gt;167</title>\n<path fill=\"none\" stroke=\"black\" d=\"M1423.07,-373.34C1493.79,-365.29 1618.07,-351.14 1697.9,-342.05\"/>\n<polygon fill=\"black\" stroke=\"black\" points=\"1698.36,-345.52 1707.9,-340.91 1697.56,-338.57 1698.36,-345.52\"/>\n</g>\n<!-- 163 -->\n<g id=\"node164\" class=\"node\">\n<title>163</title>\n<polygon fill=\"#399de5\" stroke=\"black\" points=\"2235,-518 2125,-518 2125,-465 2235,-465 2235,-518\"/>\n<text text-anchor=\"start\" x=\"2152\" y=\"-502.8\" font-family=\"Helvetica,sans-Serif\" font-size=\"14.00\">gini = 0.0</text>\n<text text-anchor=\"start\" x=\"2135\" y=\"-487.8\" font-family=\"Helvetica,sans-Serif\" font-size=\"14.00\">samples = 142</text>\n<text text-anchor=\"start\" x=\"2133\" y=\"-472.8\" font-family=\"Helvetica,sans-Serif\" font-size=\"14.00\">value = [0, 142]</text>\n</g>\n<!-- 162&#45;&gt;163 -->\n<g id=\"edge163\" class=\"edge\">\n<title>162&#45;&gt;163</title>\n<path fill=\"none\" stroke=\"black\" d=\"M1840.36,-431.15C1915.86,-444.6 2039.32,-466.61 2114.47,-480\"/>\n<polygon fill=\"black\" stroke=\"black\" points=\"2114.28,-483.52 2124.74,-481.83 2115.51,-476.63 2114.28,-483.52\"/>\n</g>\n<!-- 164 -->\n<g id=\"node165\" class=\"node\">\n<title>164</title>\n<polygon fill=\"#41a1e6\" stroke=\"black\" points=\"2235,-446.5 2125,-446.5 2125,-378.5 2235,-378.5 2235,-446.5\"/>\n<text text-anchor=\"start\" x=\"2142\" y=\"-431.3\" font-family=\"Helvetica,sans-Serif\" font-size=\"14.00\">num ≤ 162.0</text>\n<text text-anchor=\"start\" x=\"2152\" y=\"-416.3\" font-family=\"Helvetica,sans-Serif\" font-size=\"14.00\">gini = 0.0</text>\n<text text-anchor=\"start\" x=\"2135\" y=\"-401.3\" font-family=\"Helvetica,sans-Serif\" font-size=\"14.00\">samples = 152</text>\n<text text-anchor=\"start\" x=\"2133\" y=\"-386.3\" font-family=\"Helvetica,sans-Serif\" font-size=\"14.00\">value = [6, 146]</text>\n</g>\n<!-- 162&#45;&gt;164 -->\n<g id=\"edge164\" class=\"edge\">\n<title>162&#45;&gt;164</title>\n<path fill=\"none\" stroke=\"black\" d=\"M1840.36,-418.37C1915.86,-417.06 2039.32,-414.92 2114.47,-413.62\"/>\n<polygon fill=\"black\" stroke=\"black\" points=\"2114.8,-417.11 2124.74,-413.44 2114.68,-410.11 2114.8,-417.11\"/>\n</g>\n<!-- 165 -->\n<g id=\"node166\" class=\"node\">\n<title>165</title>\n<polygon fill=\"#3b9ee5\" stroke=\"black\" points=\"2632,-443 2530,-443 2530,-390 2632,-390 2632,-443\"/>\n<text text-anchor=\"start\" x=\"2553\" y=\"-427.8\" font-family=\"Helvetica,sans-Serif\" font-size=\"14.00\">gini = 0.0</text>\n<text text-anchor=\"start\" x=\"2540\" y=\"-412.8\" font-family=\"Helvetica,sans-Serif\" font-size=\"14.00\">samples = 95</text>\n<text text-anchor=\"start\" x=\"2538\" y=\"-397.8\" font-family=\"Helvetica,sans-Serif\" font-size=\"14.00\">value = [1, 94]</text>\n</g>\n<!-- 164&#45;&gt;165 -->\n<g id=\"edge165\" class=\"edge\">\n<title>164&#45;&gt;165</title>\n<path fill=\"none\" stroke=\"black\" d=\"M2235.23,-413.04C2309.55,-413.79 2442.64,-415.12 2519.92,-415.9\"/>\n<polygon fill=\"black\" stroke=\"black\" points=\"2519.95,-419.4 2529.98,-416 2520.02,-412.4 2519.95,-419.4\"/>\n</g>\n<!-- 166 -->\n<g id=\"node167\" class=\"node\">\n<title>166</title>\n<polygon fill=\"#4ca6e8\" stroke=\"black\" points=\"2632,-372 2530,-372 2530,-319 2632,-319 2632,-372\"/>\n<text text-anchor=\"start\" x=\"2553\" y=\"-356.8\" font-family=\"Helvetica,sans-Serif\" font-size=\"14.00\">gini = 0.0</text>\n<text text-anchor=\"start\" x=\"2540\" y=\"-341.8\" font-family=\"Helvetica,sans-Serif\" font-size=\"14.00\">samples = 57</text>\n<text text-anchor=\"start\" x=\"2538\" y=\"-326.8\" font-family=\"Helvetica,sans-Serif\" font-size=\"14.00\">value = [5, 52]</text>\n</g>\n<!-- 164&#45;&gt;166 -->\n<g id=\"edge166\" class=\"edge\">\n<title>164&#45;&gt;166</title>\n<path fill=\"none\" stroke=\"black\" d=\"M2235.23,-403.39C2309.55,-390.91 2442.64,-368.56 2519.92,-355.59\"/>\n<polygon fill=\"black\" stroke=\"black\" points=\"2520.7,-359.01 2529.98,-353.9 2519.54,-352.1 2520.7,-359.01\"/>\n</g>\n<!-- 168 -->\n<g id=\"node169\" class=\"node\">\n<title>168</title>\n<polygon fill=\"#3c9fe5\" stroke=\"black\" points=\"2231,-360 2129,-360 2129,-307 2231,-307 2231,-360\"/>\n<text text-anchor=\"start\" x=\"2152\" y=\"-344.8\" font-family=\"Helvetica,sans-Serif\" font-size=\"14.00\">gini = 0.0</text>\n<text text-anchor=\"start\" x=\"2139\" y=\"-329.8\" font-family=\"Helvetica,sans-Serif\" font-size=\"14.00\">samples = 63</text>\n<text text-anchor=\"start\" x=\"2137\" y=\"-314.8\" font-family=\"Helvetica,sans-Serif\" font-size=\"14.00\">value = [1, 62]</text>\n</g>\n<!-- 167&#45;&gt;168 -->\n<g id=\"edge168\" class=\"edge\">\n<title>167&#45;&gt;168</title>\n<path fill=\"none\" stroke=\"black\" d=\"M1840.36,-333.5C1917.25,-333.5 2043.87,-333.5 2118.56,-333.5\"/>\n<polygon fill=\"black\" stroke=\"black\" points=\"2118.74,-337 2128.74,-333.5 2118.74,-330 2118.74,-337\"/>\n</g>\n<!-- 169 -->\n<g id=\"node170\" class=\"node\">\n<title>169</title>\n<polygon fill=\"#399de5\" stroke=\"black\" points=\"2235,-289 2125,-289 2125,-236 2235,-236 2235,-289\"/>\n<text text-anchor=\"start\" x=\"2152\" y=\"-273.8\" font-family=\"Helvetica,sans-Serif\" font-size=\"14.00\">gini = 0.0</text>\n<text text-anchor=\"start\" x=\"2135\" y=\"-258.8\" font-family=\"Helvetica,sans-Serif\" font-size=\"14.00\">samples = 326</text>\n<text text-anchor=\"start\" x=\"2133\" y=\"-243.8\" font-family=\"Helvetica,sans-Serif\" font-size=\"14.00\">value = [0, 326]</text>\n</g>\n<!-- 167&#45;&gt;169 -->\n<g id=\"edge169\" class=\"edge\">\n<title>167&#45;&gt;169</title>\n<path fill=\"none\" stroke=\"black\" d=\"M1840.36,-322.01C1915.86,-308.74 2039.32,-287.05 2114.47,-273.84\"/>\n<polygon fill=\"black\" stroke=\"black\" points=\"2115.5,-277.21 2124.74,-272.04 2114.29,-270.32 2115.5,-277.21\"/>\n</g>\n<!-- 171 -->\n<g id=\"node172\" class=\"node\">\n<title>171</title>\n<polygon fill=\"#e0f0fb\" stroke=\"black\" points=\"1840,-281 1708,-281 1708,-228 1840,-228 1840,-281\"/>\n<text text-anchor=\"start\" x=\"1746\" y=\"-265.8\" font-family=\"Helvetica,sans-Serif\" font-size=\"14.00\">gini = 0.0</text>\n<text text-anchor=\"start\" x=\"1733\" y=\"-250.8\" font-family=\"Helvetica,sans-Serif\" font-size=\"14.00\">samples = 94</text>\n<text text-anchor=\"start\" x=\"1716\" y=\"-235.8\" font-family=\"Helvetica,sans-Serif\" font-size=\"14.00\">value = [43.0, 51.0]</text>\n</g>\n<!-- 170&#45;&gt;171 -->\n<g id=\"edge171\" class=\"edge\">\n<title>170&#45;&gt;171</title>\n<path fill=\"none\" stroke=\"black\" d=\"M1426.88,-254.5C1498.09,-254.5 1619.14,-254.5 1697.57,-254.5\"/>\n<polygon fill=\"black\" stroke=\"black\" points=\"1697.86,-258 1707.86,-254.5 1697.86,-251 1697.86,-258\"/>\n</g>\n<!-- 172 -->\n<g id=\"node173\" class=\"node\">\n<title>172</title>\n<polygon fill=\"#3b9ee5\" stroke=\"black\" points=\"1829,-209.5 1719,-209.5 1719,-141.5 1829,-141.5 1829,-209.5\"/>\n<text text-anchor=\"start\" x=\"1736\" y=\"-194.3\" font-family=\"Helvetica,sans-Serif\" font-size=\"14.00\">num ≤ 736.0</text>\n<text text-anchor=\"start\" x=\"1746\" y=\"-179.3\" font-family=\"Helvetica,sans-Serif\" font-size=\"14.00\">gini = 0.0</text>\n<text text-anchor=\"start\" x=\"1729\" y=\"-164.3\" font-family=\"Helvetica,sans-Serif\" font-size=\"14.00\">samples = 407</text>\n<text text-anchor=\"start\" x=\"1727\" y=\"-149.3\" font-family=\"Helvetica,sans-Serif\" font-size=\"14.00\">value = [5, 402]</text>\n</g>\n<!-- 170&#45;&gt;172 -->\n<g id=\"edge172\" class=\"edge\">\n<title>170&#45;&gt;172</title>\n<path fill=\"none\" stroke=\"black\" d=\"M1426.88,-243.18C1501.53,-228.58 1630.97,-203.27 1708.64,-188.09\"/>\n<polygon fill=\"black\" stroke=\"black\" points=\"1709.64,-191.46 1718.78,-186.1 1708.29,-184.59 1709.64,-191.46\"/>\n</g>\n<!-- 173 -->\n<g id=\"node174\" class=\"node\">\n<title>173</title>\n<polygon fill=\"#3e9fe6\" stroke=\"black\" points=\"2235,-213.5 2125,-213.5 2125,-145.5 2235,-145.5 2235,-213.5\"/>\n<text text-anchor=\"start\" x=\"2142\" y=\"-198.3\" font-family=\"Helvetica,sans-Serif\" font-size=\"14.00\">num ≤ 297.0</text>\n<text text-anchor=\"start\" x=\"2152\" y=\"-183.3\" font-family=\"Helvetica,sans-Serif\" font-size=\"14.00\">gini = 0.0</text>\n<text text-anchor=\"start\" x=\"2135\" y=\"-168.3\" font-family=\"Helvetica,sans-Serif\" font-size=\"14.00\">samples = 172</text>\n<text text-anchor=\"start\" x=\"2133\" y=\"-153.3\" font-family=\"Helvetica,sans-Serif\" font-size=\"14.00\">value = [4, 168]</text>\n</g>\n<!-- 172&#45;&gt;173 -->\n<g id=\"edge173\" class=\"edge\">\n<title>172&#45;&gt;173</title>\n<path fill=\"none\" stroke=\"black\" d=\"M1829.07,-176.04C1903.04,-176.77 2035.61,-178.08 2114.62,-178.86\"/>\n<polygon fill=\"black\" stroke=\"black\" points=\"2114.9,-182.37 2124.93,-178.96 2114.97,-175.37 2114.9,-182.37\"/>\n</g>\n<!-- 176 -->\n<g id=\"node177\" class=\"node\">\n<title>176</title>\n<polygon fill=\"#3a9de5\" stroke=\"black\" points=\"2235,-127.5 2125,-127.5 2125,-59.5 2235,-59.5 2235,-127.5\"/>\n<text text-anchor=\"start\" x=\"2138\" y=\"-112.3\" font-family=\"Helvetica,sans-Serif\" font-size=\"14.00\">num ≤ 1434.0</text>\n<text text-anchor=\"start\" x=\"2152\" y=\"-97.3\" font-family=\"Helvetica,sans-Serif\" font-size=\"14.00\">gini = 0.0</text>\n<text text-anchor=\"start\" x=\"2135\" y=\"-82.3\" font-family=\"Helvetica,sans-Serif\" font-size=\"14.00\">samples = 235</text>\n<text text-anchor=\"start\" x=\"2133\" y=\"-67.3\" font-family=\"Helvetica,sans-Serif\" font-size=\"14.00\">value = [1, 234]</text>\n</g>\n<!-- 172&#45;&gt;176 -->\n<g id=\"edge176\" class=\"edge\">\n<title>172&#45;&gt;176</title>\n<path fill=\"none\" stroke=\"black\" d=\"M1829.07,-164.53C1903.19,-149.48 2036.15,-122.49 2115.11,-106.47\"/>\n<polygon fill=\"black\" stroke=\"black\" points=\"2115.83,-109.89 2124.93,-104.47 2114.44,-103.03 2115.83,-109.89\"/>\n</g>\n<!-- 174 -->\n<g id=\"node175\" class=\"node\">\n<title>174</title>\n<polygon fill=\"#399de5\" stroke=\"black\" points=\"2632,-270 2530,-270 2530,-217 2632,-217 2632,-270\"/>\n<text text-anchor=\"start\" x=\"2553\" y=\"-254.8\" font-family=\"Helvetica,sans-Serif\" font-size=\"14.00\">gini = 0.0</text>\n<text text-anchor=\"start\" x=\"2540\" y=\"-239.8\" font-family=\"Helvetica,sans-Serif\" font-size=\"14.00\">samples = 73</text>\n<text text-anchor=\"start\" x=\"2538\" y=\"-224.8\" font-family=\"Helvetica,sans-Serif\" font-size=\"14.00\">value = [0, 73]</text>\n</g>\n<!-- 173&#45;&gt;174 -->\n<g id=\"edge174\" class=\"edge\">\n<title>173&#45;&gt;174</title>\n<path fill=\"none\" stroke=\"black\" d=\"M2235.23,-188.2C2309.55,-200.12 2442.64,-221.47 2519.92,-233.86\"/>\n<polygon fill=\"black\" stroke=\"black\" points=\"2519.55,-237.35 2529.98,-235.48 2520.66,-230.44 2519.55,-237.35\"/>\n</g>\n<!-- 175 -->\n<g id=\"node176\" class=\"node\">\n<title>175</title>\n<polygon fill=\"#41a1e6\" stroke=\"black\" points=\"2632,-199 2530,-199 2530,-146 2632,-146 2632,-199\"/>\n<text text-anchor=\"start\" x=\"2553\" y=\"-183.8\" font-family=\"Helvetica,sans-Serif\" font-size=\"14.00\">gini = 0.0</text>\n<text text-anchor=\"start\" x=\"2540\" y=\"-168.8\" font-family=\"Helvetica,sans-Serif\" font-size=\"14.00\">samples = 99</text>\n<text text-anchor=\"start\" x=\"2538\" y=\"-153.8\" font-family=\"Helvetica,sans-Serif\" font-size=\"14.00\">value = [4, 95]</text>\n</g>\n<!-- 173&#45;&gt;175 -->\n<g id=\"edge175\" class=\"edge\">\n<title>173&#45;&gt;175</title>\n<path fill=\"none\" stroke=\"black\" d=\"M2235.23,-178.55C2309.55,-177.24 2442.64,-174.91 2519.92,-173.55\"/>\n<polygon fill=\"black\" stroke=\"black\" points=\"2520.04,-177.05 2529.98,-173.38 2519.92,-170.05 2520.04,-177.05\"/>\n</g>\n<!-- 177 -->\n<g id=\"node178\" class=\"node\">\n<title>177</title>\n<polygon fill=\"#399de5\" stroke=\"black\" points=\"2636,-124 2526,-124 2526,-71 2636,-71 2636,-124\"/>\n<text text-anchor=\"start\" x=\"2553\" y=\"-108.8\" font-family=\"Helvetica,sans-Serif\" font-size=\"14.00\">gini = 0.0</text>\n<text text-anchor=\"start\" x=\"2536\" y=\"-93.8\" font-family=\"Helvetica,sans-Serif\" font-size=\"14.00\">samples = 148</text>\n<text text-anchor=\"start\" x=\"2534\" y=\"-78.8\" font-family=\"Helvetica,sans-Serif\" font-size=\"14.00\">value = [0, 148]</text>\n</g>\n<!-- 176&#45;&gt;177 -->\n<g id=\"edge177\" class=\"edge\">\n<title>176&#45;&gt;177</title>\n<path fill=\"none\" stroke=\"black\" d=\"M2235.23,-94.04C2308.23,-94.78 2437.92,-96.08 2515.73,-96.86\"/>\n<polygon fill=\"black\" stroke=\"black\" points=\"2515.86,-100.36 2525.89,-96.96 2515.93,-93.36 2515.86,-100.36\"/>\n</g>\n<!-- 178 -->\n<g id=\"node179\" class=\"node\">\n<title>178</title>\n<polygon fill=\"#3b9ee5\" stroke=\"black\" points=\"2632,-53 2530,-53 2530,0 2632,0 2632,-53\"/>\n<text text-anchor=\"start\" x=\"2553\" y=\"-37.8\" font-family=\"Helvetica,sans-Serif\" font-size=\"14.00\">gini = 0.0</text>\n<text text-anchor=\"start\" x=\"2540\" y=\"-22.8\" font-family=\"Helvetica,sans-Serif\" font-size=\"14.00\">samples = 87</text>\n<text text-anchor=\"start\" x=\"2538\" y=\"-7.8\" font-family=\"Helvetica,sans-Serif\" font-size=\"14.00\">value = [1, 86]</text>\n</g>\n<!-- 176&#45;&gt;178 -->\n<g id=\"edge178\" class=\"edge\">\n<title>176&#45;&gt;178</title>\n<path fill=\"none\" stroke=\"black\" d=\"M2235.23,-84.39C2309.55,-71.91 2442.64,-49.56 2519.92,-36.59\"/>\n<polygon fill=\"black\" stroke=\"black\" points=\"2520.7,-40.01 2529.98,-34.9 2519.54,-33.1 2520.7,-40.01\"/>\n</g>\n</g>\n</svg>\n",
            "text/plain": [
              "<graphviz.sources.Source at 0x7aebe1e6ac10>"
            ]
          },
          "metadata": {},
          "execution_count": 24
        }
      ]
    },
    {
      "cell_type": "markdown",
      "source": [
        "It's very neat how much work scikit-learn can perform in just a few lines of code! Each node shows how many rows (**samples**) match that set of rules and how many values there are in total (**values**). Although, in a strange bug, the **gini scores**, which represents a similar result to the `score()` function, seems to have a bug that I can't work around! The gini scores cannot all be `0` as we can see the split gradually improving as we work towards the leaf nodes.\n",
        "\n",
        "This appears to just be a bug and we can manually check our **gini scores** below:"
      ],
      "metadata": {
        "id": "bDafIb5MeZRG"
      }
    },
    {
      "cell_type": "code",
      "source": [
        "print(m.tree_.impurity)"
      ],
      "metadata": {
        "colab": {
          "base_uri": "https://localhost:8080/"
        },
        "id": "b1qUlJkneyWk",
        "outputId": "1c727c89-9657-45a8-c428-0d6666ba007e"
      },
      "execution_count": null,
      "outputs": [
        {
          "output_type": "stream",
          "name": "stdout",
          "text": [
            "[0.49998022 0.4465815  0.47964138 0.49999818 0.47492525 0.48663328\n",
            " 0.49276245 0.39632494 0.4784112  0.49767562 0.42240588 0.\n",
            " 0.49878759 0.4954601  0.4987152  0.4999446  0.49544602 0.49690696\n",
            " 0.48052285 0.49956747 0.44444444 0.48113452 0.44938017 0.49980777\n",
            " 0.38408779 0.47647923 0.49912635 0.32       0.49787877 0.46875\n",
            " 0.39802289 0.49382716 0.48144096 0.49985636 0.4032     0.38662132\n",
            " 0.07328798 0.1472     0.         0.49959184 0.48661157 0.4712\n",
            " 0.42544849 0.39830834 0.4488     0.19753086 0.06603843 0.1472\n",
            " 0.         0.34588233 0.27978248 0.32566893 0.47480217 0.25369392\n",
            " 0.14090779 0.21875    0.06243496 0.30925606 0.43307555 0.1904058\n",
            " 0.11550296 0.26592798 0.09972299 0.         0.15444912 0.34567901\n",
            " 0.31815445 0.26106932 0.3029079  0.26071171 0.22789573 0.15879017\n",
            " 0.26977041 0.12327038 0.05876951 0.18325698 0.2935627  0.3372821\n",
            " 0.25765102 0.40816327 0.2055165  0.38178604 0.44444444 0.2862426\n",
            " 0.4632719  0.49861496 0.2952     0.07096953 0.12335351 0.03702385\n",
            " 0.2007832  0.         0.4972749  0.46280992 0.2112     0.26299815\n",
            " 0.23573334 0.21404297 0.32       0.37702426 0.44444444 0.3132716\n",
            " 0.1748179  0.18514048 0.13828282 0.09828599 0.06585744 0.03332376\n",
            " 0.         0.07488615 0.12841855 0.21875    0.23188046 0.3314256\n",
            " 0.11550296 0.24617188 0.38112151 0.47206612 0.25711662 0.13939042\n",
            " 0.23644211 0.07621567 0.18       0.         0.48442907 0.48685172\n",
            " 0.30864661 0.45139974 0.49245922 0.41372781 0.49783069 0.49400042\n",
            " 0.47874376 0.49879065 0.46130364 0.47783934 0.43213296 0.49488701\n",
            " 0.48442907 0.41290242 0.48044942 0.43031111 0.37217523 0.48374093\n",
            " 0.49764514 0.47450572 0.5        0.48117621 0.48497778 0.29944444\n",
            " 0.21002959 0.40352869 0.3503026  0.44444444 0.01298646 0.\n",
            " 0.0392     0.455      0.4352     0.4712     0.0885897  0.02028772\n",
            " 0.03998334 0.         0.07583102 0.02083102 0.16004925 0.00512817\n",
            " 0.03124213 0.         0.17325827 0.49637845 0.02426818 0.04542996\n",
            " 0.         0.07754311 0.00847442 0.         0.02272427]\n"
          ]
        }
      ]
    },
    {
      "cell_type": "markdown",
      "source": [
        "This confirms that the `0` gini scores are indeed a bug with the tree printing mechanism, as the model is correctly calculating non-zero gini scores.\n",
        "\n",
        "> The gini score represents the probability that, if you pick two rows from a group, you'll get the same `Transported` result each time. If the group is all the same, the probability is `1` and if the group is all different you'll get a score of `0.0`.  \n",
        "\n",
        "We will use the same `mean_absolute_error()` function we used before to evaluate our decision tree's predictions on the **validation set**."
      ],
      "metadata": {
        "id": "gy2mnivZe3cA"
      }
    },
    {
      "cell_type": "code",
      "source": [
        "mean_absolute_error(val_y, m.predict(val_x))"
      ],
      "metadata": {
        "colab": {
          "base_uri": "https://localhost:8080/"
        },
        "id": "6pIwawyiQ6er",
        "outputId": "06878d0d-1db6-4559-f141-ff62cb5f6e6b"
      },
      "execution_count": null,
      "outputs": [
        {
          "output_type": "execute_result",
          "data": {
            "text/plain": [
              "0.21527138914443422"
            ]
          },
          "metadata": {},
          "execution_count": 26
        }
      ]
    },
    {
      "cell_type": "markdown",
      "source": [
        "Not a bad effort and this is performing significantly better than our OneR classifier. I will try submitting this lone decision tree to Kaggle!"
      ],
      "metadata": {
        "id": "m-eSfagSRAno"
      }
    },
    {
      "cell_type": "code",
      "source": [
        "%%capture\n",
        "# extract test features\n",
        "test_df = pd.read_csv(\"test.csv\")\n",
        "\n",
        "# perform preprocessing and encoding\n",
        "preprocessing(test_df)\n",
        "test_df[categories] = test_df[categories].apply(lambda x: x.cat.codes)\n",
        "\n",
        "# extract features\n",
        "tst_x,_ = xs_y(test_df)\n",
        "\n",
        "test_df['Transported'] = m.predict(tst_x) # make predictions using DecisionTree model\n",
        "sub_df = test_df[['PassengerId', 'Transported']] # extract relevant columns"
      ],
      "metadata": {
        "id": "KAq0Yl1wRLBZ"
      },
      "execution_count": null,
      "outputs": []
    },
    {
      "cell_type": "code",
      "source": [
        "sub_df.to_csv('submission.csv', index=False)"
      ],
      "metadata": {
        "id": "BkujKV2FR9H3"
      },
      "execution_count": null,
      "outputs": []
    },
    {
      "cell_type": "markdown",
      "source": [
        "With this single deicision tree, my **accuracy** on the test dataset was 0.784 but only scoring in the top 75% of submissions! We will attempt improve on this model by creating a **random forest**."
      ],
      "metadata": {
        "id": "tQDM7rPiSqqL"
      }
    },
    {
      "cell_type": "markdown",
      "source": [
        "### Random Forests"
      ],
      "metadata": {
        "id": "eV1g01xAOKdC"
      }
    },
    {
      "cell_type": "markdown",
      "source": [
        "**Random forests** make use of a technique called **bagging**, which is where you take the average prediction of a bunch of models.\n",
        "\n",
        "The idea is that we want each model's predictions in the averaged **ensemble** of models to be uncorrelated. Then, the average of the predictions will converge to the true target value! This is a very cool observation and it means that random forests are immune to overfitting - they are assymptotic, in that they converge to the true value.\n",
        "\n",
        "> This discovery relies on an import principle - the average of lots of uncorrelated random errors is **zero**.\n",
        "\n",
        "One way we can get a bunch of uncorrelated models is to train each of them on a different subset of data."
      ],
      "metadata": {
        "id": "iI-P6FG1gsdC"
      }
    },
    {
      "cell_type": "code",
      "source": [
        "def get_tree(prop=0.75):\n",
        "  \"\"\"Creates a decision tree using a subset of data of a size defined by prop.\"\"\"\n",
        "  n = len(trn_y)\n",
        "  idxs = np.random.choice(n, int(n*prop))\n",
        "  return DecisionTreeClassifier(min_samples_leaf=5).fit(trn_x.iloc[idxs], trn_y.iloc[idxs])"
      ],
      "metadata": {
        "id": "JodPJXTMOM1_"
      },
      "execution_count": null,
      "outputs": []
    },
    {
      "cell_type": "markdown",
      "source": [
        "Since we have a function that will create a single tree with a random subset of data, let's try creating 100 trees!"
      ],
      "metadata": {
        "id": "VTg7Lh6NhZuN"
      }
    },
    {
      "cell_type": "code",
      "source": [
        "trees = [get_tree() for _ in range(200)]"
      ],
      "metadata": {
        "id": "6q_XqJOQT8qZ"
      },
      "execution_count": null,
      "outputs": []
    },
    {
      "cell_type": "markdown",
      "source": [
        "Now, we can take the average of these predictions, using Numpy for C optimised code."
      ],
      "metadata": {
        "id": "T-mauXTDheuY"
      }
    },
    {
      "cell_type": "code",
      "source": [
        "all_probs = [t.predict(val_x) for t in trees]\n",
        "avg_probs = np.stack(all_probs).mean(0)\n",
        "\n",
        "mean_absolute_error(val_y, avg_probs)"
      ],
      "metadata": {
        "colab": {
          "base_uri": "https://localhost:8080/"
        },
        "id": "sI6knMjrT-h_",
        "outputId": "23f843ff-5b1b-4f8a-d12b-772ebebb5ed8"
      },
      "execution_count": null,
      "outputs": [
        {
          "output_type": "execute_result",
          "data": {
            "text/plain": [
              "0.24754599816007358"
            ]
          },
          "metadata": {},
          "execution_count": 31
        }
      ]
    },
    {
      "cell_type": "markdown",
      "source": [
        "Ok, our model is actually performing slightly worse than the single decision tree. That's because our manual **random forest** is missing an important feature - when scikit-learn's `RandomForestClassifier` chooses a random subset of data, it also picks a random subset of features, making the predictions completely uncorrelated!\n",
        "\n",
        "Let's use the predefined random forest model to boost our prediction!"
      ],
      "metadata": {
        "id": "EuBvvfUXhmlV"
      }
    },
    {
      "cell_type": "code",
      "source": [
        "from sklearn.ensemble import RandomForestClassifier\n",
        "\n",
        "rf = RandomForestClassifier(200, min_samples_leaf=3)\n",
        "rf.fit(trn_x, trn_y);\n",
        "mean_absolute_error(val_y, rf.predict(val_x))"
      ],
      "metadata": {
        "colab": {
          "base_uri": "https://localhost:8080/"
        },
        "id": "eI30bxPGU3MF",
        "outputId": "1bed08ae-5215-4e58-f50e-43ff46ebaec9"
      },
      "execution_count": null,
      "outputs": [
        {
          "output_type": "execute_result",
          "data": {
            "text/plain": [
              "0.1812327506899724"
            ]
          },
          "metadata": {},
          "execution_count": 32
        }
      ]
    },
    {
      "cell_type": "markdown",
      "source": [
        "Now we're talking! We've reduced the minimum size of our leaf nodes to really maximise our preditive power and increased the number of decision trees - why not? There's no risk of overfitting!\n",
        "\n",
        "This result has improved our lone decision tree approach and we can now submit to Kaggle!"
      ],
      "metadata": {
        "id": "X5G30Npqji6S"
      }
    },
    {
      "cell_type": "code",
      "source": [
        "test_df['Transported'] = rf.predict(tst_x)\n",
        "sub_df = test_df[['PassengerId', 'Transported']]\n",
        "\n",
        "sub_df.to_csv('submission.csv', index=False)"
      ],
      "metadata": {
        "id": "B5-1pV_7U85A"
      },
      "execution_count": null,
      "outputs": []
    },
    {
      "cell_type": "markdown",
      "source": [
        "Our final accuracy result on Kaggle with the test data was 0.797, which put the result in the top 35% at the time! When submitting the single decision tree our result only came in the top 75%!\n",
        "\n",
        "While our result does not make the absolute best predictions compared to a deep learning approach (in this situation but not necessarily all the time!), it has got one extra advantage. We can use our random forest generated by sklearn to plot the importance of the features by how often the model used the feature to split the data."
      ],
      "metadata": {
        "id": "ifX4LqJkj_2S"
      }
    },
    {
      "cell_type": "code",
      "source": [
        "pd.DataFrame(dict(cols=trn_x.columns, imp=m.feature_importances_)).plot('cols','imp','barh')"
      ],
      "metadata": {
        "colab": {
          "base_uri": "https://localhost:8080/",
          "height": 447
        },
        "id": "CEZiZJu8ki7U",
        "outputId": "78fd0826-ceef-4660-e41a-d4c5933089d0"
      },
      "execution_count": null,
      "outputs": [
        {
          "output_type": "execute_result",
          "data": {
            "text/plain": [
              "<Axes: ylabel='cols'>"
            ]
          },
          "metadata": {},
          "execution_count": 34
        },
        {
          "output_type": "display_data",
          "data": {
            "text/plain": [
              "<Figure size 640x480 with 1 Axes>"
            ],
            "image/png": "[encoded data removed]"
          },
          "metadata": {}
        }
      ]
    },
    {
      "cell_type": "markdown",
      "source": [
        "This graph demonstrates the real power of the **random forest**. As suspected by our single binary split, `CryoSleep` is by far the most important predictor. We can also see which predictors weren't so important, such as `VIP`, `Destination` and `with_group`. If we were working with a dataset that had thousands of features, random forests are extremely useful in quickly sorting through the data to find the most important variables. Then, we can focus our efforts on collecting, analysing and feature engineering with the most important predictors. This also allows us to save time if we are producing a deep learning model, as we can immediately discard variables, reducing training time.\n",
        "\n",
        "> **It is important to note that random forests run much faster than a deep learning model.**"
      ],
      "metadata": {
        "id": "tTFFiUk7kzKs"
      }
    },
    {
      "cell_type": "markdown",
      "source": [
        "## Conclusion"
      ],
      "metadata": {
        "id": "qOhnUmYwj4Qm"
      }
    },
    {
      "cell_type": "markdown",
      "source": [
        "In this notebook, as well as learning the core fundamentals of **random forests** we've made some important fundamentals.\n",
        "\n",
        "Firstly, random forests/binary splits/decision trees can be fantastic benchmark models. You may find that these models provide all the accuracy you need, and if not, they can help you sort through the features to make deep learning more efficient!\n",
        "\n",
        "Secondly, random forests are not complicated and very hard to mess up! Unlike other regression tasks or deep learning, it is very easy to overfit to the training data or even to the validation set! You have to worry about normalizations and non-linear transformations - all of which the random forest handles on its own. This makes it a powerful and quick model to try out before moving to something more complicated (and easy to mess up!).\n",
        "\n",
        "Thanks for reading my notebook that provides a bit of insight into my learning journey with random forests. I would like to reiterate that the code and notes represent my learnings but have been sourced from [How Random Forests Really Work](https://www.kaggle.com/code/jhoward/how-random-forests-really-work#The-random-forest). I've used a separate dataset to demonstrate my learning!"
      ],
      "metadata": {
        "id": "qN_qlYbbloGF"
      }
    }
  ]
}