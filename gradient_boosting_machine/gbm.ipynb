{
  "nbformat": 4,
  "nbformat_minor": 0,
  "metadata": {
    "colab": {
      "provenance": [],
      "authorship_tag": "ABX9TyMuh6hmfzA3ZvT6hiLdj23y",
      "include_colab_link": true
    },
    "kernelspec": {
      "name": "python3",
      "display_name": "Python 3"
    },
    "language_info": {
      "name": "python"
    }
  },
  "cells": [
    {
      "cell_type": "markdown",
      "metadata": {
        "id": "view-in-github",
        "colab_type": "text"
      },
      "source": [
        "<a href=\"https://colab.research.google.com/github/frank-895/machine_learning_journey/blob/main/gradient_boosting_machine/gbm.ipynb\" target=\"_parent\"><img src=\"https://colab.research.google.com/assets/colab-badge.svg\" alt=\"Open In Colab\"/></a>"
      ]
    },
    {
      "cell_type": "code",
      "source": [
        "import pandas as pd\n",
        "from fastai.tabular.all import *\n",
        "from fastai.data.transforms import IndexSplitter"
      ],
      "metadata": {
        "id": "WY2MEvPcSdGV"
      },
      "execution_count": 34,
      "outputs": []
    },
    {
      "cell_type": "markdown",
      "source": [
        "# Gradient Boosting Machines - Forecasting Sticker Sales"
      ],
      "metadata": {
        "id": "K0Ab9nctO8mY"
      }
    },
    {
      "cell_type": "markdown",
      "source": [
        "## Introduction"
      ],
      "metadata": {
        "id": "AoqyunMKQTgt"
      }
    },
    {
      "cell_type": "markdown",
      "source": [
        "After learning about **ensembles of decision trees** as an approach to modelling tabular data, I've decided to have another shot at the [Forecasting Sticker Sales](https://www.kaggle.com/competitions/playground-series-s5e1) Kaggle competition.\n",
        "\n",
        "While I initially approached the problem with **deep learning** and scored in the top 27% of predictions, I want to see if I can improve on this by taking a different approach.\n",
        "\n",
        "In my last notebook I uncovered **random forests** which is one approach of ensembling decision trees. However, there is another area of ensembling I wish to learn more about, called **gradient boosting machines (GBMs)**.\n",
        "\n",
        "Since I've already gone into detail in my [previous notebook](https://github.com/frank-895/machine_learning_journey/tree/main/random_forests) about how decision trees are made and what ensembling is, I will be focusing on *building* that knowledge. I won't go into detail about when to use **ensembles of decision trees** vs **deep learning**.\n",
        "\n",
        "Furthermore, I've selected a **regression** problem for this project, as I practiced a **classification** problem when learning random forests."
      ],
      "metadata": {
        "id": "v5wH5f2FPDQm"
      }
    },
    {
      "cell_type": "markdown",
      "source": [
        "The first thing to establish is the key differences between **random forests** and **GBMs**.\n",
        "\n",
        "Where random forests utilise **bagging** (training each model on a different data subset and averaging), GBMs use **boosting**, where models are 'added'. Each new decision tree correct the errors made by the previous models and the final prediction is the the weighted sum of all the predictions from all the models.\n",
        "\n",
        "GBMs can generally perform better than random forests, but they are more complicated to implement.\n",
        "- They require some fussing with hyperparamaters.\n",
        "- They are prone to overfitting as each tree is not independent of the others.\n",
        "- They are rely on sequential training, which is slower, whereas random forests can utilise parallel training (as they are independent trees).\n",
        "\n",
        "So, a good approach would be to start with a random forest, then try a GBM. We will do that here, but the description for random forests will be brief as we have already gone into detail about this previously."
      ],
      "metadata": {
        "id": "V-Bl9g65QSyd"
      }
    },
    {
      "cell_type": "markdown",
      "source": [
        "## Data Engineering"
      ],
      "metadata": {
        "id": "hL-oLBmARruM"
      }
    },
    {
      "cell_type": "markdown",
      "source": [
        "Let's start with our data."
      ],
      "metadata": {
        "id": "p5fD2XTVR1fO"
      }
    },
    {
      "cell_type": "code",
      "source": [
        "df = pd.read_csv('train.csv')\n",
        "df.isnull().sum()"
      ],
      "metadata": {
        "colab": {
          "base_uri": "https://localhost:8080/",
          "height": 269
        },
        "id": "SKeL-uPdSX6N",
        "outputId": "6cd7711c-2f77-40a6-c047-76d679fc46a1"
      },
      "execution_count": 35,
      "outputs": [
        {
          "output_type": "execute_result",
          "data": {
            "text/plain": [
              "id             0\n",
              "date           0\n",
              "country        0\n",
              "store          0\n",
              "product        0\n",
              "num_sold    8871\n",
              "dtype: int64"
            ],
            "text/html": [
              "<div>\n",
              "<style scoped>\n",
              "    .dataframe tbody tr th:only-of-type {\n",
              "        vertical-align: middle;\n",
              "    }\n",
              "\n",
              "    .dataframe tbody tr th {\n",
              "        vertical-align: top;\n",
              "    }\n",
              "\n",
              "    .dataframe thead th {\n",
              "        text-align: right;\n",
              "    }\n",
              "</style>\n",
              "<table border=\"1\" class=\"dataframe\">\n",
              "  <thead>\n",
              "    <tr style=\"text-align: right;\">\n",
              "      <th></th>\n",
              "      <th>0</th>\n",
              "    </tr>\n",
              "  </thead>\n",
              "  <tbody>\n",
              "    <tr>\n",
              "      <th>id</th>\n",
              "      <td>0</td>\n",
              "    </tr>\n",
              "    <tr>\n",
              "      <th>date</th>\n",
              "      <td>0</td>\n",
              "    </tr>\n",
              "    <tr>\n",
              "      <th>country</th>\n",
              "      <td>0</td>\n",
              "    </tr>\n",
              "    <tr>\n",
              "      <th>store</th>\n",
              "      <td>0</td>\n",
              "    </tr>\n",
              "    <tr>\n",
              "      <th>product</th>\n",
              "      <td>0</td>\n",
              "    </tr>\n",
              "    <tr>\n",
              "      <th>num_sold</th>\n",
              "      <td>8871</td>\n",
              "    </tr>\n",
              "  </tbody>\n",
              "</table>\n",
              "</div><br><label><b>dtype:</b> int64</label>"
            ]
          },
          "metadata": {},
          "execution_count": 35
        }
      ]
    },
    {
      "cell_type": "markdown",
      "source": [
        "We will drop training rows missing the independent variable to focus on learning the concept of GBMs.\n",
        "\n",
        "Normally, with features missing values (there are none here) we would fill numerical features with the mean/median/mode and categorical features with a placeholder like 'Unknown' as the fact that data is missing can still be useful information to train a model."
      ],
      "metadata": {
        "id": "R_fK144FS45B"
      }
    },
    {
      "cell_type": "code",
      "source": [
        "df.dropna(axis=0, inplace=True)\n",
        "df"
      ],
      "metadata": {
        "colab": {
          "base_uri": "https://localhost:8080/",
          "height": 419
        },
        "id": "D00by774S4Zx",
        "outputId": "3d0c36ee-052c-40eb-b041-d373690df23b"
      },
      "execution_count": 36,
      "outputs": [
        {
          "output_type": "execute_result",
          "data": {
            "text/plain": [
              "            id        date    country                 store  \\\n",
              "1            1  2010-01-01     Canada     Discount Stickers   \n",
              "2            2  2010-01-01     Canada     Discount Stickers   \n",
              "3            3  2010-01-01     Canada     Discount Stickers   \n",
              "4            4  2010-01-01     Canada     Discount Stickers   \n",
              "5            5  2010-01-01     Canada     Stickers for Less   \n",
              "...        ...         ...        ...                   ...   \n",
              "230125  230125  2016-12-31  Singapore  Premium Sticker Mart   \n",
              "230126  230126  2016-12-31  Singapore  Premium Sticker Mart   \n",
              "230127  230127  2016-12-31  Singapore  Premium Sticker Mart   \n",
              "230128  230128  2016-12-31  Singapore  Premium Sticker Mart   \n",
              "230129  230129  2016-12-31  Singapore  Premium Sticker Mart   \n",
              "\n",
              "                   product  num_sold  \n",
              "1                   Kaggle     973.0  \n",
              "2             Kaggle Tiers     906.0  \n",
              "3                 Kerneler     423.0  \n",
              "4       Kerneler Dark Mode     491.0  \n",
              "5        Holographic Goose     300.0  \n",
              "...                    ...       ...  \n",
              "230125   Holographic Goose     466.0  \n",
              "230126              Kaggle    2907.0  \n",
              "230127        Kaggle Tiers    2299.0  \n",
              "230128            Kerneler    1242.0  \n",
              "230129  Kerneler Dark Mode    1622.0  \n",
              "\n",
              "[221259 rows x 6 columns]"
            ],
            "text/html": [
              "\n",
              "  <div id=\"df-48b50776-1a1b-4ef6-88d0-a86c779dbbc9\" class=\"colab-df-container\">\n",
              "    <div>\n",
              "<style scoped>\n",
              "    .dataframe tbody tr th:only-of-type {\n",
              "        vertical-align: middle;\n",
              "    }\n",
              "\n",
              "    .dataframe tbody tr th {\n",
              "        vertical-align: top;\n",
              "    }\n",
              "\n",
              "    .dataframe thead th {\n",
              "        text-align: right;\n",
              "    }\n",
              "</style>\n",
              "<table border=\"1\" class=\"dataframe\">\n",
              "  <thead>\n",
              "    <tr style=\"text-align: right;\">\n",
              "      <th></th>\n",
              "      <th>id</th>\n",
              "      <th>date</th>\n",
              "      <th>country</th>\n",
              "      <th>store</th>\n",
              "      <th>product</th>\n",
              "      <th>num_sold</th>\n",
              "    </tr>\n",
              "  </thead>\n",
              "  <tbody>\n",
              "    <tr>\n",
              "      <th>1</th>\n",
              "      <td>1</td>\n",
              "      <td>2010-01-01</td>\n",
              "      <td>Canada</td>\n",
              "      <td>Discount Stickers</td>\n",
              "      <td>Kaggle</td>\n",
              "      <td>973.0</td>\n",
              "    </tr>\n",
              "    <tr>\n",
              "      <th>2</th>\n",
              "      <td>2</td>\n",
              "      <td>2010-01-01</td>\n",
              "      <td>Canada</td>\n",
              "      <td>Discount Stickers</td>\n",
              "      <td>Kaggle Tiers</td>\n",
              "      <td>906.0</td>\n",
              "    </tr>\n",
              "    <tr>\n",
              "      <th>3</th>\n",
              "      <td>3</td>\n",
              "      <td>2010-01-01</td>\n",
              "      <td>Canada</td>\n",
              "      <td>Discount Stickers</td>\n",
              "      <td>Kerneler</td>\n",
              "      <td>423.0</td>\n",
              "    </tr>\n",
              "    <tr>\n",
              "      <th>4</th>\n",
              "      <td>4</td>\n",
              "      <td>2010-01-01</td>\n",
              "      <td>Canada</td>\n",
              "      <td>Discount Stickers</td>\n",
              "      <td>Kerneler Dark Mode</td>\n",
              "      <td>491.0</td>\n",
              "    </tr>\n",
              "    <tr>\n",
              "      <th>5</th>\n",
              "      <td>5</td>\n",
              "      <td>2010-01-01</td>\n",
              "      <td>Canada</td>\n",
              "      <td>Stickers for Less</td>\n",
              "      <td>Holographic Goose</td>\n",
              "      <td>300.0</td>\n",
              "    </tr>\n",
              "    <tr>\n",
              "      <th>...</th>\n",
              "      <td>...</td>\n",
              "      <td>...</td>\n",
              "      <td>...</td>\n",
              "      <td>...</td>\n",
              "      <td>...</td>\n",
              "      <td>...</td>\n",
              "    </tr>\n",
              "    <tr>\n",
              "      <th>230125</th>\n",
              "      <td>230125</td>\n",
              "      <td>2016-12-31</td>\n",
              "      <td>Singapore</td>\n",
              "      <td>Premium Sticker Mart</td>\n",
              "      <td>Holographic Goose</td>\n",
              "      <td>466.0</td>\n",
              "    </tr>\n",
              "    <tr>\n",
              "      <th>230126</th>\n",
              "      <td>230126</td>\n",
              "      <td>2016-12-31</td>\n",
              "      <td>Singapore</td>\n",
              "      <td>Premium Sticker Mart</td>\n",
              "      <td>Kaggle</td>\n",
              "      <td>2907.0</td>\n",
              "    </tr>\n",
              "    <tr>\n",
              "      <th>230127</th>\n",
              "      <td>230127</td>\n",
              "      <td>2016-12-31</td>\n",
              "      <td>Singapore</td>\n",
              "      <td>Premium Sticker Mart</td>\n",
              "      <td>Kaggle Tiers</td>\n",
              "      <td>2299.0</td>\n",
              "    </tr>\n",
              "    <tr>\n",
              "      <th>230128</th>\n",
              "      <td>230128</td>\n",
              "      <td>2016-12-31</td>\n",
              "      <td>Singapore</td>\n",
              "      <td>Premium Sticker Mart</td>\n",
              "      <td>Kerneler</td>\n",
              "      <td>1242.0</td>\n",
              "    </tr>\n",
              "    <tr>\n",
              "      <th>230129</th>\n",
              "      <td>230129</td>\n",
              "      <td>2016-12-31</td>\n",
              "      <td>Singapore</td>\n",
              "      <td>Premium Sticker Mart</td>\n",
              "      <td>Kerneler Dark Mode</td>\n",
              "      <td>1622.0</td>\n",
              "    </tr>\n",
              "  </tbody>\n",
              "</table>\n",
              "<p>221259 rows × 6 columns</p>\n",
              "</div>\n",
              "    <div class=\"colab-df-buttons\">\n",
              "\n",
              "  <div class=\"colab-df-container\">\n",
              "    <button class=\"colab-df-convert\" onclick=\"convertToInteractive('df-48b50776-1a1b-4ef6-88d0-a86c779dbbc9')\"\n",
              "            title=\"Convert this dataframe to an interactive table.\"\n",
              "            style=\"display:none;\">\n",
              "\n",
              "  <svg xmlns=\"http://www.w3.org/2000/svg\" height=\"24px\" viewBox=\"0 -960 960 960\">\n",
              "    <path d=\"M120-120v-720h720v720H120Zm60-500h600v-160H180v160Zm220 220h160v-160H400v160Zm0 220h160v-160H400v160ZM180-400h160v-160H180v160Zm440 0h160v-160H620v160ZM180-180h160v-160H180v160Zm440 0h160v-160H620v160Z\"/>\n",
              "  </svg>\n",
              "    </button>\n",
              "\n",
              "  <style>\n",
              "    .colab-df-container {\n",
              "      display:flex;\n",
              "      gap: 12px;\n",
              "    }\n",
              "\n",
              "    .colab-df-convert {\n",
              "      background-color: #E8F0FE;\n",
              "      border: none;\n",
              "      border-radius: 50%;\n",
              "      cursor: pointer;\n",
              "      display: none;\n",
              "      fill: #1967D2;\n",
              "      height: 32px;\n",
              "      padding: 0 0 0 0;\n",
              "      width: 32px;\n",
              "    }\n",
              "\n",
              "    .colab-df-convert:hover {\n",
              "      background-color: #E2EBFA;\n",
              "      box-shadow: 0px 1px 2px rgba(60, 64, 67, 0.3), 0px 1px 3px 1px rgba(60, 64, 67, 0.15);\n",
              "      fill: #174EA6;\n",
              "    }\n",
              "\n",
              "    .colab-df-buttons div {\n",
              "      margin-bottom: 4px;\n",
              "    }\n",
              "\n",
              "    [theme=dark] .colab-df-convert {\n",
              "      background-color: #3B4455;\n",
              "      fill: #D2E3FC;\n",
              "    }\n",
              "\n",
              "    [theme=dark] .colab-df-convert:hover {\n",
              "      background-color: #434B5C;\n",
              "      box-shadow: 0px 1px 3px 1px rgba(0, 0, 0, 0.15);\n",
              "      filter: drop-shadow(0px 1px 2px rgba(0, 0, 0, 0.3));\n",
              "      fill: #FFFFFF;\n",
              "    }\n",
              "  </style>\n",
              "\n",
              "    <script>\n",
              "      const buttonEl =\n",
              "        document.querySelector('#df-48b50776-1a1b-4ef6-88d0-a86c779dbbc9 button.colab-df-convert');\n",
              "      buttonEl.style.display =\n",
              "        google.colab.kernel.accessAllowed ? 'block' : 'none';\n",
              "\n",
              "      async function convertToInteractive(key) {\n",
              "        const element = document.querySelector('#df-48b50776-1a1b-4ef6-88d0-a86c779dbbc9');\n",
              "        const dataTable =\n",
              "          await google.colab.kernel.invokeFunction('convertToInteractive',\n",
              "                                                    [key], {});\n",
              "        if (!dataTable) return;\n",
              "\n",
              "        const docLinkHtml = 'Like what you see? Visit the ' +\n",
              "          '<a target=\"_blank\" href=https://colab.research.google.com/notebooks/data_table.ipynb>data table notebook</a>'\n",
              "          + ' to learn more about interactive tables.';\n",
              "        element.innerHTML = '';\n",
              "        dataTable['output_type'] = 'display_data';\n",
              "        await google.colab.output.renderOutput(dataTable, element);\n",
              "        const docLink = document.createElement('div');\n",
              "        docLink.innerHTML = docLinkHtml;\n",
              "        element.appendChild(docLink);\n",
              "      }\n",
              "    </script>\n",
              "  </div>\n",
              "\n",
              "\n",
              "<div id=\"df-cdfb5c20-7fdb-4e14-8511-e4c06abfe16e\">\n",
              "  <button class=\"colab-df-quickchart\" onclick=\"quickchart('df-cdfb5c20-7fdb-4e14-8511-e4c06abfe16e')\"\n",
              "            title=\"Suggest charts\"\n",
              "            style=\"display:none;\">\n",
              "\n",
              "<svg xmlns=\"http://www.w3.org/2000/svg\" height=\"24px\"viewBox=\"0 0 24 24\"\n",
              "     width=\"24px\">\n",
              "    <g>\n",
              "        <path d=\"M19 3H5c-1.1 0-2 .9-2 2v14c0 1.1.9 2 2 2h14c1.1 0 2-.9 2-2V5c0-1.1-.9-2-2-2zM9 17H7v-7h2v7zm4 0h-2V7h2v10zm4 0h-2v-4h2v4z\"/>\n",
              "    </g>\n",
              "</svg>\n",
              "  </button>\n",
              "\n",
              "<style>\n",
              "  .colab-df-quickchart {\n",
              "      --bg-color: #E8F0FE;\n",
              "      --fill-color: #1967D2;\n",
              "      --hover-bg-color: #E2EBFA;\n",
              "      --hover-fill-color: #174EA6;\n",
              "      --disabled-fill-color: #AAA;\n",
              "      --disabled-bg-color: #DDD;\n",
              "  }\n",
              "\n",
              "  [theme=dark] .colab-df-quickchart {\n",
              "      --bg-color: #3B4455;\n",
              "      --fill-color: #D2E3FC;\n",
              "      --hover-bg-color: #434B5C;\n",
              "      --hover-fill-color: #FFFFFF;\n",
              "      --disabled-bg-color: #3B4455;\n",
              "      --disabled-fill-color: #666;\n",
              "  }\n",
              "\n",
              "  .colab-df-quickchart {\n",
              "    background-color: var(--bg-color);\n",
              "    border: none;\n",
              "    border-radius: 50%;\n",
              "    cursor: pointer;\n",
              "    display: none;\n",
              "    fill: var(--fill-color);\n",
              "    height: 32px;\n",
              "    padding: 0;\n",
              "    width: 32px;\n",
              "  }\n",
              "\n",
              "  .colab-df-quickchart:hover {\n",
              "    background-color: var(--hover-bg-color);\n",
              "    box-shadow: 0 1px 2px rgba(60, 64, 67, 0.3), 0 1px 3px 1px rgba(60, 64, 67, 0.15);\n",
              "    fill: var(--button-hover-fill-color);\n",
              "  }\n",
              "\n",
              "  .colab-df-quickchart-complete:disabled,\n",
              "  .colab-df-quickchart-complete:disabled:hover {\n",
              "    background-color: var(--disabled-bg-color);\n",
              "    fill: var(--disabled-fill-color);\n",
              "    box-shadow: none;\n",
              "  }\n",
              "\n",
              "  .colab-df-spinner {\n",
              "    border: 2px solid var(--fill-color);\n",
              "    border-color: transparent;\n",
              "    border-bottom-color: var(--fill-color);\n",
              "    animation:\n",
              "      spin 1s steps(1) infinite;\n",
              "  }\n",
              "\n",
              "  @keyframes spin {\n",
              "    0% {\n",
              "      border-color: transparent;\n",
              "      border-bottom-color: var(--fill-color);\n",
              "      border-left-color: var(--fill-color);\n",
              "    }\n",
              "    20% {\n",
              "      border-color: transparent;\n",
              "      border-left-color: var(--fill-color);\n",
              "      border-top-color: var(--fill-color);\n",
              "    }\n",
              "    30% {\n",
              "      border-color: transparent;\n",
              "      border-left-color: var(--fill-color);\n",
              "      border-top-color: var(--fill-color);\n",
              "      border-right-color: var(--fill-color);\n",
              "    }\n",
              "    40% {\n",
              "      border-color: transparent;\n",
              "      border-right-color: var(--fill-color);\n",
              "      border-top-color: var(--fill-color);\n",
              "    }\n",
              "    60% {\n",
              "      border-color: transparent;\n",
              "      border-right-color: var(--fill-color);\n",
              "    }\n",
              "    80% {\n",
              "      border-color: transparent;\n",
              "      border-right-color: var(--fill-color);\n",
              "      border-bottom-color: var(--fill-color);\n",
              "    }\n",
              "    90% {\n",
              "      border-color: transparent;\n",
              "      border-bottom-color: var(--fill-color);\n",
              "    }\n",
              "  }\n",
              "</style>\n",
              "\n",
              "  <script>\n",
              "    async function quickchart(key) {\n",
              "      const quickchartButtonEl =\n",
              "        document.querySelector('#' + key + ' button');\n",
              "      quickchartButtonEl.disabled = true;  // To prevent multiple clicks.\n",
              "      quickchartButtonEl.classList.add('colab-df-spinner');\n",
              "      try {\n",
              "        const charts = await google.colab.kernel.invokeFunction(\n",
              "            'suggestCharts', [key], {});\n",
              "      } catch (error) {\n",
              "        console.error('Error during call to suggestCharts:', error);\n",
              "      }\n",
              "      quickchartButtonEl.classList.remove('colab-df-spinner');\n",
              "      quickchartButtonEl.classList.add('colab-df-quickchart-complete');\n",
              "    }\n",
              "    (() => {\n",
              "      let quickchartButtonEl =\n",
              "        document.querySelector('#df-cdfb5c20-7fdb-4e14-8511-e4c06abfe16e button');\n",
              "      quickchartButtonEl.style.display =\n",
              "        google.colab.kernel.accessAllowed ? 'block' : 'none';\n",
              "    })();\n",
              "  </script>\n",
              "</div>\n",
              "\n",
              "  <div id=\"id_49c64cf9-fb70-4111-ba2a-614123ad569d\">\n",
              "    <style>\n",
              "      .colab-df-generate {\n",
              "        background-color: #E8F0FE;\n",
              "        border: none;\n",
              "        border-radius: 50%;\n",
              "        cursor: pointer;\n",
              "        display: none;\n",
              "        fill: #1967D2;\n",
              "        height: 32px;\n",
              "        padding: 0 0 0 0;\n",
              "        width: 32px;\n",
              "      }\n",
              "\n",
              "      .colab-df-generate:hover {\n",
              "        background-color: #E2EBFA;\n",
              "        box-shadow: 0px 1px 2px rgba(60, 64, 67, 0.3), 0px 1px 3px 1px rgba(60, 64, 67, 0.15);\n",
              "        fill: #174EA6;\n",
              "      }\n",
              "\n",
              "      [theme=dark] .colab-df-generate {\n",
              "        background-color: #3B4455;\n",
              "        fill: #D2E3FC;\n",
              "      }\n",
              "\n",
              "      [theme=dark] .colab-df-generate:hover {\n",
              "        background-color: #434B5C;\n",
              "        box-shadow: 0px 1px 3px 1px rgba(0, 0, 0, 0.15);\n",
              "        filter: drop-shadow(0px 1px 2px rgba(0, 0, 0, 0.3));\n",
              "        fill: #FFFFFF;\n",
              "      }\n",
              "    </style>\n",
              "    <button class=\"colab-df-generate\" onclick=\"generateWithVariable('df')\"\n",
              "            title=\"Generate code using this dataframe.\"\n",
              "            style=\"display:none;\">\n",
              "\n",
              "  <svg xmlns=\"http://www.w3.org/2000/svg\" height=\"24px\"viewBox=\"0 0 24 24\"\n",
              "       width=\"24px\">\n",
              "    <path d=\"M7,19H8.4L18.45,9,17,7.55,7,17.6ZM5,21V16.75L18.45,3.32a2,2,0,0,1,2.83,0l1.4,1.43a1.91,1.91,0,0,1,.58,1.4,1.91,1.91,0,0,1-.58,1.4L9.25,21ZM18.45,9,17,7.55Zm-12,3A5.31,5.31,0,0,0,4.9,8.1,5.31,5.31,0,0,0,1,6.5,5.31,5.31,0,0,0,4.9,4.9,5.31,5.31,0,0,0,6.5,1,5.31,5.31,0,0,0,8.1,4.9,5.31,5.31,0,0,0,12,6.5,5.46,5.46,0,0,0,6.5,12Z\"/>\n",
              "  </svg>\n",
              "    </button>\n",
              "    <script>\n",
              "      (() => {\n",
              "      const buttonEl =\n",
              "        document.querySelector('#id_49c64cf9-fb70-4111-ba2a-614123ad569d button.colab-df-generate');\n",
              "      buttonEl.style.display =\n",
              "        google.colab.kernel.accessAllowed ? 'block' : 'none';\n",
              "\n",
              "      buttonEl.onclick = () => {\n",
              "        google.colab.notebook.generateWithVariable('df');\n",
              "      }\n",
              "      })();\n",
              "    </script>\n",
              "  </div>\n",
              "\n",
              "    </div>\n",
              "  </div>\n"
            ],
            "application/vnd.google.colaboratory.intrinsic+json": {
              "type": "dataframe",
              "variable_name": "df"
            }
          },
          "metadata": {},
          "execution_count": 36
        }
      ]
    },
    {
      "cell_type": "markdown",
      "source": [
        "Now, we will perform much of the same **feature engineering** as the deep learning approach. Since tree-based models are robust to non-normality, log transformations will not be used in this approach on any predictors; however, we will perform a log transformation on the `num_sold` column as our predictions are highly skewed with a long right tail (shown in the last notebook).\n",
        "\n",
        "As previously discussed, OHE is generally not needed for tree-based approaches."
      ],
      "metadata": {
        "id": "cYuIA6slTBTR"
      }
    },
    {
      "cell_type": "code",
      "source": [
        "%%capture\n",
        "df['num_sold'] = np.log1p(df['num_sold'])\n",
        "\n",
        "# extract useful features from date\n",
        "add_datepart(df, 'date')\n",
        "\n",
        "# drop unneeded columns\n",
        "df.drop('id', axis=1, inplace=True)"
      ],
      "metadata": {
        "id": "pctvXa30ToML"
      },
      "execution_count": 37,
      "outputs": []
    },
    {
      "cell_type": "markdown",
      "source": [
        "Now, we can define a training and validation set. Since we are working with data over time, we will clip the end of the df and use this as our **validation set**.\n",
        "\n",
        "I am going to be using a new techinque I recently learn for this, defined by `TabularPandas`. `TabularPandas` sits on top of a pandas df and is provided by `fastai`. This class modifies objects in place and runs transformations when data is passed in, rather than lazily as data is accessed."
      ],
      "metadata": {
        "id": "yaLcf89dTsYF"
      }
    },
    {
      "cell_type": "code",
      "source": [
        "procs = [Categorify, FillMissing]"
      ],
      "metadata": {
        "id": "IYYXG2-wWlZM"
      },
      "execution_count": 38,
      "outputs": []
    },
    {
      "cell_type": "markdown",
      "source": [
        "These two transformations are not strictly necessary on this dataset as we have no missing values in the predictor columns. However, `FillMissing` is a `TabularProc` (much like a `Transform` in pandas) that  replaces missing values with median values. `Categorify` is a new feature that is set `True` for any row where the value was missing (as missing values can hold valuable information for training). We will pass the `TabularProc`s when creating our training and validation sets."
      ],
      "metadata": {
        "id": "_4-crMzHWn7O"
      }
    },
    {
      "cell_type": "code",
      "source": [
        "cond = df.Year<2016\n",
        "train_idx, valid_idx = np.where(cond)[0], np.where(~cond)[0]\n",
        "splits = (list(train_idx),list(valid_idx))"
      ],
      "metadata": {
        "id": "oTFgTmzqXIca"
      },
      "execution_count": 39,
      "outputs": []
    },
    {
      "cell_type": "markdown",
      "source": [
        "`where()` is a useful function returning indices of all True values.\n",
        "\n",
        "We also want to define our **categorical** and **continuous** variables before creating our `TabularPandas`. While we did this manually last time, we can actually benefit from the `fastai` function `cont_cat_split` that can automtically infer the variable type."
      ],
      "metadata": {
        "id": "4SWdTfFsXZJV"
      }
    },
    {
      "cell_type": "code",
      "source": [
        "cont, cat = cont_cat_split(df, dep_var=\"num_sold\")\n",
        "cont, cat"
      ],
      "metadata": {
        "colab": {
          "base_uri": "https://localhost:8080/"
        },
        "id": "BwuY7NnaXfZ0",
        "outputId": "a60d395f-16d6-45b8-dbee-f80dd958fe4d"
      },
      "execution_count": 40,
      "outputs": [
        {
          "output_type": "execute_result",
          "data": {
            "text/plain": [
              "(['Week', 'Day', 'Dayofyear', 'Elapsed'],\n",
              " ['country',\n",
              "  'store',\n",
              "  'product',\n",
              "  'Year',\n",
              "  'Month',\n",
              "  'Dayofweek',\n",
              "  'Is_month_end',\n",
              "  'Is_month_start',\n",
              "  'Is_quarter_end',\n",
              "  'Is_quarter_start',\n",
              "  'Is_year_end',\n",
              "  'Is_year_start'])"
            ]
          },
          "metadata": {},
          "execution_count": 40
        }
      ]
    },
    {
      "cell_type": "markdown",
      "source": [
        "Now we are ready for our `TabularPandas`!"
      ],
      "metadata": {
        "id": "EY1ZXUlmYZ3d"
      }
    },
    {
      "cell_type": "code",
      "source": [
        "data = TabularPandas(df, procs, cat, cont, y_names=\"num_sold\", splits=splits)\n",
        "len(data.train), len(data.valid)"
      ],
      "metadata": {
        "colab": {
          "base_uri": "https://localhost:8080/"
        },
        "id": "539CfWZkYY52",
        "outputId": "bb0b6b1f-a8c7-4033-9486-1ec249c84484"
      },
      "execution_count": 41,
      "outputs": [
        {
          "output_type": "execute_result",
          "data": {
            "text/plain": [
              "(189492, 31767)"
            ]
          },
          "metadata": {},
          "execution_count": 41
        }
      ]
    },
    {
      "cell_type": "markdown",
      "source": [
        "## Random Forest"
      ],
      "metadata": {
        "id": "kei0mPMdRtLV"
      }
    },
    {
      "cell_type": "markdown",
      "source": [
        "Let's build a random forest! While I have previously discussed in-depth how **random forests** work, I am now using a random forest for a **regression** task for the first time.\n",
        "\n",
        "**How does the decision tree predict a continuous value?**\n",
        "\n",
        "Each decision tree will output a numerical value for a data point, which is the mean of the target values of the training samples in the leaf node where the data point falls.\n",
        "\n",
        "**But how does the model decide where to make the split at each binary split?**\n",
        "\n",
        "The model will calculate and minimise the **variance** also known as **minimizing impurity**. Just like a classification task, the model will see how similar the targets of each data point are for each possible split. Instead of just comparing if they are the same or different though, it will use a formula called the **weighted average variance**. This basically means that values that are closer together will have a lower **impurity** and this split will be prioritised.\n",
        "\n",
        "This explains how a decision tree performs a regression task as opposed to a classification task."
      ],
      "metadata": {
        "id": "9S_vJE9kY5bs"
      }
    },
    {
      "cell_type": "code",
      "source": [
        "from sklearn.ensemble import RandomForestRegressor\n",
        "\n",
        "rf = RandomForestRegressor(n_jobs=-1, # no of jobs to run in parallel, -1 means use all CPUs\n",
        "                           n_estimators=100, # no trees\n",
        "                           max_features=0.5, # no of columns to sample at each split point\n",
        "                           min_samples_leaf=3, # min number of data points in leaf nodes\n",
        "                           max_samples=0.75, # how many rows to sample for each training tree\n",
        "                           oob_score=True) # we use oob to claculate the out-of-bag error later\n",
        "\n",
        "rf.fit(data.train.xs, data.train.y)\n",
        "y_pred = rf.predict(data.valid.xs)"
      ],
      "metadata": {
        "id": "4CHd269PY68t"
      },
      "execution_count": 42,
      "outputs": []
    },
    {
      "cell_type": "markdown",
      "source": [
        "Now that we have our predictions, let's evaluate them using **mean absolute percentage error** (MAPE), which is the defined metric for this Kaggle competition."
      ],
      "metadata": {
        "id": "78CqJ0ibbPAG"
      }
    },
    {
      "cell_type": "code",
      "source": [
        "import numpy as np\n",
        "\n",
        "def mape(y_actual, y_pred, epsilon=1e-10):\n",
        "  y_actual = np.array(y_actual)\n",
        "  y_pred = np.array(y_pred)\n",
        "\n",
        "  mape = np.mean(np.abs((y_actual - y_pred) / (y_actual + epsilon)))\n",
        "  return mape\n",
        "\n",
        "mape(data.valid.y, y_pred)"
      ],
      "metadata": {
        "colab": {
          "base_uri": "https://localhost:8080/"
        },
        "id": "hohBXYgKbohz",
        "outputId": "bde037e6-398d-43b5-c18f-dc72feaf373a"
      },
      "execution_count": 43,
      "outputs": [
        {
          "output_type": "execute_result",
          "data": {
            "text/plain": [
              "0.020203011469208002"
            ]
          },
          "metadata": {},
          "execution_count": 43
        }
      ]
    },
    {
      "cell_type": "markdown",
      "source": [
        "At this point, I'm going to make some predictions on the test dataset and submit to Kaggle, just to see where we are at!\n",
        "\n",
        "I ran into some issues here, as the data pipeline for the model requires a `TabularPandas`. Since it appears this class was designed for neural networks with fastai - which inherintly hold information about the data formatting - I can't seem to find a way to add a test set to my pre-exisiting `TabularPandas` object. The code below is a bit messy, and the test_data is stored in `.train`. If anyone has a better way of approaching this, I would love to know!"
      ],
      "metadata": {
        "id": "y9bOKn8Qc8M9"
      }
    },
    {
      "cell_type": "code",
      "source": [
        "%%capture\n",
        "test_df = pd.read_csv('test.csv')\n",
        "add_datepart(test_df, 'date')\n",
        "\n",
        "test_data = TabularPandas(test_df, procs, cat, cont)\n",
        "\n",
        "test_df['num_sold'] = rf.predict(test_data.train.xs)\n",
        "test_df['num_sold'] = np.expm1(test_df['num_sold'])\n",
        "sub_df = test_df[['id', 'num_sold']]\n",
        "\n",
        "sub_df.to_csv('submission.csv', index=False)"
      ],
      "metadata": {
        "id": "IFDTrcgxdCIb"
      },
      "execution_count": 45,
      "outputs": []
    },
    {
      "cell_type": "markdown",
      "source": [
        "So, after submitting the results of our predictions on the test data, we were scoring a MAPE of 0.162! This is not a bad prediction considering our deep learning result was sitting around this prior to optimisation!"
      ],
      "metadata": {
        "id": "YTTNOEpkoZzG"
      }
    },
    {
      "cell_type": "markdown",
      "source": [
        "## Gradient Boosting Machine"
      ],
      "metadata": {
        "id": "eDcAnEmJRuuC"
      }
    },
    {
      "cell_type": "markdown",
      "source": [
        "I can now try out the `GradientBoostingRegressor` also provided by sklearn."
      ],
      "metadata": {
        "id": "C0hJqIWAseC5"
      }
    },
    {
      "cell_type": "code",
      "source": [
        "from sklearn.ensemble import GradientBoostingRegressor\n",
        "\n",
        "gbm = GradientBoostingRegressor(\n",
        "    n_estimators = 100,\n",
        "    learning_rate=1,\n",
        "    max_depth=20,\n",
        "    min_samples_split=2,\n",
        "    min_samples_leaf=3\n",
        ")\n",
        "\n",
        "gbm.fit(data.train.xs, data.train.y)\n",
        "\n",
        "y_pred = gbm.predict(data.valid.xs)\n",
        "\n",
        "mape(data.valid.y, y_pred)"
      ],
      "metadata": {
        "colab": {
          "base_uri": "https://localhost:8080/"
        },
        "id": "x2zsBr_uqeyT",
        "outputId": "cfca9889-19e1-4de6-f65d-11f87539f844"
      },
      "execution_count": 51,
      "outputs": [
        {
          "output_type": "execute_result",
          "data": {
            "text/plain": [
              "0.02299528907296866"
            ]
          },
          "metadata": {},
          "execution_count": 51
        }
      ]
    },
    {
      "cell_type": "markdown",
      "source": [
        "As you can see above, the model requires a lot more playing around with hyperparameters and it also took significantly longer to train.\n",
        "\n",
        "The **learning rate** in a GBM is used to scale the contribution of each new weak decision tree to the final model. A smaller learning rate means smaller updates to the model, while a larger learning rate means larger updates to the model. You use the learning rate in GBMs much like you would in a NN - you don't want the value to big or too small."
      ],
      "metadata": {
        "id": "lHLpS8Idsk8G"
      }
    },
    {
      "cell_type": "code",
      "source": [
        "%%capture\n",
        "test_df = pd.read_csv('test.csv')\n",
        "add_datepart(test_df, 'date')\n",
        "\n",
        "test_data = TabularPandas(test_df, procs, cat, cont)\n",
        "\n",
        "test_df['num_sold'] = rf.predict(test_data.train.xs)\n",
        "test_df['num_sold'] = np.expm1(test_df['num_sold'])\n",
        "sub_df = test_df[['id', 'num_sold']]\n",
        "\n",
        "sub_df.to_csv('submission2.csv', index=False)"
      ],
      "metadata": {
        "id": "jz8GdQDDq87r"
      },
      "execution_count": 52,
      "outputs": []
    },
    {
      "cell_type": "markdown",
      "source": [
        "I used the model on the test set (as above) and after playing around with the hyperparameters I was able to get a MAPE value of 0.164, slightly worse than the random forest.\n",
        "\n",
        "While we weren't able to improve on the result generated by our NN in the competition, there is other useful information we can derive from our **ensembles of decision trees**."
      ],
      "metadata": {
        "id": "meNpyG7nsvNE"
      }
    },
    {
      "cell_type": "markdown",
      "source": [
        "## Conclusion"
      ],
      "metadata": {
        "id": "eCAXh9ADtWbr"
      }
    },
    {
      "cell_type": "code",
      "source": [],
      "metadata": {
        "id": "6X5ksZkltXF3"
      },
      "execution_count": null,
      "outputs": []
    }
  ]
}