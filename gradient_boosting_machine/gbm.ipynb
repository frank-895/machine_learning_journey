{
  "nbformat": 4,
  "nbformat_minor": 0,
  "metadata": {
    "colab": {
      "provenance": [],
      "authorship_tag": "ABX9TyP/QQa+/cco795xPEcEJicH",
      "include_colab_link": true
    },
    "kernelspec": {
      "name": "python3",
      "display_name": "Python 3"
    },
    "language_info": {
      "name": "python"
    }
  },
  "cells": [
    {
      "cell_type": "markdown",
      "metadata": {
        "id": "view-in-github",
        "colab_type": "text"
      },
      "source": [
        "<a href=\"https://colab.research.google.com/github/frank-895/machine_learning_journey/blob/main/gradient_boosting_machine/gbm.ipynb\" target=\"_parent\"><img src=\"https://colab.research.google.com/assets/colab-badge.svg\" alt=\"Open In Colab\"/></a>"
      ]
    },
    {
      "cell_type": "code",
      "source": [
        "import pandas as pd\n",
        "from fastai.tabular.all import *\n",
        "from fastai.data.transforms import IndexSplitter"
      ],
      "metadata": {
        "id": "WY2MEvPcSdGV"
      },
      "execution_count": 1,
      "outputs": []
    },
    {
      "cell_type": "markdown",
      "source": [
        "# Gradient Boosting Machines - Forecasting Sticker Sales"
      ],
      "metadata": {
        "id": "K0Ab9nctO8mY"
      }
    },
    {
      "cell_type": "markdown",
      "source": [
        "## Introduction"
      ],
      "metadata": {
        "id": "AoqyunMKQTgt"
      }
    },
    {
      "cell_type": "markdown",
      "source": [
        "After learning about **ensembles of decision trees** as an approach to modelling tabular data, I've decided to have another shot at the [Forecasting Sticker Sales](https://www.kaggle.com/competitions/playground-series-s5e1) Kaggle competition.\n",
        "\n",
        "While I initially approached the problem with **deep learning** and scored in the top 27% of predictions, I want to see if I can improve on this by taking a different approach.\n",
        "\n",
        "In my last notebook I uncovered **random forests** which is one approach of ensembling decision trees. However, there is another area of ensembling I wish to learn more about, called **gradient boosting machines (GBMs)**.\n",
        "\n",
        "Since I've already gone into detail in my [previous notebook](https://github.com/frank-895/machine_learning_journey/tree/main/random_forests) about how decision trees are made and what ensembling is, I will be focusing on *building* that knowledge. I won't go into detail about when to use **ensembles of decision trees** vs **deep learning**.\n",
        "\n",
        "Furthermore, I've selected a **regression** problem for this project, as I practiced a **classification** problem when learning random forests."
      ],
      "metadata": {
        "id": "v5wH5f2FPDQm"
      }
    },
    {
      "cell_type": "markdown",
      "source": [
        "The first thing to establish is the key differences between **random forests** and **GBMs**.\n",
        "\n",
        "Where random forests utilise **bagging** (training each model on a different data subset and averaging), GBMs use **boosting**, where models are 'added'. Each new decision tree correct the errors made by the previous models and the final prediction is the the weighted sum of all the predictions from all the models.\n",
        "\n",
        "GBMs can generally perform better than random forests, but they are more complicated to implement.\n",
        "- They require some fussing with hyperparamaters.\n",
        "- They are prone to overfitting as each tree is not independent of the others.\n",
        "- They are rely on sequential training, which is slower, whereas random forests can utilise parallel training (as they are independent trees).\n",
        "\n",
        "So, a good approach would be to start with a random forest, then try a GBM. We will do that here, but the description for random forests will be brief as we have already gone into detail about this previously."
      ],
      "metadata": {
        "id": "V-Bl9g65QSyd"
      }
    },
    {
      "cell_type": "markdown",
      "source": [
        "## Data Engineering"
      ],
      "metadata": {
        "id": "hL-oLBmARruM"
      }
    },
    {
      "cell_type": "markdown",
      "source": [
        "Let's start with our data."
      ],
      "metadata": {
        "id": "p5fD2XTVR1fO"
      }
    },
    {
      "cell_type": "code",
      "source": [
        "df = pd.read_csv('train.csv')\n",
        "df.isnull().sum()"
      ],
      "metadata": {
        "colab": {
          "base_uri": "https://localhost:8080/",
          "height": 269
        },
        "id": "SKeL-uPdSX6N",
        "outputId": "b1f070e5-5237-49b9-daf7-2bbceadb0cf0"
      },
      "execution_count": 2,
      "outputs": [
        {
          "output_type": "execute_result",
          "data": {
            "text/plain": [
              "id             0\n",
              "date           0\n",
              "country        0\n",
              "store          0\n",
              "product        0\n",
              "num_sold    8871\n",
              "dtype: int64"
            ],
            "text/html": [
              "<div>\n",
              "<style scoped>\n",
              "    .dataframe tbody tr th:only-of-type {\n",
              "        vertical-align: middle;\n",
              "    }\n",
              "\n",
              "    .dataframe tbody tr th {\n",
              "        vertical-align: top;\n",
              "    }\n",
              "\n",
              "    .dataframe thead th {\n",
              "        text-align: right;\n",
              "    }\n",
              "</style>\n",
              "<table border=\"1\" class=\"dataframe\">\n",
              "  <thead>\n",
              "    <tr style=\"text-align: right;\">\n",
              "      <th></th>\n",
              "      <th>0</th>\n",
              "    </tr>\n",
              "  </thead>\n",
              "  <tbody>\n",
              "    <tr>\n",
              "      <th>id</th>\n",
              "      <td>0</td>\n",
              "    </tr>\n",
              "    <tr>\n",
              "      <th>date</th>\n",
              "      <td>0</td>\n",
              "    </tr>\n",
              "    <tr>\n",
              "      <th>country</th>\n",
              "      <td>0</td>\n",
              "    </tr>\n",
              "    <tr>\n",
              "      <th>store</th>\n",
              "      <td>0</td>\n",
              "    </tr>\n",
              "    <tr>\n",
              "      <th>product</th>\n",
              "      <td>0</td>\n",
              "    </tr>\n",
              "    <tr>\n",
              "      <th>num_sold</th>\n",
              "      <td>8871</td>\n",
              "    </tr>\n",
              "  </tbody>\n",
              "</table>\n",
              "</div><br><label><b>dtype:</b> int64</label>"
            ]
          },
          "metadata": {},
          "execution_count": 2
        }
      ]
    },
    {
      "cell_type": "markdown",
      "source": [
        "We will drop training rows missing the independent variable to focus on learning the concept of GBMs.\n",
        "\n",
        "Normally, with features missing values (there are none here) we would fill numerical features with the mean/median/mode and categorical features with a placeholder like 'Unknown' as the fact that data is missing can still be useful information to train a model."
      ],
      "metadata": {
        "id": "R_fK144FS45B"
      }
    },
    {
      "cell_type": "code",
      "source": [
        "df.dropna(axis=0, inplace=True)\n",
        "df"
      ],
      "metadata": {
        "colab": {
          "base_uri": "https://localhost:8080/",
          "height": 419
        },
        "id": "D00by774S4Zx",
        "outputId": "0f878948-f64d-48cf-f5b8-9274f31f0b13"
      },
      "execution_count": 3,
      "outputs": [
        {
          "output_type": "execute_result",
          "data": {
            "text/plain": [
              "            id        date    country                 store  \\\n",
              "1            1  2010-01-01     Canada     Discount Stickers   \n",
              "2            2  2010-01-01     Canada     Discount Stickers   \n",
              "3            3  2010-01-01     Canada     Discount Stickers   \n",
              "4            4  2010-01-01     Canada     Discount Stickers   \n",
              "5            5  2010-01-01     Canada     Stickers for Less   \n",
              "...        ...         ...        ...                   ...   \n",
              "230125  230125  2016-12-31  Singapore  Premium Sticker Mart   \n",
              "230126  230126  2016-12-31  Singapore  Premium Sticker Mart   \n",
              "230127  230127  2016-12-31  Singapore  Premium Sticker Mart   \n",
              "230128  230128  2016-12-31  Singapore  Premium Sticker Mart   \n",
              "230129  230129  2016-12-31  Singapore  Premium Sticker Mart   \n",
              "\n",
              "                   product  num_sold  \n",
              "1                   Kaggle     973.0  \n",
              "2             Kaggle Tiers     906.0  \n",
              "3                 Kerneler     423.0  \n",
              "4       Kerneler Dark Mode     491.0  \n",
              "5        Holographic Goose     300.0  \n",
              "...                    ...       ...  \n",
              "230125   Holographic Goose     466.0  \n",
              "230126              Kaggle    2907.0  \n",
              "230127        Kaggle Tiers    2299.0  \n",
              "230128            Kerneler    1242.0  \n",
              "230129  Kerneler Dark Mode    1622.0  \n",
              "\n",
              "[221259 rows x 6 columns]"
            ],
            "text/html": [
              "\n",
              "  <div id=\"df-62e0b540-f490-452c-8f01-1bbd94d0a09e\" class=\"colab-df-container\">\n",
              "    <div>\n",
              "<style scoped>\n",
              "    .dataframe tbody tr th:only-of-type {\n",
              "        vertical-align: middle;\n",
              "    }\n",
              "\n",
              "    .dataframe tbody tr th {\n",
              "        vertical-align: top;\n",
              "    }\n",
              "\n",
              "    .dataframe thead th {\n",
              "        text-align: right;\n",
              "    }\n",
              "</style>\n",
              "<table border=\"1\" class=\"dataframe\">\n",
              "  <thead>\n",
              "    <tr style=\"text-align: right;\">\n",
              "      <th></th>\n",
              "      <th>id</th>\n",
              "      <th>date</th>\n",
              "      <th>country</th>\n",
              "      <th>store</th>\n",
              "      <th>product</th>\n",
              "      <th>num_sold</th>\n",
              "    </tr>\n",
              "  </thead>\n",
              "  <tbody>\n",
              "    <tr>\n",
              "      <th>1</th>\n",
              "      <td>1</td>\n",
              "      <td>2010-01-01</td>\n",
              "      <td>Canada</td>\n",
              "      <td>Discount Stickers</td>\n",
              "      <td>Kaggle</td>\n",
              "      <td>973.0</td>\n",
              "    </tr>\n",
              "    <tr>\n",
              "      <th>2</th>\n",
              "      <td>2</td>\n",
              "      <td>2010-01-01</td>\n",
              "      <td>Canada</td>\n",
              "      <td>Discount Stickers</td>\n",
              "      <td>Kaggle Tiers</td>\n",
              "      <td>906.0</td>\n",
              "    </tr>\n",
              "    <tr>\n",
              "      <th>3</th>\n",
              "      <td>3</td>\n",
              "      <td>2010-01-01</td>\n",
              "      <td>Canada</td>\n",
              "      <td>Discount Stickers</td>\n",
              "      <td>Kerneler</td>\n",
              "      <td>423.0</td>\n",
              "    </tr>\n",
              "    <tr>\n",
              "      <th>4</th>\n",
              "      <td>4</td>\n",
              "      <td>2010-01-01</td>\n",
              "      <td>Canada</td>\n",
              "      <td>Discount Stickers</td>\n",
              "      <td>Kerneler Dark Mode</td>\n",
              "      <td>491.0</td>\n",
              "    </tr>\n",
              "    <tr>\n",
              "      <th>5</th>\n",
              "      <td>5</td>\n",
              "      <td>2010-01-01</td>\n",
              "      <td>Canada</td>\n",
              "      <td>Stickers for Less</td>\n",
              "      <td>Holographic Goose</td>\n",
              "      <td>300.0</td>\n",
              "    </tr>\n",
              "    <tr>\n",
              "      <th>...</th>\n",
              "      <td>...</td>\n",
              "      <td>...</td>\n",
              "      <td>...</td>\n",
              "      <td>...</td>\n",
              "      <td>...</td>\n",
              "      <td>...</td>\n",
              "    </tr>\n",
              "    <tr>\n",
              "      <th>230125</th>\n",
              "      <td>230125</td>\n",
              "      <td>2016-12-31</td>\n",
              "      <td>Singapore</td>\n",
              "      <td>Premium Sticker Mart</td>\n",
              "      <td>Holographic Goose</td>\n",
              "      <td>466.0</td>\n",
              "    </tr>\n",
              "    <tr>\n",
              "      <th>230126</th>\n",
              "      <td>230126</td>\n",
              "      <td>2016-12-31</td>\n",
              "      <td>Singapore</td>\n",
              "      <td>Premium Sticker Mart</td>\n",
              "      <td>Kaggle</td>\n",
              "      <td>2907.0</td>\n",
              "    </tr>\n",
              "    <tr>\n",
              "      <th>230127</th>\n",
              "      <td>230127</td>\n",
              "      <td>2016-12-31</td>\n",
              "      <td>Singapore</td>\n",
              "      <td>Premium Sticker Mart</td>\n",
              "      <td>Kaggle Tiers</td>\n",
              "      <td>2299.0</td>\n",
              "    </tr>\n",
              "    <tr>\n",
              "      <th>230128</th>\n",
              "      <td>230128</td>\n",
              "      <td>2016-12-31</td>\n",
              "      <td>Singapore</td>\n",
              "      <td>Premium Sticker Mart</td>\n",
              "      <td>Kerneler</td>\n",
              "      <td>1242.0</td>\n",
              "    </tr>\n",
              "    <tr>\n",
              "      <th>230129</th>\n",
              "      <td>230129</td>\n",
              "      <td>2016-12-31</td>\n",
              "      <td>Singapore</td>\n",
              "      <td>Premium Sticker Mart</td>\n",
              "      <td>Kerneler Dark Mode</td>\n",
              "      <td>1622.0</td>\n",
              "    </tr>\n",
              "  </tbody>\n",
              "</table>\n",
              "<p>221259 rows × 6 columns</p>\n",
              "</div>\n",
              "    <div class=\"colab-df-buttons\">\n",
              "\n",
              "  <div class=\"colab-df-container\">\n",
              "    <button class=\"colab-df-convert\" onclick=\"convertToInteractive('df-62e0b540-f490-452c-8f01-1bbd94d0a09e')\"\n",
              "            title=\"Convert this dataframe to an interactive table.\"\n",
              "            style=\"display:none;\">\n",
              "\n",
              "  <svg xmlns=\"http://www.w3.org/2000/svg\" height=\"24px\" viewBox=\"0 -960 960 960\">\n",
              "    <path d=\"M120-120v-720h720v720H120Zm60-500h600v-160H180v160Zm220 220h160v-160H400v160Zm0 220h160v-160H400v160ZM180-400h160v-160H180v160Zm440 0h160v-160H620v160ZM180-180h160v-160H180v160Zm440 0h160v-160H620v160Z\"/>\n",
              "  </svg>\n",
              "    </button>\n",
              "\n",
              "  <style>\n",
              "    .colab-df-container {\n",
              "      display:flex;\n",
              "      gap: 12px;\n",
              "    }\n",
              "\n",
              "    .colab-df-convert {\n",
              "      background-color: #E8F0FE;\n",
              "      border: none;\n",
              "      border-radius: 50%;\n",
              "      cursor: pointer;\n",
              "      display: none;\n",
              "      fill: #1967D2;\n",
              "      height: 32px;\n",
              "      padding: 0 0 0 0;\n",
              "      width: 32px;\n",
              "    }\n",
              "\n",
              "    .colab-df-convert:hover {\n",
              "      background-color: #E2EBFA;\n",
              "      box-shadow: 0px 1px 2px rgba(60, 64, 67, 0.3), 0px 1px 3px 1px rgba(60, 64, 67, 0.15);\n",
              "      fill: #174EA6;\n",
              "    }\n",
              "\n",
              "    .colab-df-buttons div {\n",
              "      margin-bottom: 4px;\n",
              "    }\n",
              "\n",
              "    [theme=dark] .colab-df-convert {\n",
              "      background-color: #3B4455;\n",
              "      fill: #D2E3FC;\n",
              "    }\n",
              "\n",
              "    [theme=dark] .colab-df-convert:hover {\n",
              "      background-color: #434B5C;\n",
              "      box-shadow: 0px 1px 3px 1px rgba(0, 0, 0, 0.15);\n",
              "      filter: drop-shadow(0px 1px 2px rgba(0, 0, 0, 0.3));\n",
              "      fill: #FFFFFF;\n",
              "    }\n",
              "  </style>\n",
              "\n",
              "    <script>\n",
              "      const buttonEl =\n",
              "        document.querySelector('#df-62e0b540-f490-452c-8f01-1bbd94d0a09e button.colab-df-convert');\n",
              "      buttonEl.style.display =\n",
              "        google.colab.kernel.accessAllowed ? 'block' : 'none';\n",
              "\n",
              "      async function convertToInteractive(key) {\n",
              "        const element = document.querySelector('#df-62e0b540-f490-452c-8f01-1bbd94d0a09e');\n",
              "        const dataTable =\n",
              "          await google.colab.kernel.invokeFunction('convertToInteractive',\n",
              "                                                    [key], {});\n",
              "        if (!dataTable) return;\n",
              "\n",
              "        const docLinkHtml = 'Like what you see? Visit the ' +\n",
              "          '<a target=\"_blank\" href=https://colab.research.google.com/notebooks/data_table.ipynb>data table notebook</a>'\n",
              "          + ' to learn more about interactive tables.';\n",
              "        element.innerHTML = '';\n",
              "        dataTable['output_type'] = 'display_data';\n",
              "        await google.colab.output.renderOutput(dataTable, element);\n",
              "        const docLink = document.createElement('div');\n",
              "        docLink.innerHTML = docLinkHtml;\n",
              "        element.appendChild(docLink);\n",
              "      }\n",
              "    </script>\n",
              "  </div>\n",
              "\n",
              "\n",
              "<div id=\"df-01d46ed7-fa90-40f5-a737-99016d84e81f\">\n",
              "  <button class=\"colab-df-quickchart\" onclick=\"quickchart('df-01d46ed7-fa90-40f5-a737-99016d84e81f')\"\n",
              "            title=\"Suggest charts\"\n",
              "            style=\"display:none;\">\n",
              "\n",
              "<svg xmlns=\"http://www.w3.org/2000/svg\" height=\"24px\"viewBox=\"0 0 24 24\"\n",
              "     width=\"24px\">\n",
              "    <g>\n",
              "        <path d=\"M19 3H5c-1.1 0-2 .9-2 2v14c0 1.1.9 2 2 2h14c1.1 0 2-.9 2-2V5c0-1.1-.9-2-2-2zM9 17H7v-7h2v7zm4 0h-2V7h2v10zm4 0h-2v-4h2v4z\"/>\n",
              "    </g>\n",
              "</svg>\n",
              "  </button>\n",
              "\n",
              "<style>\n",
              "  .colab-df-quickchart {\n",
              "      --bg-color: #E8F0FE;\n",
              "      --fill-color: #1967D2;\n",
              "      --hover-bg-color: #E2EBFA;\n",
              "      --hover-fill-color: #174EA6;\n",
              "      --disabled-fill-color: #AAA;\n",
              "      --disabled-bg-color: #DDD;\n",
              "  }\n",
              "\n",
              "  [theme=dark] .colab-df-quickchart {\n",
              "      --bg-color: #3B4455;\n",
              "      --fill-color: #D2E3FC;\n",
              "      --hover-bg-color: #434B5C;\n",
              "      --hover-fill-color: #FFFFFF;\n",
              "      --disabled-bg-color: #3B4455;\n",
              "      --disabled-fill-color: #666;\n",
              "  }\n",
              "\n",
              "  .colab-df-quickchart {\n",
              "    background-color: var(--bg-color);\n",
              "    border: none;\n",
              "    border-radius: 50%;\n",
              "    cursor: pointer;\n",
              "    display: none;\n",
              "    fill: var(--fill-color);\n",
              "    height: 32px;\n",
              "    padding: 0;\n",
              "    width: 32px;\n",
              "  }\n",
              "\n",
              "  .colab-df-quickchart:hover {\n",
              "    background-color: var(--hover-bg-color);\n",
              "    box-shadow: 0 1px 2px rgba(60, 64, 67, 0.3), 0 1px 3px 1px rgba(60, 64, 67, 0.15);\n",
              "    fill: var(--button-hover-fill-color);\n",
              "  }\n",
              "\n",
              "  .colab-df-quickchart-complete:disabled,\n",
              "  .colab-df-quickchart-complete:disabled:hover {\n",
              "    background-color: var(--disabled-bg-color);\n",
              "    fill: var(--disabled-fill-color);\n",
              "    box-shadow: none;\n",
              "  }\n",
              "\n",
              "  .colab-df-spinner {\n",
              "    border: 2px solid var(--fill-color);\n",
              "    border-color: transparent;\n",
              "    border-bottom-color: var(--fill-color);\n",
              "    animation:\n",
              "      spin 1s steps(1) infinite;\n",
              "  }\n",
              "\n",
              "  @keyframes spin {\n",
              "    0% {\n",
              "      border-color: transparent;\n",
              "      border-bottom-color: var(--fill-color);\n",
              "      border-left-color: var(--fill-color);\n",
              "    }\n",
              "    20% {\n",
              "      border-color: transparent;\n",
              "      border-left-color: var(--fill-color);\n",
              "      border-top-color: var(--fill-color);\n",
              "    }\n",
              "    30% {\n",
              "      border-color: transparent;\n",
              "      border-left-color: var(--fill-color);\n",
              "      border-top-color: var(--fill-color);\n",
              "      border-right-color: var(--fill-color);\n",
              "    }\n",
              "    40% {\n",
              "      border-color: transparent;\n",
              "      border-right-color: var(--fill-color);\n",
              "      border-top-color: var(--fill-color);\n",
              "    }\n",
              "    60% {\n",
              "      border-color: transparent;\n",
              "      border-right-color: var(--fill-color);\n",
              "    }\n",
              "    80% {\n",
              "      border-color: transparent;\n",
              "      border-right-color: var(--fill-color);\n",
              "      border-bottom-color: var(--fill-color);\n",
              "    }\n",
              "    90% {\n",
              "      border-color: transparent;\n",
              "      border-bottom-color: var(--fill-color);\n",
              "    }\n",
              "  }\n",
              "</style>\n",
              "\n",
              "  <script>\n",
              "    async function quickchart(key) {\n",
              "      const quickchartButtonEl =\n",
              "        document.querySelector('#' + key + ' button');\n",
              "      quickchartButtonEl.disabled = true;  // To prevent multiple clicks.\n",
              "      quickchartButtonEl.classList.add('colab-df-spinner');\n",
              "      try {\n",
              "        const charts = await google.colab.kernel.invokeFunction(\n",
              "            'suggestCharts', [key], {});\n",
              "      } catch (error) {\n",
              "        console.error('Error during call to suggestCharts:', error);\n",
              "      }\n",
              "      quickchartButtonEl.classList.remove('colab-df-spinner');\n",
              "      quickchartButtonEl.classList.add('colab-df-quickchart-complete');\n",
              "    }\n",
              "    (() => {\n",
              "      let quickchartButtonEl =\n",
              "        document.querySelector('#df-01d46ed7-fa90-40f5-a737-99016d84e81f button');\n",
              "      quickchartButtonEl.style.display =\n",
              "        google.colab.kernel.accessAllowed ? 'block' : 'none';\n",
              "    })();\n",
              "  </script>\n",
              "</div>\n",
              "\n",
              "  <div id=\"id_ae3e116c-83a2-4bc8-bf90-423899680e57\">\n",
              "    <style>\n",
              "      .colab-df-generate {\n",
              "        background-color: #E8F0FE;\n",
              "        border: none;\n",
              "        border-radius: 50%;\n",
              "        cursor: pointer;\n",
              "        display: none;\n",
              "        fill: #1967D2;\n",
              "        height: 32px;\n",
              "        padding: 0 0 0 0;\n",
              "        width: 32px;\n",
              "      }\n",
              "\n",
              "      .colab-df-generate:hover {\n",
              "        background-color: #E2EBFA;\n",
              "        box-shadow: 0px 1px 2px rgba(60, 64, 67, 0.3), 0px 1px 3px 1px rgba(60, 64, 67, 0.15);\n",
              "        fill: #174EA6;\n",
              "      }\n",
              "\n",
              "      [theme=dark] .colab-df-generate {\n",
              "        background-color: #3B4455;\n",
              "        fill: #D2E3FC;\n",
              "      }\n",
              "\n",
              "      [theme=dark] .colab-df-generate:hover {\n",
              "        background-color: #434B5C;\n",
              "        box-shadow: 0px 1px 3px 1px rgba(0, 0, 0, 0.15);\n",
              "        filter: drop-shadow(0px 1px 2px rgba(0, 0, 0, 0.3));\n",
              "        fill: #FFFFFF;\n",
              "      }\n",
              "    </style>\n",
              "    <button class=\"colab-df-generate\" onclick=\"generateWithVariable('df')\"\n",
              "            title=\"Generate code using this dataframe.\"\n",
              "            style=\"display:none;\">\n",
              "\n",
              "  <svg xmlns=\"http://www.w3.org/2000/svg\" height=\"24px\"viewBox=\"0 0 24 24\"\n",
              "       width=\"24px\">\n",
              "    <path d=\"M7,19H8.4L18.45,9,17,7.55,7,17.6ZM5,21V16.75L18.45,3.32a2,2,0,0,1,2.83,0l1.4,1.43a1.91,1.91,0,0,1,.58,1.4,1.91,1.91,0,0,1-.58,1.4L9.25,21ZM18.45,9,17,7.55Zm-12,3A5.31,5.31,0,0,0,4.9,8.1,5.31,5.31,0,0,0,1,6.5,5.31,5.31,0,0,0,4.9,4.9,5.31,5.31,0,0,0,6.5,1,5.31,5.31,0,0,0,8.1,4.9,5.31,5.31,0,0,0,12,6.5,5.46,5.46,0,0,0,6.5,12Z\"/>\n",
              "  </svg>\n",
              "    </button>\n",
              "    <script>\n",
              "      (() => {\n",
              "      const buttonEl =\n",
              "        document.querySelector('#id_ae3e116c-83a2-4bc8-bf90-423899680e57 button.colab-df-generate');\n",
              "      buttonEl.style.display =\n",
              "        google.colab.kernel.accessAllowed ? 'block' : 'none';\n",
              "\n",
              "      buttonEl.onclick = () => {\n",
              "        google.colab.notebook.generateWithVariable('df');\n",
              "      }\n",
              "      })();\n",
              "    </script>\n",
              "  </div>\n",
              "\n",
              "    </div>\n",
              "  </div>\n"
            ],
            "application/vnd.google.colaboratory.intrinsic+json": {
              "type": "dataframe",
              "variable_name": "df"
            }
          },
          "metadata": {},
          "execution_count": 3
        }
      ]
    },
    {
      "cell_type": "markdown",
      "source": [
        "Now, we will perform much of the same **feature engineering** as the deep learning approach. Since tree-based models are robust to non-normality, log transformations will not be used in this approach on any predictors; however, we will perform a log transformation on the `num_sold` column as our predictions are highly skewed with a long right tail (shown in the last notebook).\n",
        "\n",
        "As previously discussed, OHE is generally not needed for tree-based approaches."
      ],
      "metadata": {
        "id": "cYuIA6slTBTR"
      }
    },
    {
      "cell_type": "code",
      "source": [
        "%%capture\n",
        "df['num_sold'] = np.log1p(df['num_sold'])\n",
        "\n",
        "# extract useful features from date\n",
        "add_datepart(df, 'date')\n",
        "\n",
        "# drop unneeded columns\n",
        "df.drop('id', axis=1, inplace=True)"
      ],
      "metadata": {
        "id": "pctvXa30ToML"
      },
      "execution_count": 4,
      "outputs": []
    },
    {
      "cell_type": "markdown",
      "source": [
        "Now, we can define a training and validation set. Since we are working with data over time, we will clip the end of the df and use this as our **validation set**.\n",
        "\n",
        "I am going to be using a new techinque I recently learn for this, defined by `TabularPandas`. `TabularPandas` sits on top of a pandas df and is provided by `fastai`. This class modifies objects in place and runs transformations when data is passed in, rather than lazily as data is accessed."
      ],
      "metadata": {
        "id": "yaLcf89dTsYF"
      }
    },
    {
      "cell_type": "code",
      "source": [
        "procs = [Categorify, FillMissing]"
      ],
      "metadata": {
        "id": "IYYXG2-wWlZM"
      },
      "execution_count": 5,
      "outputs": []
    },
    {
      "cell_type": "markdown",
      "source": [
        "These two transformations are not strictly necessary on this dataset as we have no missing values in the predictor columns. However, `FillMissing` is a `TabularProc` (much like a `Transform` in pandas) that  replaces missing values with median values. `Categorify` is a new feature that is set `True` for any row where the value was missing (as missing values can hold valuable information for training). We will pass the `TabularProc`s when creating our training and validation sets."
      ],
      "metadata": {
        "id": "_4-crMzHWn7O"
      }
    },
    {
      "cell_type": "code",
      "source": [
        "cond = df.Year<2016\n",
        "train_idx, valid_idx = np.where(cond)[0], np.where(~cond)[0]\n",
        "splits = (list(train_idx),list(valid_idx))"
      ],
      "metadata": {
        "id": "oTFgTmzqXIca"
      },
      "execution_count": 6,
      "outputs": []
    },
    {
      "cell_type": "markdown",
      "source": [
        "`where()` is a useful function returning indices of all True values.\n",
        "\n",
        "We also want to define our **categorical** and **continuous** variables before creating our `TabularPandas`. While we did this manually last time, we can actually benefit from the `fastai` function `cont_cat_split` that can automtically infer the variable type."
      ],
      "metadata": {
        "id": "4SWdTfFsXZJV"
      }
    },
    {
      "cell_type": "code",
      "source": [
        "cont, cat = cont_cat_split(df, dep_var=\"num_sold\")\n",
        "cont, cat"
      ],
      "metadata": {
        "colab": {
          "base_uri": "https://localhost:8080/"
        },
        "id": "BwuY7NnaXfZ0",
        "outputId": "c2a7eeee-7b01-4b10-f45c-dd9156f0cc5a"
      },
      "execution_count": 7,
      "outputs": [
        {
          "output_type": "execute_result",
          "data": {
            "text/plain": [
              "(['Week', 'Day', 'Dayofyear', 'Elapsed'],\n",
              " ['country',\n",
              "  'store',\n",
              "  'product',\n",
              "  'Year',\n",
              "  'Month',\n",
              "  'Dayofweek',\n",
              "  'Is_month_end',\n",
              "  'Is_month_start',\n",
              "  'Is_quarter_end',\n",
              "  'Is_quarter_start',\n",
              "  'Is_year_end',\n",
              "  'Is_year_start'])"
            ]
          },
          "metadata": {},
          "execution_count": 7
        }
      ]
    },
    {
      "cell_type": "markdown",
      "source": [
        "Now we are ready for our `TabularPandas`!"
      ],
      "metadata": {
        "id": "EY1ZXUlmYZ3d"
      }
    },
    {
      "cell_type": "code",
      "source": [
        "data = TabularPandas(df, procs, cat, cont, y_names=\"num_sold\", splits=splits)\n",
        "len(data.train), len(data.valid)"
      ],
      "metadata": {
        "colab": {
          "base_uri": "https://localhost:8080/"
        },
        "id": "539CfWZkYY52",
        "outputId": "e7161fa8-dc8f-4c47-a3d1-0519b4ffe59f"
      },
      "execution_count": 8,
      "outputs": [
        {
          "output_type": "execute_result",
          "data": {
            "text/plain": [
              "(189492, 31767)"
            ]
          },
          "metadata": {},
          "execution_count": 8
        }
      ]
    },
    {
      "cell_type": "markdown",
      "source": [
        "## Random Forest"
      ],
      "metadata": {
        "id": "kei0mPMdRtLV"
      }
    },
    {
      "cell_type": "markdown",
      "source": [
        "### Making the Model"
      ],
      "metadata": {
        "id": "k4GftSYZRS26"
      }
    },
    {
      "cell_type": "markdown",
      "source": [
        "Let's build a random forest! While I have previously discussed in-depth how **random forests** work, I am now using a random forest for a **regression** task for the first time.\n",
        "\n",
        "**How does the decision tree predict a continuous value?**\n",
        "\n",
        "Each decision tree will output a numerical value for a data point, which is the mean of the target values of the training samples in the leaf node where the data point falls.\n",
        "\n",
        "**But how does the model decide where to make the split at each binary split?**\n",
        "\n",
        "The model will calculate and minimise the **variance** also known as **minimizing impurity**. Just like a classification task, the model will see how similar the targets of each data point are for each possible split. Instead of just comparing if they are the same or different though, it will use a formula called the **weighted average variance**. This basically means that values that are closer together will have a lower **impurity** and this split will be prioritised.\n",
        "\n",
        "This explains how a decision tree performs a regression task as opposed to a classification task."
      ],
      "metadata": {
        "id": "9S_vJE9kY5bs"
      }
    },
    {
      "cell_type": "code",
      "source": [
        "from sklearn.ensemble import RandomForestRegressor\n",
        "\n",
        "rf = RandomForestRegressor(n_jobs=-1, # no of jobs to run in parallel, -1 means use all CPUs\n",
        "                           n_estimators=100, # no trees\n",
        "                           max_features=0.5, # no of columns to sample at each split point\n",
        "                           min_samples_leaf=3, # min number of data points in leaf nodes\n",
        "                           max_samples=0.75, # how many rows to sample for each training tree\n",
        "                           oob_score=True) # we use oob to claculate the out-of-bag error later\n",
        "\n",
        "rf.fit(data.train.xs, data.train.y)\n",
        "y_pred = rf.predict(data.valid.xs)"
      ],
      "metadata": {
        "id": "4CHd269PY68t"
      },
      "execution_count": 9,
      "outputs": []
    },
    {
      "cell_type": "markdown",
      "source": [
        "Now that we have our predictions, let's evaluate them using **mean absolute percentage error** (MAPE), which is the defined metric for this Kaggle competition."
      ],
      "metadata": {
        "id": "78CqJ0ibbPAG"
      }
    },
    {
      "cell_type": "code",
      "source": [
        "import numpy as np\n",
        "\n",
        "def mape(y_actual, y_pred, epsilon=1e-10):\n",
        "  y_actual = np.array(y_actual)\n",
        "  y_pred = np.array(y_pred)\n",
        "\n",
        "  mape = np.mean(np.abs((y_actual - y_pred) / (y_actual + epsilon)))\n",
        "  return mape\n",
        "\n",
        "mape(data.valid.y, y_pred)"
      ],
      "metadata": {
        "colab": {
          "base_uri": "https://localhost:8080/"
        },
        "id": "hohBXYgKbohz",
        "outputId": "6b094081-b559-446e-99bd-40bd89d1a935"
      },
      "execution_count": 10,
      "outputs": [
        {
          "output_type": "execute_result",
          "data": {
            "text/plain": [
              "0.01948954560857891"
            ]
          },
          "metadata": {},
          "execution_count": 10
        }
      ]
    },
    {
      "cell_type": "markdown",
      "source": [
        "### Out-of-bag Error"
      ],
      "metadata": {
        "id": "wHgWDqEAPuoV"
      }
    },
    {
      "cell_type": "markdown",
      "source": [
        "At this point, we're going to find a new way of measuring the prediciton error on the trainin set, by using only the calculation of a row's error trees where that rows was not included in the training.\n",
        "\n",
        "Since every tree is trained on a different random subset of rows, we can imagine that every tree has its own validation set, which is the rows that were not selected for that tree's training. The prediction error calculated on these remaining rows is called the **out-of-bag (OOB) error**.\n",
        "\n",
        "This is useful if we don't have much data (so perhaps not useful here), as we can see whether our model generalises without needing to separate data for a validation set.\n",
        "\n",
        "This is why when training the model we activated the parameter `oob_score`."
      ],
      "metadata": {
        "id": "SOXzdeAOPyaf"
      }
    },
    {
      "cell_type": "code",
      "source": [
        "mape(rf.oob_prediction_, data.train.y)"
      ],
      "metadata": {
        "colab": {
          "base_uri": "https://localhost:8080/"
        },
        "id": "32xD2rxVO0SC",
        "outputId": "285d7126-60d6-4286-d26d-b5a1b9c6ba8f"
      },
      "execution_count": 12,
      "outputs": [
        {
          "output_type": "execute_result",
          "data": {
            "text/plain": [
              "0.008896529053385985"
            ]
          },
          "metadata": {},
          "execution_count": 12
        }
      ]
    },
    {
      "cell_type": "markdown",
      "source": [
        "We can see that the out-of-bag error is much lower than our validation set error - since OOB samples are still part of the overall training set, they are not entirely independent of the training process, making an optimistic (but nevertheless useful) performance estimate."
      ],
      "metadata": {
        "id": "xLfVGxRqQhnm"
      }
    },
    {
      "cell_type": "markdown",
      "source": [
        "### Submitting Predictions"
      ],
      "metadata": {
        "id": "EqEhO0zMRQaq"
      }
    },
    {
      "cell_type": "markdown",
      "source": [
        "At this point, I'm going to make some predictions on the test dataset and submit to Kaggle, just to see where we are at!\n",
        "\n",
        "I ran into some issues here, as the data pipeline for the model requires a `TabularPandas`. Since it appears this class was designed for neural networks with fastai - which inherintly hold information about the data formatting - I can't seem to find a way to add a test set to my pre-exisiting `TabularPandas` object. The code below is a bit messy, and the test_data is stored in `.train`. If anyone has a better way of approaching this, I would love to know!"
      ],
      "metadata": {
        "id": "y9bOKn8Qc8M9"
      }
    },
    {
      "cell_type": "code",
      "source": [
        "%%capture\n",
        "test_df = pd.read_csv('test.csv')\n",
        "add_datepart(test_df, 'date')\n",
        "\n",
        "test_data = TabularPandas(test_df, procs, cat, cont)\n",
        "\n",
        "test_df['num_sold'] = rf.predict(test_data.train.xs)\n",
        "test_df['num_sold'] = np.expm1(test_df['num_sold'])\n",
        "sub_df = test_df[['id', 'num_sold']]\n",
        "\n",
        "sub_df.to_csv('submission.csv', index=False)"
      ],
      "metadata": {
        "id": "IFDTrcgxdCIb"
      },
      "execution_count": 13,
      "outputs": []
    },
    {
      "cell_type": "markdown",
      "source": [
        "So, after submitting the results of our predictions on the test data, we were scoring a MAPE of 0.162! This is not a bad prediction considering our deep learning result was sitting around this prior to optimisation!"
      ],
      "metadata": {
        "id": "YTTNOEpkoZzG"
      }
    },
    {
      "cell_type": "markdown",
      "source": [
        "## Gradient Boosting Machine"
      ],
      "metadata": {
        "id": "eDcAnEmJRuuC"
      }
    },
    {
      "cell_type": "markdown",
      "source": [
        "### Making the Model"
      ],
      "metadata": {
        "id": "bjvE1otZRVl4"
      }
    },
    {
      "cell_type": "markdown",
      "source": [
        "I can now try out the `GradientBoostingRegressor` also provided by sklearn."
      ],
      "metadata": {
        "id": "C0hJqIWAseC5"
      }
    },
    {
      "cell_type": "code",
      "source": [
        "from sklearn.ensemble import GradientBoostingRegressor\n",
        "\n",
        "gbm = GradientBoostingRegressor(\n",
        "    n_estimators = 100,\n",
        "    learning_rate=1,\n",
        "    max_depth=20,\n",
        "    min_samples_split=2,\n",
        "    min_samples_leaf=3\n",
        ")\n",
        "\n",
        "gbm.fit(data.train.xs, data.train.y)\n",
        "\n",
        "y_pred = gbm.predict(data.valid.xs)\n",
        "\n",
        "mape(data.valid.y, y_pred)"
      ],
      "metadata": {
        "colab": {
          "base_uri": "https://localhost:8080/"
        },
        "id": "x2zsBr_uqeyT",
        "outputId": "a1508b41-a07a-4908-81c4-eb3310787a7e"
      },
      "execution_count": 14,
      "outputs": [
        {
          "output_type": "execute_result",
          "data": {
            "text/plain": [
              "0.02168047853938121"
            ]
          },
          "metadata": {},
          "execution_count": 14
        }
      ]
    },
    {
      "cell_type": "markdown",
      "source": [
        "As you can see above, the model requires a lot more playing around with hyperparameters and it also took significantly longer to train.\n",
        "\n",
        "The **learning rate** in a GBM is used to scale the contribution of each new weak decision tree to the final model. A smaller learning rate means smaller updates to the model, while a larger learning rate means larger updates to the model. You use the learning rate in GBMs much like you would in a NN - you don't want the value to big or too small."
      ],
      "metadata": {
        "id": "lHLpS8Idsk8G"
      }
    },
    {
      "cell_type": "markdown",
      "source": [
        "### Submitting Predictions"
      ],
      "metadata": {
        "id": "_WxTfVS2RX-V"
      }
    },
    {
      "cell_type": "code",
      "source": [
        "%%capture\n",
        "test_df = pd.read_csv('test.csv')\n",
        "add_datepart(test_df, 'date')\n",
        "\n",
        "test_data = TabularPandas(test_df, procs, cat, cont)\n",
        "\n",
        "test_df['num_sold'] = rf.predict(test_data.train.xs)\n",
        "test_df['num_sold'] = np.expm1(test_df['num_sold'])\n",
        "sub_df = test_df[['id', 'num_sold']]\n",
        "\n",
        "sub_df.to_csv('submission2.csv', index=False)"
      ],
      "metadata": {
        "id": "jz8GdQDDq87r"
      },
      "execution_count": 15,
      "outputs": []
    },
    {
      "cell_type": "markdown",
      "source": [
        "I used the model on the test set (as above) and after playing around with the hyperparameters I was able to get a MAPE value of 0.164, slightly worse than the random forest.\n",
        "\n",
        "While we weren't able to improve on the result generated by our NN in the competition, there is other useful information we can derive from our **ensembles of decision trees**."
      ],
      "metadata": {
        "id": "meNpyG7nsvNE"
      }
    },
    {
      "cell_type": "markdown",
      "source": [
        "## Prediction Confidence"
      ],
      "metadata": {
        "id": "w3qa35ZURaTE"
      }
    },
    {
      "cell_type": "markdown",
      "source": [
        "Another useful piece of information we can derive from an ensemble of decision trees is the standard deviation of the predictions across trees.\n",
        "\n",
        "While the mean will provide the estimate, the standard deviation will provide **the confidence**, as it will show if each tree agrees with the others or not. A low standard deviation indicates high confidence, whereas a high standard deviation represents a low confidence.\n",
        "\n",
        "This would be useful if you were making critical decisions based on the model - if the model was not confident in its prediction it might make you think twice before doing something rash."
      ],
      "metadata": {
        "id": "Z7YTEH8sRdyw"
      }
    },
    {
      "cell_type": "markdown",
      "source": [
        "We will use Numpy to make this prediction, as it is optimised to work with large matrices.\n",
        "\n",
        "- `gbm.estimators_` is a list of all 100 `DecisionTreeRegressor`s that makes up the gradient boosting machine.\n",
        "- `tree` is a list containing the `DecisionTreeRegressor` at position 0 and the data type in position 1.\n",
        "- `data.valid.xs.to_numpy()` takes our `TabularPandas` of all validation feeatures and converts it to a numpy array\n",
        "- We calculate each decision tree's prediction of each data point in the validation set, returning a list of a list of predictions using `predict()`.\n"
      ],
      "metadata": {
        "id": "VGWK9-PqTENU"
      }
    },
    {
      "cell_type": "code",
      "source": [
        "preds = np.stack([tree[0].predict(data.valid.xs.to_numpy()) for tree in gbm.estimators_])\n",
        "preds.shape"
      ],
      "metadata": {
        "colab": {
          "base_uri": "https://localhost:8080/"
        },
        "id": "lR0s-TRSRdZW",
        "outputId": "95f5d3fc-c02f-4812-a8cb-eb3a8d7f1c24"
      },
      "execution_count": 27,
      "outputs": [
        {
          "output_type": "execute_result",
          "data": {
            "text/plain": [
              "(100, 31767)"
            ]
          },
          "metadata": {},
          "execution_count": 27
        }
      ]
    },
    {
      "cell_type": "markdown",
      "source": [
        "Now that we have 100 tree's predictions of 31,767 data points, we can stack those predictions and calculate the standard deviation across the 0th axis (i.e., the axis containing 100 decision trees)."
      ],
      "metadata": {
        "id": "CHgFfvDYUaiJ"
      }
    },
    {
      "cell_type": "code",
      "source": [
        "preds_std = preds.std(0)\n",
        "preds_std.max(), preds_std.min()"
      ],
      "metadata": {
        "colab": {
          "base_uri": "https://localhost:8080/"
        },
        "id": "o8Zb7P2xS3HW",
        "outputId": "271f6bdb-2392-484c-ea9e-acdf934aea4f"
      },
      "execution_count": 25,
      "outputs": [
        {
          "output_type": "execute_result",
          "data": {
            "text/plain": [
              "(0.41395298975817885, 0.0023943965717917568)"
            ]
          },
          "metadata": {},
          "execution_count": 25
        }
      ]
    },
    {
      "cell_type": "markdown",
      "source": [
        "We can see the value of this calculation by comparing the highest standard deviation and the lowest - there is a big difference between the model's level of confidence (197.7%). This would be very important to gauge if using the model to predict a piece of data."
      ],
      "metadata": {
        "id": "vHASI186UkdU"
      }
    },
    {
      "cell_type": "markdown",
      "source": [
        "## Feature Importance"
      ],
      "metadata": {
        "id": "Omu-VsFOVc6j"
      }
    },
    {
      "cell_type": "markdown",
      "source": [
        "We can also use the **ensembles of decision trees** to determine how much each feature contributes to the improvement of the model. Scikit-learn has a great feature to help us calculate that."
      ],
      "metadata": {
        "id": "DBtgRIQJVePi"
      }
    },
    {
      "cell_type": "code",
      "source": [
        "df.columns"
      ],
      "metadata": {
        "colab": {
          "base_uri": "https://localhost:8080/"
        },
        "id": "npnnyupdV7vx",
        "outputId": "ecf37e33-a7be-45ee-c26d-cca4f7901ce3"
      },
      "execution_count": 29,
      "outputs": [
        {
          "output_type": "execute_result",
          "data": {
            "text/plain": [
              "Index(['country', 'store', 'product', 'num_sold', 'Year', 'Month', 'Week',\n",
              "       'Day', 'Dayofweek', 'Dayofyear', 'Is_month_end', 'Is_month_start',\n",
              "       'Is_quarter_end', 'Is_quarter_start', 'Is_year_end', 'Is_year_start',\n",
              "       'Elapsed'],\n",
              "      dtype='object')"
            ]
          },
          "metadata": {},
          "execution_count": 29
        }
      ]
    },
    {
      "cell_type": "code",
      "source": [
        "pd.options.display.float_format = '{:.3f}'.format # prevent scientific notation\n",
        "fi = pd.DataFrame({'cols':cat+cont, 'imp':gbm.feature_importances_}).sort_values('imp', ascending=False)"
      ],
      "metadata": {
        "id": "Vp0owOyBVoNd"
      },
      "execution_count": 38,
      "outputs": []
    },
    {
      "cell_type": "markdown",
      "source": [
        "Now, we can plot this data."
      ],
      "metadata": {
        "id": "PJ8_UXzwWYYE"
      }
    },
    {
      "cell_type": "code",
      "source": [
        "fi.plot('cols','imp','barh', figsize=(12,7), legend=False)"
      ],
      "metadata": {
        "colab": {
          "base_uri": "https://localhost:8080/",
          "height": 449
        },
        "id": "0-PmlctBWamW",
        "outputId": "0f3c9cf6-1a2f-4cc5-dd24-a360a2f45990"
      },
      "execution_count": 39,
      "outputs": [
        {
          "output_type": "execute_result",
          "data": {
            "text/plain": [
              "<Axes: ylabel='cols'>"
            ]
          },
          "metadata": {},
          "execution_count": 39
        },
        {
          "output_type": "display_data",
          "data": {
            "text/plain": [
              "<Figure size 1200x700 with 1 Axes>"
            ],
            "image/png": "[encoded data removed]"
          },
          "metadata": {}
        }
      ]
    },
    {
      "cell_type": "markdown",
      "source": [
        "This is a really interesting discovery. Essentially, only 3 features actually contribute to our decision tree's performance:\n",
        "- `country`\n",
        "- `product`\n",
        "- `store`\n",
        "\n",
        "These are the three features we didn't play around with at all. This indicates that either the date of sale is not a useful indicator of sales, or that we've done a poor job of feature engineering it.\n",
        "\n",
        "Since the purpose of this notebook is to work on understanding **ensembles of decision trees**, I won't go further into improving the model. But this does give us valuable insight into the power of this modelling technique. If we were working with thousands and thousands of features, this would be a very easy way to immediately eliminate unhelpful features."
      ],
      "metadata": {
        "id": "dS2r8fVEWmOW"
      }
    },
    {
      "cell_type": "markdown",
      "source": [
        "## Remove Low-importance Variables"
      ],
      "metadata": {
        "id": "9KTOvWJ3XHIf"
      }
    },
    {
      "cell_type": "markdown",
      "source": [
        "Let's get rid of the low-importance variables (those with a feature performance < 0.01) and see how it affects the model's performance."
      ],
      "metadata": {
        "id": "3uydzWdEXJk3"
      }
    },
    {
      "cell_type": "code",
      "source": [
        "to_keep = fi[fi.imp>=0.01].cols\n",
        "len(to_keep)"
      ],
      "metadata": {
        "colab": {
          "base_uri": "https://localhost:8080/"
        },
        "id": "VnW4AR2QXmtl",
        "outputId": "31db2d2e-297f-4fa8-8450-b03b7f2798d0"
      },
      "execution_count": 40,
      "outputs": [
        {
          "output_type": "execute_result",
          "data": {
            "text/plain": [
              "3"
            ]
          },
          "metadata": {},
          "execution_count": 40
        }
      ]
    },
    {
      "cell_type": "markdown",
      "source": [
        "Now, we will retrain the model."
      ],
      "metadata": {
        "id": "BQcwBa1SXgkp"
      }
    },
    {
      "cell_type": "code",
      "source": [
        "xs_imp = data.train.xs[to_keep]\n",
        "valid_xs_imp = data.valid.xs[to_keep]\n",
        "gbm2 = GradientBoostingRegressor(\n",
        "    n_estimators = 100,\n",
        "    learning_rate=1,\n",
        "    max_depth=20,\n",
        "    min_samples_split=2,\n",
        "    min_samples_leaf=3\n",
        ")\n",
        "\n",
        "gbm2.fit(xs_imp, data.train.y)\n",
        "\n",
        "y_pred = gbm2.predict(valid_xs_imp)\n",
        "\n",
        "mape(data.valid.y, y_pred)"
      ],
      "metadata": {
        "colab": {
          "base_uri": "https://localhost:8080/"
        },
        "id": "NEnJUCC4Xrwb",
        "outputId": "3e2dac1f-ec95-4c76-d2a4-de87ccff397f"
      },
      "execution_count": 56,
      "outputs": [
        {
          "output_type": "execute_result",
          "data": {
            "text/plain": [
              "0.03336315076930216"
            ]
          },
          "metadata": {},
          "execution_count": 56
        }
      ]
    },
    {
      "cell_type": "markdown",
      "source": [
        "That trained in less then a second and our MAPE has barely changed!"
      ],
      "metadata": {
        "id": "hFqET7N_YCBT"
      }
    },
    {
      "cell_type": "markdown",
      "source": [
        "## Partial Dependence"
      ],
      "metadata": {
        "id": "qZa2kIhFYR4a"
      }
    },
    {
      "cell_type": "markdown",
      "source": [
        "**Partial dependence** measures the relationship between a subset of input features and the predicted outcome of a model. We can use partial dependence to understand the relationship between our predictors and sticker sales.\n",
        "\n",
        "Let's start by looking at  the count of values per category."
      ],
      "metadata": {
        "id": "lRhUiC_FYToy"
      }
    },
    {
      "cell_type": "code",
      "source": [
        "p = valid_xs_imp['country'].value_counts().plot.barh()\n",
        "c = data.classes['country'][1:] # position 0 is for null values, we have none\n",
        "plt.yticks(range(len(c)), c)"
      ],
      "metadata": {
        "colab": {
          "base_uri": "https://localhost:8080/",
          "height": 634
        },
        "id": "vLKCCQ4Ma25A",
        "outputId": "3f92249f-4eb2-4c4a-e024-981c5fd4bb70"
      },
      "execution_count": 57,
      "outputs": [
        {
          "output_type": "execute_result",
          "data": {
            "text/plain": [
              "([<matplotlib.axis.YTick at 0x7edfdeba4c50>,\n",
              "  <matplotlib.axis.YTick at 0x7edfdeb451d0>,\n",
              "  <matplotlib.axis.YTick at 0x7edfdf2449d0>,\n",
              "  <matplotlib.axis.YTick at 0x7edfdf247010>,\n",
              "  <matplotlib.axis.YTick at 0x7edfdf2a1490>,\n",
              "  <matplotlib.axis.YTick at 0x7edfdf2a1650>],\n",
              " [Text(0, 0, 'Canada'),\n",
              "  Text(0, 1, 'Finland'),\n",
              "  Text(0, 2, 'Italy'),\n",
              "  Text(0, 3, 'Kenya'),\n",
              "  Text(0, 4, 'Norway'),\n",
              "  Text(0, 5, 'Singapore')])"
            ]
          },
          "metadata": {},
          "execution_count": 57
        },
        {
          "output_type": "display_data",
          "data": {
            "text/plain": [
              "<Figure size 640x480 with 1 Axes>"
            ],
            "image/png": "[encoded data removed]"
          },
          "metadata": {}
        }
      ]
    },
    {
      "cell_type": "markdown",
      "source": [
        "We are going to just calculate the partial dependence on our most predictive feature.\n",
        "\n",
        "**Partial dependence plots** answer the question: if a row varied on nothing other than the feature(s) in question, how would it impact the dependent variable? What we do, is replace every single value in the `country` column with `Canada` then take the average over all the auctions. We repeat for `Finland`, `Italy`, and so forth."
      ],
      "metadata": {
        "id": "6dmoCXkMcOXM"
      }
    },
    {
      "cell_type": "code",
      "source": [
        "c"
      ],
      "metadata": {
        "colab": {
          "base_uri": "https://localhost:8080/"
        },
        "id": "xWdG89lxfKRo",
        "outputId": "34aa7aff-aad4-4f89-a901-5cc3b41c49a0"
      },
      "execution_count": 64,
      "outputs": [
        {
          "output_type": "execute_result",
          "data": {
            "text/plain": [
              "(#6) ['Canada','Finland','Italy','Kenya','Norway','Singapore']"
            ]
          },
          "metadata": {},
          "execution_count": 64
        }
      ]
    },
    {
      "cell_type": "code",
      "source": [
        "from sklearn.inspection import PartialDependenceDisplay\n",
        "\n",
        "fig, ax = plt.subplots(figsize=(12, 7))\n",
        "\n",
        "PartialDependenceDisplay.from_estimator(gbm2, valid_xs_imp, ['country'], ax=ax)\n",
        "\n",
        "plt.show()"
      ],
      "metadata": {
        "colab": {
          "base_uri": "https://localhost:8080/",
          "height": 485
        },
        "id": "ofsVN-eZc16a",
        "outputId": "7560551c-66ba-4483-cb8e-b3eb8aca73fc"
      },
      "execution_count": 82,
      "outputs": [
        {
          "output_type": "display_data",
          "data": {
            "text/plain": [
              "<Figure size 1200x700 with 2 Axes>"
            ],
            "image/png": "[encoded data removed]"
          },
          "metadata": {}
        }
      ]
    },
    {
      "cell_type": "markdown",
      "source": [
        "This is very insightful - it is essentially telling us that sales from `5`, which corresponds to `Norway`, results in a much higher number of sales. Alternatively, sales from `4`, corresponding to `Kenya`, results in a much lower level of sales."
      ],
      "metadata": {
        "id": "_Js7-e6OeBCq"
      }
    },
    {
      "cell_type": "markdown",
      "source": [
        "## Waterfall Charts"
      ],
      "metadata": {
        "id": "ebWYBUtvi236"
      }
    },
    {
      "cell_type": "markdown",
      "source": [
        "Another useful piece of information we can derive from ensembles of decision trees, is what the most important factors are in making a prediction for a particular row of data.\n",
        "\n",
        "We can use the `waterfallcharts` library to understand this.\n",
        "\n",
        "Let's say we are looking at a particular data entry that has predicted a really high number of sales. We want to understand why it's been predicted as having a really high number of sales. So, we take this row of data an put it through the decision tree. At each level of the decision tree, we what the increase or decrease in the prediction is.\n",
        "\n",
        "While technically you can perform this on GBM, it makes more sense to perform it on a **random forest**. Random forests consist of single decision trees that can be independently interpreted, where as GBMs build cumulatively, so we can't just pass our prediction through a single **estimator** (or decision tree). So, we will use our random forest model to visualise the **waterfall chart**."
      ],
      "metadata": {
        "id": "ZBtIDExei_vD"
      }
    },
    {
      "cell_type": "markdown",
      "source": [
        "Let's start by installing dependencies."
      ],
      "metadata": {
        "id": "mmKJmMRglS0T"
      }
    },
    {
      "cell_type": "code",
      "source": [
        "%%capture\n",
        "!pip install treeinterpreter\n",
        "!pip install waterfallcharts"
      ],
      "metadata": {
        "id": "n7cT29x7joU_"
      },
      "execution_count": 91,
      "outputs": []
    },
    {
      "cell_type": "markdown",
      "source": [
        "Now, we can take the first row of validation data."
      ],
      "metadata": {
        "id": "2h4HTR1blV52"
      }
    },
    {
      "cell_type": "code",
      "source": [
        "row = data.valid.xs.iloc[:1]"
      ],
      "metadata": {
        "id": "v8sgoieFjfIx"
      },
      "execution_count": 109,
      "outputs": []
    },
    {
      "cell_type": "code",
      "source": [
        "from treeinterpreter import treeinterpreter\n",
        "from waterfall_chart import plot as waterfall\n",
        "\n",
        "pred, bias, cont = treeinterpreter.predict(rf, row.values)"
      ],
      "metadata": {
        "id": "GN3d4Q6yjk6W"
      },
      "execution_count": 110,
      "outputs": []
    },
    {
      "cell_type": "markdown",
      "source": [
        "- `pred` represents the prediction the random forest makes.\n",
        "- `bias` is the starting point, as **the decision tree begins with a certain base prediction**. In a regression model, this is the average value of the target variable across all training data.\n",
        "- `cont` is what is interesting to us. It tells us the total change in prediction due to each of the independent variables. This means `cont.sum()` is the models final prediction."
      ],
      "metadata": {
        "id": "G6WCBhoslfNv"
      }
    },
    {
      "cell_type": "code",
      "source": [
        "cont, cont.sum()"
      ],
      "metadata": {
        "colab": {
          "base_uri": "https://localhost:8080/"
        },
        "id": "ZJF5v-2hmE7R",
        "outputId": "761e33a8-e616-4eb5-c4a7-e9c5f2644d18"
      },
      "execution_count": 111,
      "outputs": [
        {
          "output_type": "execute_result",
          "data": {
            "text/plain": [
              "array([[ 5.20224816e-01, -5.02621247e-01,  5.81039838e-01,\n",
              "        -9.40199112e-04,  2.81878830e-04, -1.56760420e-02,\n",
              "        -5.35762845e-04,  1.24408894e-04,  0.00000000e+00,\n",
              "         0.00000000e+00,  0.00000000e+00,  9.40642754e-04,\n",
              "         4.52863830e-02, -4.27637887e-04,  5.81439979e-03,\n",
              "         2.04699338e-02]])"
            ]
          },
          "metadata": {},
          "execution_count": 111
        }
      ]
    },
    {
      "cell_type": "code",
      "source": [
        "waterfall(data.valid.xs.columns, # list of column names\n",
        "          cont.flatten(), # it's current 2 dimensional, so we flatten it\n",
        "          threshold=0.08, # if a value is too small, don't inclde it\n",
        "          rotation_value=45, # rotate the x axis titles\n",
        "          formatting='{:,.3f}')"
      ],
      "metadata": {
        "colab": {
          "base_uri": "https://localhost:8080/",
          "height": 608
        },
        "id": "t4HMGLtkkb0O",
        "outputId": "fa21a6f0-1301-4b6d-ecff-0bf9aa25d879"
      },
      "execution_count": 114,
      "outputs": [
        {
          "output_type": "stream",
          "name": "stderr",
          "text": [
            "/usr/local/lib/python3.11/dist-packages/waterfall_chart.py:141: FutureWarning: Series.__getitem__ treating keys as positions is deprecated. In a future version, integer keys will always be treated as labels (consistent with DataFrame behavior). To access a value by position, use `ser.iloc[pos]`\n",
            "  y = y_height[loop] + row['amount']\n",
            "/usr/local/lib/python3.11/dist-packages/waterfall_chart.py:139: FutureWarning: Series.__getitem__ treating keys as positions is deprecated. In a future version, integer keys will always be treated as labels (consistent with DataFrame behavior). To access a value by position, use `ser.iloc[pos]`\n",
            "  y = y_height[loop]\n"
          ]
        },
        {
          "output_type": "execute_result",
          "data": {
            "text/plain": [
              "<module 'matplotlib.pyplot' from '/usr/local/lib/python3.11/dist-packages/matplotlib/pyplot.py'>"
            ]
          },
          "metadata": {},
          "execution_count": 114
        },
        {
          "output_type": "display_data",
          "data": {
            "text/plain": [
              "<Figure size 640x480 with 1 Axes>"
            ],
            "image/png": "[encoded data removed]"
          },
          "metadata": {}
        }
      ]
    },
    {
      "cell_type": "markdown",
      "source": [
        "Look at this valuable information! We can see that the `country` value and `product` value increased its prediction by a substantial amount, while `store` decreased it.\n",
        "\n",
        "The y-axis unit is the same as `num_sales`, which we took a log transformation of at the start. So, the final prediction of the model would be `exp1(0.654)`.\n",
        "\n",
        "This information is more useful in **production** rather than **model development**."
      ],
      "metadata": {
        "id": "W02f4xnxnLEo"
      }
    },
    {
      "cell_type": "markdown",
      "source": [
        "## Limitations and Considerations"
      ],
      "metadata": {
        "id": "QvgEmchsn1M1"
      }
    },
    {
      "cell_type": "markdown",
      "source": [
        "These are some limitations discussed in Chapter 9 of the [textbook](https://course.fast.ai/Resources/book.html) which I've reduced for my own understanding."
      ],
      "metadata": {
        "id": "2vc5wdUuulsv"
      }
    },
    {
      "cell_type": "markdown",
      "source": [
        "### Data Leakage"
      ],
      "metadata": {
        "id": "Ytg04_QVn3Fn"
      }
    },
    {
      "cell_type": "markdown",
      "source": [
        "This is not a consideration only for ensembles of decision trees but for **all types of modelling**.\n",
        "\n",
        "Data leakage occurs when information from outside the training data set 'leaks' to train the model, leading to overfitting.\n",
        "\n",
        "The example given in the textbook revolves around a competition to predict which researchers would recieve a grant. The information that was given included info about the researchers and their research. A model was built performing with 95% accuracy.\n",
        "\n",
        "The reason it turned out, was data leakage. One identifier column showed that the information was missing in this column **whenever** the university had rejected the grant. If using the model in practice, this information would obviously **not be available** - hence, data leakage.\n",
        "\n",
        "How do we detect it?\n",
        "- Check whether the accuracy is **too good to be true**.\n",
        "- Look for important predictors that **don't make sense in practice**.\n",
        "- Look for partial dependence plot results that **don't make sense in practice**."
      ],
      "metadata": {
        "id": "eEM38plet9zk"
      }
    },
    {
      "cell_type": "markdown",
      "source": [
        "### Extrapolation"
      ],
      "metadata": {
        "id": "Oh4X3a2en4iY"
      }
    },
    {
      "cell_type": "markdown",
      "source": [
        "An issue with ensembles of decision trees is that they struggle with **extrapolation**.\n",
        "\n",
        "A decision tree simply predicts the average value of the rows in a leaf. Therefore, a decision tree, and by extension random forests and GBMs can never predict values outside the range of the training data. This can be problematic for data where there is a trend over time, such as inflation (or sticker sales!) and you wish to make predictions for a future time - the predictions will be systematically too low.  \n",
        "\n",
        "This problem extends beyond time as **ensembles of decision trees** are not able to extrapolate outside of types of data they have seen in a more general sense. So, we need to make sure our **validation set does not contain out-of-domain data**.\n",
        "\n",
        "Our dataset, which has only a few useful features, is not going to be suitable for a demonstration here. However, it is important to note that we can use random forests to **predict whether a row is in the validation set or the training set**. Then, we can get feature importance of this new random forest.\n",
        "\n",
        "If certain features have high importance, it indicates that they contain information that varies greatly between the two datasets (hence, why the model uses it in its predictions). Oftentimes, removing these values can impove accuracy and make the dataset more resilient, easier to maintain and easier to understand. It will help the model generalise on the data, reducing overfitting.\n",
        "\n",
        "What we are identifying here is called **domain shift**, which is where the distribution of data in the training set differs from the distribution of data in real-world data.\n",
        "\n",
        "Sometimes, it's also useful to remove really old data which contains patterns which may no longer be useful. This applies more-so to temporal data, but is a useful paradigm - sometimes a subset of your data can produce better results. Bigger isn't always better."
      ],
      "metadata": {
        "id": "AOU3_c6-n-Ut"
      }
    },
    {
      "cell_type": "markdown",
      "source": [
        "## Conclusion"
      ],
      "metadata": {
        "id": "eCAXh9ADtWbr"
      }
    },
    {
      "cell_type": "markdown",
      "source": [
        "Before I wrap up this notebook, there's one more important discussion. We've talked about ensembling decision trees BUT, what if we ensembled a **neural network** and a **random forest**? This is actually a valid technique that can \"add a nice little boost to any models that you have built.\" We don't do that here - the neural network is in a separate notebook. However, you can easily do this, by converting the PyTorch rank-2 tensor prediction to a rank-1 Numpy array and taking the mean of the two predictions!\n",
        "\n",
        "This notebook has been a great insight into **ensembles of decision trees** as well as the useful information they can provide. Thank you to the [textbook](https://course.fast.ai/Resources/book.html) for its valuable content which I used to make this notebook!"
      ],
      "metadata": {
        "id": "pVMvAC-KicTX"
      }
    }
  ]
}