{
  "nbformat": 4,
  "nbformat_minor": 0,
  "metadata": {
    "colab": {
      "provenance": [],
      "authorship_tag": "ABX9TyMwLb2NL0HWmIHsiw3JU4wj",
      "include_colab_link": true
    },
    "kernelspec": {
      "name": "python3",
      "display_name": "Python 3"
    },
    "language_info": {
      "name": "python"
    }
  },
  "cells": [
    {
      "cell_type": "markdown",
      "metadata": {
        "id": "view-in-github",
        "colab_type": "text"
      },
      "source": [
        "<a href=\"https://colab.research.google.com/github/frank-895/machine_learning_journey/blob/main/ethics/AI_ethics.ipynb\" target=\"_parent\"><img src=\"https://colab.research.google.com/assets/colab-badge.svg\" alt=\"Open In Colab\"/></a>"
      ]
    },
    {
      "cell_type": "markdown",
      "source": [
        "# Data Science Ethics"
      ],
      "metadata": {
        "id": "0ba53KCyOmot"
      }
    },
    {
      "cell_type": "markdown",
      "source": [
        "These are my notes about data science ethics, and area I consider important especially when studying groundbreaking technologies like machine learning.\n",
        "\n",
        "These notes are from the FastAI bonus chapter on ethics, specifically this YouTube Video: [Ethics for Data Science](https://www.youtube.com/watch?v=krIVOb23EH8)."
      ],
      "metadata": {
        "id": "hpJcnJ4DS9qT"
      }
    },
    {
      "cell_type": "markdown",
      "source": [
        "## What is Ethics?"
      ],
      "metadata": {
        "id": "h-_vIOv-SZzO"
      }
    },
    {
      "cell_type": "markdown",
      "source": [
        "> Ethics is the discipline dealing with what is good and bad; a set of moral principles."
      ],
      "metadata": {
        "id": "_R_n_HtcSHOV"
      }
    },
    {
      "cell_type": "markdown",
      "source": [
        "Ethics is not fixed, like religion or law.\n",
        "1. It is a set of well-founded standard of right and wrong, prescribing what humans ought to do.\n",
        "2. It is the study and development of one's ethical standards."
      ],
      "metadata": {
        "id": "hzMKsl3cSbbA"
      }
    },
    {
      "cell_type": "markdown",
      "source": [
        "3 case studies to be aware of:\n",
        "1. **Feedback loops**: \"when your model is controlling the next round of data you get. The data that is returned quickly becomes flawed by the software itself.\"\n",
        "\n",
        "Feedback loops are common with recommendation systems, as they return what the user likes... but also what they are exposed to. It can reinforce and recommend damaging videos/articles/images etc.\n",
        "\n",
        "2. **No reporting**: Systems can go wrong - it is important their is reporting and feedback systems in place, to allow errors to be identified and addressed.\n",
        "\n",
        "3. **Bias**: Shows up in advertising all the times. Ad systems can discriminate by race and gender."
      ],
      "metadata": {
        "id": "Cb87R4A3OpOa"
      }
    },
    {
      "cell_type": "markdown",
      "source": [
        "## Why is ethics in data science important?"
      ],
      "metadata": {
        "id": "r3i0jb4fQj51"
      }
    },
    {
      "cell_type": "markdown",
      "source": [
        "Data collection has played a pivotal role in genocides, including the holocaust.\n",
        "\n",
        "IBM used data science to decide whether people where Jewish and whether they should be executed. They produced computer systems that were used for genocide - these machines required constant maintenance and an ongoing relationship between user and vendor.\n",
        "\n",
        "This is an important reminder how technology can be used for harm and why it is critical that ethics are considered when using technology."
      ],
      "metadata": {
        "id": "SR4emaydQnNw"
      }
    },
    {
      "cell_type": "markdown",
      "source": [
        "## Unintended Consequences"
      ],
      "metadata": {
        "id": "U6fx5G--RwJ3"
      }
    },
    {
      "cell_type": "markdown",
      "source": [
        "How could my tech be used in the wrong hands? Could it be used by harassers, authoritarian governments, or for propaganga/disinformation."
      ],
      "metadata": {
        "id": "I1gR7exxRx_o"
      }
    },
    {
      "cell_type": "code",
      "source": [],
      "metadata": {
        "id": "M8hZyO1rPax7"
      },
      "execution_count": null,
      "outputs": []
    }
  ]
}