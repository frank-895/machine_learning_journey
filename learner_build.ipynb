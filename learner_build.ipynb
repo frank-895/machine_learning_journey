{
  "nbformat": 4,
  "nbformat_minor": 0,
  "metadata": {
    "colab": {
      "provenance": [],
      "authorship_tag": "ABX9TyNGMK1FuuJpNwetA6bxOKm3",
      "include_colab_link": true
    },
    "kernelspec": {
      "name": "python3",
      "display_name": "Python 3"
    },
    "language_info": {
      "name": "python"
    }
  },
  "cells": [
    {
      "cell_type": "markdown",
      "metadata": {
        "id": "view-in-github",
        "colab_type": "text"
      },
      "source": [
        "<a href=\"https://colab.research.google.com/github/frank-895/train_learner/blob/main/learner_build.ipynb\" target=\"_parent\"><img src=\"https://colab.research.google.com/assets/colab-badge.svg\" alt=\"Open In Colab\"/></a>"
      ]
    },
    {
      "cell_type": "code",
      "execution_count": null,
      "metadata": {
        "id": "LgeThwlVMJel"
      },
      "outputs": [],
      "source": [
        "%%capture\n",
        "! [ -e /content ] && pip install -Uqq fastbook\n",
        "import fastbook\n",
        "fastbook.setup_book()"
      ]
    },
    {
      "cell_type": "code",
      "source": [
        "#hide\n",
        "from fastai.vision.all import *\n",
        "from fastbook import *\n",
        "\n",
        "matplotlib.rc('image', cmap='Greys')"
      ],
      "metadata": {
        "id": "NSdsRVPpOeFJ"
      },
      "execution_count": null,
      "outputs": []
    },
    {
      "cell_type": "markdown",
      "source": [
        "MNIST contains images of handwritten digits. We will use these images to manually create a Learner model that can detect the difference between handwritten numbers."
      ],
      "metadata": {
        "id": "FUpY6gAnPAmB"
      }
    },
    {
      "cell_type": "code",
      "source": [
        "path = untar_data(URLs.MNIST)\n",
        "Path.BASE_PATH = path\n",
        "(path).ls()"
      ],
      "metadata": {
        "colab": {
          "base_uri": "https://localhost:8080/"
        },
        "id": "kl7QcvrKOe-3",
        "outputId": "f1a17470-6d25-4b40-96d9-a2ab14d30597"
      },
      "execution_count": null,
      "outputs": [
        {
          "output_type": "execute_result",
          "data": {
            "text/plain": [
              "(#2) [Path('training'),Path('testing')]"
            ]
          },
          "metadata": {},
          "execution_count": 13
        }
      ]
    },
    {
      "cell_type": "markdown",
      "source": [
        "We will download the training and validation images for each number into respective arrays, converting them to a scale of 0 to 1."
      ],
      "metadata": {
        "id": "EhM6KFidPzzU"
      }
    },
    {
      "cell_type": "code",
      "source": [
        "train_tns = []\n",
        "valid_tns = []\n",
        "# extract and convert to scale of 0 to 1 using tensor operations\n",
        "for i in range(10):\n",
        "  train_tns.append(torch.stack([tensor(Image.open(o)).float()/255 for o in (path/'training'/str(i)).ls()]))\n",
        "  valid_tns.append(torch.stack([tensor(Image.open(o)).float()/255 for o in (path/'testing'/str(i)).ls()]))"
      ],
      "metadata": {
        "id": "woqXylExOjZX"
      },
      "execution_count": null,
      "outputs": []
    },
    {
      "cell_type": "markdown",
      "source": [
        "Now, we need to convert our tensors from a list of matrices to a list of vectors, flattening the pixels in each image to a single row of 28*28 pixels. We use `view` which increases the axis to make it as big as needed to fit all the data. Then, we will create labels for each of the images."
      ],
      "metadata": {
        "id": "flEpxrc3RInN"
      }
    },
    {
      "cell_type": "code",
      "source": [
        "train_x = torch.cat(train_tns).view(-1, 28*28)\n",
        "train_y = []\n",
        "for i in range(10):\n",
        "  train_y.extend([i] * len(train_tns[i]))\n",
        "train_y = tensor(train_y).unsqueeze(1)"
      ],
      "metadata": {
        "id": "iIj0f50KPp3Y"
      },
      "execution_count": null,
      "outputs": []
    },
    {
      "cell_type": "markdown",
      "source": [],
      "metadata": {
        "id": "p49yEn1VUKvk"
      }
    },
    {
      "cell_type": "code",
      "source": [
        "print(train_y)"
      ],
      "metadata": {
        "colab": {
          "base_uri": "https://localhost:8080/"
        },
        "id": "3jEInr6qPuaO",
        "outputId": "d9b8d43f-410a-43db-f788-d48cf2b42ad0"
      },
      "execution_count": null,
      "outputs": [
        {
          "output_type": "stream",
          "name": "stdout",
          "text": [
            "tensor([[0],\n",
            "        [0],\n",
            "        [0],\n",
            "        ...,\n",
            "        [9],\n",
            "        [9],\n",
            "        [9]])\n"
          ]
        }
      ]
    },
    {
      "cell_type": "code",
      "source": [],
      "metadata": {
        "id": "jhj1cvBLT4Gn"
      },
      "execution_count": null,
      "outputs": []
    }
  ]
}